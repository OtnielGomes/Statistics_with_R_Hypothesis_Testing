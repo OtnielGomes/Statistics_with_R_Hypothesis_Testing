{
 "cells": [
  {
   "cell_type": "markdown",
   "metadata": {
    "colab_type": "text",
    "id": "WvMflodMjQKe"
   },
   "source": [
    "# <font color=green size=10>CURSO DE ESTATÍSTICA - PARTE 3</font>\n",
    "\n",
    "***"
   ]
  },
  {
   "cell_type": "markdown",
   "metadata": {
    "colab_type": "text",
    "id": "cVgsZ_E3jQKg"
   },
   "source": [
    "# <font color=green>1 CONHECENDO OS DADOS</font>\n",
    "***"
   ]
  },
  {
   "cell_type": "markdown",
   "metadata": {
    "colab_type": "text",
    "id": "TDjqYYNojQKh"
   },
   "source": [
    "## <font color=green>1.1 Dataset do projeto</font>\n",
    "***"
   ]
  },
  {
   "cell_type": "markdown",
   "metadata": {
    "colab_type": "text",
    "id": "iN1gIbaKjQKh"
   },
   "source": [
    "### Pesquisa Nacional por Amostra de Domicílios - 2015\n",
    "\n",
    "A <b>Pesquisa Nacional por Amostra de Domicílios - PNAD</b> investiga anualmente, de forma permanente, características gerais da população, de educação, trabalho, rendimento e habitação e outras, com periodicidade variável, de acordo com as necessidades de informação para o país, como as características sobre migração, fecundidade, nupcialidade, saúde, segurança alimentar, entre outros temas. O levantamento dessas estatísticas constitui, ao longo dos 49 anos de realização da pesquisa, um importante instrumento para formulação, validação e avaliação de políticas orientadas para o desenvolvimento socioeconômico e a melhoria das condições de vida no Brasil."
   ]
  },
  {
   "cell_type": "markdown",
   "metadata": {
    "colab_type": "text",
    "id": "U6V7br1RjQKi"
   },
   "source": [
    "### Fonte dos Dados\n",
    "\n",
    "https://ww2.ibge.gov.br/home/estatistica/populacao/trabalhoerendimento/pnad2015/microdados.shtm"
   ]
  },
  {
   "cell_type": "markdown",
   "metadata": {
    "colab_type": "text",
    "id": "r0Fe_qnzjQKj"
   },
   "source": [
    "### Variáveis utilizadas\n",
    "\n",
    "> ### Renda\n",
    "> ***\n",
    "\n",
    "Rendimento mensal do trabalho principal para pessoas de 10 anos ou mais de idade.\n",
    "\n",
    "> ### Idade\n",
    "> ***\n",
    "\n",
    "Idade do morador na data de referência em anos.\n",
    "\n",
    "> ### Altura (elaboração própria)\n",
    "> ***\n",
    "\n",
    "Altura do morador em metros.\n",
    "\n",
    "> ### UF\n",
    "> ***\n",
    "\n",
    "|Código|Descrição|\n",
    "|---|---|\n",
    "|11|Rondônia|\n",
    "|12|Acre|\n",
    "|13|Amazonas|\n",
    "|14|Roraima|\n",
    "|15|Pará|\n",
    "|16|Amapá|\n",
    "|17|Tocantins|\n",
    "|21|Maranhão|\n",
    "|22|Piauí|\n",
    "|23|Ceará|\n",
    "|24|Rio Grande do Norte|\n",
    "|25|Paraíba|\n",
    "|26|Pernambuco|\n",
    "|27|Alagoas|\n",
    "|28|Sergipe|\n",
    "|29|Bahia|\n",
    "|31|Minas Gerais|\n",
    "|32|Espírito Santo|\n",
    "|33|Rio de Janeiro|\n",
    "|35|São Paulo|\n",
    "|41|Paraná|\n",
    "|42|Santa Catarina|\n",
    "|43|Rio Grande do Sul|\n",
    "|50|Mato Grosso do Sul|\n",
    "|51|Mato Grosso|\n",
    "|52|Goiás|\n",
    "|53|Distrito Federal|\n",
    "\n",
    "> ### Sexo\t\n",
    "> ***\n",
    "\n",
    "|Código|Descrição|\n",
    "|---|---|\n",
    "|0|Masculino|\n",
    "|1|Feminino|\n",
    "\n",
    "> ### Anos de Estudo\n",
    "> ***\n",
    "\n",
    "|Código|Descrição|\n",
    "|---|---|\n",
    "|1|Sem instrução e menos de 1 ano|\n",
    "|2|1 ano|\n",
    "|3|2 anos|\n",
    "|4|3 anos|\n",
    "|5|4 anos|\n",
    "|6|5 anos|\n",
    "|7|6 anos|\n",
    "|8|7 anos|\n",
    "|9|8 anos|\n",
    "|10|9 anos|\n",
    "|11|10 anos|\n",
    "|12|11 anos|\n",
    "|13|12 anos|\n",
    "|14|13 anos|\n",
    "|15|14 anos|\n",
    "|16|15 anos ou mais|\n",
    "|17|Não determinados| \n",
    "||Não aplicável|\n",
    "\n",
    "> ### Cor\n",
    "> ***\n",
    "\n",
    "|Código|Descrição|\n",
    "|---|---|\n",
    "|0|Indígena|\n",
    "|2|Branca|\n",
    "|4|Preta|\n",
    "|6|Amarela|\n",
    "|8|Parda|\n",
    "|9|Sem declaração|"
   ]
  },
  {
   "cell_type": "markdown",
   "metadata": {
    "colab_type": "text",
    "id": "OK1IQH5cX7Gb"
   },
   "source": [
    "#### <font color='red'>Observação</font>\n",
    "***\n",
    "> Os seguintes tratamentos foram realizados nos dados originais:\n",
    "> 1. Foram eliminados os registros onde a <b>Renda</b> era inválida (999 999 999 999);\n",
    "> 2. Foram eliminados os registros onde a <b>Renda</b> era missing;\n",
    "> 3. Foram considerados somente os registros das <b>Pessoas de Referência</b> de cada domicílio (responsável pelo domicílio)."
   ]
  },
  {
   "cell_type": "markdown",
   "metadata": {},
   "source": [
    "### Configurações"
   ]
  },
  {
   "cell_type": "code",
   "execution_count": 3,
   "metadata": {},
   "outputs": [],
   "source": [
    "library(dplyr)\n",
    "library(ggplot2)\n",
    "library(DescTools)"
   ]
  },
  {
   "cell_type": "code",
   "execution_count": 2,
   "metadata": {},
   "outputs": [],
   "source": [
    "options(repr.plot.width = 7, repr.plot.height = 4)"
   ]
  },
  {
   "cell_type": "markdown",
   "metadata": {
    "colab_type": "text",
    "id": "8Rw70V6ojQKk"
   },
   "source": [
    "### Importando dataset do projeto"
   ]
  },
  {
   "cell_type": "code",
   "execution_count": 3,
   "metadata": {
    "colab": {},
    "colab_type": "code",
    "id": "ufRZ7TLwjQKo"
   },
   "outputs": [],
   "source": [
    "dados <- read.csv('dados.csv')"
   ]
  },
  {
   "cell_type": "code",
   "execution_count": 4,
   "metadata": {
    "colab": {
     "base_uri": "https://localhost:8080/",
     "height": 204
    },
    "colab_type": "code",
    "id": "GsC_WhLFjQKq",
    "outputId": "cccf4d9c-10ec-4c5b-df3f-173c62ca0659",
    "scrolled": true
   },
   "outputs": [
    {
     "data": {
      "text/html": [
       "<table>\n",
       "<caption>A data.frame: 6 x 7</caption>\n",
       "<thead>\n",
       "\t<tr><th scope=col>UF</th><th scope=col>Sexo</th><th scope=col>Idade</th><th scope=col>Cor</th><th scope=col>Anos.de.Estudo</th><th scope=col>Renda</th><th scope=col>Altura</th></tr>\n",
       "\t<tr><th scope=col>&lt;int&gt;</th><th scope=col>&lt;int&gt;</th><th scope=col>&lt;int&gt;</th><th scope=col>&lt;int&gt;</th><th scope=col>&lt;int&gt;</th><th scope=col>&lt;int&gt;</th><th scope=col>&lt;dbl&gt;</th></tr>\n",
       "</thead>\n",
       "<tbody>\n",
       "\t<tr><td>11</td><td>0</td><td>23</td><td>8</td><td>12</td><td> 800</td><td>1.603808</td></tr>\n",
       "\t<tr><td>11</td><td>1</td><td>23</td><td>2</td><td>12</td><td>1150</td><td>1.739790</td></tr>\n",
       "\t<tr><td>11</td><td>1</td><td>35</td><td>8</td><td>15</td><td> 880</td><td>1.760444</td></tr>\n",
       "\t<tr><td>11</td><td>0</td><td>46</td><td>2</td><td> 6</td><td>3500</td><td>1.783158</td></tr>\n",
       "\t<tr><td>11</td><td>1</td><td>47</td><td>8</td><td> 9</td><td> 150</td><td>1.690631</td></tr>\n",
       "\t<tr><td>11</td><td>1</td><td>34</td><td>8</td><td>12</td><td> 790</td><td>1.637906</td></tr>\n",
       "</tbody>\n",
       "</table>\n"
      ],
      "text/latex": [
       "A data.frame: 6 x 7\n",
       "\\begin{tabular}{r|lllllll}\n",
       " UF & Sexo & Idade & Cor & Anos.de.Estudo & Renda & Altura\\\\\n",
       " <int> & <int> & <int> & <int> & <int> & <int> & <dbl>\\\\\n",
       "\\hline\n",
       "\t 11 & 0 & 23 & 8 & 12 &  800 & 1.603808\\\\\n",
       "\t 11 & 1 & 23 & 2 & 12 & 1150 & 1.739790\\\\\n",
       "\t 11 & 1 & 35 & 8 & 15 &  880 & 1.760444\\\\\n",
       "\t 11 & 0 & 46 & 2 &  6 & 3500 & 1.783158\\\\\n",
       "\t 11 & 1 & 47 & 8 &  9 &  150 & 1.690631\\\\\n",
       "\t 11 & 1 & 34 & 8 & 12 &  790 & 1.637906\\\\\n",
       "\\end{tabular}\n"
      ],
      "text/markdown": [
       "\n",
       "A data.frame: 6 x 7\n",
       "\n",
       "| UF &lt;int&gt; | Sexo &lt;int&gt; | Idade &lt;int&gt; | Cor &lt;int&gt; | Anos.de.Estudo &lt;int&gt; | Renda &lt;int&gt; | Altura &lt;dbl&gt; |\n",
       "|---|---|---|---|---|---|---|\n",
       "| 11 | 0 | 23 | 8 | 12 |  800 | 1.603808 |\n",
       "| 11 | 1 | 23 | 2 | 12 | 1150 | 1.739790 |\n",
       "| 11 | 1 | 35 | 8 | 15 |  880 | 1.760444 |\n",
       "| 11 | 0 | 46 | 2 |  6 | 3500 | 1.783158 |\n",
       "| 11 | 1 | 47 | 8 |  9 |  150 | 1.690631 |\n",
       "| 11 | 1 | 34 | 8 | 12 |  790 | 1.637906 |\n",
       "\n"
      ],
      "text/plain": [
       "  UF Sexo Idade Cor Anos.de.Estudo Renda Altura  \n",
       "1 11 0    23    8   12              800  1.603808\n",
       "2 11 1    23    2   12             1150  1.739790\n",
       "3 11 1    35    8   15              880  1.760444\n",
       "4 11 0    46    2    6             3500  1.783158\n",
       "5 11 1    47    8    9              150  1.690631\n",
       "6 11 1    34    8   12              790  1.637906"
      ]
     },
     "metadata": {},
     "output_type": "display_data"
    }
   ],
   "source": [
    "head(dados)"
   ]
  },
  {
   "cell_type": "code",
   "execution_count": 5,
   "metadata": {},
   "outputs": [
    {
     "data": {
      "text/html": [
       "76840"
      ],
      "text/latex": [
       "76840"
      ],
      "text/markdown": [
       "76840"
      ],
      "text/plain": [
       "[1] 76840"
      ]
     },
     "metadata": {},
     "output_type": "display_data"
    }
   ],
   "source": [
    "nrow(dados)"
   ]
  },
  {
   "cell_type": "markdown",
   "metadata": {
    "colab_type": "text",
    "id": "nk65O0lepz57"
   },
   "source": [
    "# <font color=green>2 TESTES DE HIPÓTESES</font>\n",
    "***"
   ]
  },
  {
   "cell_type": "markdown",
   "metadata": {
    "colab_type": "text",
    "id": "OjHpQHFHpsi3"
   },
   "source": [
    "Testes estatísticos são regras de decisão que permitem avaliar a razoabilidade das hipóteses feitas sobre os parâmetros populacionais e aceitá-las ou rejeitá-las como provavelmente verdadeiras ou falsas tendo como base uma amostra."
   ]
  },
  {
   "cell_type": "markdown",
   "metadata": {
    "colab_type": "text",
    "id": "qjqWccNspsi4"
   },
   "source": [
    "## <font color=green>2.1 Teste de normalidade</font>\n",
    "***"
   ]
  },
  {
   "cell_type": "markdown",
   "metadata": {
    "colab_type": "text",
    "id": "abDn-nKLpsi7"
   },
   "source": [
    "A função *shapiro.test* testa a hipótese nula $H_0$ de que a amostra é proveniente de uma distribuição normal, ou seja, os dados são normalmente distribuídos."
   ]
  },
  {
   "cell_type": "markdown",
   "metadata": {
    "colab_type": "text",
    "id": "O79kHHwYpsi5"
   },
   "source": [
    "#### <font color=red>Documentações:\n",
    "\n",
    "- [**shapiro.test**](https://www.rdocumentation.org/packages/stats/versions/3.6.1/topics/shapiro.test)"
   ]
  },
  {
   "cell_type": "markdown",
   "metadata": {
    "colab_type": "text",
    "id": "gRDJ86zTpsi8"
   },
   "source": [
    "### Definindo a significância do teste ($\\alpha$)"
   ]
  },
  {
   "cell_type": "code",
   "execution_count": 6,
   "metadata": {
    "colab": {},
    "colab_type": "code",
    "id": "3s6ZAdCOpsi9"
   },
   "outputs": [],
   "source": [
    "significancia <- 0.05"
   ]
  },
  {
   "cell_type": "markdown",
   "metadata": {
    "colab_type": "text",
    "id": "sppYIE51psi_"
   },
   "source": [
    "### Testando a variável Renda"
   ]
  },
  {
   "cell_type": "code",
   "execution_count": 1,
   "metadata": {
    "colab": {
     "base_uri": "https://localhost:8080/",
     "height": 287
    },
    "colab_type": "code",
    "id": "IZpa91lHpsi_",
    "outputId": "ba8bdb04-9da3-41dd-8726-c76cd9670aa0"
   },
   "outputs": [
    {
     "ename": "ERROR",
     "evalue": "Error in ggplot(dados, aes(x = Renda)): não foi possível encontrar a função \"ggplot\"\n",
     "output_type": "error",
     "traceback": [
      "Error in ggplot(dados, aes(x = Renda)): não foi possível encontrar a função \"ggplot\"\nTraceback:\n"
     ]
    }
   ],
   "source": [
    "ggplot(dados, aes(x = Renda)) + \n",
    "    geom_histogram() + \n",
    "    ylab(\"Frequência\") + \n",
    "    xlab(\"Renda\") + \n",
    "    ggtitle('Histograma Renda') +\n",
    "    theme(plot.title=element_text(hjust = 0.5))"
   ]
  },
  {
   "cell_type": "markdown",
   "metadata": {
    "colab_type": "text",
    "id": "qKeNZ0PUpsjC"
   },
   "source": [
    "### <font color='red'>Critério do valor $p$</font>\n",
    "\n",
    "> ### Rejeitar $H_0$ se o valor $p\\leq \\alpha$"
   ]
  },
  {
   "cell_type": "code",
   "execution_count": 8,
   "metadata": {},
   "outputs": [],
   "source": [
    "set.seed(2811)\n",
    "amostra <- sample_n(dados, 5000)"
   ]
  },
  {
   "cell_type": "code",
   "execution_count": 9,
   "metadata": {},
   "outputs": [
    {
     "data": {
      "text/plain": [
       "\n",
       "\tShapiro-Wilk normality test\n",
       "\n",
       "data:  amostra$Renda\n",
       "W = 0.44927, p-value < 2.2e-16\n"
      ]
     },
     "metadata": {},
     "output_type": "display_data"
    }
   ],
   "source": [
    "resultado <- shapiro.test(amostra$Renda)\n",
    "resultado"
   ]
  },
  {
   "cell_type": "code",
   "execution_count": 10,
   "metadata": {},
   "outputs": [
    {
     "data": {
      "text/html": [
       "2.9774563073417e-82"
      ],
      "text/latex": [
       "2.9774563073417e-82"
      ],
      "text/markdown": [
       "2.9774563073417e-82"
      ],
      "text/plain": [
       "[1] 2.977456e-82"
      ]
     },
     "metadata": {},
     "output_type": "display_data"
    }
   ],
   "source": [
    "p_valor <- resultado$p.value\n",
    "p_valor"
   ]
  },
  {
   "cell_type": "code",
   "execution_count": 11,
   "metadata": {},
   "outputs": [
    {
     "data": {
      "text/html": [
       "<strong>W:</strong> 0.449266744786397"
      ],
      "text/latex": [
       "\\textbf{W:} 0.449266744786397"
      ],
      "text/markdown": [
       "**W:** 0.449266744786397"
      ],
      "text/plain": [
       "        W \n",
       "0.4492667 "
      ]
     },
     "metadata": {},
     "output_type": "display_data"
    }
   ],
   "source": [
    "resultado$statistic"
   ]
  },
  {
   "cell_type": "code",
   "execution_count": 12,
   "metadata": {
    "colab": {
     "base_uri": "https://localhost:8080/",
     "height": 35
    },
    "colab_type": "code",
    "id": "Q4eJFGsCpsjG",
    "outputId": "95f4e550-b43e-476c-94e6-12b600384bc5"
   },
   "outputs": [
    {
     "data": {
      "text/html": [
       "TRUE"
      ],
      "text/latex": [
       "TRUE"
      ],
      "text/markdown": [
       "TRUE"
      ],
      "text/plain": [
       "[1] TRUE"
      ]
     },
     "metadata": {},
     "output_type": "display_data"
    }
   ],
   "source": [
    "p_valor <= significancia"
   ]
  },
  {
   "cell_type": "markdown",
   "metadata": {
    "colab_type": "text",
    "id": "JkAxa9PqpsjM"
   },
   "source": [
    "### Testando a variável Altura"
   ]
  },
  {
   "cell_type": "code",
   "execution_count": 13,
   "metadata": {
    "colab": {
     "base_uri": "https://localhost:8080/",
     "height": 287
    },
    "colab_type": "code",
    "id": "n9r88dMKpsjN",
    "outputId": "9147988e-9272-4aac-de34-211894eeb81c"
   },
   "outputs": [
    {
     "name": "stderr",
     "output_type": "stream",
     "text": [
      "`stat_bin()` using `bins = 30`. Pick better value with `binwidth`.\n"
     ]
    },
    {
     "data": {
      "image/jpeg": "[encoded data removed]",
      "image/png": "",
      "image/svg+xml": [
       "<?xml version=\"1.0\" encoding=\"UTF-8\"?>\n",
       "<svg xmlns=\"http://www.w3.org/2000/svg\" xmlns:xlink=\"http://www.w3.org/1999/xlink\" width=\"504pt\" height=\"288pt\" viewBox=\"0 0 504 288\" version=\"1.1\">\n",
       "<defs>\n",
       "<g>\n",
       "<symbol overflow=\"visible\" id=\"glyph0-0\">\n",
       "<path style=\"stroke:none;\" d=\"\"/>\n",
       "</symbol>\n",
       "<symbol overflow=\"visible\" id=\"glyph0-1\">\n",
       "<path style=\"stroke:none;\" d=\"M 4.875 -3.3125 C 4.875 -5.59375 3.984375 -6.875 2.5625 -6.875 C 1.140625 -6.875 0.234375 -5.578125 0.234375 -3.359375 C 0.234375 -1.140625 1.140625 0.140625 2.5625 0.140625 C 3.953125 0.140625 4.875 -1.140625 4.875 -3.3125 Z M 3.703125 -3.390625 C 3.703125 -1.515625 3.453125 -0.8125 2.53125 -0.8125 C 1.671875 -0.8125 1.390625 -1.546875 1.390625 -3.359375 C 1.390625 -5.15625 1.671875 -5.859375 2.5625 -5.859375 C 3.4375 -5.859375 3.703125 -5.15625 3.703125 -3.390625 Z M 3.703125 -3.390625 \"/>\n",
       "</symbol>\n",
       "<symbol overflow=\"visible\" id=\"glyph0-2\">\n",
       "<path style=\"stroke:none;\" d=\"M 4.90625 -4.796875 C 4.90625 -5.90625 3.890625 -6.875 2.640625 -6.875 C 1.296875 -6.875 0.34375 -6.046875 0.296875 -4.296875 L 1.4375 -4.296875 C 1.5 -5.546875 1.796875 -5.875 2.609375 -5.875 C 3.359375 -5.875 3.75 -5.484375 3.75 -4.78125 C 3.75 -4.265625 3.484375 -3.90625 2.90625 -3.578125 L 2.046875 -3.09375 C 0.671875 -2.3125 0.21875 -1.59375 0.140625 0 L 4.859375 0 L 4.859375 -1.09375 L 1.40625 -1.09375 C 1.484375 -1.484375 1.734375 -1.734375 2.53125 -2.203125 L 3.46875 -2.703125 C 4.390625 -3.203125 4.90625 -3.984375 4.90625 -4.796875 Z M 4.90625 -4.796875 \"/>\n",
       "</symbol>\n",
       "<symbol overflow=\"visible\" id=\"glyph0-3\">\n",
       "<path style=\"stroke:none;\" d=\"M 4.921875 -2.328125 C 4.921875 -3.625 3.90625 -4.625 2.640625 -4.625 C 2.171875 -4.625 1.6875 -4.46875 1.640625 -4.421875 L 1.828125 -5.640625 L 4.578125 -5.640625 L 4.578125 -6.734375 L 0.875 -6.734375 L 0.34375 -3 L 1.359375 -3 C 1.78125 -3.5 1.984375 -3.609375 2.484375 -3.609375 C 3.375 -3.609375 3.765625 -3.1875 3.765625 -2.21875 C 3.765625 -1.265625 3.390625 -0.859375 2.484375 -0.859375 C 1.78125 -0.859375 1.5 -1.09375 1.265625 -1.96875 L 0.125 -1.96875 C 0.421875 -0.515625 1.34375 0.140625 2.515625 0.140625 C 3.84375 0.140625 4.921875 -0.9375 4.921875 -2.328125 Z M 4.921875 -2.328125 \"/>\n",
       "</symbol>\n",
       "<symbol overflow=\"visible\" id=\"glyph0-4\">\n",
       "<path style=\"stroke:none;\" d=\"M 5 -5.90625 L 5 -6.734375 L 0.265625 -6.734375 L 0.265625 -5.640625 L 3.671875 -5.640625 C 2.5625 -4.234375 1.578125 -2.203125 1.078125 0 L 2.28125 0 C 2.671875 -2.265625 3.5625 -4.15625 5 -5.859375 Z M 5 -5.90625 \"/>\n",
       "</symbol>\n",
       "<symbol overflow=\"visible\" id=\"glyph0-5\">\n",
       "<path style=\"stroke:none;\" d=\"M 3.390625 -0.140625 L 3.390625 -6.875 L 2.5625 -6.875 C 2.234375 -5.71875 2.21875 -5.71875 0.78125 -5.546875 L 0.78125 -4.6875 L 2.234375 -4.6875 L 2.234375 0 L 3.390625 0 Z M 3.390625 -0.140625 \"/>\n",
       "</symbol>\n",
       "<symbol overflow=\"visible\" id=\"glyph0-6\">\n",
       "<path style=\"stroke:none;\" d=\"M 1.9375 -0.140625 L 1.9375 -1.25 L 0.640625 -1.25 L 0.640625 0 L 1.9375 0 Z M 1.9375 -0.140625 \"/>\n",
       "</symbol>\n",
       "<symbol overflow=\"visible\" id=\"glyph0-7\">\n",
       "<path style=\"stroke:none;\" d=\"M 4.859375 -2.046875 C 4.859375 -2.859375 4.375 -3.453125 3.59375 -3.734375 L 3.59375 -3.453125 C 4.203125 -3.6875 4.671875 -4.265625 4.671875 -4.921875 C 4.671875 -6.046875 3.75 -6.875 2.5 -6.875 C 1.171875 -6.875 0.296875 -6 0.265625 -4.46875 L 1.40625 -4.46875 C 1.4375 -5.578125 1.671875 -5.875 2.515625 -5.875 C 3.234375 -5.875 3.5 -5.59375 3.5 -4.890625 C 3.5 -4.1875 3.359375 -4.03125 1.890625 -4.03125 L 1.890625 -3.0625 L 2.5 -3.0625 C 3.40625 -3.0625 3.703125 -2.78125 3.703125 -2.046875 C 3.703125 -1.21875 3.359375 -0.859375 2.5 -0.859375 C 1.609375 -0.859375 1.328125 -1.171875 1.265625 -2.265625 L 0.125 -2.265625 C 0.234375 -0.65625 1.125 0.140625 2.46875 0.140625 C 3.828125 0.140625 4.859375 -0.8125 4.859375 -2.046875 Z M 4.859375 -2.046875 \"/>\n",
       "</symbol>\n",
       "<symbol overflow=\"visible\" id=\"glyph0-8\">\n",
       "<path style=\"stroke:none;\" d=\"M 4.890625 -3.59375 C 4.890625 -5.65625 4.015625 -6.875 2.515625 -6.875 C 1.25 -6.875 0.1875 -5.84375 0.1875 -4.546875 C 0.1875 -3.3125 1.1875 -2.359375 2.375 -2.359375 C 3 -2.359375 3.5625 -2.609375 4 -3.125 L 3.71875 -3.21875 C 3.703125 -1.625 3.359375 -0.859375 2.421875 -0.859375 C 1.84375 -0.859375 1.59375 -1.09375 1.4375 -1.859375 L 0.3125 -1.859375 C 0.484375 -0.640625 1.359375 0.140625 2.359375 0.140625 C 3.90625 0.140625 4.890625 -1.3125 4.890625 -3.59375 Z M 3.671875 -4.5625 C 3.671875 -3.75 3.265625 -3.359375 2.46875 -3.359375 C 1.6875 -3.359375 1.34375 -3.734375 1.34375 -4.609375 C 1.34375 -5.453125 1.75 -5.875 2.5 -5.875 C 3.265625 -5.875 3.671875 -5.421875 3.671875 -4.5625 Z M 3.671875 -4.5625 \"/>\n",
       "</symbol>\n",
       "<symbol overflow=\"visible\" id=\"glyph1-0\">\n",
       "<path style=\"stroke:none;\" d=\"\"/>\n",
       "</symbol>\n",
       "<symbol overflow=\"visible\" id=\"glyph1-1\">\n",
       "<path style=\"stroke:none;\" d=\"M 7.640625 -0.125 L 4.640625 -8.640625 L 3.09375 -8.640625 L 0.015625 0 L 1.421875 0 L 2.296875 -2.515625 L 5.359375 -2.515625 L 6.21875 0 L 7.6875 0 Z M 5.15625 -3.671875 L 2.65625 -3.671875 L 3.984375 -7.359375 L 3.71875 -7.359375 L 4.96875 -3.671875 Z M 5.15625 -3.671875 \"/>\n",
       "</symbol>\n",
       "<symbol overflow=\"visible\" id=\"glyph1-2\">\n",
       "<path style=\"stroke:none;\" d=\"M 1.859375 -0.125 L 1.859375 -8.640625 L 0.640625 -8.640625 L 0.640625 0 L 1.859375 0 Z M 1.859375 -0.125 \"/>\n",
       "</symbol>\n",
       "<symbol overflow=\"visible\" id=\"glyph1-3\">\n",
       "<path style=\"stroke:none;\" d=\"M 3.046875 -0.125 L 3.046875 -1.109375 C 2.796875 -1.03125 2.640625 -1.015625 2.46875 -1.015625 C 2.046875 -1.015625 2.0625 -1 2.0625 -1.421875 L 2.0625 -5.25 L 3.046875 -5.25 L 3.046875 -6.28125 L 2.0625 -6.28125 L 2.0625 -7.9375 L 0.84375 -7.9375 L 0.84375 -6.28125 L 0.015625 -6.28125 L 0.015625 -5.25 L 0.84375 -5.25 L 0.84375 -1 C 0.84375 -0.390625 1.390625 0.078125 2.140625 0.078125 C 2.375 0.078125 2.59375 0.0625 3.046875 -0.015625 Z M 3.046875 -0.125 \"/>\n",
       "</symbol>\n",
       "<symbol overflow=\"visible\" id=\"glyph1-4\">\n",
       "<path style=\"stroke:none;\" d=\"M 5.671875 -0.125 L 5.671875 -6.28125 L 4.453125 -6.28125 L 4.453125 -2.828125 C 4.453125 -1.59375 3.9375 -0.921875 2.9375 -0.921875 C 2.1875 -0.921875 1.828125 -1.25 1.828125 -1.984375 L 1.828125 -6.28125 L 0.609375 -6.28125 L 0.609375 -1.59375 C 0.609375 -0.59375 1.5 0.171875 2.671875 0.171875 C 3.546875 0.171875 4.203125 -0.171875 4.765625 -0.96875 L 4.546875 -1.0625 L 4.546875 0 L 5.671875 0 Z M 5.671875 -0.125 \"/>\n",
       "</symbol>\n",
       "<symbol overflow=\"visible\" id=\"glyph1-5\">\n",
       "<path style=\"stroke:none;\" d=\"M 3.8125 -5.3125 L 3.8125 -6.40625 C 3.53125 -6.4375 3.453125 -6.453125 3.328125 -6.453125 C 2.703125 -6.453125 2.125 -6.046875 1.578125 -5.15625 L 1.8125 -5.0625 L 1.8125 -6.28125 L 0.671875 -6.28125 L 0.671875 0 L 1.890625 0 L 1.890625 -3.25 C 1.890625 -4.609375 2.203125 -5.15625 3.8125 -5.1875 Z M 3.8125 -5.3125 \"/>\n",
       "</symbol>\n",
       "<symbol overflow=\"visible\" id=\"glyph1-6\">\n",
       "<path style=\"stroke:none;\" d=\"M 6.28125 -0.15625 L 6.28125 -1.03125 C 6.046875 -0.984375 6 -0.984375 5.953125 -0.984375 C 5.609375 -0.984375 5.546875 -1.03125 5.546875 -1.328125 L 5.546875 -4.6875 C 5.546875 -5.75 4.640625 -6.453125 3.15625 -6.453125 C 1.703125 -6.453125 0.671875 -5.765625 0.609375 -4.25 L 1.828125 -4.25 C 1.921875 -5.109375 2.234375 -5.3125 3.125 -5.3125 C 3.984375 -5.3125 4.328125 -5.125 4.328125 -4.546875 L 4.328125 -4.296875 C 4.328125 -3.890625 4.234375 -3.84375 3.46875 -3.75 C 2.109375 -3.578125 1.90625 -3.53125 1.546875 -3.375 C 0.84375 -3.09375 0.34375 -2.421875 0.34375 -1.6875 C 0.34375 -0.59375 1.234375 0.171875 2.46875 0.171875 C 3.234375 0.171875 4.078125 -0.1875 4.421875 -0.578125 C 4.46875 -0.375 5.03125 0.078125 5.5 0.078125 C 5.6875 0.078125 5.84375 0.0625 6.28125 -0.046875 Z M 4.328125 -2.203125 C 4.328125 -1.34375 3.59375 -0.921875 2.671875 -0.921875 C 1.921875 -0.921875 1.609375 -1.0625 1.609375 -1.71875 C 1.609375 -2.34375 1.90625 -2.5 2.9375 -2.640625 C 3.9375 -2.78125 4.15625 -2.828125 4.328125 -2.90625 Z M 4.328125 -2.203125 \"/>\n",
       "</symbol>\n",
       "<symbol overflow=\"visible\" id=\"glyph2-0\">\n",
       "<path style=\"stroke:none;\" d=\"\"/>\n",
       "</symbol>\n",
       "<symbol overflow=\"visible\" id=\"glyph2-1\">\n",
       "<path style=\"stroke:none;\" d=\"M -7.5625 -6.78125 L -8.640625 -6.78125 L -8.640625 -0.890625 L 0 -0.890625 L 0 -2.234375 L -3.8125 -2.234375 L -3.8125 -6.234375 L -5.015625 -6.234375 L -5.015625 -2.234375 L -7.4375 -2.234375 L -7.4375 -6.78125 Z M -7.5625 -6.78125 \"/>\n",
       "</symbol>\n",
       "<symbol overflow=\"visible\" id=\"glyph2-2\">\n",
       "<path style=\"stroke:none;\" d=\"M -5.3125 -3.8125 L -6.40625 -3.8125 C -6.4375 -3.53125 -6.453125 -3.453125 -6.453125 -3.328125 C -6.453125 -2.703125 -6.046875 -2.125 -5.15625 -1.578125 L -5.0625 -1.8125 L -6.28125 -1.8125 L -6.28125 -0.671875 L 0 -0.671875 L 0 -1.890625 L -3.25 -1.890625 C -4.609375 -1.890625 -5.15625 -2.203125 -5.1875 -3.8125 Z M -5.3125 -3.8125 \"/>\n",
       "</symbol>\n",
       "<symbol overflow=\"visible\" id=\"glyph2-3\">\n",
       "<path style=\"stroke:none;\" d=\"M -2.859375 -6.03125 C -3.734375 -6.03125 -4.296875 -5.953125 -4.734375 -5.78125 C -5.734375 -5.390625 -6.453125 -4.34375 -6.453125 -3.21875 C -6.453125 -1.546875 -5.078125 -0.328125 -3.109375 -0.328125 C -1.125 -0.328125 0.171875 -1.5 0.171875 -3.203125 C 0.171875 -4.578125 -0.734375 -5.65625 -2.078125 -5.921875 L -2.078125 -4.71875 C -1.15625 -4.40625 -0.96875 -4 -0.96875 -3.234375 C -0.96875 -2.234375 -1.484375 -1.609375 -2.734375 -1.59375 L -2.734375 -6.03125 Z M -3.625 -4.96875 C -3.625 -4.96875 -3.765625 -4.765625 -3.765625 -4.78125 L -3.765625 -1.625 C -4.71875 -1.6875 -5.3125 -2.25 -5.3125 -3.203125 C -5.3125 -4.15625 -4.65625 -4.734375 -3.71875 -4.734375 Z M -3.625 -4.96875 \"/>\n",
       "</symbol>\n",
       "<symbol overflow=\"visible\" id=\"glyph2-4\">\n",
       "<path style=\"stroke:none;\" d=\"M 2.375 -5.8125 L -6.28125 -5.8125 L -6.28125 -4.703125 L -5.34375 -4.703125 L -5.4375 -4.9375 C -6.078125 -4.484375 -6.453125 -3.71875 -6.453125 -2.921875 C -6.453125 -1.328125 -5.078125 -0.15625 -3.078125 -0.15625 C -1.109375 -0.15625 0.171875 -1.28125 0.171875 -2.875 C 0.171875 -3.71875 -0.15625 -4.375 -0.8125 -4.828125 L -0.90625 -4.59375 L 2.5 -4.59375 L 2.5 -5.8125 Z M -3.109375 -4.59375 C -1.71875 -4.59375 -0.984375 -4.078125 -0.984375 -3.0625 C -0.984375 -2 -1.734375 -1.421875 -3.140625 -1.421875 C -4.53125 -1.421875 -5.296875 -2 -5.296875 -3.0625 C -5.296875 -4.078125 -4.515625 -4.59375 -3.109375 -4.59375 Z M -3.109375 -4.59375 \"/>\n",
       "</symbol>\n",
       "<symbol overflow=\"visible\" id=\"glyph2-5\">\n",
       "<path style=\"stroke:none;\" d=\"M -0.125 -5.671875 L -6.28125 -5.671875 L -6.28125 -4.453125 L -2.828125 -4.453125 C -1.59375 -4.453125 -0.921875 -3.9375 -0.921875 -2.9375 C -0.921875 -2.1875 -1.25 -1.828125 -1.984375 -1.828125 L -6.28125 -1.828125 L -6.28125 -0.609375 L -1.59375 -0.609375 C -0.59375 -0.609375 0.171875 -1.5 0.171875 -2.671875 C 0.171875 -3.546875 -0.171875 -4.203125 -0.96875 -4.765625 L -1.0625 -4.546875 L 0 -4.546875 L 0 -5.671875 Z M -0.125 -5.671875 \"/>\n",
       "</symbol>\n",
       "<symbol overflow=\"visible\" id=\"glyph2-6\">\n",
       "<path style=\"stroke:none;\" d=\"M -2.859375 -6.03125 C -3.734375 -6.03125 -4.296875 -5.953125 -4.734375 -5.78125 C -5.734375 -5.390625 -6.453125 -4.34375 -6.453125 -3.21875 C -6.453125 -1.546875 -5.078125 -0.328125 -3.109375 -0.328125 C -1.125 -0.328125 0.171875 -1.5 0.171875 -3.203125 C 0.171875 -4.578125 -0.734375 -5.65625 -2.078125 -5.921875 L -2.078125 -4.71875 C -1.15625 -4.40625 -0.96875 -4 -0.96875 -3.234375 C -0.96875 -2.234375 -1.484375 -1.609375 -2.734375 -1.59375 L -2.734375 -6.03125 Z M -3.625 -4.96875 C -3.625 -4.96875 -3.765625 -4.765625 -3.765625 -4.78125 L -3.765625 -1.625 C -4.71875 -1.6875 -5.3125 -2.25 -5.3125 -3.203125 C -5.3125 -4.15625 -4.65625 -4.734375 -3.71875 -4.734375 Z M -6.890625 -4.953125 L -8.640625 -3.8125 L -8.640625 -2.59375 L -6.671875 -1.328125 L -6.671875 -2.359375 L -7.6875 -3.203125 L -6.671875 -4.078125 L -6.671875 -5.09375 Z M -6.890625 -4.953125 \"/>\n",
       "</symbol>\n",
       "<symbol overflow=\"visible\" id=\"glyph2-7\">\n",
       "<path style=\"stroke:none;\" d=\"M -0.125 -5.734375 L -4.6875 -5.734375 C -5.6875 -5.734375 -6.453125 -4.859375 -6.453125 -3.6875 C -6.453125 -2.796875 -6.078125 -2.109375 -5.234375 -1.59375 L -5.140625 -1.8125 L -6.28125 -1.8125 L -6.28125 -0.671875 L 0 -0.671875 L 0 -1.890625 L -3.453125 -1.890625 C -4.6875 -1.890625 -5.359375 -2.421875 -5.359375 -3.40625 C -5.359375 -4.15625 -5.03125 -4.515625 -4.296875 -4.515625 L 0 -4.515625 L 0 -5.734375 Z M -0.125 -5.734375 \"/>\n",
       "</symbol>\n",
       "<symbol overflow=\"visible\" id=\"glyph2-8\">\n",
       "<path style=\"stroke:none;\" d=\"M -2.328125 -5.484375 L -2.328125 -4.40625 C -1.234375 -4.21875 -0.96875 -3.859375 -0.96875 -3.046875 C -0.96875 -1.984375 -1.65625 -1.484375 -3.078125 -1.484375 C -4.59375 -1.484375 -5.3125 -1.984375 -5.3125 -3.03125 C -5.3125 -3.828125 -4.96875 -4.203125 -4 -4.328125 L -4 -5.546875 C -5.59375 -5.421875 -6.453125 -4.375 -6.453125 -3.03125 C -6.453125 -1.421875 -5.078125 -0.21875 -3.078125 -0.21875 C -1.140625 -0.21875 0.171875 -1.390625 0.171875 -3.03125 C 0.171875 -4.46875 -0.8125 -5.5 -2.328125 -5.625 Z M -2.328125 -5.484375 \"/>\n",
       "</symbol>\n",
       "<symbol overflow=\"visible\" id=\"glyph2-9\">\n",
       "<path style=\"stroke:none;\" d=\"M -0.125 -1.890625 L -6.28125 -1.890625 L -6.28125 -0.671875 L 0 -0.671875 L 0 -1.890625 Z M -7.0625 -2.015625 L -8.390625 -2.015625 L -8.390625 -0.546875 L -6.9375 -0.546875 L -6.9375 -2.015625 Z M -7.0625 -2.015625 \"/>\n",
       "</symbol>\n",
       "<symbol overflow=\"visible\" id=\"glyph2-10\">\n",
       "<path style=\"stroke:none;\" d=\"M -0.15625 -6.28125 L -1.03125 -6.28125 C -0.984375 -6.046875 -0.984375 -6 -0.984375 -5.953125 C -0.984375 -5.609375 -1.03125 -5.546875 -1.328125 -5.546875 L -4.6875 -5.546875 C -5.75 -5.546875 -6.453125 -4.640625 -6.453125 -3.15625 C -6.453125 -1.703125 -5.765625 -0.671875 -4.25 -0.609375 L -4.25 -1.828125 C -5.109375 -1.921875 -5.3125 -2.234375 -5.3125 -3.125 C -5.3125 -3.984375 -5.125 -4.328125 -4.546875 -4.328125 L -4.296875 -4.328125 C -3.890625 -4.328125 -3.84375 -4.234375 -3.75 -3.46875 C -3.578125 -2.109375 -3.53125 -1.90625 -3.375 -1.546875 C -3.09375 -0.84375 -2.421875 -0.34375 -1.6875 -0.34375 C -0.59375 -0.34375 0.171875 -1.234375 0.171875 -2.46875 C 0.171875 -3.234375 -0.1875 -4.078125 -0.578125 -4.421875 C -0.375 -4.46875 0.078125 -5.03125 0.078125 -5.5 C 0.078125 -5.6875 0.0625 -5.84375 -0.046875 -6.28125 Z M -2.203125 -4.328125 C -1.34375 -4.328125 -0.921875 -3.59375 -0.921875 -2.671875 C -0.921875 -1.921875 -1.0625 -1.609375 -1.71875 -1.609375 C -2.34375 -1.609375 -2.5 -1.90625 -2.640625 -2.9375 C -2.78125 -3.9375 -2.828125 -4.15625 -2.90625 -4.328125 Z M -2.203125 -4.328125 \"/>\n",
       "</symbol>\n",
       "<symbol overflow=\"visible\" id=\"glyph3-0\">\n",
       "<path style=\"stroke:none;\" d=\"\"/>\n",
       "</symbol>\n",
       "<symbol overflow=\"visible\" id=\"glyph3-1\">\n",
       "<path style=\"stroke:none;\" d=\"M 8.953125 -0.125 L 8.953125 -10.25 L 7.40625 -10.25 L 7.40625 -5.9375 L 2.53125 -5.9375 L 2.53125 -10.25 L 1 -10.25 L 1 0 L 2.53125 0 L 2.53125 -4.546875 L 7.40625 -4.546875 L 7.40625 0 L 8.953125 0 Z M 8.953125 -0.125 \"/>\n",
       "</symbol>\n",
       "<symbol overflow=\"visible\" id=\"glyph3-2\">\n",
       "<path style=\"stroke:none;\" d=\"M 2.21875 -0.125 L 2.21875 -7.4375 L 0.828125 -7.4375 L 0.828125 0 L 2.21875 0 Z M 2.375 -8.390625 L 2.375 -9.953125 L 0.6875 -9.953125 L 0.6875 -8.265625 L 2.375 -8.265625 Z M 2.375 -8.390625 \"/>\n",
       "</symbol>\n",
       "<symbol overflow=\"visible\" id=\"glyph3-3\">\n",
       "<path style=\"stroke:none;\" d=\"M 6.40625 -2.140625 C 6.40625 -3.203125 5.6875 -3.875 4.265625 -4.21875 L 3.171875 -4.484375 C 2.234375 -4.703125 1.953125 -4.859375 1.953125 -5.375 C 1.953125 -6.03125 2.421875 -6.328125 3.359375 -6.328125 C 4.28125 -6.328125 4.625 -6.0625 4.65625 -5.1875 L 6.125 -5.1875 C 6.109375 -6.71875 5.0625 -7.640625 3.390625 -7.640625 C 1.734375 -7.640625 0.5 -6.640625 0.5 -5.3125 C 0.5 -4.1875 1.21875 -3.53125 2.921875 -3.125 L 3.984375 -2.859375 C 4.78125 -2.671875 4.953125 -2.5625 4.953125 -2.046875 C 4.953125 -1.375 4.421875 -1.109375 3.421875 -1.109375 C 2.390625 -1.109375 1.953125 -1.21875 1.78125 -2.453125 L 0.3125 -2.453125 C 0.390625 -0.65625 1.453125 0.203125 3.328125 0.203125 C 5.140625 0.203125 6.40625 -0.75 6.40625 -2.140625 Z M 6.40625 -2.140625 \"/>\n",
       "</symbol>\n",
       "<symbol overflow=\"visible\" id=\"glyph3-4\">\n",
       "<path style=\"stroke:none;\" d=\"M 3.609375 -0.125 L 3.609375 -1.265625 C 3.328125 -1.171875 3.15625 -1.171875 2.9375 -1.171875 C 2.4375 -1.171875 2.421875 -1.171875 2.421875 -1.671875 L 2.421875 -6.25 L 3.609375 -6.25 L 3.609375 -7.4375 L 2.421875 -7.4375 L 2.421875 -9.40625 L 1.03125 -9.40625 L 1.03125 -7.4375 L 0.0625 -7.4375 L 0.0625 -6.25 L 1.03125 -6.25 L 1.03125 -1.171875 C 1.03125 -0.4375 1.65625 0.09375 2.546875 0.09375 C 2.828125 0.09375 3.09375 0.0625 3.609375 -0.015625 Z M 3.609375 -0.125 \"/>\n",
       "</symbol>\n",
       "<symbol overflow=\"visible\" id=\"glyph3-5\">\n",
       "<path style=\"stroke:none;\" d=\"M 7.109375 -3.65625 C 7.109375 -6.140625 5.796875 -7.640625 3.734375 -7.640625 C 1.71875 -7.640625 0.359375 -6.125 0.359375 -3.71875 C 0.359375 -1.296875 1.703125 0.203125 3.734375 0.203125 C 5.75 0.203125 7.109375 -1.296875 7.109375 -3.65625 Z M 5.65625 -3.671875 C 5.65625 -1.984375 5 -1.109375 3.734375 -1.109375 C 2.46875 -1.109375 1.8125 -1.96875 1.8125 -3.71875 C 1.8125 -5.4375 2.46875 -6.328125 3.734375 -6.328125 C 5.03125 -6.328125 5.65625 -5.453125 5.65625 -3.671875 Z M 5.65625 -3.671875 \"/>\n",
       "</symbol>\n",
       "<symbol overflow=\"visible\" id=\"glyph3-6\">\n",
       "<path style=\"stroke:none;\" d=\"M 6.828125 -1.296875 L 6.828125 -7.4375 L 5.515625 -7.4375 L 5.515625 -6.265625 L 5.734375 -6.359375 C 5.15625 -7.203125 4.375 -7.640625 3.453125 -7.640625 C 1.625 -7.640625 0.265625 -5.96875 0.265625 -3.640625 C 0.265625 -1.390625 1.671875 0.203125 3.359375 0.203125 C 4.265625 0.203125 4.96875 -0.203125 5.734375 -1.109375 L 5.515625 -1.203125 L 5.515625 -0.71875 C 5.515625 1.171875 4.859375 1.765625 3.53125 1.765625 C 2.625 1.765625 2.0625 1.578125 1.90625 0.5625 L 0.484375 0.5625 C 0.609375 2.0625 1.8125 2.984375 3.5 2.984375 C 5.734375 2.984375 6.828125 1.859375 6.828125 -1.296875 Z M 5.40625 -3.671875 C 5.40625 -1.953125 4.796875 -1.109375 3.59375 -1.109375 C 2.34375 -1.109375 1.71875 -1.96875 1.71875 -3.71875 C 1.71875 -5.4375 2.359375 -6.328125 3.578125 -6.328125 C 4.8125 -6.328125 5.40625 -5.40625 5.40625 -3.671875 Z M 5.40625 -3.671875 \"/>\n",
       "</symbol>\n",
       "<symbol overflow=\"visible\" id=\"glyph3-7\">\n",
       "<path style=\"stroke:none;\" d=\"M 4.515625 -6.296875 L 4.515625 -7.59375 C 4.203125 -7.625 4.109375 -7.640625 3.953125 -7.640625 C 3.21875 -7.640625 2.5625 -7.171875 1.90625 -6.09375 L 2.125 -6 L 2.125 -7.4375 L 0.828125 -7.4375 L 0.828125 0 L 2.21875 0 L 2.21875 -3.84375 C 2.21875 -5.46875 2.625 -6.15625 4.515625 -6.1875 Z M 4.515625 -6.296875 \"/>\n",
       "</symbol>\n",
       "<symbol overflow=\"visible\" id=\"glyph3-8\">\n",
       "<path style=\"stroke:none;\" d=\"M 7.453125 -0.15625 L 7.453125 -1.171875 C 7.203125 -1.125 7.15625 -1.125 7.078125 -1.125 C 6.6875 -1.125 6.59375 -1.1875 6.59375 -1.546875 L 6.59375 -5.546875 C 6.59375 -6.828125 5.53125 -7.640625 3.765625 -7.640625 C 2.03125 -7.640625 0.828125 -6.84375 0.734375 -5.0625 L 2.15625 -5.0625 C 2.265625 -6.0625 2.65625 -6.328125 3.734375 -6.328125 C 4.75 -6.328125 5.1875 -6.078125 5.1875 -5.390625 L 5.1875 -5.078125 C 5.1875 -4.609375 5.046875 -4.53125 4.140625 -4.421875 C 2.515625 -4.21875 2.28125 -4.171875 1.84375 -3.984375 C 1 -3.640625 0.4375 -2.859375 0.4375 -1.984375 C 0.4375 -0.6875 1.484375 0.203125 2.9375 0.203125 C 3.84375 0.203125 4.828125 -0.203125 5.296875 -0.703125 C 5.359375 -0.421875 5.984375 0.09375 6.546875 0.09375 C 6.78125 0.09375 6.96875 0.0625 7.453125 -0.0625 Z M 5.1875 -2.609375 C 5.1875 -1.578125 4.296875 -1.0625 3.171875 -1.0625 C 2.28125 -1.0625 1.890625 -1.234375 1.890625 -2.015625 C 1.890625 -2.765625 2.28125 -2.96875 3.5 -3.15625 C 4.703125 -3.3125 4.953125 -3.375 5.1875 -3.484375 Z M 5.1875 -2.609375 \"/>\n",
       "</symbol>\n",
       "<symbol overflow=\"visible\" id=\"glyph3-9\">\n",
       "<path style=\"stroke:none;\" d=\"M 10.53125 -0.125 L 10.53125 -5.515625 C 10.53125 -6.796875 9.703125 -7.640625 8.359375 -7.640625 C 7.40625 -7.640625 6.734375 -7.3125 6.171875 -6.640625 C 5.8125 -7.28125 5.15625 -7.640625 4.21875 -7.640625 C 3.265625 -7.640625 2.53125 -7.25 1.921875 -6.390625 L 2.140625 -6.296875 L 2.140625 -7.4375 L 0.828125 -7.4375 L 0.828125 0 L 2.234375 0 L 2.234375 -4.625 C 2.234375 -5.671875 2.859375 -6.390625 3.796875 -6.390625 C 4.640625 -6.390625 4.984375 -5.984375 4.984375 -5.0625 L 4.984375 0 L 6.390625 0 L 6.390625 -4.625 C 6.390625 -5.671875 7.03125 -6.390625 7.96875 -6.390625 C 8.796875 -6.390625 9.140625 -5.96875 9.140625 -5.0625 L 9.140625 0 L 10.53125 0 Z M 10.53125 -0.125 \"/>\n",
       "</symbol>\n",
       "<symbol overflow=\"visible\" id=\"glyph3-10\">\n",
       "<path style=\"stroke:none;\" d=\"\"/>\n",
       "</symbol>\n",
       "<symbol overflow=\"visible\" id=\"glyph3-11\">\n",
       "<path style=\"stroke:none;\" d=\"M 9.078125 -0.125 L 5.515625 -10.25 L 3.703125 -10.25 L 0.046875 0 L 1.671875 0 L 2.734375 -3 L 6.40625 -3 L 7.421875 0 L 9.125 0 Z M 6.140625 -4.328125 L 3.140625 -4.328125 L 4.734375 -8.75 L 4.46875 -8.75 L 5.953125 -4.328125 Z M 6.140625 -4.328125 \"/>\n",
       "</symbol>\n",
       "<symbol overflow=\"visible\" id=\"glyph3-12\">\n",
       "<path style=\"stroke:none;\" d=\"M 2.1875 -0.125 L 2.1875 -10.25 L 0.796875 -10.25 L 0.796875 0 L 2.1875 0 Z M 2.1875 -0.125 \"/>\n",
       "</symbol>\n",
       "<symbol overflow=\"visible\" id=\"glyph3-13\">\n",
       "<path style=\"stroke:none;\" d=\"M 6.734375 -0.125 L 6.734375 -7.4375 L 5.328125 -7.4375 L 5.328125 -3.34375 C 5.328125 -1.875 4.703125 -1.0625 3.515625 -1.0625 C 2.609375 -1.0625 2.15625 -1.46875 2.15625 -2.328125 L 2.15625 -7.4375 L 0.75 -7.4375 L 0.75 -1.875 C 0.75 -0.6875 1.78125 0.203125 3.171875 0.203125 C 4.234375 0.203125 4.984375 -0.1875 5.65625 -1.140625 L 5.4375 -1.234375 L 5.4375 0 L 6.734375 0 Z M 6.734375 -0.125 \"/>\n",
       "</symbol>\n",
       "</g>\n",
       "<clipPath id=\"clip1\">\n",
       "  <path d=\"M 44.46875 24.207031 L 499 24.207031 L 499 256 L 44.46875 256 Z M 44.46875 24.207031 \"/>\n",
       "</clipPath>\n",
       "<clipPath id=\"clip2\">\n",
       "  <path d=\"M 44.46875 215 L 499 215 L 499 216 L 44.46875 216 Z M 44.46875 215 \"/>\n",
       "</clipPath>\n",
       "<clipPath id=\"clip3\">\n",
       "  <path d=\"M 44.46875 156 L 499 156 L 499 158 L 44.46875 158 Z M 44.46875 156 \"/>\n",
       "</clipPath>\n",
       "<clipPath id=\"clip4\">\n",
       "  <path d=\"M 44.46875 98 L 499 98 L 499 99 L 44.46875 99 Z M 44.46875 98 \"/>\n",
       "</clipPath>\n",
       "<clipPath id=\"clip5\">\n",
       "  <path d=\"M 44.46875 39 L 499 39 L 499 41 L 44.46875 41 Z M 44.46875 39 \"/>\n",
       "</clipPath>\n",
       "<clipPath id=\"clip6\">\n",
       "  <path d=\"M 111 24.207031 L 113 24.207031 L 113 256 L 111 256 Z M 111 24.207031 \"/>\n",
       "</clipPath>\n",
       "<clipPath id=\"clip7\">\n",
       "  <path d=\"M 227 24.207031 L 229 24.207031 L 229 256 L 227 256 Z M 227 24.207031 \"/>\n",
       "</clipPath>\n",
       "<clipPath id=\"clip8\">\n",
       "  <path d=\"M 343 24.207031 L 344 24.207031 L 344 256 L 343 256 Z M 343 24.207031 \"/>\n",
       "</clipPath>\n",
       "<clipPath id=\"clip9\">\n",
       "  <path d=\"M 458 24.207031 L 460 24.207031 L 460 256 L 458 256 Z M 458 24.207031 \"/>\n",
       "</clipPath>\n",
       "<clipPath id=\"clip10\">\n",
       "  <path d=\"M 44.46875 243 L 499.523438 243 L 499.523438 246 L 44.46875 246 Z M 44.46875 243 \"/>\n",
       "</clipPath>\n",
       "<clipPath id=\"clip11\">\n",
       "  <path d=\"M 44.46875 185 L 499.523438 185 L 499.523438 187 L 44.46875 187 Z M 44.46875 185 \"/>\n",
       "</clipPath>\n",
       "<clipPath id=\"clip12\">\n",
       "  <path d=\"M 44.46875 127 L 499.523438 127 L 499.523438 129 L 44.46875 129 Z M 44.46875 127 \"/>\n",
       "</clipPath>\n",
       "<clipPath id=\"clip13\">\n",
       "  <path d=\"M 44.46875 68 L 499.523438 68 L 499.523438 71 L 44.46875 71 Z M 44.46875 68 \"/>\n",
       "</clipPath>\n",
       "<clipPath id=\"clip14\">\n",
       "  <path d=\"M 53 24.207031 L 55 24.207031 L 55 256 L 53 256 Z M 53 24.207031 \"/>\n",
       "</clipPath>\n",
       "<clipPath id=\"clip15\">\n",
       "  <path d=\"M 169 24.207031 L 171 24.207031 L 171 256 L 169 256 Z M 169 24.207031 \"/>\n",
       "</clipPath>\n",
       "<clipPath id=\"clip16\">\n",
       "  <path d=\"M 284 24.207031 L 287 24.207031 L 287 256 L 284 256 Z M 284 24.207031 \"/>\n",
       "</clipPath>\n",
       "<clipPath id=\"clip17\">\n",
       "  <path d=\"M 400 24.207031 L 403 24.207031 L 403 256 L 400 256 Z M 400 24.207031 \"/>\n",
       "</clipPath>\n",
       "</defs>\n",
       "<g id=\"surface199\">\n",
       "<rect x=\"0\" y=\"0\" width=\"504\" height=\"288\" style=\"fill:rgb(100%,100%,100%);fill-opacity:1;stroke:none;\"/>\n",
       "<rect x=\"0\" y=\"0\" width=\"504\" height=\"288\" style=\"fill:rgb(100%,100%,100%);fill-opacity:1;stroke:none;\"/>\n",
       "<path style=\"fill:none;stroke-width:1.422638;stroke-linecap:round;stroke-linejoin:round;stroke:rgb(100%,100%,100%);stroke-opacity:1;stroke-miterlimit:10;\" d=\"M 0 0 L 504 0 L 504 288 L 0 288 Z M 0 0 \"/>\n",
       "<g clip-path=\"url(#clip1)\" clip-rule=\"nonzero\">\n",
       "<path style=\" stroke:none;fill-rule:nonzero;fill:rgb(92.156863%,92.156863%,92.156863%);fill-opacity:1;\" d=\"M 44.46875 24.207031 L 498.523438 24.207031 L 498.523438 255.144531 L 44.46875 255.144531 Z M 44.46875 24.207031 \"/>\n",
       "</g>\n",
       "<g clip-path=\"url(#clip2)\" clip-rule=\"nonzero\">\n",
       "<path style=\"fill:none;stroke-width:0.711319;stroke-linecap:butt;stroke-linejoin:round;stroke:rgb(100%,100%,100%);stroke-opacity:1;stroke-miterlimit:10;\" d=\"M 44.46875 215.449219 L 498.519531 215.449219 \"/>\n",
       "</g>\n",
       "<g clip-path=\"url(#clip3)\" clip-rule=\"nonzero\">\n",
       "<path style=\"fill:none;stroke-width:0.711319;stroke-linecap:butt;stroke-linejoin:round;stroke:rgb(100%,100%,100%);stroke-opacity:1;stroke-miterlimit:10;\" d=\"M 44.46875 157.046875 L 498.519531 157.046875 \"/>\n",
       "</g>\n",
       "<g clip-path=\"url(#clip4)\" clip-rule=\"nonzero\">\n",
       "<path style=\"fill:none;stroke-width:0.711319;stroke-linecap:butt;stroke-linejoin:round;stroke:rgb(100%,100%,100%);stroke-opacity:1;stroke-miterlimit:10;\" d=\"M 44.46875 98.644531 L 498.519531 98.644531 \"/>\n",
       "</g>\n",
       "<g clip-path=\"url(#clip5)\" clip-rule=\"nonzero\">\n",
       "<path style=\"fill:none;stroke-width:0.711319;stroke-linecap:butt;stroke-linejoin:round;stroke:rgb(100%,100%,100%);stroke-opacity:1;stroke-miterlimit:10;\" d=\"M 44.46875 40.242188 L 498.519531 40.242188 \"/>\n",
       "</g>\n",
       "<g clip-path=\"url(#clip6)\" clip-rule=\"nonzero\">\n",
       "<path style=\"fill:none;stroke-width:0.711319;stroke-linecap:butt;stroke-linejoin:round;stroke:rgb(100%,100%,100%);stroke-opacity:1;stroke-miterlimit:10;\" d=\"M 111.949219 255.144531 L 111.949219 24.207031 \"/>\n",
       "</g>\n",
       "<g clip-path=\"url(#clip7)\" clip-rule=\"nonzero\">\n",
       "<path style=\"fill:none;stroke-width:0.711319;stroke-linecap:butt;stroke-linejoin:round;stroke:rgb(100%,100%,100%);stroke-opacity:1;stroke-miterlimit:10;\" d=\"M 227.730469 255.144531 L 227.730469 24.207031 \"/>\n",
       "</g>\n",
       "<g clip-path=\"url(#clip8)\" clip-rule=\"nonzero\">\n",
       "<path style=\"fill:none;stroke-width:0.711319;stroke-linecap:butt;stroke-linejoin:round;stroke:rgb(100%,100%,100%);stroke-opacity:1;stroke-miterlimit:10;\" d=\"M 343.511719 255.144531 L 343.511719 24.207031 \"/>\n",
       "</g>\n",
       "<g clip-path=\"url(#clip9)\" clip-rule=\"nonzero\">\n",
       "<path style=\"fill:none;stroke-width:0.711319;stroke-linecap:butt;stroke-linejoin:round;stroke:rgb(100%,100%,100%);stroke-opacity:1;stroke-miterlimit:10;\" d=\"M 459.296875 255.144531 L 459.296875 24.207031 \"/>\n",
       "</g>\n",
       "<g clip-path=\"url(#clip10)\" clip-rule=\"nonzero\">\n",
       "<path style=\"fill:none;stroke-width:1.422638;stroke-linecap:butt;stroke-linejoin:round;stroke:rgb(100%,100%,100%);stroke-opacity:1;stroke-miterlimit:10;\" d=\"M 44.46875 244.648438 L 498.519531 244.648438 \"/>\n",
       "</g>\n",
       "<g clip-path=\"url(#clip11)\" clip-rule=\"nonzero\">\n",
       "<path style=\"fill:none;stroke-width:1.422638;stroke-linecap:butt;stroke-linejoin:round;stroke:rgb(100%,100%,100%);stroke-opacity:1;stroke-miterlimit:10;\" d=\"M 44.46875 186.246094 L 498.519531 186.246094 \"/>\n",
       "</g>\n",
       "<g clip-path=\"url(#clip12)\" clip-rule=\"nonzero\">\n",
       "<path style=\"fill:none;stroke-width:1.422638;stroke-linecap:butt;stroke-linejoin:round;stroke:rgb(100%,100%,100%);stroke-opacity:1;stroke-miterlimit:10;\" d=\"M 44.46875 127.84375 L 498.519531 127.84375 \"/>\n",
       "</g>\n",
       "<g clip-path=\"url(#clip13)\" clip-rule=\"nonzero\">\n",
       "<path style=\"fill:none;stroke-width:1.422638;stroke-linecap:butt;stroke-linejoin:round;stroke:rgb(100%,100%,100%);stroke-opacity:1;stroke-miterlimit:10;\" d=\"M 44.46875 69.445312 L 498.519531 69.445312 \"/>\n",
       "</g>\n",
       "<g clip-path=\"url(#clip14)\" clip-rule=\"nonzero\">\n",
       "<path style=\"fill:none;stroke-width:1.422638;stroke-linecap:butt;stroke-linejoin:round;stroke:rgb(100%,100%,100%);stroke-opacity:1;stroke-miterlimit:10;\" d=\"M 54.058594 255.144531 L 54.058594 24.207031 \"/>\n",
       "</g>\n",
       "<g clip-path=\"url(#clip15)\" clip-rule=\"nonzero\">\n",
       "<path style=\"fill:none;stroke-width:1.422638;stroke-linecap:butt;stroke-linejoin:round;stroke:rgb(100%,100%,100%);stroke-opacity:1;stroke-miterlimit:10;\" d=\"M 169.839844 255.144531 L 169.839844 24.207031 \"/>\n",
       "</g>\n",
       "<g clip-path=\"url(#clip16)\" clip-rule=\"nonzero\">\n",
       "<path style=\"fill:none;stroke-width:1.422638;stroke-linecap:butt;stroke-linejoin:round;stroke:rgb(100%,100%,100%);stroke-opacity:1;stroke-miterlimit:10;\" d=\"M 285.621094 255.144531 L 285.621094 24.207031 \"/>\n",
       "</g>\n",
       "<g clip-path=\"url(#clip17)\" clip-rule=\"nonzero\">\n",
       "<path style=\"fill:none;stroke-width:1.422638;stroke-linecap:butt;stroke-linejoin:round;stroke:rgb(100%,100%,100%);stroke-opacity:1;stroke-miterlimit:10;\" d=\"M 401.40625 255.144531 L 401.40625 24.207031 \"/>\n",
       "</g>\n",
       "<path style=\" stroke:none;fill-rule:nonzero;fill:rgb(34.901961%,34.901961%,34.901961%);fill-opacity:1;\" d=\"M 65.105469 244.625 L 78.863281 244.625 L 78.863281 244.648438 L 65.105469 244.648438 Z M 65.105469 244.625 \"/>\n",
       "<path style=\" stroke:none;fill-rule:nonzero;fill:rgb(34.901961%,34.901961%,34.901961%);fill-opacity:1;\" d=\"M 92.625 244.601562 L 106.382812 244.601562 L 106.382812 244.648438 L 92.625 244.648438 Z M 92.625 244.601562 \"/>\n",
       "<path style=\" stroke:none;fill-rule:nonzero;fill:rgb(34.901961%,34.901961%,34.901961%);fill-opacity:1;\" d=\"M 106.382812 244.367188 L 120.140625 244.367188 L 120.140625 244.648438 L 106.382812 244.648438 Z M 106.382812 244.367188 \"/>\n",
       "<path style=\" stroke:none;fill-rule:nonzero;fill:rgb(34.901961%,34.901961%,34.901961%);fill-opacity:1;\" d=\"M 120.144531 243.878906 L 133.902344 243.878906 L 133.902344 244.648438 L 120.144531 244.648438 Z M 120.144531 243.878906 \"/>\n",
       "<path style=\" stroke:none;fill-rule:nonzero;fill:rgb(34.901961%,34.901961%,34.901961%);fill-opacity:1;\" d=\"M 133.902344 243.015625 L 147.660156 243.015625 L 147.660156 244.652344 L 133.902344 244.652344 Z M 133.902344 243.015625 \"/>\n",
       "<path style=\" stroke:none;fill-rule:nonzero;fill:rgb(34.901961%,34.901961%,34.901961%);fill-opacity:1;\" d=\"M 147.660156 240.957031 L 161.417969 240.957031 L 161.417969 244.648438 L 147.660156 244.648438 Z M 147.660156 240.957031 \"/>\n",
       "<path style=\" stroke:none;fill-rule:nonzero;fill:rgb(34.901961%,34.901961%,34.901961%);fill-opacity:1;\" d=\"M 161.421875 236.308594 L 175.179688 236.308594 L 175.179688 244.648438 L 161.421875 244.648438 Z M 161.421875 236.308594 \"/>\n",
       "<path style=\" stroke:none;fill-rule:nonzero;fill:rgb(34.901961%,34.901961%,34.901961%);fill-opacity:1;\" d=\"M 175.179688 226.941406 L 188.9375 226.941406 L 188.9375 244.648438 L 175.179688 244.648438 Z M 175.179688 226.941406 \"/>\n",
       "<path style=\" stroke:none;fill-rule:nonzero;fill:rgb(34.901961%,34.901961%,34.901961%);fill-opacity:1;\" d=\"M 188.9375 210.917969 L 202.695312 210.917969 L 202.695312 244.652344 L 188.9375 244.652344 Z M 188.9375 210.917969 \"/>\n",
       "<path style=\" stroke:none;fill-rule:nonzero;fill:rgb(34.901961%,34.901961%,34.901961%);fill-opacity:1;\" d=\"M 202.699219 190.078125 L 216.457031 190.078125 L 216.457031 244.648438 L 202.699219 244.648438 Z M 202.699219 190.078125 \"/>\n",
       "<path style=\" stroke:none;fill-rule:nonzero;fill:rgb(34.901961%,34.901961%,34.901961%);fill-opacity:1;\" d=\"M 216.457031 158.636719 L 230.214844 158.636719 L 230.214844 244.652344 L 216.457031 244.652344 Z M 216.457031 158.636719 \"/>\n",
       "<path style=\" stroke:none;fill-rule:nonzero;fill:rgb(34.901961%,34.901961%,34.901961%);fill-opacity:1;\" d=\"M 230.214844 118.265625 L 243.972656 118.265625 L 243.972656 244.648438 L 230.214844 244.648438 Z M 230.214844 118.265625 \"/>\n",
       "<path style=\" stroke:none;fill-rule:nonzero;fill:rgb(34.901961%,34.901961%,34.901961%);fill-opacity:1;\" d=\"M 243.976562 84.792969 L 257.734375 84.792969 L 257.734375 244.652344 L 243.976562 244.652344 Z M 243.976562 84.792969 \"/>\n",
       "<path style=\" stroke:none;fill-rule:nonzero;fill:rgb(34.901961%,34.901961%,34.901961%);fill-opacity:1;\" d=\"M 257.734375 49.914062 L 271.492188 49.914062 L 271.492188 244.648438 L 257.734375 244.648438 Z M 257.734375 49.914062 \"/>\n",
       "<path style=\" stroke:none;fill-rule:nonzero;fill:rgb(34.901961%,34.901961%,34.901961%);fill-opacity:1;\" d=\"M 271.492188 34.707031 L 285.25 34.707031 L 285.25 244.648438 L 271.492188 244.648438 Z M 271.492188 34.707031 \"/>\n",
       "<path style=\" stroke:none;fill-rule:nonzero;fill:rgb(34.901961%,34.901961%,34.901961%);fill-opacity:1;\" d=\"M 285.253906 34.964844 L 299.011719 34.964844 L 299.011719 244.652344 L 285.253906 244.652344 Z M 285.253906 34.964844 \"/>\n",
       "<path style=\" stroke:none;fill-rule:nonzero;fill:rgb(34.901961%,34.901961%,34.901961%);fill-opacity:1;\" d=\"M 299.011719 50.988281 L 312.769531 50.988281 L 312.769531 244.648438 L 299.011719 244.648438 Z M 299.011719 50.988281 \"/>\n",
       "<path style=\" stroke:none;fill-rule:nonzero;fill:rgb(34.901961%,34.901961%,34.901961%);fill-opacity:1;\" d=\"M 312.773438 86.542969 L 326.53125 86.542969 L 326.53125 244.648438 L 312.773438 244.648438 Z M 312.773438 86.542969 \"/>\n",
       "<path style=\" stroke:none;fill-rule:nonzero;fill:rgb(34.901961%,34.901961%,34.901961%);fill-opacity:1;\" d=\"M 326.53125 121.398438 L 340.289062 121.398438 L 340.289062 244.648438 L 326.53125 244.648438 Z M 326.53125 121.398438 \"/>\n",
       "<path style=\" stroke:none;fill-rule:nonzero;fill:rgb(34.901961%,34.901961%,34.901961%);fill-opacity:1;\" d=\"M 340.289062 154.453125 L 354.046875 154.453125 L 354.046875 244.648438 L 340.289062 244.648438 Z M 340.289062 154.453125 \"/>\n",
       "<path style=\" stroke:none;fill-rule:nonzero;fill:rgb(34.901961%,34.901961%,34.901961%);fill-opacity:1;\" d=\"M 354.050781 187.765625 L 367.808594 187.765625 L 367.808594 244.648438 L 354.050781 244.648438 Z M 354.050781 187.765625 \"/>\n",
       "<path style=\" stroke:none;fill-rule:nonzero;fill:rgb(34.901961%,34.901961%,34.901961%);fill-opacity:1;\" d=\"M 367.808594 211.992188 L 381.566406 211.992188 L 381.566406 244.652344 L 367.808594 244.652344 Z M 367.808594 211.992188 \"/>\n",
       "<path style=\" stroke:none;fill-rule:nonzero;fill:rgb(34.901961%,34.901961%,34.901961%);fill-opacity:1;\" d=\"M 381.566406 226.636719 L 395.324219 226.636719 L 395.324219 244.648438 L 381.566406 244.648438 Z M 381.566406 226.636719 \"/>\n",
       "<path style=\" stroke:none;fill-rule:nonzero;fill:rgb(34.901961%,34.901961%,34.901961%);fill-opacity:1;\" d=\"M 395.328125 236.707031 L 409.085938 236.707031 L 409.085938 244.648438 L 395.328125 244.648438 Z M 395.328125 236.707031 \"/>\n",
       "<path style=\" stroke:none;fill-rule:nonzero;fill:rgb(34.901961%,34.901961%,34.901961%);fill-opacity:1;\" d=\"M 409.085938 240.632812 L 422.84375 240.632812 L 422.84375 244.652344 L 409.085938 244.652344 Z M 409.085938 240.632812 \"/>\n",
       "<path style=\" stroke:none;fill-rule:nonzero;fill:rgb(34.901961%,34.901961%,34.901961%);fill-opacity:1;\" d=\"M 422.84375 242.78125 L 436.601562 242.78125 L 436.601562 244.648438 L 422.84375 244.648438 Z M 422.84375 242.78125 \"/>\n",
       "<path style=\" stroke:none;fill-rule:nonzero;fill:rgb(34.901961%,34.901961%,34.901961%);fill-opacity:1;\" d=\"M 436.605469 243.925781 L 450.363281 243.925781 L 450.363281 244.648438 L 436.605469 244.648438 Z M 436.605469 243.925781 \"/>\n",
       "<path style=\" stroke:none;fill-rule:nonzero;fill:rgb(34.901961%,34.901961%,34.901961%);fill-opacity:1;\" d=\"M 450.363281 244.390625 L 464.121094 244.390625 L 464.121094 244.648438 L 450.363281 244.648438 Z M 450.363281 244.390625 \"/>\n",
       "<path style=\" stroke:none;fill-rule:nonzero;fill:rgb(34.901961%,34.901961%,34.901961%);fill-opacity:1;\" d=\"M 464.121094 244.601562 L 477.878906 244.601562 L 477.878906 244.648438 L 464.121094 244.648438 Z M 464.121094 244.601562 \"/>\n",
       "<g style=\"fill:rgb(30.196078%,30.196078%,30.196078%);fill-opacity:1;\">\n",
       "  <use xlink:href=\"#glyph0-1\" x=\"34.367188\" y=\"248.179688\"/>\n",
       "</g>\n",
       "<g style=\"fill:rgb(30.196078%,30.196078%,30.196078%);fill-opacity:1;\">\n",
       "  <use xlink:href=\"#glyph0-2\" x=\"18.859375\" y=\"189.777344\"/>\n",
       "  <use xlink:href=\"#glyph0-3\" x=\"24.028442\" y=\"189.777344\"/>\n",
       "  <use xlink:href=\"#glyph0-1\" x=\"29.19751\" y=\"189.777344\"/>\n",
       "  <use xlink:href=\"#glyph0-1\" x=\"34.366577\" y=\"189.777344\"/>\n",
       "</g>\n",
       "<g style=\"fill:rgb(30.196078%,30.196078%,30.196078%);fill-opacity:1;\">\n",
       "  <use xlink:href=\"#glyph0-3\" x=\"18.859375\" y=\"131.375\"/>\n",
       "  <use xlink:href=\"#glyph0-1\" x=\"24.028442\" y=\"131.375\"/>\n",
       "  <use xlink:href=\"#glyph0-1\" x=\"29.19751\" y=\"131.375\"/>\n",
       "  <use xlink:href=\"#glyph0-1\" x=\"34.366577\" y=\"131.375\"/>\n",
       "</g>\n",
       "<g style=\"fill:rgb(30.196078%,30.196078%,30.196078%);fill-opacity:1;\">\n",
       "  <use xlink:href=\"#glyph0-4\" x=\"18.859375\" y=\"72.976562\"/>\n",
       "  <use xlink:href=\"#glyph0-3\" x=\"24.028442\" y=\"72.976562\"/>\n",
       "  <use xlink:href=\"#glyph0-1\" x=\"29.19751\" y=\"72.976562\"/>\n",
       "  <use xlink:href=\"#glyph0-1\" x=\"34.366577\" y=\"72.976562\"/>\n",
       "</g>\n",
       "<path style=\"fill:none;stroke-width:1.422638;stroke-linecap:butt;stroke-linejoin:round;stroke:rgb(20%,20%,20%);stroke-opacity:1;stroke-miterlimit:10;\" d=\"M 41.726562 244.648438 L 44.46875 244.648438 \"/>\n",
       "<path style=\"fill:none;stroke-width:1.422638;stroke-linecap:butt;stroke-linejoin:round;stroke:rgb(20%,20%,20%);stroke-opacity:1;stroke-miterlimit:10;\" d=\"M 41.726562 186.246094 L 44.46875 186.246094 \"/>\n",
       "<path style=\"fill:none;stroke-width:1.422638;stroke-linecap:butt;stroke-linejoin:round;stroke:rgb(20%,20%,20%);stroke-opacity:1;stroke-miterlimit:10;\" d=\"M 41.726562 127.84375 L 44.46875 127.84375 \"/>\n",
       "<path style=\"fill:none;stroke-width:1.422638;stroke-linecap:butt;stroke-linejoin:round;stroke:rgb(20%,20%,20%);stroke-opacity:1;stroke-miterlimit:10;\" d=\"M 41.726562 69.445312 L 44.46875 69.445312 \"/>\n",
       "<path style=\"fill:none;stroke-width:1.422638;stroke-linecap:butt;stroke-linejoin:round;stroke:rgb(20%,20%,20%);stroke-opacity:1;stroke-miterlimit:10;\" d=\"M 54.058594 257.886719 L 54.058594 255.144531 \"/>\n",
       "<path style=\"fill:none;stroke-width:1.422638;stroke-linecap:butt;stroke-linejoin:round;stroke:rgb(20%,20%,20%);stroke-opacity:1;stroke-miterlimit:10;\" d=\"M 169.839844 257.886719 L 169.839844 255.144531 \"/>\n",
       "<path style=\"fill:none;stroke-width:1.422638;stroke-linecap:butt;stroke-linejoin:round;stroke:rgb(20%,20%,20%);stroke-opacity:1;stroke-miterlimit:10;\" d=\"M 285.621094 257.886719 L 285.621094 255.144531 \"/>\n",
       "<path style=\"fill:none;stroke-width:1.422638;stroke-linecap:butt;stroke-linejoin:round;stroke:rgb(20%,20%,20%);stroke-opacity:1;stroke-miterlimit:10;\" d=\"M 401.40625 257.886719 L 401.40625 255.144531 \"/>\n",
       "<g style=\"fill:rgb(30.196078%,30.196078%,30.196078%);fill-opacity:1;\">\n",
       "  <use xlink:href=\"#glyph0-5\" x=\"47.597656\" y=\"267.140625\"/>\n",
       "  <use xlink:href=\"#glyph0-6\" x=\"52.766724\" y=\"267.140625\"/>\n",
       "  <use xlink:href=\"#glyph0-7\" x=\"55.351257\" y=\"267.140625\"/>\n",
       "</g>\n",
       "<g style=\"fill:rgb(30.196078%,30.196078%,30.196078%);fill-opacity:1;\">\n",
       "  <use xlink:href=\"#glyph0-5\" x=\"163.378906\" y=\"267.140625\"/>\n",
       "  <use xlink:href=\"#glyph0-6\" x=\"168.547974\" y=\"267.140625\"/>\n",
       "  <use xlink:href=\"#glyph0-3\" x=\"171.132507\" y=\"267.140625\"/>\n",
       "</g>\n",
       "<g style=\"fill:rgb(30.196078%,30.196078%,30.196078%);fill-opacity:1;\">\n",
       "  <use xlink:href=\"#glyph0-5\" x=\"279.160156\" y=\"267.140625\"/>\n",
       "  <use xlink:href=\"#glyph0-6\" x=\"284.329224\" y=\"267.140625\"/>\n",
       "  <use xlink:href=\"#glyph0-4\" x=\"286.913757\" y=\"267.140625\"/>\n",
       "</g>\n",
       "<g style=\"fill:rgb(30.196078%,30.196078%,30.196078%);fill-opacity:1;\">\n",
       "  <use xlink:href=\"#glyph0-5\" x=\"394.945312\" y=\"267.140625\"/>\n",
       "  <use xlink:href=\"#glyph0-6\" x=\"400.11438\" y=\"267.140625\"/>\n",
       "  <use xlink:href=\"#glyph0-8\" x=\"402.698914\" y=\"267.140625\"/>\n",
       "</g>\n",
       "<g style=\"fill:rgb(0%,0%,0%);fill-opacity:1;\">\n",
       "  <use xlink:href=\"#glyph1-1\" x=\"256.472656\" y=\"280.519531\"/>\n",
       "  <use xlink:href=\"#glyph1-2\" x=\"264.143082\" y=\"280.519531\"/>\n",
       "  <use xlink:href=\"#glyph1-3\" x=\"266.69606\" y=\"280.519531\"/>\n",
       "  <use xlink:href=\"#glyph1-4\" x=\"269.893021\" y=\"280.519531\"/>\n",
       "  <use xlink:href=\"#glyph1-5\" x=\"276.286957\" y=\"280.519531\"/>\n",
       "  <use xlink:href=\"#glyph1-6\" x=\"280.116425\" y=\"280.519531\"/>\n",
       "</g>\n",
       "<g style=\"fill:rgb(0%,0%,0%);fill-opacity:1;\">\n",
       "  <use xlink:href=\"#glyph2-1\" x=\"14.121094\" y=\"168.4375\"/>\n",
       "  <use xlink:href=\"#glyph2-2\" x=\"14.121094\" y=\"161.411072\"/>\n",
       "  <use xlink:href=\"#glyph2-3\" x=\"14.121094\" y=\"157.581604\"/>\n",
       "  <use xlink:href=\"#glyph2-4\" x=\"14.121094\" y=\"151.187668\"/>\n",
       "  <use xlink:href=\"#glyph2-5\" x=\"14.121094\" y=\"144.793732\"/>\n",
       "  <use xlink:href=\"#glyph2-6\" x=\"14.121094\" y=\"138.399796\"/>\n",
       "  <use xlink:href=\"#glyph2-7\" x=\"14.121094\" y=\"132.005859\"/>\n",
       "  <use xlink:href=\"#glyph2-8\" x=\"14.121094\" y=\"125.611923\"/>\n",
       "  <use xlink:href=\"#glyph2-9\" x=\"14.121094\" y=\"119.861984\"/>\n",
       "  <use xlink:href=\"#glyph2-10\" x=\"14.121094\" y=\"117.309006\"/>\n",
       "</g>\n",
       "<g style=\"fill:rgb(0%,0%,0%);fill-opacity:1;\">\n",
       "  <use xlink:href=\"#glyph3-1\" x=\"216.667969\" y=\"15.730469\"/>\n",
       "  <use xlink:href=\"#glyph3-2\" x=\"226.561615\" y=\"15.730469\"/>\n",
       "  <use xlink:href=\"#glyph3-3\" x=\"229.603699\" y=\"15.730469\"/>\n",
       "  <use xlink:href=\"#glyph3-4\" x=\"236.455246\" y=\"15.730469\"/>\n",
       "  <use xlink:href=\"#glyph3-5\" x=\"240.264709\" y=\"15.730469\"/>\n",
       "  <use xlink:href=\"#glyph3-6\" x=\"247.883636\" y=\"15.730469\"/>\n",
       "  <use xlink:href=\"#glyph3-7\" x=\"255.502563\" y=\"15.730469\"/>\n",
       "  <use xlink:href=\"#glyph3-8\" x=\"260.065704\" y=\"15.730469\"/>\n",
       "  <use xlink:href=\"#glyph3-9\" x=\"267.684631\" y=\"15.730469\"/>\n",
       "  <use xlink:href=\"#glyph3-8\" x=\"279.099319\" y=\"15.730469\"/>\n",
       "  <use xlink:href=\"#glyph3-10\" x=\"286.718246\" y=\"15.730469\"/>\n",
       "  <use xlink:href=\"#glyph3-11\" x=\"290.52771\" y=\"15.730469\"/>\n",
       "  <use xlink:href=\"#glyph3-12\" x=\"299.667679\" y=\"15.730469\"/>\n",
       "  <use xlink:href=\"#glyph3-4\" x=\"302.709763\" y=\"15.730469\"/>\n",
       "  <use xlink:href=\"#glyph3-13\" x=\"306.519226\" y=\"15.730469\"/>\n",
       "  <use xlink:href=\"#glyph3-7\" x=\"314.138153\" y=\"15.730469\"/>\n",
       "  <use xlink:href=\"#glyph3-8\" x=\"318.701294\" y=\"15.730469\"/>\n",
       "</g>\n",
       "</g>\n",
       "</svg>\n"
      ]
     },
     "metadata": {
      "image/svg+xml": {
       "isolated": true
      }
     },
     "output_type": "display_data"
    }
   ],
   "source": [
    "ggplot(dados, aes(x = Altura)) + \n",
    "    geom_histogram() + \n",
    "    ylab(\"Frequência\") + \n",
    "    xlab(\"Altura\") + \n",
    "    ggtitle('Histograma Altura') +\n",
    "    theme(plot.title=element_text(hjust = 0.5))"
   ]
  },
  {
   "cell_type": "markdown",
   "metadata": {
    "colab_type": "text",
    "id": "1ADrwGb5psjQ"
   },
   "source": [
    "### <font color='red'>Critério do valor $p$</font>\n",
    "\n",
    "> ### Rejeitar $H_0$ se o valor $p\\leq \\alpha$"
   ]
  },
  {
   "cell_type": "code",
   "execution_count": 14,
   "metadata": {},
   "outputs": [
    {
     "data": {
      "text/plain": [
       "\n",
       "\tShapiro-Wilk normality test\n",
       "\n",
       "data:  amostra$Altura\n",
       "W = 0.99947, p-value = 0.1749\n"
      ]
     },
     "metadata": {},
     "output_type": "display_data"
    }
   ],
   "source": [
    "resultado <- shapiro.test(amostra$Altura)\n",
    "resultado"
   ]
  },
  {
   "cell_type": "code",
   "execution_count": 15,
   "metadata": {},
   "outputs": [
    {
     "data": {
      "text/html": [
       "0.174910122982161"
      ],
      "text/latex": [
       "0.174910122982161"
      ],
      "text/markdown": [
       "0.174910122982161"
      ],
      "text/plain": [
       "[1] 0.1749101"
      ]
     },
     "metadata": {},
     "output_type": "display_data"
    }
   ],
   "source": [
    "p_valor <- resultado$p.value\n",
    "p_valor"
   ]
  },
  {
   "cell_type": "code",
   "execution_count": 16,
   "metadata": {},
   "outputs": [
    {
     "data": {
      "text/html": [
       "<strong>W:</strong> 0.999472946185754"
      ],
      "text/latex": [
       "\\textbf{W:} 0.999472946185754"
      ],
      "text/markdown": [
       "**W:** 0.999472946185754"
      ],
      "text/plain": [
       "        W \n",
       "0.9994729 "
      ]
     },
     "metadata": {},
     "output_type": "display_data"
    }
   ],
   "source": [
    "resultado$statistic"
   ]
  },
  {
   "cell_type": "code",
   "execution_count": 17,
   "metadata": {
    "colab": {
     "base_uri": "https://localhost:8080/",
     "height": 35
    },
    "colab_type": "code",
    "id": "Q4eJFGsCpsjG",
    "outputId": "95f4e550-b43e-476c-94e6-12b600384bc5"
   },
   "outputs": [
    {
     "data": {
      "text/html": [
       "FALSE"
      ],
      "text/latex": [
       "FALSE"
      ],
      "text/markdown": [
       "FALSE"
      ],
      "text/plain": [
       "[1] FALSE"
      ]
     },
     "metadata": {},
     "output_type": "display_data"
    }
   ],
   "source": [
    "p_valor <= significancia"
   ]
  },
  {
   "cell_type": "markdown",
   "metadata": {
    "colab_type": "text",
    "id": "rWh-HSd-psji"
   },
   "source": [
    "## <font color=green>2.2 Etapas Básicas de um Teste</font>\n",
    "***"
   ]
  },
  {
   "cell_type": "markdown",
   "metadata": {
    "colab_type": "text",
    "id": "DQF30K2Cpsjj"
   },
   "source": [
    "### **Passo 1** - formulação das hipóteses $H_0$ e $H_1$;\n",
    "\n",
    "> ### <font color='red'>Pontos importantes</font>\n",
    "> - De maneira geral, o alvo do estudo deve ser formulado como a hipótese alternativa $H_1$.\n",
    "> - A hipótese nula sempre afirma uma igualdade ou propriedade populacional, e $H_1$ a desigualdade que nega $H_0$.\n",
    "> - No caso da hipótese nula $H_0$ a igualdade pode ser representada por uma igualdade simples \"$=$\" ou por \"$\\geq$\" e \"$\\leq$\". Sempre complementar ao estabelecido pela hipótese alternativa.\n",
    "> - A hipótese alternativa $H_1$ deve definir uma desigualdade que pode ser uma diferença simples \"$\\neq$\" ou dos tipos \"$>$\" e \"$<$\".\n",
    "\n",
    "\n",
    "### **Passo 2** - escolha da distribuição amostral adequada;\n",
    "\n",
    "> ### <font color='red'>Pontos importantes</font>\n",
    "> - Quando o tamanho da amostra tiver 30 elementos ou mais, deve-se utilizar a distribuição normal, como estabelecido pelo **teorema do limite central**.\n",
    "> - Para um tamanho de amostra menor que 30 elementos, e se pudermos afirmar que a população se distribui aproximadamente como uma normal e o desvio padrão populacional for conhecido, deve-se utilizar a distribuição normal.\n",
    "> - Para um tamanho de amostra menor que 30 elementos, e se pudermos afirmar que a população se distribui aproximadamente como uma normal e o desvio padrão populacional for desconhecido, deve-se utilizar a distribuição t de Student.\n",
    "\n",
    "<img src='https://caelum-online-public.s3.amazonaws.com/1229-estatistica-parte3/01/img003.png' width=70%>\n",
    "\n",
    "### **Passo 3** - fixação da significância do teste ($\\alpha$), que define as regiões de aceitação e rejeição das hipóteses (os valores mais freqüentes são 10%, 5% e 1%);\n",
    "\n",
    "> ### <font color='red'>Pontos importantes</font>\n",
    "> - O **nível de confiança** ($1 - \\alpha$) representa a probabilidade de acerto da estimativa. De forma complementar o **nível de significância** ($\\alpha$) expressa a probabilidade de erro da estimativa.\n",
    ">\n",
    "> ![Níveis de Confiança e significância](https://caelum-online-public.s3.amazonaws.com/1229-estatistica-parte3/01/img001.png)\n",
    ">\n",
    "> - O **nível de confiança** representa o grau de confiabilidade do resultado da estimativa estar dentro de determinado intervalo. Quando fixamos em uma pesquisa um **nível de confiança** de 95%, por exemplo, estamos assumindo que existe uma probabilidade de 95% dos resultados da pesquisa representarem bem a realidade, ou seja, estarem corretos.\n",
    ">\n",
    "> ![Áreas de Aceitação e Rejeição](https://caelum-online-public.s3.amazonaws.com/1229-estatistica-parte3/01/img002.png)\n",
    "\n",
    "### **Passo 4** - cálculo da estatística-teste e verificação desse valor com as áreas de aceitação e rejeição do teste;\n",
    "\n",
    "> ### <font color='red'>Pontos importantes</font>\n",
    "> - Nos testes paramétricos, distância relativa entre a estatística amostral e o valor alegado como provável.\n",
    "> - Neste passo são obtidas as estatísticas amostrais necessárias à execução do teste (média, desvio-padrão, graus de liberdade etc.)\n",
    "\n",
    "\n",
    "### **Passo 5** - Aceitação ou rejeição da hipótese nula.\n",
    "\n",
    "> ### <font color='red'>Pontos importantes</font>\n",
    "> - No caso de o intervalo de aceitação conter a estatística-teste, aceita-se $H_0$ como estatisticamente válido e rejeita-se $H_1$ como tal.\n",
    "> - No caso de o intervalo de aceitação não conter a estatística-teste, rejeita-se $H_0$ e aceita-se $H_1$ como provavelmente verdadeira. \n",
    "> - A aceitação também se verifica com a probabilidade de cauda (p-valor): se maior que $\\alpha$, aceita-se $H_0$."
   ]
  },
  {
   "cell_type": "markdown",
   "metadata": {
    "colab_type": "text",
    "id": "TXdMM0dOpsjm"
   },
   "source": [
    "---"
   ]
  },
  {
   "cell_type": "markdown",
   "metadata": {
    "colab_type": "text",
    "id": "miGOADKYpsjn"
   },
   "source": [
    "# <font color=green>3 TESTES PARAMÉTRICOS</font>\n",
    "***"
   ]
  },
  {
   "cell_type": "markdown",
   "metadata": {
    "colab_type": "text",
    "id": "pIHY_4Sspsjn"
   },
   "source": [
    "Quando um teste assume determinadas premissas sobre como os parâmetros de uma população se distribuem, estamos trabalhando com **Testes Paramétricos**."
   ]
  },
  {
   "cell_type": "markdown",
   "metadata": {
    "colab_type": "text",
    "id": "rUKgxZ7_psjp"
   },
   "source": [
    "## <font color=green>3.1 Teste Bicaudal</font>\n",
    "***"
   ]
  },
  {
   "cell_type": "markdown",
   "metadata": {
    "colab_type": "text",
    "id": "i1PMIB5cpsjp"
   },
   "source": [
    "## <font color='red'>Problema</font>"
   ]
  },
  {
   "cell_type": "markdown",
   "metadata": {
    "colab_type": "text",
    "id": "vellTWzJpsjq"
   },
   "source": [
    "A empresa **Suco Bom** produz **sucos de frutas em embalagens de 500 ml**. Seu processo de produção é quase todo automatizado e as embalagens de sucos são preenchidas por uma máquina que às vezes apresenta um certo desajuste, levando a erros no preenchimento das embalagens para mais ou menos conteúdo. Quando o volume médio cai abaixo de 500 ml, a empresa se preocupa em perder vendas e ter problemas com os orgãos fiscalizadores. Quando o volume passa de 500 ml, a empresa começa a se preocupar com prejuízos no processo de produção.\n",
    "\n",
    "O setor de controle de qualidade da empresa **Suco Bom** extrai, periodicamente, **amostras de 50 embalagens** para monitorar o processo de produção. Para cada amostra, é realizado um **teste de hipóteses** para avaliar se o maquinário se desajustou. A equipe de controle de qualidade assume um **nível de significância de 5%**.\n",
    "\n",
    "Suponha agora que uma **amostra de 50 embalagens** foi selecionada e que a **média amostral observada foi de 503,24 ml**. **Esse valor de média amostral é suficientemente maior que 500 ml para nos fazer rejeitar a hipótese de que a média do processo é de 500 ml ao nível de significância de 5%?**"
   ]
  },
  {
   "cell_type": "markdown",
   "metadata": {
    "colab_type": "text",
    "id": "-J15nugOpsjq"
   },
   "source": [
    "---"
   ]
  },
  {
   "cell_type": "markdown",
   "metadata": {
    "colab_type": "text",
    "id": "076qvKgapsjr"
   },
   "source": [
    "O **teste bicaudal** é muito utilizado em **testes de qualidade**, como o apresentado em nosso problema acima. Outro exemplo é a avaliação de peças que devem ter um encaixe perfeito (porcas e parafusos, chaves e fechaduras etc.)."
   ]
  },
  {
   "cell_type": "markdown",
   "metadata": {
    "colab_type": "text",
    "id": "MyGUYz88psjr"
   },
   "source": [
    "![Teste Bicaudal](https://caelum-online-public.s3.amazonaws.com/1229-estatistica-parte3/01/img005.png)"
   ]
  },
  {
   "cell_type": "markdown",
   "metadata": {
    "colab_type": "text",
    "id": "EOiKt64mpsjs"
   },
   "source": [
    "---"
   ]
  },
  {
   "cell_type": "markdown",
   "metadata": {
    "colab_type": "text",
    "id": "011wNGXtpsjs"
   },
   "source": [
    "### Dados do problema"
   ]
  },
  {
   "cell_type": "code",
   "execution_count": 18,
   "metadata": {
    "colab": {},
    "colab_type": "code",
    "id": "lHLlGH7upsjt"
   },
   "outputs": [],
   "source": [
    "amostra <- c(509, 505, 495, 510, 496, 509, 497, 502, 503, 505, \n",
    "           501, 505, 510, 505, 504, 497, 506, 506, 508, 505, \n",
    "           497, 504, 500, 498, 506, 496, 508, 497, 503, 501, \n",
    "           503, 506, 499, 498, 509, 507, 503, 499, 509, 495, \n",
    "           502, 505, 504, 509, 508, 501, 505, 497, 508, 507)"
   ]
  },
  {
   "cell_type": "code",
   "execution_count": 19,
   "metadata": {
    "colab": {
     "base_uri": "https://localhost:8080/",
     "height": 204
    },
    "colab_type": "code",
    "id": "AJNH5RQtpsju",
    "outputId": "2e4e74bb-9e93-41ce-b12c-af947c39fda8"
   },
   "outputs": [
    {
     "data": {
      "text/html": [
       "<table>\n",
       "<caption>A data.frame: 6 x 1</caption>\n",
       "<thead>\n",
       "\t<tr><th scope=col>Amostra</th></tr>\n",
       "\t<tr><th scope=col>&lt;dbl&gt;</th></tr>\n",
       "</thead>\n",
       "<tbody>\n",
       "\t<tr><td>509</td></tr>\n",
       "\t<tr><td>505</td></tr>\n",
       "\t<tr><td>495</td></tr>\n",
       "\t<tr><td>510</td></tr>\n",
       "\t<tr><td>496</td></tr>\n",
       "\t<tr><td>509</td></tr>\n",
       "</tbody>\n",
       "</table>\n"
      ],
      "text/latex": [
       "A data.frame: 6 x 1\n",
       "\\begin{tabular}{r|l}\n",
       " Amostra\\\\\n",
       " <dbl>\\\\\n",
       "\\hline\n",
       "\t 509\\\\\n",
       "\t 505\\\\\n",
       "\t 495\\\\\n",
       "\t 510\\\\\n",
       "\t 496\\\\\n",
       "\t 509\\\\\n",
       "\\end{tabular}\n"
      ],
      "text/markdown": [
       "\n",
       "A data.frame: 6 x 1\n",
       "\n",
       "| Amostra &lt;dbl&gt; |\n",
       "|---|\n",
       "| 509 |\n",
       "| 505 |\n",
       "| 495 |\n",
       "| 510 |\n",
       "| 496 |\n",
       "| 509 |\n",
       "\n"
      ],
      "text/plain": [
       "  Amostra\n",
       "1 509    \n",
       "2 505    \n",
       "3 495    \n",
       "4 510    \n",
       "5 496    \n",
       "6 509    "
      ]
     },
     "metadata": {},
     "output_type": "display_data"
    }
   ],
   "source": [
    "amostra <- data.frame(Amostra = amostra)\n",
    "head(amostra)"
   ]
  },
  {
   "cell_type": "code",
   "execution_count": 20,
   "metadata": {
    "colab": {
     "base_uri": "https://localhost:8080/",
     "height": 35
    },
    "colab_type": "code",
    "id": "tnjD0A_ppsjw",
    "outputId": "96415938-0ad1-463b-ee79-719ef48dca1a"
   },
   "outputs": [
    {
     "data": {
      "text/html": [
       "503.24"
      ],
      "text/latex": [
       "503.24"
      ],
      "text/markdown": [
       "503.24"
      ],
      "text/plain": [
       "[1] 503.24"
      ]
     },
     "metadata": {},
     "output_type": "display_data"
    }
   ],
   "source": [
    "media_amostra <- mean(amostra$Amostra)\n",
    "media_amostra"
   ]
  },
  {
   "cell_type": "code",
   "execution_count": 21,
   "metadata": {
    "colab": {
     "base_uri": "https://localhost:8080/",
     "height": 35
    },
    "colab_type": "code",
    "id": "JXz2IFCUpsjy",
    "outputId": "fb457ed0-cc94-498c-b13d-310418913f61"
   },
   "outputs": [
    {
     "data": {
      "text/html": [
       "4.48380305052735"
      ],
      "text/latex": [
       "4.48380305052735"
      ],
      "text/markdown": [
       "4.48380305052735"
      ],
      "text/plain": [
       "[1] 4.483803"
      ]
     },
     "metadata": {},
     "output_type": "display_data"
    }
   ],
   "source": [
    "desvio_padrao_amostra <- sd(amostra$Amostra)\n",
    "desvio_padrao_amostra"
   ]
  },
  {
   "cell_type": "code",
   "execution_count": 22,
   "metadata": {
    "colab": {},
    "colab_type": "code",
    "id": "PE99TXSfpsj0"
   },
   "outputs": [],
   "source": [
    "media <- 500\n",
    "significancia <- 0.05\n",
    "confianca <- 1 - significancia\n",
    "n <- 50"
   ]
  },
  {
   "cell_type": "markdown",
   "metadata": {
    "colab_type": "text",
    "id": "nqmFpl7wpsj2"
   },
   "source": [
    "### **Passo 1** - formulação das hipóteses $H_0$ e $H_1$\n",
    "\n",
    "#### <font color='red'>Lembre-se, a hipótese nula sempre contém a alegação de igualdade</font>"
   ]
  },
  {
   "cell_type": "markdown",
   "metadata": {
    "colab_type": "text",
    "id": "QVcqkHZhpsj3"
   },
   "source": [
    "### $H_0: \\mu = 500$\n",
    "\n",
    "### $H_1: \\mu \\neq 500$"
   ]
  },
  {
   "cell_type": "markdown",
   "metadata": {
    "colab_type": "text",
    "id": "MShPuVL6psj3"
   },
   "source": [
    "---"
   ]
  },
  {
   "cell_type": "markdown",
   "metadata": {
    "colab_type": "text",
    "id": "_rAz73fzpsj4"
   },
   "source": [
    "### **Passo 2** - escolha da distribuição amostral adequada\n",
    "<img src='https://caelum-online-public.s3.amazonaws.com/1229-estatistica-parte3/01/img003.png' width=70%>"
   ]
  },
  {
   "cell_type": "markdown",
   "metadata": {
    "colab_type": "text",
    "id": "XC1JOtU9psj4"
   },
   "source": [
    "### O tamanho da amostra é maior que 30?\n",
    "#### Resp.: Sim\n",
    "\n",
    "### O desvio padrão populacional é conhecido?\n",
    "#### Resp.: Não"
   ]
  },
  {
   "cell_type": "markdown",
   "metadata": {
    "colab_type": "text",
    "id": "Uq-Zq_Sxpsj5"
   },
   "source": [
    "---"
   ]
  },
  {
   "cell_type": "markdown",
   "metadata": {
    "colab_type": "text",
    "id": "V3OT4caspsj5"
   },
   "source": [
    "### **Passo 3** - fixação da significância do teste ($\\alpha$)"
   ]
  },
  {
   "cell_type": "markdown",
   "metadata": {
    "colab_type": "text",
    "id": "wI1Nhj_vpsj6"
   },
   "source": [
    "#### <font color=red>Documentações:\n",
    "\n",
    "- [**Normal**](https://www.rdocumentation.org/packages/stats/versions/3.6.1/topics/Normal)"
   ]
  },
  {
   "cell_type": "code",
   "execution_count": 23,
   "metadata": {
    "colab": {
     "base_uri": "https://localhost:8080/",
     "height": 35
    },
    "colab_type": "code",
    "id": "2JyYCHeQpsj8",
    "outputId": "593263ce-a450-43d3-bcf1-1d663ef2774f"
   },
   "outputs": [
    {
     "data": {
      "text/html": [
       "0.975"
      ],
      "text/latex": [
       "0.975"
      ],
      "text/markdown": [
       "0.975"
      ],
      "text/plain": [
       "[1] 0.975"
      ]
     },
     "metadata": {},
     "output_type": "display_data"
    }
   ],
   "source": [
    "probabilidade <- (0.5 + (confianca / 2))\n",
    "probabilidade"
   ]
  },
  {
   "cell_type": "markdown",
   "metadata": {
    "colab_type": "text",
    "id": "Fu4Wbd-ipsj-"
   },
   "source": [
    "### Obtendo $z_{\\alpha/2}$"
   ]
  },
  {
   "cell_type": "code",
   "execution_count": 24,
   "metadata": {
    "colab": {
     "base_uri": "https://localhost:8080/",
     "height": 35
    },
    "colab_type": "code",
    "id": "imc3GyDLpsj_",
    "outputId": "b9dca9d5-da76-42b1-919c-1aaf593fed70"
   },
   "outputs": [
    {
     "data": {
      "text/html": [
       "1.95996398454005"
      ],
      "text/latex": [
       "1.95996398454005"
      ],
      "text/markdown": [
       "1.95996398454005"
      ],
      "text/plain": [
       "[1] 1.959964"
      ]
     },
     "metadata": {},
     "output_type": "display_data"
    }
   ],
   "source": [
    "z_alpha_2 <- qnorm(probabilidade)\n",
    "z_alpha_2"
   ]
  },
  {
   "cell_type": "markdown",
   "metadata": {
    "colab_type": "text",
    "id": "d98Z21yOpskB"
   },
   "source": [
    "![Região de Aceitação](https://caelum-online-public.s3.amazonaws.com/1229-estatistica-parte3/01/img006.png)"
   ]
  },
  {
   "cell_type": "markdown",
   "metadata": {
    "colab_type": "text",
    "id": "eyfX7pYMpskC"
   },
   "source": [
    "---"
   ]
  },
  {
   "cell_type": "markdown",
   "metadata": {
    "colab_type": "text",
    "id": "aaLCZs0ApskC"
   },
   "source": [
    "### **Passo 4** - cálculo da estatística-teste e verificação desse valor com as áreas de aceitação e rejeição do teste\n",
    "\n",
    "# $$z = \\frac{\\bar{x} - \\mu_0}{\\frac{s}{\\sqrt{n}}}$$"
   ]
  },
  {
   "cell_type": "code",
   "execution_count": 25,
   "metadata": {
    "colab": {
     "base_uri": "https://localhost:8080/",
     "height": 35
    },
    "colab_type": "code",
    "id": "a6zMj0YzpskC",
    "outputId": "83a2bb40-f67f-4ddc-dbd9-a88032f7dc86"
   },
   "outputs": [
    {
     "data": {
      "text/html": [
       "5.10955977599187"
      ],
      "text/latex": [
       "5.10955977599187"
      ],
      "text/markdown": [
       "5.10955977599187"
      ],
      "text/plain": [
       "[1] 5.10956"
      ]
     },
     "metadata": {},
     "output_type": "display_data"
    }
   ],
   "source": [
    "z <- (media_amostra - media) / (desvio_padrao_amostra / sqrt(n))\n",
    "z"
   ]
  },
  {
   "cell_type": "markdown",
   "metadata": {
    "colab_type": "text",
    "id": "UMHqgrlupskE"
   },
   "source": [
    "![Estatística-Teste](https://caelum-online-public.s3.amazonaws.com/1229-estatistica-parte3/01/img007.png)"
   ]
  },
  {
   "cell_type": "markdown",
   "metadata": {
    "colab_type": "text",
    "id": "tFfJX8G9pskF"
   },
   "source": [
    "---"
   ]
  },
  {
   "cell_type": "markdown",
   "metadata": {
    "colab_type": "text",
    "id": "aqTnTTePpskF"
   },
   "source": [
    "### **Passo 5** - Aceitação ou rejeição da hipótese nula"
   ]
  },
  {
   "cell_type": "markdown",
   "metadata": {
    "colab_type": "text",
    "id": "pD1cc4DHpskG"
   },
   "source": [
    "<img src='https://caelum-online-public.s3.amazonaws.com/1229-estatistica-parte3/01/img013.png' width=90%>"
   ]
  },
  {
   "cell_type": "markdown",
   "metadata": {
    "colab_type": "text",
    "id": "qbnH6V15pskG"
   },
   "source": [
    "### <font color='red'>Critério do valor crítico</font>\n",
    "\n",
    "> ### Teste Bicaudal\n",
    "> ### Rejeitar $H_0$ se $z \\leq -z_{\\alpha / 2}$ ou se $z \\geq z_{\\alpha / 2}$"
   ]
  },
  {
   "cell_type": "code",
   "execution_count": 26,
   "metadata": {
    "colab": {
     "base_uri": "https://localhost:8080/",
     "height": 35
    },
    "colab_type": "code",
    "id": "-MkJyqSupskG",
    "outputId": "6495abcc-0c3f-4759-8a31-96d668ad2eff"
   },
   "outputs": [
    {
     "data": {
      "text/html": [
       "FALSE"
      ],
      "text/latex": [
       "FALSE"
      ],
      "text/markdown": [
       "FALSE"
      ],
      "text/plain": [
       "[1] FALSE"
      ]
     },
     "metadata": {},
     "output_type": "display_data"
    }
   ],
   "source": [
    "z <= -z_alpha_2"
   ]
  },
  {
   "cell_type": "code",
   "execution_count": 27,
   "metadata": {
    "colab": {
     "base_uri": "https://localhost:8080/",
     "height": 35
    },
    "colab_type": "code",
    "id": "FVTIIXA3pskI",
    "outputId": "8ec15147-9c1d-4fa0-fe26-8de8166f3ed6"
   },
   "outputs": [
    {
     "data": {
      "text/html": [
       "TRUE"
      ],
      "text/latex": [
       "TRUE"
      ],
      "text/markdown": [
       "TRUE"
      ],
      "text/plain": [
       "[1] TRUE"
      ]
     },
     "metadata": {},
     "output_type": "display_data"
    }
   ],
   "source": [
    "z >= z_alpha_2"
   ]
  },
  {
   "cell_type": "code",
   "execution_count": 28,
   "metadata": {},
   "outputs": [
    {
     "data": {
      "text/html": [
       "'Rejeitar H0'"
      ],
      "text/latex": [
       "'Rejeitar H0'"
      ],
      "text/markdown": [
       "'Rejeitar H0'"
      ],
      "text/plain": [
       "[1] \"Rejeitar H0\""
      ]
     },
     "metadata": {},
     "output_type": "display_data"
    }
   ],
   "source": [
    "if(z <= -z_alpha_2 || z >= z_alpha_2){\n",
    "    'Rejeitar H0'\n",
    "}else{\n",
    "    'Aceitar H0'\n",
    "}"
   ]
  },
  {
   "cell_type": "markdown",
   "metadata": {
    "colab_type": "text",
    "id": "YX-xSnZFpskM"
   },
   "source": [
    "### <font color='green'>Conclusão: Como a média amostral $\\bar{x}$ é significativamente maior que 500 ml, rejeitamos $H_0$. Neste caso, devem ser tomadas providências para ajustar o maquinário que preenche as embalagens.</font>"
   ]
  },
  {
   "cell_type": "markdown",
   "metadata": {
    "colab_type": "text",
    "id": "Aqv_KZoYpskN"
   },
   "source": [
    "### <font color='red'>Critério do $p-valor$</font>\n",
    "\n",
    "> ### Teste Bicaudal\n",
    "> ### Rejeitar $H_0$ se o valor $p\\leq\\alpha$"
   ]
  },
  {
   "cell_type": "code",
   "execution_count": 29,
   "metadata": {},
   "outputs": [
    {
     "data": {
      "text/html": [
       "3.22910317152036e-07"
      ],
      "text/latex": [
       "3.22910317152036e-07"
      ],
      "text/markdown": [
       "3.22910317152036e-07"
      ],
      "text/plain": [
       "[1] 3.229103e-07"
      ]
     },
     "metadata": {},
     "output_type": "display_data"
    }
   ],
   "source": [
    "p_valor <- 2 * (1 - pnorm(z))\n",
    "p_valor"
   ]
  },
  {
   "cell_type": "code",
   "execution_count": 30,
   "metadata": {
    "colab": {
     "base_uri": "https://localhost:8080/",
     "height": 35
    },
    "colab_type": "code",
    "id": "vUHgYIHqpskR",
    "outputId": "b53d6bed-fcb0-41ae-ecf4-38e2dd1dcaec",
    "scrolled": true
   },
   "outputs": [
    {
     "data": {
      "text/html": [
       "TRUE"
      ],
      "text/latex": [
       "TRUE"
      ],
      "text/markdown": [
       "TRUE"
      ],
      "text/plain": [
       "[1] TRUE"
      ]
     },
     "metadata": {},
     "output_type": "display_data"
    }
   ],
   "source": [
    "p_valor <= significancia"
   ]
  },
  {
   "cell_type": "markdown",
   "metadata": {
    "colab_type": "text",
    "id": "YRw1O5X8pskT"
   },
   "source": [
    "#### <font color=red>Documentações:\n",
    "\n",
    "- [**Normal**](https://www.rdocumentation.org/packages/stats/versions/3.6.1/topics/Normal)\n",
    "- [**ZTest**](https://www.rdocumentation.org/packages/DescTools/versions/0.99.19/topics/ZTest)"
   ]
  },
  {
   "cell_type": "code",
   "execution_count": 33,
   "metadata": {},
   "outputs": [
    {
     "name": "stderr",
     "output_type": "stream",
     "text": [
      "Installing package into ‘/home/nbuser/R’\n",
      "(as ‘lib’ is unspecified)\n"
     ]
    }
   ],
   "source": [
    "# install.packages('DescTools')\n",
    "\n",
    "# OU\n",
    "\n",
    "packageurl <- \"https://cran.r-project.org/src/contrib/Archive/DescTools/DescTools_0.99.30.tar.gz\"\n",
    "install.packages(packageurl, repos=NULL, type=\"source\")"
   ]
  },
  {
   "cell_type": "code",
   "execution_count": 34,
   "metadata": {},
   "outputs": [],
   "source": [
    "library(DescTools)"
   ]
  },
  {
   "cell_type": "code",
   "execution_count": 35,
   "metadata": {},
   "outputs": [
    {
     "data": {
      "text/plain": [
       "\n",
       "\tOne Sample z-test\n",
       "\n",
       "data:  amostra$Amostra\n",
       "z = 5.1096, Std. Dev. Population = 4.4838, p-value = 3.229e-07\n",
       "alternative hypothesis: true mean is not equal to 500\n",
       "95 percent confidence interval:\n",
       " 501.9972 504.4828\n",
       "sample estimates:\n",
       "mean of x \n",
       "   503.24 \n"
      ]
     },
     "metadata": {},
     "output_type": "display_data"
    }
   ],
   "source": [
    "ZTest(amostra$Amostra, mu = media, sd_pop = desvio_padrao_amostra)"
   ]
  },
  {
   "cell_type": "code",
   "execution_count": 36,
   "metadata": {},
   "outputs": [],
   "source": [
    "resultado <- ZTest(amostra$Amostra, mu = media, sd_pop = desvio_padrao_amostra)"
   ]
  },
  {
   "cell_type": "code",
   "execution_count": 37,
   "metadata": {},
   "outputs": [
    {
     "data": {
      "text/html": [
       "<strong>z:</strong> 5.10955977599187"
      ],
      "text/latex": [
       "\\textbf{z:} 5.10955977599187"
      ],
      "text/markdown": [
       "**z:** 5.10955977599187"
      ],
      "text/plain": [
       "      z \n",
       "5.10956 "
      ]
     },
     "metadata": {},
     "output_type": "display_data"
    }
   ],
   "source": [
    "resultado$statistic"
   ]
  },
  {
   "cell_type": "code",
   "execution_count": 38,
   "metadata": {},
   "outputs": [
    {
     "data": {
      "text/html": [
       "5.10955977599187"
      ],
      "text/latex": [
       "5.10955977599187"
      ],
      "text/markdown": [
       "5.10955977599187"
      ],
      "text/plain": [
       "[1] 5.10956"
      ]
     },
     "metadata": {},
     "output_type": "display_data"
    }
   ],
   "source": [
    "z"
   ]
  },
  {
   "cell_type": "code",
   "execution_count": 39,
   "metadata": {},
   "outputs": [
    {
     "data": {
      "text/html": [
       "3.22910317244578e-07"
      ],
      "text/latex": [
       "3.22910317244578e-07"
      ],
      "text/markdown": [
       "3.22910317244578e-07"
      ],
      "text/plain": [
       "[1] 3.229103e-07"
      ]
     },
     "metadata": {},
     "output_type": "display_data"
    }
   ],
   "source": [
    "p_valor <- resultado$p.value\n",
    "p_valor"
   ]
  },
  {
   "cell_type": "code",
   "execution_count": 40,
   "metadata": {},
   "outputs": [
    {
     "data": {
      "text/html": [
       "TRUE"
      ],
      "text/latex": [
       "TRUE"
      ],
      "text/markdown": [
       "TRUE"
      ],
      "text/plain": [
       "[1] TRUE"
      ]
     },
     "metadata": {},
     "output_type": "display_data"
    }
   ],
   "source": [
    "p_valor <= significancia"
   ]
  },
  {
   "cell_type": "markdown",
   "metadata": {
    "colab_type": "text",
    "id": "YQQdl-Nepskv"
   },
   "source": [
    "---"
   ]
  },
  {
   "cell_type": "markdown",
   "metadata": {
    "colab_type": "text",
    "id": "U8OWXeVtpskv"
   },
   "source": [
    "## <font color=green>3.2 Teste Unicaudal</font>\n",
    "***"
   ]
  },
  {
   "cell_type": "markdown",
   "metadata": {
    "colab_type": "text",
    "id": "CPHPL4nWpskw"
   },
   "source": [
    "## <font color='red'>Problema</font>"
   ]
  },
  {
   "cell_type": "markdown",
   "metadata": {
    "colab_type": "text",
    "id": "vDyxOXLvpskw"
   },
   "source": [
    "Um famoso fabricante de refrigerantes alega que uma lata de 350 ml de seu principal produto contém, **no máximo**, **37 gramas de açúcar**. Esta alegação nos leva a entender que a quantidade média de açúcar em uma lata de refrigerante deve ser **igual ou menor que 37 g**.\n",
    "\n",
    "Um consumidor desconfiado e com conhecimentos em inferência estatística resolve testar a alegação do fabricante e seleciona, aleatóriamente, em um conjunto de estabelecimentos distintos, **uma amostra de 25 latas** do refrigerante em questão. Utilizando o equipamento correto o consumidor obteve as quantidades de açúcar em todas as 25 latas de sua amostra. \n",
    "\n",
    "**Assumindo que essa população se distribua aproximadamente como uma normal e considerando um nível de significância de 5%, é possível aceitar como válida a alegação do fabricante?**"
   ]
  },
  {
   "cell_type": "markdown",
   "metadata": {
    "colab_type": "text",
    "id": "5P5nWN0epsky"
   },
   "source": [
    "### Construindo tabela $t$ de Student\n",
    "\n",
    "#### <font color=red>Documentações:\n",
    "\n",
    "- [**TDist**](https://www.rdocumentation.org/packages/stats/versions/3.6.1/topics/TDist)"
   ]
  },
  {
   "cell_type": "code",
   "execution_count": 41,
   "metadata": {
    "colab": {
     "base_uri": "https://localhost:8080/",
     "height": 1010
    },
    "colab_type": "code",
    "id": "lKuhGKPEpsky",
    "outputId": "7ed95512-f283-465d-9a75-da2d3f0384b9"
   },
   "outputs": [
    {
     "data": {
      "text/html": [
       "<table>\n",
       "<caption>A matrix: 30 x 10 of type dbl</caption>\n",
       "<thead>\n",
       "\t<tr><th></th><th scope=col>0.050</th><th scope=col>0.045</th><th scope=col>0.040</th><th scope=col>0.035</th><th scope=col>0.030</th><th scope=col>0.025</th><th scope=col>0.020</th><th scope=col>0.015</th><th scope=col>0.010</th><th scope=col>0.005</th></tr>\n",
       "</thead>\n",
       "<tbody>\n",
       "\t<tr><th scope=row> 1</th><td>6.313752</td><td>7.026366</td><td>7.915815</td><td>9.057887</td><td>10.578895</td><td>12.706205</td><td>15.894545</td><td>21.204949</td><td>31.820516</td><td>63.656741</td></tr>\n",
       "\t<tr><th scope=row> 2</th><td>2.919986</td><td>3.103977</td><td>3.319764</td><td>3.578247</td><td> 3.896425</td><td> 4.302653</td><td> 4.848732</td><td> 5.642778</td><td> 6.964557</td><td> 9.924843</td></tr>\n",
       "\t<tr><th scope=row> 3</th><td>2.353363</td><td>2.470807</td><td>2.605427</td><td>2.762599</td><td> 2.950510</td><td> 3.182446</td><td> 3.481909</td><td> 3.896046</td><td> 4.540703</td><td> 5.840909</td></tr>\n",
       "\t<tr><th scope=row> 4</th><td>2.131847</td><td>2.226100</td><td>2.332873</td><td>2.455892</td><td> 2.600762</td><td> 2.776445</td><td> 2.998528</td><td> 3.297630</td><td> 3.746947</td><td> 4.604095</td></tr>\n",
       "\t<tr><th scope=row> 5</th><td>2.015048</td><td>2.097837</td><td>2.190958</td><td>2.297392</td><td> 2.421585</td><td> 2.570582</td><td> 2.756509</td><td> 3.002875</td><td> 3.364930</td><td> 4.032143</td></tr>\n",
       "\t<tr><th scope=row> 6</th><td>1.943180</td><td>2.019201</td><td>2.104306</td><td>2.201059</td><td> 2.313263</td><td> 2.446912</td><td> 2.612242</td><td> 2.828928</td><td> 3.142668</td><td> 3.707428</td></tr>\n",
       "\t<tr><th scope=row> 7</th><td>1.894579</td><td>1.966153</td><td>2.046011</td><td>2.136453</td><td> 2.240879</td><td> 2.364624</td><td> 2.516752</td><td> 2.714573</td><td> 2.997952</td><td> 3.499483</td></tr>\n",
       "\t<tr><th scope=row> 8</th><td>1.859548</td><td>1.927986</td><td>2.004152</td><td>2.090166</td><td> 2.189155</td><td> 2.306004</td><td> 2.448985</td><td> 2.633814</td><td> 2.896459</td><td> 3.355387</td></tr>\n",
       "\t<tr><th scope=row> 9</th><td>1.833113</td><td>1.899222</td><td>1.972653</td><td>2.055395</td><td> 2.150375</td><td> 2.262157</td><td> 2.398441</td><td> 2.573804</td><td> 2.821438</td><td> 3.249836</td></tr>\n",
       "\t<tr><th scope=row>10</th><td>1.812461</td><td>1.876774</td><td>1.948099</td><td>2.028327</td><td> 2.120234</td><td> 2.228139</td><td> 2.359315</td><td> 2.527484</td><td> 2.763769</td><td> 3.169273</td></tr>\n",
       "\t<tr><th scope=row>11</th><td>1.795885</td><td>1.858772</td><td>1.928427</td><td>2.006663</td><td> 2.096139</td><td> 2.200985</td><td> 2.328140</td><td> 2.490664</td><td> 2.718079</td><td> 3.105807</td></tr>\n",
       "\t<tr><th scope=row>12</th><td>1.782288</td><td>1.844015</td><td>1.912313</td><td>1.988934</td><td> 2.076441</td><td> 2.178813</td><td> 2.302722</td><td> 2.460700</td><td> 2.680998</td><td> 3.054540</td></tr>\n",
       "\t<tr><th scope=row>13</th><td>1.770933</td><td>1.831700</td><td>1.898874</td><td>1.974158</td><td> 2.060038</td><td> 2.160369</td><td> 2.281604</td><td> 2.435845</td><td> 2.650309</td><td> 3.012276</td></tr>\n",
       "\t<tr><th scope=row>14</th><td>1.761310</td><td>1.821267</td><td>1.887496</td><td>1.961656</td><td> 2.046169</td><td> 2.144787</td><td> 2.263781</td><td> 2.414898</td><td> 2.624494</td><td> 2.976843</td></tr>\n",
       "\t<tr><th scope=row>15</th><td>1.753050</td><td>1.812316</td><td>1.877739</td><td>1.950940</td><td> 2.034289</td><td> 2.131450</td><td> 2.248540</td><td> 2.397005</td><td> 2.602480</td><td> 2.946713</td></tr>\n",
       "\t<tr><th scope=row>16</th><td>1.745884</td><td>1.804553</td><td>1.869279</td><td>1.941654</td><td> 2.024000</td><td> 2.119905</td><td> 2.235358</td><td> 2.381545</td><td> 2.583487</td><td> 2.920782</td></tr>\n",
       "\t<tr><th scope=row>17</th><td>1.739607</td><td>1.797755</td><td>1.861875</td><td>1.933530</td><td> 2.015002</td><td> 2.109816</td><td> 2.223845</td><td> 2.368055</td><td> 2.566934</td><td> 2.898231</td></tr>\n",
       "\t<tr><th scope=row>18</th><td>1.734064</td><td>1.791754</td><td>1.855340</td><td>1.926362</td><td> 2.007067</td><td> 2.100922</td><td> 2.213703</td><td> 2.356180</td><td> 2.552380</td><td> 2.878440</td></tr>\n",
       "\t<tr><th scope=row>19</th><td>1.729133</td><td>1.786417</td><td>1.849530</td><td>1.919992</td><td> 2.000017</td><td> 2.093024</td><td> 2.204701</td><td> 2.345648</td><td> 2.539483</td><td> 2.860935</td></tr>\n",
       "\t<tr><th scope=row>20</th><td>1.724718</td><td>1.781640</td><td>1.844331</td><td>1.914292</td><td> 1.993713</td><td> 2.085963</td><td> 2.196658</td><td> 2.336242</td><td> 2.527977</td><td> 2.845340</td></tr>\n",
       "\t<tr><th scope=row>21</th><td>1.720743</td><td>1.777339</td><td>1.839651</td><td>1.909164</td><td> 1.988041</td><td> 2.079614</td><td> 2.189427</td><td> 2.327792</td><td> 2.517648</td><td> 2.831360</td></tr>\n",
       "\t<tr><th scope=row>22</th><td>1.717144</td><td>1.773447</td><td>1.835417</td><td>1.904524</td><td> 1.982911</td><td> 2.073873</td><td> 2.182893</td><td> 2.320160</td><td> 2.508325</td><td> 2.818756</td></tr>\n",
       "\t<tr><th scope=row>23</th><td>1.713872</td><td>1.769907</td><td>1.831567</td><td>1.900307</td><td> 1.978249</td><td> 2.068658</td><td> 2.176958</td><td> 2.313231</td><td> 2.499867</td><td> 2.807336</td></tr>\n",
       "\t<tr><th scope=row>24</th><td>1.710882</td><td>1.766675</td><td>1.828051</td><td>1.896457</td><td> 1.973994</td><td> 2.063899</td><td> 2.171545</td><td> 2.306913</td><td> 2.492159</td><td> 2.796940</td></tr>\n",
       "\t<tr><th scope=row>25</th><td>1.708141</td><td>1.763711</td><td>1.824828</td><td>1.892928</td><td> 1.970095</td><td> 2.059539</td><td> 2.166587</td><td> 2.301130</td><td> 2.485107</td><td> 2.787436</td></tr>\n",
       "\t<tr><th scope=row>26</th><td>1.705618</td><td>1.760983</td><td>1.821863</td><td>1.889682</td><td> 1.966509</td><td> 2.055529</td><td> 2.162029</td><td> 2.295815</td><td> 2.478630</td><td> 2.778715</td></tr>\n",
       "\t<tr><th scope=row>27</th><td>1.703288</td><td>1.758466</td><td>1.819126</td><td>1.886686</td><td> 1.963200</td><td> 2.051831</td><td> 2.157825</td><td> 2.290914</td><td> 2.472660</td><td> 2.770683</td></tr>\n",
       "\t<tr><th scope=row>28</th><td>1.701131</td><td>1.756134</td><td>1.816592</td><td>1.883912</td><td> 1.960136</td><td> 2.048407</td><td> 2.153935</td><td> 2.286380</td><td> 2.467140</td><td> 2.763262</td></tr>\n",
       "\t<tr><th scope=row>29</th><td>1.699127</td><td>1.753968</td><td>1.814238</td><td>1.881336</td><td> 1.957293</td><td> 2.045230</td><td> 2.150325</td><td> 2.282175</td><td> 2.462021</td><td> 2.756386</td></tr>\n",
       "\t<tr><th scope=row>30</th><td>1.697261</td><td>1.751952</td><td>1.812047</td><td>1.878938</td><td> 1.954645</td><td> 2.042272</td><td> 2.146966</td><td> 2.278262</td><td> 2.457262</td><td> 2.749996</td></tr>\n",
       "</tbody>\n",
       "</table>\n"
      ],
      "text/latex": [
       "A matrix: 30 x 10 of type dbl\n",
       "\\begin{tabular}{r|llllllllll}\n",
       "  & 0.050 & 0.045 & 0.040 & 0.035 & 0.030 & 0.025 & 0.020 & 0.015 & 0.010 & 0.005\\\\\n",
       "\\hline\n",
       "\t 1 & 6.313752 & 7.026366 & 7.915815 & 9.057887 & 10.578895 & 12.706205 & 15.894545 & 21.204949 & 31.820516 & 63.656741\\\\\n",
       "\t 2 & 2.919986 & 3.103977 & 3.319764 & 3.578247 &  3.896425 &  4.302653 &  4.848732 &  5.642778 &  6.964557 &  9.924843\\\\\n",
       "\t 3 & 2.353363 & 2.470807 & 2.605427 & 2.762599 &  2.950510 &  3.182446 &  3.481909 &  3.896046 &  4.540703 &  5.840909\\\\\n",
       "\t 4 & 2.131847 & 2.226100 & 2.332873 & 2.455892 &  2.600762 &  2.776445 &  2.998528 &  3.297630 &  3.746947 &  4.604095\\\\\n",
       "\t 5 & 2.015048 & 2.097837 & 2.190958 & 2.297392 &  2.421585 &  2.570582 &  2.756509 &  3.002875 &  3.364930 &  4.032143\\\\\n",
       "\t 6 & 1.943180 & 2.019201 & 2.104306 & 2.201059 &  2.313263 &  2.446912 &  2.612242 &  2.828928 &  3.142668 &  3.707428\\\\\n",
       "\t 7 & 1.894579 & 1.966153 & 2.046011 & 2.136453 &  2.240879 &  2.364624 &  2.516752 &  2.714573 &  2.997952 &  3.499483\\\\\n",
       "\t 8 & 1.859548 & 1.927986 & 2.004152 & 2.090166 &  2.189155 &  2.306004 &  2.448985 &  2.633814 &  2.896459 &  3.355387\\\\\n",
       "\t 9 & 1.833113 & 1.899222 & 1.972653 & 2.055395 &  2.150375 &  2.262157 &  2.398441 &  2.573804 &  2.821438 &  3.249836\\\\\n",
       "\t10 & 1.812461 & 1.876774 & 1.948099 & 2.028327 &  2.120234 &  2.228139 &  2.359315 &  2.527484 &  2.763769 &  3.169273\\\\\n",
       "\t11 & 1.795885 & 1.858772 & 1.928427 & 2.006663 &  2.096139 &  2.200985 &  2.328140 &  2.490664 &  2.718079 &  3.105807\\\\\n",
       "\t12 & 1.782288 & 1.844015 & 1.912313 & 1.988934 &  2.076441 &  2.178813 &  2.302722 &  2.460700 &  2.680998 &  3.054540\\\\\n",
       "\t13 & 1.770933 & 1.831700 & 1.898874 & 1.974158 &  2.060038 &  2.160369 &  2.281604 &  2.435845 &  2.650309 &  3.012276\\\\\n",
       "\t14 & 1.761310 & 1.821267 & 1.887496 & 1.961656 &  2.046169 &  2.144787 &  2.263781 &  2.414898 &  2.624494 &  2.976843\\\\\n",
       "\t15 & 1.753050 & 1.812316 & 1.877739 & 1.950940 &  2.034289 &  2.131450 &  2.248540 &  2.397005 &  2.602480 &  2.946713\\\\\n",
       "\t16 & 1.745884 & 1.804553 & 1.869279 & 1.941654 &  2.024000 &  2.119905 &  2.235358 &  2.381545 &  2.583487 &  2.920782\\\\\n",
       "\t17 & 1.739607 & 1.797755 & 1.861875 & 1.933530 &  2.015002 &  2.109816 &  2.223845 &  2.368055 &  2.566934 &  2.898231\\\\\n",
       "\t18 & 1.734064 & 1.791754 & 1.855340 & 1.926362 &  2.007067 &  2.100922 &  2.213703 &  2.356180 &  2.552380 &  2.878440\\\\\n",
       "\t19 & 1.729133 & 1.786417 & 1.849530 & 1.919992 &  2.000017 &  2.093024 &  2.204701 &  2.345648 &  2.539483 &  2.860935\\\\\n",
       "\t20 & 1.724718 & 1.781640 & 1.844331 & 1.914292 &  1.993713 &  2.085963 &  2.196658 &  2.336242 &  2.527977 &  2.845340\\\\\n",
       "\t21 & 1.720743 & 1.777339 & 1.839651 & 1.909164 &  1.988041 &  2.079614 &  2.189427 &  2.327792 &  2.517648 &  2.831360\\\\\n",
       "\t22 & 1.717144 & 1.773447 & 1.835417 & 1.904524 &  1.982911 &  2.073873 &  2.182893 &  2.320160 &  2.508325 &  2.818756\\\\\n",
       "\t23 & 1.713872 & 1.769907 & 1.831567 & 1.900307 &  1.978249 &  2.068658 &  2.176958 &  2.313231 &  2.499867 &  2.807336\\\\\n",
       "\t24 & 1.710882 & 1.766675 & 1.828051 & 1.896457 &  1.973994 &  2.063899 &  2.171545 &  2.306913 &  2.492159 &  2.796940\\\\\n",
       "\t25 & 1.708141 & 1.763711 & 1.824828 & 1.892928 &  1.970095 &  2.059539 &  2.166587 &  2.301130 &  2.485107 &  2.787436\\\\\n",
       "\t26 & 1.705618 & 1.760983 & 1.821863 & 1.889682 &  1.966509 &  2.055529 &  2.162029 &  2.295815 &  2.478630 &  2.778715\\\\\n",
       "\t27 & 1.703288 & 1.758466 & 1.819126 & 1.886686 &  1.963200 &  2.051831 &  2.157825 &  2.290914 &  2.472660 &  2.770683\\\\\n",
       "\t28 & 1.701131 & 1.756134 & 1.816592 & 1.883912 &  1.960136 &  2.048407 &  2.153935 &  2.286380 &  2.467140 &  2.763262\\\\\n",
       "\t29 & 1.699127 & 1.753968 & 1.814238 & 1.881336 &  1.957293 &  2.045230 &  2.150325 &  2.282175 &  2.462021 &  2.756386\\\\\n",
       "\t30 & 1.697261 & 1.751952 & 1.812047 & 1.878938 &  1.954645 &  2.042272 &  2.146966 &  2.278262 &  2.457262 &  2.749996\\\\\n",
       "\\end{tabular}\n"
      ],
      "text/markdown": [
       "\n",
       "A matrix: 30 x 10 of type dbl\n",
       "\n",
       "| <!--/--> | 0.050 | 0.045 | 0.040 | 0.035 | 0.030 | 0.025 | 0.020 | 0.015 | 0.010 | 0.005 |\n",
       "|---|---|---|---|---|---|---|---|---|---|---|\n",
       "|  1 | 6.313752 | 7.026366 | 7.915815 | 9.057887 | 10.578895 | 12.706205 | 15.894545 | 21.204949 | 31.820516 | 63.656741 |\n",
       "|  2 | 2.919986 | 3.103977 | 3.319764 | 3.578247 |  3.896425 |  4.302653 |  4.848732 |  5.642778 |  6.964557 |  9.924843 |\n",
       "|  3 | 2.353363 | 2.470807 | 2.605427 | 2.762599 |  2.950510 |  3.182446 |  3.481909 |  3.896046 |  4.540703 |  5.840909 |\n",
       "|  4 | 2.131847 | 2.226100 | 2.332873 | 2.455892 |  2.600762 |  2.776445 |  2.998528 |  3.297630 |  3.746947 |  4.604095 |\n",
       "|  5 | 2.015048 | 2.097837 | 2.190958 | 2.297392 |  2.421585 |  2.570582 |  2.756509 |  3.002875 |  3.364930 |  4.032143 |\n",
       "|  6 | 1.943180 | 2.019201 | 2.104306 | 2.201059 |  2.313263 |  2.446912 |  2.612242 |  2.828928 |  3.142668 |  3.707428 |\n",
       "|  7 | 1.894579 | 1.966153 | 2.046011 | 2.136453 |  2.240879 |  2.364624 |  2.516752 |  2.714573 |  2.997952 |  3.499483 |\n",
       "|  8 | 1.859548 | 1.927986 | 2.004152 | 2.090166 |  2.189155 |  2.306004 |  2.448985 |  2.633814 |  2.896459 |  3.355387 |\n",
       "|  9 | 1.833113 | 1.899222 | 1.972653 | 2.055395 |  2.150375 |  2.262157 |  2.398441 |  2.573804 |  2.821438 |  3.249836 |\n",
       "| 10 | 1.812461 | 1.876774 | 1.948099 | 2.028327 |  2.120234 |  2.228139 |  2.359315 |  2.527484 |  2.763769 |  3.169273 |\n",
       "| 11 | 1.795885 | 1.858772 | 1.928427 | 2.006663 |  2.096139 |  2.200985 |  2.328140 |  2.490664 |  2.718079 |  3.105807 |\n",
       "| 12 | 1.782288 | 1.844015 | 1.912313 | 1.988934 |  2.076441 |  2.178813 |  2.302722 |  2.460700 |  2.680998 |  3.054540 |\n",
       "| 13 | 1.770933 | 1.831700 | 1.898874 | 1.974158 |  2.060038 |  2.160369 |  2.281604 |  2.435845 |  2.650309 |  3.012276 |\n",
       "| 14 | 1.761310 | 1.821267 | 1.887496 | 1.961656 |  2.046169 |  2.144787 |  2.263781 |  2.414898 |  2.624494 |  2.976843 |\n",
       "| 15 | 1.753050 | 1.812316 | 1.877739 | 1.950940 |  2.034289 |  2.131450 |  2.248540 |  2.397005 |  2.602480 |  2.946713 |\n",
       "| 16 | 1.745884 | 1.804553 | 1.869279 | 1.941654 |  2.024000 |  2.119905 |  2.235358 |  2.381545 |  2.583487 |  2.920782 |\n",
       "| 17 | 1.739607 | 1.797755 | 1.861875 | 1.933530 |  2.015002 |  2.109816 |  2.223845 |  2.368055 |  2.566934 |  2.898231 |\n",
       "| 18 | 1.734064 | 1.791754 | 1.855340 | 1.926362 |  2.007067 |  2.100922 |  2.213703 |  2.356180 |  2.552380 |  2.878440 |\n",
       "| 19 | 1.729133 | 1.786417 | 1.849530 | 1.919992 |  2.000017 |  2.093024 |  2.204701 |  2.345648 |  2.539483 |  2.860935 |\n",
       "| 20 | 1.724718 | 1.781640 | 1.844331 | 1.914292 |  1.993713 |  2.085963 |  2.196658 |  2.336242 |  2.527977 |  2.845340 |\n",
       "| 21 | 1.720743 | 1.777339 | 1.839651 | 1.909164 |  1.988041 |  2.079614 |  2.189427 |  2.327792 |  2.517648 |  2.831360 |\n",
       "| 22 | 1.717144 | 1.773447 | 1.835417 | 1.904524 |  1.982911 |  2.073873 |  2.182893 |  2.320160 |  2.508325 |  2.818756 |\n",
       "| 23 | 1.713872 | 1.769907 | 1.831567 | 1.900307 |  1.978249 |  2.068658 |  2.176958 |  2.313231 |  2.499867 |  2.807336 |\n",
       "| 24 | 1.710882 | 1.766675 | 1.828051 | 1.896457 |  1.973994 |  2.063899 |  2.171545 |  2.306913 |  2.492159 |  2.796940 |\n",
       "| 25 | 1.708141 | 1.763711 | 1.824828 | 1.892928 |  1.970095 |  2.059539 |  2.166587 |  2.301130 |  2.485107 |  2.787436 |\n",
       "| 26 | 1.705618 | 1.760983 | 1.821863 | 1.889682 |  1.966509 |  2.055529 |  2.162029 |  2.295815 |  2.478630 |  2.778715 |\n",
       "| 27 | 1.703288 | 1.758466 | 1.819126 | 1.886686 |  1.963200 |  2.051831 |  2.157825 |  2.290914 |  2.472660 |  2.770683 |\n",
       "| 28 | 1.701131 | 1.756134 | 1.816592 | 1.883912 |  1.960136 |  2.048407 |  2.153935 |  2.286380 |  2.467140 |  2.763262 |\n",
       "| 29 | 1.699127 | 1.753968 | 1.814238 | 1.881336 |  1.957293 |  2.045230 |  2.150325 |  2.282175 |  2.462021 |  2.756386 |\n",
       "| 30 | 1.697261 | 1.751952 | 1.812047 | 1.878938 |  1.954645 |  2.042272 |  2.146966 |  2.278262 |  2.457262 |  2.749996 |\n",
       "\n"
      ],
      "text/plain": [
       "   0.050    0.045    0.040    0.035    0.030     0.025     0.020     0.015    \n",
       " 1 6.313752 7.026366 7.915815 9.057887 10.578895 12.706205 15.894545 21.204949\n",
       " 2 2.919986 3.103977 3.319764 3.578247  3.896425  4.302653  4.848732  5.642778\n",
       " 3 2.353363 2.470807 2.605427 2.762599  2.950510  3.182446  3.481909  3.896046\n",
       " 4 2.131847 2.226100 2.332873 2.455892  2.600762  2.776445  2.998528  3.297630\n",
       " 5 2.015048 2.097837 2.190958 2.297392  2.421585  2.570582  2.756509  3.002875\n",
       " 6 1.943180 2.019201 2.104306 2.201059  2.313263  2.446912  2.612242  2.828928\n",
       " 7 1.894579 1.966153 2.046011 2.136453  2.240879  2.364624  2.516752  2.714573\n",
       " 8 1.859548 1.927986 2.004152 2.090166  2.189155  2.306004  2.448985  2.633814\n",
       " 9 1.833113 1.899222 1.972653 2.055395  2.150375  2.262157  2.398441  2.573804\n",
       "10 1.812461 1.876774 1.948099 2.028327  2.120234  2.228139  2.359315  2.527484\n",
       "11 1.795885 1.858772 1.928427 2.006663  2.096139  2.200985  2.328140  2.490664\n",
       "12 1.782288 1.844015 1.912313 1.988934  2.076441  2.178813  2.302722  2.460700\n",
       "13 1.770933 1.831700 1.898874 1.974158  2.060038  2.160369  2.281604  2.435845\n",
       "14 1.761310 1.821267 1.887496 1.961656  2.046169  2.144787  2.263781  2.414898\n",
       "15 1.753050 1.812316 1.877739 1.950940  2.034289  2.131450  2.248540  2.397005\n",
       "16 1.745884 1.804553 1.869279 1.941654  2.024000  2.119905  2.235358  2.381545\n",
       "17 1.739607 1.797755 1.861875 1.933530  2.015002  2.109816  2.223845  2.368055\n",
       "18 1.734064 1.791754 1.855340 1.926362  2.007067  2.100922  2.213703  2.356180\n",
       "19 1.729133 1.786417 1.849530 1.919992  2.000017  2.093024  2.204701  2.345648\n",
       "20 1.724718 1.781640 1.844331 1.914292  1.993713  2.085963  2.196658  2.336242\n",
       "21 1.720743 1.777339 1.839651 1.909164  1.988041  2.079614  2.189427  2.327792\n",
       "22 1.717144 1.773447 1.835417 1.904524  1.982911  2.073873  2.182893  2.320160\n",
       "23 1.713872 1.769907 1.831567 1.900307  1.978249  2.068658  2.176958  2.313231\n",
       "24 1.710882 1.766675 1.828051 1.896457  1.973994  2.063899  2.171545  2.306913\n",
       "25 1.708141 1.763711 1.824828 1.892928  1.970095  2.059539  2.166587  2.301130\n",
       "26 1.705618 1.760983 1.821863 1.889682  1.966509  2.055529  2.162029  2.295815\n",
       "27 1.703288 1.758466 1.819126 1.886686  1.963200  2.051831  2.157825  2.290914\n",
       "28 1.701131 1.756134 1.816592 1.883912  1.960136  2.048407  2.153935  2.286380\n",
       "29 1.699127 1.753968 1.814238 1.881336  1.957293  2.045230  2.150325  2.282175\n",
       "30 1.697261 1.751952 1.812047 1.878938  1.954645  2.042272  2.146966  2.278262\n",
       "   0.010     0.005    \n",
       " 1 31.820516 63.656741\n",
       " 2  6.964557  9.924843\n",
       " 3  4.540703  5.840909\n",
       " 4  3.746947  4.604095\n",
       " 5  3.364930  4.032143\n",
       " 6  3.142668  3.707428\n",
       " 7  2.997952  3.499483\n",
       " 8  2.896459  3.355387\n",
       " 9  2.821438  3.249836\n",
       "10  2.763769  3.169273\n",
       "11  2.718079  3.105807\n",
       "12  2.680998  3.054540\n",
       "13  2.650309  3.012276\n",
       "14  2.624494  2.976843\n",
       "15  2.602480  2.946713\n",
       "16  2.583487  2.920782\n",
       "17  2.566934  2.898231\n",
       "18  2.552380  2.878440\n",
       "19  2.539483  2.860935\n",
       "20  2.527977  2.845340\n",
       "21  2.517648  2.831360\n",
       "22  2.508325  2.818756\n",
       "23  2.499867  2.807336\n",
       "24  2.492159  2.796940\n",
       "25  2.485107  2.787436\n",
       "26  2.478630  2.778715\n",
       "27  2.472660  2.770683\n",
       "28  2.467140  2.763262\n",
       "29  2.462021  2.756386\n",
       "30  2.457262  2.749996"
      ]
     },
     "metadata": {},
     "output_type": "display_data"
    }
   ],
   "source": [
    "q <- seq(0.05, 0.005, by = -0.005)\n",
    "df <- seq(1, 30, by = 1)\n",
    "probabilidade <- c()\n",
    "for(i in df){\n",
    "    for(j in q){\n",
    "        probabilidade <- c(probabilidade, qt(j, i, lower.tail = F))\n",
    "    }\n",
    "}\n",
    "tabela_t_student <- matrix(probabilidade, ncol=10, byrow=TRUE)\n",
    "colnames(tabela_t_student) <- format(q)\n",
    "rownames(tabela_t_student) <- format(df)\n",
    "tabela_t_student"
   ]
  },
  {
   "cell_type": "markdown",
   "metadata": {
    "colab_type": "text",
    "id": "MbVu6FdNpsk0"
   },
   "source": [
    "<img src='https://caelum-online-public.s3.amazonaws.com/1229-estatistica-parte3/01/img004.png' width='250px'>\n",
    "\n",
    "As células da tabela acima são valores de $t$ para uma área ou probabilidade na cauda superior da distribuição $t$."
   ]
  },
  {
   "cell_type": "markdown",
   "metadata": {
    "colab_type": "text",
    "id": "UXM3qdYUpsk0"
   },
   "source": [
    "---"
   ]
  },
  {
   "cell_type": "markdown",
   "metadata": {
    "colab_type": "text",
    "id": "dDbUKs7-psk0"
   },
   "source": [
    "Os **testes unicaudais** verificam as variáveis em relação a um piso ou a um teto e avaliam os valores máximos ou mínimos esperados para os parâmetros em estudo e a chance de as estatísticas amostrais serem inferiores ou superiores a dado limite."
   ]
  },
  {
   "cell_type": "markdown",
   "metadata": {
    "colab_type": "text",
    "id": "AvnFJnUrpsk1"
   },
   "source": [
    "<img src='https://caelum-online-public.s3.amazonaws.com/1229-estatistica-parte3/01/img008.png' width='700px'>"
   ]
  },
  {
   "cell_type": "markdown",
   "metadata": {
    "colab_type": "text",
    "id": "IgDg23Xppsk1"
   },
   "source": [
    "### Dados do problema"
   ]
  },
  {
   "cell_type": "code",
   "execution_count": 42,
   "metadata": {
    "colab": {},
    "colab_type": "code",
    "id": "IKvYICfEpsk2"
   },
   "outputs": [],
   "source": [
    "amostra <- c(37.27, 36.42, 34.84, 34.60, 37.49, \n",
    "           36.53, 35.49, 36.90, 34.52, 37.30, \n",
    "           34.99, 36.55, 36.29, 36.06, 37.42, \n",
    "           34.47, 36.70, 35.86, 36.80, 36.92, \n",
    "           37.04, 36.39, 37.32, 36.64, 35.45)"
   ]
  },
  {
   "cell_type": "code",
   "execution_count": 43,
   "metadata": {
    "colab": {
     "base_uri": "https://localhost:8080/",
     "height": 824
    },
    "colab_type": "code",
    "id": "CBuciT30psk3",
    "outputId": "28df5179-0f8c-42e1-fe69-a3b02280f45f"
   },
   "outputs": [
    {
     "data": {
      "text/html": [
       "<table>\n",
       "<caption>A data.frame: 25 x 1</caption>\n",
       "<thead>\n",
       "\t<tr><th scope=col>Amostra</th></tr>\n",
       "\t<tr><th scope=col>&lt;dbl&gt;</th></tr>\n",
       "</thead>\n",
       "<tbody>\n",
       "\t<tr><td>37.27</td></tr>\n",
       "\t<tr><td>36.42</td></tr>\n",
       "\t<tr><td>34.84</td></tr>\n",
       "\t<tr><td>34.60</td></tr>\n",
       "\t<tr><td>37.49</td></tr>\n",
       "\t<tr><td>36.53</td></tr>\n",
       "\t<tr><td>35.49</td></tr>\n",
       "\t<tr><td>36.90</td></tr>\n",
       "\t<tr><td>34.52</td></tr>\n",
       "\t<tr><td>37.30</td></tr>\n",
       "\t<tr><td>34.99</td></tr>\n",
       "\t<tr><td>36.55</td></tr>\n",
       "\t<tr><td>36.29</td></tr>\n",
       "\t<tr><td>36.06</td></tr>\n",
       "\t<tr><td>37.42</td></tr>\n",
       "\t<tr><td>34.47</td></tr>\n",
       "\t<tr><td>36.70</td></tr>\n",
       "\t<tr><td>35.86</td></tr>\n",
       "\t<tr><td>36.80</td></tr>\n",
       "\t<tr><td>36.92</td></tr>\n",
       "\t<tr><td>37.04</td></tr>\n",
       "\t<tr><td>36.39</td></tr>\n",
       "\t<tr><td>37.32</td></tr>\n",
       "\t<tr><td>36.64</td></tr>\n",
       "\t<tr><td>35.45</td></tr>\n",
       "</tbody>\n",
       "</table>\n"
      ],
      "text/latex": [
       "A data.frame: 25 x 1\n",
       "\\begin{tabular}{r|l}\n",
       " Amostra\\\\\n",
       " <dbl>\\\\\n",
       "\\hline\n",
       "\t 37.27\\\\\n",
       "\t 36.42\\\\\n",
       "\t 34.84\\\\\n",
       "\t 34.60\\\\\n",
       "\t 37.49\\\\\n",
       "\t 36.53\\\\\n",
       "\t 35.49\\\\\n",
       "\t 36.90\\\\\n",
       "\t 34.52\\\\\n",
       "\t 37.30\\\\\n",
       "\t 34.99\\\\\n",
       "\t 36.55\\\\\n",
       "\t 36.29\\\\\n",
       "\t 36.06\\\\\n",
       "\t 37.42\\\\\n",
       "\t 34.47\\\\\n",
       "\t 36.70\\\\\n",
       "\t 35.86\\\\\n",
       "\t 36.80\\\\\n",
       "\t 36.92\\\\\n",
       "\t 37.04\\\\\n",
       "\t 36.39\\\\\n",
       "\t 37.32\\\\\n",
       "\t 36.64\\\\\n",
       "\t 35.45\\\\\n",
       "\\end{tabular}\n"
      ],
      "text/markdown": [
       "\n",
       "A data.frame: 25 x 1\n",
       "\n",
       "| Amostra &lt;dbl&gt; |\n",
       "|---|\n",
       "| 37.27 |\n",
       "| 36.42 |\n",
       "| 34.84 |\n",
       "| 34.60 |\n",
       "| 37.49 |\n",
       "| 36.53 |\n",
       "| 35.49 |\n",
       "| 36.90 |\n",
       "| 34.52 |\n",
       "| 37.30 |\n",
       "| 34.99 |\n",
       "| 36.55 |\n",
       "| 36.29 |\n",
       "| 36.06 |\n",
       "| 37.42 |\n",
       "| 34.47 |\n",
       "| 36.70 |\n",
       "| 35.86 |\n",
       "| 36.80 |\n",
       "| 36.92 |\n",
       "| 37.04 |\n",
       "| 36.39 |\n",
       "| 37.32 |\n",
       "| 36.64 |\n",
       "| 35.45 |\n",
       "\n"
      ],
      "text/plain": [
       "   Amostra\n",
       "1  37.27  \n",
       "2  36.42  \n",
       "3  34.84  \n",
       "4  34.60  \n",
       "5  37.49  \n",
       "6  36.53  \n",
       "7  35.49  \n",
       "8  36.90  \n",
       "9  34.52  \n",
       "10 37.30  \n",
       "11 34.99  \n",
       "12 36.55  \n",
       "13 36.29  \n",
       "14 36.06  \n",
       "15 37.42  \n",
       "16 34.47  \n",
       "17 36.70  \n",
       "18 35.86  \n",
       "19 36.80  \n",
       "20 36.92  \n",
       "21 37.04  \n",
       "22 36.39  \n",
       "23 37.32  \n",
       "24 36.64  \n",
       "25 35.45  "
      ]
     },
     "metadata": {},
     "output_type": "display_data"
    }
   ],
   "source": [
    "amostra <- data.frame(Amostra = amostra)\n",
    "amostra"
   ]
  },
  {
   "cell_type": "code",
   "execution_count": 44,
   "metadata": {
    "colab": {
     "base_uri": "https://localhost:8080/",
     "height": 35
    },
    "colab_type": "code",
    "id": "79TBzFsdpsk4",
    "outputId": "9af134c0-aee3-4394-a188-347978abdd80"
   },
   "outputs": [
    {
     "data": {
      "text/html": [
       "36.2504"
      ],
      "text/latex": [
       "36.2504"
      ],
      "text/markdown": [
       "36.2504"
      ],
      "text/plain": [
       "[1] 36.2504"
      ]
     },
     "metadata": {},
     "output_type": "display_data"
    }
   ],
   "source": [
    "media_amostra <- mean(amostra$Amostra)\n",
    "media_amostra"
   ]
  },
  {
   "cell_type": "code",
   "execution_count": 45,
   "metadata": {
    "colab": {
     "base_uri": "https://localhost:8080/",
     "height": 35
    },
    "colab_type": "code",
    "id": "S82xbyghpsk6",
    "outputId": "e7b2b235-1352-4a9b-95ae-111dec8f65a0",
    "scrolled": true
   },
   "outputs": [
    {
     "data": {
      "text/html": [
       "0.966753501846946"
      ],
      "text/latex": [
       "0.966753501846946"
      ],
      "text/markdown": [
       "0.966753501846946"
      ],
      "text/plain": [
       "[1] 0.9667535"
      ]
     },
     "metadata": {},
     "output_type": "display_data"
    }
   ],
   "source": [
    "desvio_padrao_amostra <- sd(amostra$Amostra)\n",
    "desvio_padrao_amostra"
   ]
  },
  {
   "cell_type": "code",
   "execution_count": 46,
   "metadata": {
    "colab": {},
    "colab_type": "code",
    "id": "mvtiwLUWpsk8"
   },
   "outputs": [],
   "source": [
    "media <- 37\n",
    "significancia <- 0.05\n",
    "confianca <- 1 - significancia\n",
    "n <- 25\n",
    "graus_de_liberdade <- n - 1"
   ]
  },
  {
   "cell_type": "markdown",
   "metadata": {
    "colab_type": "text",
    "id": "rpLOiPU2psk9"
   },
   "source": [
    "### **Passo 1** - formulação das hipóteses $H_0$ e $H_1$"
   ]
  },
  {
   "cell_type": "markdown",
   "metadata": {
    "colab_type": "text",
    "id": "iMBi2jUfsc4s"
   },
   "source": [
    "\n",
    "#### <font color='red'>Lembre-se, a hipótese nula sempre contém a alegação de igualdade</font>"
   ]
  },
  {
   "cell_type": "markdown",
   "metadata": {
    "colab_type": "text",
    "id": "8roeH10fpsk-"
   },
   "source": [
    "### $H_0: \\mu \\leq 37$\n",
    "\n",
    "### $H_1: \\mu > 37$"
   ]
  },
  {
   "cell_type": "markdown",
   "metadata": {
    "colab_type": "text",
    "id": "uqE6JXGspsk-"
   },
   "source": [
    "---"
   ]
  },
  {
   "cell_type": "markdown",
   "metadata": {
    "colab_type": "text",
    "id": "XsOkFtncpsk_"
   },
   "source": [
    "### **Passo 2** - escolha da distribuição amostral adequada\n",
    "<img src='https://caelum-online-public.s3.amazonaws.com/1229-estatistica-parte3/01/img003.png' width=70%>"
   ]
  },
  {
   "cell_type": "markdown",
   "metadata": {
    "colab_type": "text",
    "id": "jpXjRqO2psk_"
   },
   "source": [
    "### O tamanho da amostra é maior que 30?\n",
    "#### Resp.: Não\n",
    "\n",
    "### Podemos afirmar que a população se distribui aproximadamente como uma normal?\n",
    "#### Resp.: Sim\n",
    "\n",
    "### O desvio padrão populacional é conhecido?\n",
    "#### Resp.: Não"
   ]
  },
  {
   "cell_type": "markdown",
   "metadata": {
    "colab_type": "text",
    "id": "J14v2aXOpslA"
   },
   "source": [
    "---"
   ]
  },
  {
   "cell_type": "markdown",
   "metadata": {
    "colab_type": "text",
    "id": "DQvwhQWnpslA"
   },
   "source": [
    "### **Passo 3** - fixação da significância do teste ($\\alpha$)\n",
    "\n",
    "#### <font color=red>Documentações:\n",
    "\n",
    "- [**TDist**](https://www.rdocumentation.org/packages/stats/versions/3.6.1/topics/TDist)"
   ]
  },
  {
   "cell_type": "code",
   "execution_count": 47,
   "metadata": {
    "colab": {
     "base_uri": "https://localhost:8080/",
     "height": 173
    },
    "colab_type": "code",
    "id": "12t8QJMzpslD",
    "outputId": "6ff367ac-ceb6-41af-e9f3-364da4170020",
    "scrolled": true
   },
   "outputs": [
    {
     "data": {
      "text/html": [
       "<table>\n",
       "<caption>A matrix: 3 x 10 of type dbl</caption>\n",
       "<thead>\n",
       "\t<tr><th></th><th scope=col>0.050</th><th scope=col>0.045</th><th scope=col>0.040</th><th scope=col>0.035</th><th scope=col>0.030</th><th scope=col>0.025</th><th scope=col>0.020</th><th scope=col>0.015</th><th scope=col>0.010</th><th scope=col>0.005</th></tr>\n",
       "</thead>\n",
       "<tbody>\n",
       "\t<tr><th scope=row>23</th><td>1.713872</td><td>1.769907</td><td>1.831567</td><td>1.900307</td><td>1.978249</td><td>2.068658</td><td>2.176958</td><td>2.313231</td><td>2.499867</td><td>2.807336</td></tr>\n",
       "\t<tr><th scope=row>24</th><td>1.710882</td><td>1.766675</td><td>1.828051</td><td>1.896457</td><td>1.973994</td><td>2.063899</td><td>2.171545</td><td>2.306913</td><td>2.492159</td><td>2.796940</td></tr>\n",
       "\t<tr><th scope=row>25</th><td>1.708141</td><td>1.763711</td><td>1.824828</td><td>1.892928</td><td>1.970095</td><td>2.059539</td><td>2.166587</td><td>2.301130</td><td>2.485107</td><td>2.787436</td></tr>\n",
       "</tbody>\n",
       "</table>\n"
      ],
      "text/latex": [
       "A matrix: 3 x 10 of type dbl\n",
       "\\begin{tabular}{r|llllllllll}\n",
       "  & 0.050 & 0.045 & 0.040 & 0.035 & 0.030 & 0.025 & 0.020 & 0.015 & 0.010 & 0.005\\\\\n",
       "\\hline\n",
       "\t23 & 1.713872 & 1.769907 & 1.831567 & 1.900307 & 1.978249 & 2.068658 & 2.176958 & 2.313231 & 2.499867 & 2.807336\\\\\n",
       "\t24 & 1.710882 & 1.766675 & 1.828051 & 1.896457 & 1.973994 & 2.063899 & 2.171545 & 2.306913 & 2.492159 & 2.796940\\\\\n",
       "\t25 & 1.708141 & 1.763711 & 1.824828 & 1.892928 & 1.970095 & 2.059539 & 2.166587 & 2.301130 & 2.485107 & 2.787436\\\\\n",
       "\\end{tabular}\n"
      ],
      "text/markdown": [
       "\n",
       "A matrix: 3 x 10 of type dbl\n",
       "\n",
       "| <!--/--> | 0.050 | 0.045 | 0.040 | 0.035 | 0.030 | 0.025 | 0.020 | 0.015 | 0.010 | 0.005 |\n",
       "|---|---|---|---|---|---|---|---|---|---|---|\n",
       "| 23 | 1.713872 | 1.769907 | 1.831567 | 1.900307 | 1.978249 | 2.068658 | 2.176958 | 2.313231 | 2.499867 | 2.807336 |\n",
       "| 24 | 1.710882 | 1.766675 | 1.828051 | 1.896457 | 1.973994 | 2.063899 | 2.171545 | 2.306913 | 2.492159 | 2.796940 |\n",
       "| 25 | 1.708141 | 1.763711 | 1.824828 | 1.892928 | 1.970095 | 2.059539 | 2.166587 | 2.301130 | 2.485107 | 2.787436 |\n",
       "\n"
      ],
      "text/plain": [
       "   0.050    0.045    0.040    0.035    0.030    0.025    0.020    0.015   \n",
       "23 1.713872 1.769907 1.831567 1.900307 1.978249 2.068658 2.176958 2.313231\n",
       "24 1.710882 1.766675 1.828051 1.896457 1.973994 2.063899 2.171545 2.306913\n",
       "25 1.708141 1.763711 1.824828 1.892928 1.970095 2.059539 2.166587 2.301130\n",
       "   0.010    0.005   \n",
       "23 2.499867 2.807336\n",
       "24 2.492159 2.796940\n",
       "25 2.485107 2.787436"
      ]
     },
     "metadata": {},
     "output_type": "display_data"
    }
   ],
   "source": [
    "tabela_t_student[23:25, ]"
   ]
  },
  {
   "cell_type": "markdown",
   "metadata": {
    "colab_type": "text",
    "id": "Brk3cI1npslE"
   },
   "source": [
    "### Obtendo $t_{\\alpha}$"
   ]
  },
  {
   "cell_type": "code",
   "execution_count": 48,
   "metadata": {
    "colab": {
     "base_uri": "https://localhost:8080/",
     "height": 35
    },
    "colab_type": "code",
    "id": "xXi0eYGYpslF",
    "outputId": "7493d623-7775-4dc2-fb5a-39941b6fc277"
   },
   "outputs": [
    {
     "data": {
      "text/html": [
       "1.71088207990943"
      ],
      "text/latex": [
       "1.71088207990943"
      ],
      "text/markdown": [
       "1.71088207990943"
      ],
      "text/plain": [
       "[1] 1.710882"
      ]
     },
     "metadata": {},
     "output_type": "display_data"
    }
   ],
   "source": [
    "t_alpha <- qt(confianca, graus_de_liberdade)\n",
    "t_alpha"
   ]
  },
  {
   "cell_type": "markdown",
   "metadata": {
    "colab_type": "text",
    "id": "xMnBzjxLpslH"
   },
   "source": [
    "![Região de Aceitação](https://caelum-online-public.s3.amazonaws.com/1229-estatistica-parte3/01/img009.png)"
   ]
  },
  {
   "cell_type": "markdown",
   "metadata": {
    "colab_type": "text",
    "id": "Azy_uNSGpslI"
   },
   "source": [
    "---"
   ]
  },
  {
   "cell_type": "markdown",
   "metadata": {
    "colab_type": "text",
    "id": "YN4weG-1pslI"
   },
   "source": [
    "### **Passo 4** - cálculo da estatística-teste e verificação desse valor com as áreas de aceitação e rejeição do teste\n",
    "\n",
    "# $$t = \\frac{\\bar{x} - \\mu_0}{\\frac{s}{\\sqrt{n}}}$$"
   ]
  },
  {
   "cell_type": "code",
   "execution_count": 49,
   "metadata": {
    "colab": {
     "base_uri": "https://localhost:8080/",
     "height": 35
    },
    "colab_type": "code",
    "id": "qY0DfIffpslI",
    "outputId": "00fd1921-6093-469d-d164-c864eb34b23b"
   },
   "outputs": [
    {
     "data": {
      "text/html": [
       "-3.87689311995208"
      ],
      "text/latex": [
       "-3.87689311995208"
      ],
      "text/markdown": [
       "-3.87689311995208"
      ],
      "text/plain": [
       "[1] -3.876893"
      ]
     },
     "metadata": {},
     "output_type": "display_data"
    }
   ],
   "source": [
    "t <- (media_amostra - media) / (desvio_padrao_amostra / sqrt(n))\n",
    "t"
   ]
  },
  {
   "cell_type": "markdown",
   "metadata": {
    "colab_type": "text",
    "id": "SCIchVxNpslK"
   },
   "source": [
    "![Estatística-Teste](https://caelum-online-public.s3.amazonaws.com/1229-estatistica-parte3/01/img010.png)"
   ]
  },
  {
   "cell_type": "markdown",
   "metadata": {
    "colab_type": "text",
    "id": "NiheMfTopslK"
   },
   "source": [
    "---"
   ]
  },
  {
   "cell_type": "markdown",
   "metadata": {
    "colab_type": "text",
    "id": "YCsJySBGpslK"
   },
   "source": [
    "### **Passo 5** - Aceitação ou rejeição da hipótese nula"
   ]
  },
  {
   "cell_type": "markdown",
   "metadata": {
    "colab_type": "text",
    "id": "ioLyTpbWpslL"
   },
   "source": [
    "<img src='https://caelum-online-public.s3.amazonaws.com/1229-estatistica-parte3/01/img013.png' width=90%>"
   ]
  },
  {
   "cell_type": "markdown",
   "metadata": {
    "colab_type": "text",
    "id": "TQcuPzbPpslL"
   },
   "source": [
    "### <font color='red'>Critério do valor crítico</font>\n",
    "\n",
    "> ### Teste Unicaudal Superior\n",
    "> ### Rejeitar $H_0$ se $t \\geq t_{\\alpha}$"
   ]
  },
  {
   "cell_type": "code",
   "execution_count": 50,
   "metadata": {
    "colab": {
     "base_uri": "https://localhost:8080/",
     "height": 35
    },
    "colab_type": "code",
    "id": "pkoDYMLIpslM",
    "outputId": "d1166899-8745-4bf6-fa7c-40b072c1b1ea"
   },
   "outputs": [
    {
     "data": {
      "text/html": [
       "FALSE"
      ],
      "text/latex": [
       "FALSE"
      ],
      "text/markdown": [
       "FALSE"
      ],
      "text/plain": [
       "[1] FALSE"
      ]
     },
     "metadata": {},
     "output_type": "display_data"
    }
   ],
   "source": [
    "t >= t_alpha"
   ]
  },
  {
   "cell_type": "markdown",
   "metadata": {
    "colab_type": "text",
    "id": "F-_AVTMJpslN"
   },
   "source": [
    "### <font color='green'>Conclusão: Com um nível de confiança de 95% não podemos rejeitar $H_0$, ou seja, a alegação do fabricante é verdadeira.</font>"
   ]
  },
  {
   "cell_type": "markdown",
   "metadata": {
    "colab_type": "text",
    "id": "7ye3tS25pslO"
   },
   "source": [
    "### <font color='red'>Critério do valor $p$</font>\n",
    "\n",
    "> ### Teste Unicaudal Superior\n",
    "> ### Rejeitar $H_0$ se o valor $p\\leq\\alpha$"
   ]
  },
  {
   "cell_type": "code",
   "execution_count": 51,
   "metadata": {
    "colab": {
     "base_uri": "https://localhost:8080/",
     "height": 35
    },
    "colab_type": "code",
    "id": "AtPMeAz4pslQ",
    "outputId": "c26c8cc5-1244-47ff-8001-c490522ec4c2"
   },
   "outputs": [
    {
     "data": {
      "text/html": [
       "-3.87689311995208"
      ],
      "text/latex": [
       "-3.87689311995208"
      ],
      "text/markdown": [
       "-3.87689311995208"
      ],
      "text/plain": [
       "[1] -3.876893"
      ]
     },
     "metadata": {},
     "output_type": "display_data"
    }
   ],
   "source": [
    "t"
   ]
  },
  {
   "cell_type": "code",
   "execution_count": 52,
   "metadata": {},
   "outputs": [
    {
     "data": {
      "text/html": [
       "0.999640617030382"
      ],
      "text/latex": [
       "0.999640617030382"
      ],
      "text/markdown": [
       "0.999640617030382"
      ],
      "text/plain": [
       "[1] 0.9996406"
      ]
     },
     "metadata": {},
     "output_type": "display_data"
    }
   ],
   "source": [
    "p_valor <- pt(t, graus_de_liberdade, lower.tail = F)\n",
    "p_valor"
   ]
  },
  {
   "cell_type": "code",
   "execution_count": 53,
   "metadata": {
    "colab": {
     "base_uri": "https://localhost:8080/",
     "height": 35
    },
    "colab_type": "code",
    "id": "_hfVEPQQpslU",
    "outputId": "1ccf5f1f-dd1f-4855-b981-f3bb76d1163e"
   },
   "outputs": [
    {
     "data": {
      "text/html": [
       "FALSE"
      ],
      "text/latex": [
       "FALSE"
      ],
      "text/markdown": [
       "FALSE"
      ],
      "text/plain": [
       "[1] FALSE"
      ]
     },
     "metadata": {},
     "output_type": "display_data"
    }
   ],
   "source": [
    "p_valor <= significancia"
   ]
  },
  {
   "cell_type": "markdown",
   "metadata": {
    "colab_type": "text",
    "id": "4JxGeADypslW"
   },
   "source": [
    "#### <font color=red>Documentações:\n",
    "\n",
    "- [**t.test**](https://www.rdocumentation.org/packages/stats/versions/3.6.1/topics/t.test)"
   ]
  },
  {
   "cell_type": "code",
   "execution_count": 54,
   "metadata": {
    "colab": {},
    "colab_type": "code",
    "id": "Y1gP6yjvpslW"
   },
   "outputs": [
    {
     "data": {
      "text/plain": [
       "\n",
       "\tOne Sample t-test\n",
       "\n",
       "data:  amostra$Amostra\n",
       "t = -3.8769, df = 24, p-value = 0.9996\n",
       "alternative hypothesis: true mean is greater than 37\n",
       "95 percent confidence interval:\n",
       " 35.9196     Inf\n",
       "sample estimates:\n",
       "mean of x \n",
       "  36.2504 \n"
      ]
     },
     "metadata": {},
     "output_type": "display_data"
    }
   ],
   "source": [
    "resultado <- t.test(amostra$Amostra, alternative = \"greater\", mu = media)\n",
    "resultado"
   ]
  },
  {
   "cell_type": "code",
   "execution_count": 55,
   "metadata": {},
   "outputs": [
    {
     "data": {
      "text/html": [
       "<strong>t:</strong> -3.87689311995208"
      ],
      "text/latex": [
       "\\textbf{t:} -3.87689311995208"
      ],
      "text/markdown": [
       "**t:** -3.87689311995208"
      ],
      "text/plain": [
       "        t \n",
       "-3.876893 "
      ]
     },
     "metadata": {},
     "output_type": "display_data"
    }
   ],
   "source": [
    "resultado$statistic"
   ]
  },
  {
   "cell_type": "code",
   "execution_count": 56,
   "metadata": {},
   "outputs": [
    {
     "data": {
      "text/html": [
       "0.999640617030382"
      ],
      "text/latex": [
       "0.999640617030382"
      ],
      "text/markdown": [
       "0.999640617030382"
      ],
      "text/plain": [
       "[1] 0.9996406"
      ]
     },
     "metadata": {},
     "output_type": "display_data"
    }
   ],
   "source": [
    "p_valor <- resultado$p.value\n",
    "p_valor"
   ]
  },
  {
   "cell_type": "code",
   "execution_count": 57,
   "metadata": {
    "colab": {
     "base_uri": "https://localhost:8080/",
     "height": 35
    },
    "colab_type": "code",
    "id": "CMZcYUyiz0mr",
    "outputId": "c9e81381-094c-444a-8dd9-557865e8c582"
   },
   "outputs": [
    {
     "data": {
      "text/html": [
       "FALSE"
      ],
      "text/latex": [
       "FALSE"
      ],
      "text/markdown": [
       "FALSE"
      ],
      "text/plain": [
       "[1] FALSE"
      ]
     },
     "metadata": {},
     "output_type": "display_data"
    }
   ],
   "source": [
    "resultado$p.value <= significancia"
   ]
  },
  {
   "cell_type": "markdown",
   "metadata": {
    "colab_type": "text",
    "id": "wlUdcJnDpsla"
   },
   "source": [
    "---"
   ]
  },
  {
   "cell_type": "markdown",
   "metadata": {
    "colab_type": "text",
    "id": "L7_ZbBBtpslb"
   },
   "source": [
    "## <font color=green>3.4 Testes para Duas Amostras</font>\n",
    "***"
   ]
  },
  {
   "cell_type": "markdown",
   "metadata": {
    "colab_type": "text",
    "id": "lmAJLIu8pslb"
   },
   "source": [
    "## <font color='red'>Problema</font>"
   ]
  },
  {
   "cell_type": "markdown",
   "metadata": {
    "colab_type": "text",
    "id": "0zUUY8klpslc"
   },
   "source": [
    "Em nosso dataset temos os rendimento dos chefes de domicílio obtidos da Pesquisa Nacional por Amostra de Domicílios - PNAD no ano de 2015. Um problema bastante conhecido em nosso país diz respeito a desigualdade de renda, principalmente entre homens e mulheres.\n",
    "\n",
    "Duas amostras aleatórias, uma de **500 homens** e outra com **500 mulheres**, foram selecionadas em nosso dataset. Com o objetivo de comprovar tal desigualdade, **teste a igualdade das médias** entre estas duas amostras com um nível de **significância de 1%**."
   ]
  },
  {
   "cell_type": "markdown",
   "metadata": {
    "colab_type": "text",
    "id": "WUknTBZgpslc"
   },
   "source": [
    "---"
   ]
  },
  {
   "cell_type": "markdown",
   "metadata": {
    "colab_type": "text",
    "id": "gFIUL8Hgpslc"
   },
   "source": [
    "É possível também utilizar testes de hipóteses para comparar duas diferentes amostras. Neste tipo de teste se deseja decidir se uma amostra é diferente da outra."
   ]
  },
  {
   "cell_type": "markdown",
   "metadata": {
    "colab_type": "text",
    "id": "xzGuwM4xpslc"
   },
   "source": [
    "### Seleção das amostras"
   ]
  },
  {
   "cell_type": "code",
   "execution_count": 58,
   "metadata": {},
   "outputs": [],
   "source": [
    "homens <- matrix(c(300, 1000, 4000, 5000, 300, 350, 1200, 1200, 1100, 1800, 700, 5000, 250, 1560, 400, 5500, 3000, 0, 1100, 1500, 500, 500, 788, 500, 3000, 788, 2400, 788, 3300, 1350, 2500, 2000, 1300, 2430, 9000, 10120, 1380, 2000, 1400, 1000, 500, 1500, 2200, 2100, 4000, 1000, 1200, 2900, 1800, 2000, 788, 1576, 800, 2400, 788, 788, 788, 0, 12000, 7880, 850, 1000, 1000, 1600, 3800, 788, 1200, 300, 350, 700, 6000, 1500, 5000, 2000, 1200, 800, 250, 800, 1600, 400, 3000, 2304, 800, 1400, 450, 788, 2200, 6000, 1200, 4000, 6000, 1100, 1200, 1300, 3000, 3000, 1500, 1280, 788, 1400, 788, 4000, 0, 1000, 2500, 1300, 3000, 500, 1600, 2000, 1280, 150, 0, 0, 7000, 1061, 700, 788, 2000, 788, 10500, 788, 1600, 1050, 1100, 3000, 800, 1400, 1200, 2500, 1000, 1500, 1500, 900, 2000, 300, 3000, 788, 1400, 2000, 2000, 3000, 2600, 15000, 1500, 950, 1200, 1500, 7500, 1400, 350, 750, 1200, 788, 0, 2500, 1700, 788, 700, 1600, 1200, 320, 6000, 2000, 2000, 3000, 900, 2100, 0, 788, 1800, 1600, 4000, 1300, 1300, 1500, 8900, 1400, 788, 600, 1000, 950, 2000, 4000, 2300, 2000, 800, 2500, 1500, 1400, 800, 6000, 788, 900, 200, 1300, 788, 2600, 1500, 8000, 900, 2000, 2000, 350, 3000, 9580, 0, 400, 800, 1700, 1800, 1200, 18000, 9000, 3000, 1200, 700, 1200, 400, 987, 6000, 2000, 0, 0, 480, 500, 800, 1680, 10000, 1200, 1700, 788, 2200, 10000, 10000, 100, 1200, 1600, 2500, 1300, 1200, 1300, 2200, 200, 60, 1100, 1200, 6000, 4500, 100, 788, 2900, 2500, 900, 788, 2500, 4000, 788, 1400, 1000, 300, 788, 1000, 4000, 2200, 788, 1000, 1000, 600, 1600, 6000, 2500, 2500, 1000, 3000, 2200, 4500, 1500, 4300, 1500, 8500, 3200, 1200, 1200, 1500, 4000, 2000, 1350, 1500, 890, 5000, 2400, 13000, 800, 1500, 1500, 2000, 580, 500, 920, 1200, 2000, 788, 500, 20000, 1350, 1576, 500, 8000, 1800, 600, 1000, 3000, 4000, 1500, 788, 600, 2300, 1500, 500, 500, 800, 900, 8000, 1600, 3000, 788, 1500, 5200, 900, 3565, 650, 1700, 1600, 788, 1200, 788, 788, 100, 900, 1700, 10000, 1600, 200, 788, 1400, 1500, 400, 4200, 1400, 4000, 5516, 3500, 700, 1400, 1200, 0, 7000, 2000, 5000, 2000, 750, 3000, 2000, 1500, 200, 3000, 1700, 1500, 7000, 1500, 788, 2400, 2500, 1500, 2000, 1500, 2000, 1100, 800, 1800, 480, 3500, 700, 3400, 5000, 5000, 1300, 3000, 2000, 900, 2000, 1000, 1800, 0, 1500, 788, 3500, 875, 5000, 2000, 1300, 1600, 0, 750, 1200, 120, 1800, 1200, 788, 1000, 0, 1400, 2300, 7000, 4000, 5000, 788, 20000, 4000, 0, 1200, 1800, 500, 1000, 788, 1300, 5000, 50, 1700, 2000, 1600, 2000, 1350, 1500, 600, 1700, 780, 2446, 2100, 5000, 1700, 1200, 1000, 788, 4500, 1500, 788, 0, 1580, 1000, 4500, 2400, 788, 1100, 2000, 788, 100, 1200, 1200, 1200, 1000, 2000, 788, 2000, 15000, 600, 0, 1500, 3000, 4000, 900, 810, 600, 1500, 4000, 1200, 5000, 5300, 2500, 800, 0, 1400, 1500, 4000, 1200, 400, 1000, 820, 1000, 1000, 788, 1500, 2500, 1500, 220, 600, 788, 1750, 7000))\n",
    "mulheres <- matrix(c(788, 1200, 6000, 1000, 788, 1100, 1900, 1577, 900, 950, 1200, 788, 788, 1100, 30, 620, 900, 1000, 1200, 2000, 0, 500, 1200, 1500, 1200, 1120, 788, 788, 2300, 2400, 3000, 788, 4000, 1000, 500, 500, 1700, 200, 6000, 400, 950, 1100, 50, 930, 850, 1100, 3500, 1500, 1200, 900, 1100, 1500, 788, 1000, 788, 4500, 4000, 8000, 3500, 788, 1050, 1000, 1400, 3500, 600, 3000, 500, 930, 2660, 788, 360, 2364, 788, 160, 1100, 1085, 1050, 1500, 100, 0, 788, 250, 1700, 1300, 800, 0, 2000, 820, 910, 300, 2000, 200, 788, 788, 800, 1500, 1300, 1200, 0, 600, 1036, 400, 1100, 788, 400, 1500, 1200, 1800, 1000, 788, 850, 60, 1800, 3500, 600, 200, 500, 200, 1100, 1540, 1100, 900, 800, 500, 200, 1200, 1250, 788, 500, 200, 788, 200, 0, 1800, 2000, 1000, 900, 3000, 700, 1200, 788, 2800, 3300, 400, 0, 850, 1022, 6000, 750, 1000, 3500, 400, 1500, 1000, 800, 0, 980, 2400, 850, 1100, 788, 1100, 788, 1200, 788, 864, 1000, 500, 400, 3000, 1200, 100, 80, 900, 2000, 1250, 1000, 300, 400, 1500, 60, 8000, 1000, 600, 800, 350, 788, 0, 600, 788, 2500, 1300, 800, 8000, 1100, 800, 900, 2000, 0, 800, 1400, 1000, 1200, 788, 3840, 788, 3940, 788, 560, 800, 2000, 600, 2900, 0, 400, 800, 7000, 788, 788, 788, 788, 1250, 1500, 1386, 100, 300, 788, 788, 600, 600, 900, 2800, 788, 350, 900, 0, 150, 788, 788, 1000, 30, 788, 780, 900, 0, 0, 3000, 1800, 2000, 1100, 788, 0, 7500, 1800, 788, 788, 2000, 3000, 180, 2500, 800, 0, 1250, 200, 1100, 0, 1100, 400, 1300, 300, 0, 1312, 600, 200, 4000, 2400, 12000, 2150, 500, 400, 0, 600, 400, 788, 1200, 500, 2000, 1500, 70, 500, 2000, 1000, 100, 500, 2000, 100, 2115, 800, 5800, 2300, 750, 788, 0, 900, 1000, 600, 3000, 5500, 1600, 788, 4000, 0, 1100, 120, 320, 1100, 2500, 200, 800, 3000, 550, 4200, 7000, 720, 0, 2000, 5000, 2000, 788, 500, 788, 7000, 500, 788, 1760, 1200, 3500, 1500, 150, 800, 788, 3000, 400, 788, 1000, 2000, 2500, 0, 788, 5200, 788, 0, 600, 1300, 120, 850, 1576, 788, 2000, 1300, 788, 800, 1800, 655, 1580, 789, 788, 850, 788, 7000, 788, 430, 800, 788, 900, 10000, 1200, 300, 400, 788, 788, 3000, 900, 1300, 1300, 788, 800, 1000, 1890, 0, 788, 900, 4000, 788, 1010, 150, 450, 1700, 890, 1200, 2800, 1000, 788, 788, 700, 600, 800, 880, 6000, 800, 800, 820, 788, 1030, 560, 2100, 6500, 2500, 788, 400, 300, 788, 2300, 1000, 3500, 984, 1576, 420, 1700, 450, 1800, 400, 1500, 1500, 4256, 1200, 890, 1200, 300, 400, 850, 1500, 3800, 1800, 996, 2000, 1000, 788, 1500, 300, 600, 950, 1200, 788, 1200, 1500, 250, 788, 1200, 6000, 300, 789, 1500, 788, 3800, 780, 1200, 1200, 220, 788, 500, 200, 480, 1576, 1576, 1035, 900, 800, 1000, 805, 200, 1200, 2220, 1500, 880, 220, 2000, 788, 150, 0, 13000, 40, 5500, 788, 788, 1000, 400, 2000, 200, 1600))"
   ]
  },
  {
   "cell_type": "markdown",
   "metadata": {
    "colab_type": "text",
    "id": "FOFa-cHwpslg"
   },
   "source": [
    "### Dados do problema"
   ]
  },
  {
   "cell_type": "code",
   "execution_count": 59,
   "metadata": {
    "colab": {
     "base_uri": "https://localhost:8080/",
     "height": 35
    },
    "colab_type": "code",
    "id": "BGyXCbompslh",
    "outputId": "a5e8a9b9-ee69-408f-b8c0-6cac89b36d9a"
   },
   "outputs": [
    {
     "data": {
      "text/html": [
       "1357.528"
      ],
      "text/latex": [
       "1357.528"
      ],
      "text/markdown": [
       "1357.528"
      ],
      "text/plain": [
       "[1] 1357.528"
      ]
     },
     "metadata": {},
     "output_type": "display_data"
    }
   ],
   "source": [
    "media_amostra_M <- mean(mulheres)\n",
    "media_amostra_M"
   ]
  },
  {
   "cell_type": "code",
   "execution_count": 60,
   "metadata": {
    "colab": {
     "base_uri": "https://localhost:8080/",
     "height": 35
    },
    "colab_type": "code",
    "id": "RoxFOCA3pslk",
    "outputId": "85133b37-a4a6-49cd-a585-700725811b09"
   },
   "outputs": [
    {
     "data": {
      "text/html": [
       "1569.90119074846"
      ],
      "text/latex": [
       "1569.90119074846"
      ],
      "text/markdown": [
       "1569.90119074846"
      ],
      "text/plain": [
       "[1] 1569.901"
      ]
     },
     "metadata": {},
     "output_type": "display_data"
    }
   ],
   "source": [
    "desvio_padrao_amostra_M <- sd(mulheres)\n",
    "desvio_padrao_amostra_M"
   ]
  },
  {
   "cell_type": "code",
   "execution_count": 61,
   "metadata": {
    "colab": {
     "base_uri": "https://localhost:8080/",
     "height": 35
    },
    "colab_type": "code",
    "id": "Of8L6Hygpsll",
    "outputId": "fe0dc0f3-79e3-4375-de47-43a4ff6c3f79"
   },
   "outputs": [
    {
     "data": {
      "text/html": [
       "2142.608"
      ],
      "text/latex": [
       "2142.608"
      ],
      "text/markdown": [
       "2142.608"
      ],
      "text/plain": [
       "[1] 2142.608"
      ]
     },
     "metadata": {},
     "output_type": "display_data"
    }
   ],
   "source": [
    "media_amostra_H <- mean(homens)\n",
    "media_amostra_H"
   ]
  },
  {
   "cell_type": "code",
   "execution_count": 62,
   "metadata": {
    "colab": {
     "base_uri": "https://localhost:8080/",
     "height": 35
    },
    "colab_type": "code",
    "id": "-cSpXXTepsln",
    "outputId": "8a3d0017-ac70-4fe3-aae1-0c7bf32e676e"
   },
   "outputs": [
    {
     "data": {
      "text/html": [
       "2548.05080249987"
      ],
      "text/latex": [
       "2548.05080249987"
      ],
      "text/markdown": [
       "2548.05080249987"
      ],
      "text/plain": [
       "[1] 2548.051"
      ]
     },
     "metadata": {},
     "output_type": "display_data"
    }
   ],
   "source": [
    "desvio_padrao_amostra_H <- sd(homens)\n",
    "desvio_padrao_amostra_H"
   ]
  },
  {
   "cell_type": "code",
   "execution_count": 63,
   "metadata": {
    "colab": {},
    "colab_type": "code",
    "id": "Cl7kdxkUpslo"
   },
   "outputs": [],
   "source": [
    "significancia <- 0.01\n",
    "confianca <- 1 - significancia\n",
    "n_M <- 500\n",
    "n_H <- 500\n",
    "D_0 <- 0"
   ]
  },
  {
   "cell_type": "markdown",
   "metadata": {
    "colab_type": "text",
    "id": "PGoWwWwjpslp"
   },
   "source": [
    "---"
   ]
  },
  {
   "cell_type": "markdown",
   "metadata": {
    "colab_type": "text",
    "id": "tO597Oxgpslp"
   },
   "source": [
    "### **Passo 1** - formulação das hipóteses $H_0$ e $H_1$\n",
    "\n",
    "#### <font color='red'>Lembre-se, a hipótese nula sempre contém a alegação de igualdade</font>"
   ]
  },
  {
   "cell_type": "markdown",
   "metadata": {
    "colab_type": "text",
    "id": "LysVU-7fpslr"
   },
   "source": [
    "### $\\mu_1 \\Rightarrow$ Média das rendas dos chefes de domicílios do sexo masculino\n",
    "### $\\mu_2 \\Rightarrow$ Média das rendas dos chefes de domicílios do sexo feminino\n",
    "\n",
    "### $\n",
    "\\begin{cases}\n",
    "H_0: \\mu_1 \\leq \\mu_2\\\\\n",
    "H_1: \\mu_1 > \\mu_2\n",
    "\\end{cases}\n",
    "$\n",
    "\n",
    "### ou\n",
    "\n",
    "### $\n",
    "\\begin{cases}\n",
    "H_0: \\mu_1 -\\mu_2 \\leq 0\\\\\n",
    "H_1: \\mu_1 -\\mu_2 > 0\n",
    "\\end{cases}\n",
    "$"
   ]
  },
  {
   "cell_type": "markdown",
   "metadata": {
    "colab_type": "text",
    "id": "ENKqbCgQpslr"
   },
   "source": [
    "---"
   ]
  },
  {
   "cell_type": "markdown",
   "metadata": {
    "colab_type": "text",
    "id": "dBA05Y3Zpslr"
   },
   "source": [
    "### **Passo 2** - escolha da distribuição amostral adequada\n",
    "<img src='https://caelum-online-public.s3.amazonaws.com/1229-estatistica-parte3/01/img003.png' width=70%>\n",
    "\n",
    "### <font color='red'>Observação importante</font>\n",
    "> Em testes que envolvam duas amostras com o emprego da tabela $t$ de Student, o número de graus de liberdade será sempre igual a $n_1 + n_2 - 2$"
   ]
  },
  {
   "cell_type": "markdown",
   "metadata": {
    "colab_type": "text",
    "id": "6_Q_Wtjlpsls"
   },
   "source": [
    "### O tamanho da amostra é maior que 30?\n",
    "#### Resp.: Sim\n",
    "\n",
    "### O desvio padrão populacional é conhecido?\n",
    "#### Resp.: Não"
   ]
  },
  {
   "cell_type": "markdown",
   "metadata": {
    "colab_type": "text",
    "id": "T6sVzVjVpsls"
   },
   "source": [
    "---"
   ]
  },
  {
   "cell_type": "markdown",
   "metadata": {
    "colab_type": "text",
    "id": "SUN4yJqzpsls"
   },
   "source": [
    "### **Passo 3** - fixação da significância do teste ($\\alpha$)"
   ]
  },
  {
   "cell_type": "code",
   "execution_count": 64,
   "metadata": {
    "colab": {
     "base_uri": "https://localhost:8080/",
     "height": 35
    },
    "colab_type": "code",
    "id": "b3Y_CZmzpsls",
    "outputId": "bc2e1945-7bb1-4c2c-851a-f0102328ce0e"
   },
   "outputs": [
    {
     "data": {
      "text/html": [
       "0.99"
      ],
      "text/latex": [
       "0.99"
      ],
      "text/markdown": [
       "0.99"
      ],
      "text/plain": [
       "[1] 0.99"
      ]
     },
     "metadata": {},
     "output_type": "display_data"
    }
   ],
   "source": [
    "probabilidade <- confianca\n",
    "probabilidade"
   ]
  },
  {
   "cell_type": "code",
   "execution_count": 65,
   "metadata": {
    "colab": {
     "base_uri": "https://localhost:8080/",
     "height": 35
    },
    "colab_type": "code",
    "id": "qNse2bFRpslu",
    "outputId": "b03d1db9-17ec-4577-825d-dc81f7aee07b"
   },
   "outputs": [
    {
     "data": {
      "text/html": [
       "2.32634787404084"
      ],
      "text/latex": [
       "2.32634787404084"
      ],
      "text/markdown": [
       "2.32634787404084"
      ],
      "text/plain": [
       "[1] 2.326348"
      ]
     },
     "metadata": {},
     "output_type": "display_data"
    }
   ],
   "source": [
    "z_alpha <- qnorm(probabilidade)\n",
    "z_alpha"
   ]
  },
  {
   "cell_type": "markdown",
   "metadata": {
    "colab_type": "text",
    "id": "y9u_zd8Opslv"
   },
   "source": [
    "![Região de Aceitação](https://caelum-online-public.s3.amazonaws.com/1229-estatistica-parte3/01/img011.png)"
   ]
  },
  {
   "cell_type": "markdown",
   "metadata": {
    "colab_type": "text",
    "id": "xUhiEXRMpslv"
   },
   "source": [
    "---"
   ]
  },
  {
   "cell_type": "markdown",
   "metadata": {
    "colab_type": "text",
    "id": "iooB1aPHpslv"
   },
   "source": [
    "### **Passo 4** - cálculo da estatística-teste e verificação desse valor com as áreas de aceitação e rejeição do teste\n",
    "\n",
    "# $$z = \\frac{(\\bar{x_1} - \\bar{x_2})-D_0}{\\sqrt{\\frac{s_1^2}{n_1} + \\frac{s_2^2}{n_2}}}$$"
   ]
  },
  {
   "cell_type": "code",
   "execution_count": 66,
   "metadata": {
    "colab": {
     "base_uri": "https://localhost:8080/",
     "height": 35
    },
    "colab_type": "code",
    "id": "AL2i9JOTpslw",
    "outputId": "920efcb1-4b72-4366-9930-52d6e0119549"
   },
   "outputs": [
    {
     "data": {
      "text/html": [
       "5.86562005776475"
      ],
      "text/latex": [
       "5.86562005776475"
      ],
      "text/markdown": [
       "5.86562005776475"
      ],
      "text/plain": [
       "[1] 5.86562"
      ]
     },
     "metadata": {},
     "output_type": "display_data"
    }
   ],
   "source": [
    "numerador <- (media_amostra_H - media_amostra_M) - D_0\n",
    "\n",
    "denominador <- sqrt((desvio_padrao_amostra_H ** 2 / n_H) + (desvio_padrao_amostra_M ** 2 / n_M))\n",
    "\n",
    "z <- numerador / denominador\n",
    "\n",
    "z"
   ]
  },
  {
   "cell_type": "markdown",
   "metadata": {
    "colab_type": "text",
    "id": "jXrfHvH5pslx"
   },
   "source": [
    "![Estatística-Teste](https://caelum-online-public.s3.amazonaws.com/1229-estatistica-parte3/01/img012.png)"
   ]
  },
  {
   "cell_type": "markdown",
   "metadata": {
    "colab_type": "text",
    "id": "4dn58Fc2pslx"
   },
   "source": [
    "---"
   ]
  },
  {
   "cell_type": "markdown",
   "metadata": {
    "colab_type": "text",
    "id": "P-7NL33-pslx"
   },
   "source": [
    "### **Passo 5** - Aceitação ou rejeição da hipótese nula"
   ]
  },
  {
   "cell_type": "markdown",
   "metadata": {
    "colab_type": "text",
    "id": "n_djxfYtpslx"
   },
   "source": [
    "<img src='https://caelum-online-public.s3.amazonaws.com/1229-estatistica-parte3/01/img014.png' width=90%>"
   ]
  },
  {
   "cell_type": "markdown",
   "metadata": {
    "colab_type": "text",
    "id": "QrObW-BXpsly"
   },
   "source": [
    "### <font color='red'>Critério do valor crítico</font>\n",
    "\n",
    "> ### Teste Unicaudal\n",
    "> ### Rejeitar $H_0$ se $z \\geq z_{\\alpha}$"
   ]
  },
  {
   "cell_type": "code",
   "execution_count": 67,
   "metadata": {
    "colab": {
     "base_uri": "https://localhost:8080/",
     "height": 35
    },
    "colab_type": "code",
    "id": "tkJSji7gpsly",
    "outputId": "8bbaa7f8-311f-4b6e-98f0-6964f510a91d"
   },
   "outputs": [
    {
     "data": {
      "text/html": [
       "TRUE"
      ],
      "text/latex": [
       "TRUE"
      ],
      "text/markdown": [
       "TRUE"
      ],
      "text/plain": [
       "[1] TRUE"
      ]
     },
     "metadata": {},
     "output_type": "display_data"
    }
   ],
   "source": [
    "z >= z_alpha"
   ]
  },
  {
   "cell_type": "markdown",
   "metadata": {
    "colab_type": "text",
    "id": "UnBVO1uDpslz"
   },
   "source": [
    "### <font color='green'>Conclusão: Com um nível de confiança de 99% rejeitamos $H_0$, isto é, concluímos que a média das rendas dos chefes de domicílios do sexo masculino é maior que a média das rendas das chefes de domicílios do sexo feminino. Confirmando a alegação de desigualdade de renda entre os sexos.</font>"
   ]
  },
  {
   "cell_type": "markdown",
   "metadata": {
    "colab_type": "text",
    "id": "cyuNEHfwpsl0"
   },
   "source": [
    "### <font color='red'>Critério do valor $p$</font>\n",
    "\n",
    "> ### Teste Unicaudal\n",
    "> ### Rejeitar $H_0$ se o valor $p\\leq\\alpha$"
   ]
  },
  {
   "cell_type": "code",
   "execution_count": 68,
   "metadata": {},
   "outputs": [
    {
     "data": {
      "text/html": [
       "5.86562005776475"
      ],
      "text/latex": [
       "5.86562005776475"
      ],
      "text/markdown": [
       "5.86562005776475"
      ],
      "text/plain": [
       "[1] 5.86562"
      ]
     },
     "metadata": {},
     "output_type": "display_data"
    }
   ],
   "source": [
    "z"
   ]
  },
  {
   "cell_type": "code",
   "execution_count": 69,
   "metadata": {
    "colab": {
     "base_uri": "https://localhost:8080/",
     "height": 35
    },
    "colab_type": "code",
    "id": "tSbOZem9hLvs",
    "outputId": "c987a7bf-f772-4a01-a4c6-9a3afacf08d3"
   },
   "outputs": [
    {
     "data": {
      "text/html": [
       "2.23728678594584e-09"
      ],
      "text/latex": [
       "2.23728678594584e-09"
      ],
      "text/markdown": [
       "2.23728678594584e-09"
      ],
      "text/plain": [
       "[1] 2.237287e-09"
      ]
     },
     "metadata": {},
     "output_type": "display_data"
    }
   ],
   "source": [
    "p_valor <- pnorm(z, lower.tail = F)\n",
    "p_valor"
   ]
  },
  {
   "cell_type": "code",
   "execution_count": 70,
   "metadata": {
    "colab": {
     "base_uri": "https://localhost:8080/",
     "height": 35
    },
    "colab_type": "code",
    "id": "E3NF1BzYpsl6",
    "outputId": "73af41e4-51a9-4e1f-d4c8-0786046c24b2"
   },
   "outputs": [
    {
     "data": {
      "text/html": [
       "TRUE"
      ],
      "text/latex": [
       "TRUE"
      ],
      "text/markdown": [
       "TRUE"
      ],
      "text/plain": [
       "[1] TRUE"
      ]
     },
     "metadata": {},
     "output_type": "display_data"
    }
   ],
   "source": [
    "p_valor <= significancia"
   ]
  },
  {
   "cell_type": "markdown",
   "metadata": {
    "colab_type": "text",
    "id": "YRw1O5X8pskT"
   },
   "source": [
    "#### <font color=red>Documentações:\n",
    "\n",
    "- [**BSDA**](https://www.rdocumentation.org/packages/BSDA/versions/1.01)\n",
    "- [**z.test**](https://www.rdocumentation.org/packages/BSDA/versions/1.01/topics/z.test)"
   ]
  },
  {
   "cell_type": "code",
   "execution_count": 71,
   "metadata": {},
   "outputs": [
    {
     "name": "stderr",
     "output_type": "stream",
     "text": [
      "Installing package into ‘/home/nbuser/R’\n",
      "(as ‘lib’ is unspecified)\n"
     ]
    }
   ],
   "source": [
    "# install.packages(\"BSDA\")\n",
    "\n",
    "# OU\n",
    "\n",
    "packageurl <- \"https://cran.r-project.org/src/contrib/Archive/BSDA/BSDA_1.01.tar.gz\"\n",
    "install.packages(packageurl, repos=NULL, type=\"source\")"
   ]
  },
  {
   "cell_type": "markdown",
   "metadata": {},
   "source": [
    "### z.test()"
   ]
  },
  {
   "cell_type": "code",
   "execution_count": 72,
   "metadata": {},
   "outputs": [
    {
     "name": "stderr",
     "output_type": "stream",
     "text": [
      "Loading required package: e1071\n",
      "Loading required package: lattice\n",
      "\n",
      "Attaching package: ‘BSDA’\n",
      "\n",
      "The following object is masked from ‘package:datasets’:\n",
      "\n",
      "    Orange\n",
      "\n"
     ]
    }
   ],
   "source": [
    "library(BSDA)"
   ]
  },
  {
   "cell_type": "code",
   "execution_count": 73,
   "metadata": {},
   "outputs": [
    {
     "data": {
      "text/plain": [
       "\n",
       "\tTwo-sample z-Test\n",
       "\n",
       "data:  homens and mulheres\n",
       "z = 5.8656, p-value = 2.237e-09\n",
       "alternative hypothesis: true difference in means is greater than 0\n",
       "99 percent confidence interval:\n",
       " 473.7115       NA\n",
       "sample estimates:\n",
       "mean of x mean of y \n",
       " 2142.608  1357.528 \n"
      ]
     },
     "metadata": {},
     "output_type": "display_data"
    }
   ],
   "source": [
    "resultado <- z.test(x = homens,\n",
    "                    y = mulheres,\n",
    "                    alternative = 'greater',\n",
    "                    mu = 0,\n",
    "                    sigma.x = sd(homens),\n",
    "                    sigma.y = sd(mulheres),\n",
    "                    conf.level = 0.99)\n",
    "resultado"
   ]
  },
  {
   "cell_type": "code",
   "execution_count": 74,
   "metadata": {},
   "outputs": [
    {
     "data": {
      "text/html": [
       "2.23728680026625e-09"
      ],
      "text/latex": [
       "2.23728680026625e-09"
      ],
      "text/markdown": [
       "2.23728680026625e-09"
      ],
      "text/plain": [
       "[1] 2.237287e-09"
      ]
     },
     "metadata": {},
     "output_type": "display_data"
    }
   ],
   "source": [
    "p_valor <- resultado$p.value\n",
    "p_valor"
   ]
  },
  {
   "cell_type": "code",
   "execution_count": 75,
   "metadata": {},
   "outputs": [
    {
     "data": {
      "text/html": [
       "TRUE"
      ],
      "text/latex": [
       "TRUE"
      ],
      "text/markdown": [
       "TRUE"
      ],
      "text/plain": [
       "[1] TRUE"
      ]
     },
     "metadata": {},
     "output_type": "display_data"
    }
   ],
   "source": [
    "p_valor <= significancia"
   ]
  },
  {
   "cell_type": "markdown",
   "metadata": {},
   "source": [
    "### <font color=red>Somente como observação</font>\n",
    "### t.test()"
   ]
  },
  {
   "cell_type": "code",
   "execution_count": 76,
   "metadata": {},
   "outputs": [
    {
     "data": {
      "text/plain": [
       "\n",
       "\tTwo Sample t-test\n",
       "\n",
       "data:  homens and mulheres\n",
       "t = 5.8656, df = 998, p-value = 3.04e-09\n",
       "alternative hypothesis: true difference in means is greater than 0\n",
       "95 percent confidence interval:\n",
       " 564.7211      Inf\n",
       "sample estimates:\n",
       "mean of x mean of y \n",
       " 2142.608  1357.528 \n"
      ]
     },
     "metadata": {},
     "output_type": "display_data"
    }
   ],
   "source": [
    "resultado <- t.test(x = homens,\n",
    "                    y = mulheres,\n",
    "                    alternative = 'greater',\n",
    "                    paired = F,\n",
    "                    var.equal = T)\n",
    "resultado"
   ]
  },
  {
   "cell_type": "code",
   "execution_count": 77,
   "metadata": {},
   "outputs": [
    {
     "data": {
      "text/html": [
       "3.04010400943369e-09"
      ],
      "text/latex": [
       "3.04010400943369e-09"
      ],
      "text/markdown": [
       "3.04010400943369e-09"
      ],
      "text/plain": [
       "[1] 3.040104e-09"
      ]
     },
     "metadata": {},
     "output_type": "display_data"
    }
   ],
   "source": [
    "p_valor <- resultado$p.value\n",
    "p_valor"
   ]
  },
  {
   "cell_type": "code",
   "execution_count": 78,
   "metadata": {},
   "outputs": [
    {
     "data": {
      "text/html": [
       "TRUE"
      ],
      "text/latex": [
       "TRUE"
      ],
      "text/markdown": [
       "TRUE"
      ],
      "text/plain": [
       "[1] TRUE"
      ]
     },
     "metadata": {},
     "output_type": "display_data"
    }
   ],
   "source": [
    "p_valor <= significancia"
   ]
  },
  {
   "cell_type": "markdown",
   "metadata": {
    "colab_type": "text",
    "id": "0gxk-t4jpsl8"
   },
   "source": [
    "---"
   ]
  },
  {
   "cell_type": "markdown",
   "metadata": {
    "colab_type": "text",
    "id": "IEHa9ZC_psl8"
   },
   "source": [
    "# <font color=green>4 TESTES NÃO PARAMÉTRICOS</font>\n",
    "***"
   ]
  },
  {
   "cell_type": "markdown",
   "metadata": {
    "colab_type": "text",
    "id": "8iRwKn9Wpsl8"
   },
   "source": [
    "O trabalho com pequenas amostras pode levar a não aceitação da validade do teorema central do limite e também na impossibilidade de fazer suposições sobre a distribuição da variável avaliada. Quando isso ocorre torna-se necessária a aplicação de testes não paramétricos. Nos testes não paramétricos, não fazemos hipóteses sobre a distribuição (de probabilidade) das quais as observações são extraídas."
   ]
  },
  {
   "cell_type": "markdown",
   "metadata": {
    "colab_type": "text",
    "id": "ngqmtRxFpsl9"
   },
   "source": [
    "## <font color='red'>Problema</font>"
   ]
  },
  {
   "cell_type": "markdown",
   "metadata": {
    "colab_type": "text",
    "id": "Al0BiC02psl9"
   },
   "source": [
    "Antes de cada partida do campeonato nacional de futebol, as moedas utilizadas pelos árbitros devem ser verificadas para se ter certeza de que não são viciadas, ou seja, que não tendam para determinado resultado. Para isso um teste simples deve ser realizado antes de cada partida. Este teste consiste em lançar a moeda do jogo **50 vezes** e contar as frequências de **CARAS** e **COROAS** obtidas. A tabela abaixo mostra o resultado obtido no experimento:\n",
    "\n",
    "||CARA|COROA|\n",
    "|-|-|-|\n",
    "|Observado|17|33|\n",
    "|Esperado|25|25|\n",
    "\n",
    "A um **nível de significância de 5%**, é possível afirmar que a moeda não é honesta, isto é, que a moeda apresenta uma probabilidade maior de cair com a face **CARA** voltada para cima?"
   ]
  },
  {
   "cell_type": "markdown",
   "metadata": {
    "colab_type": "text",
    "id": "56KA3Hnupsl9"
   },
   "source": [
    "## <font color=green>4.1 Teste do Qui-Quadrado ( $\\chi^2$)</font>\n",
    "***"
   ]
  },
  {
   "cell_type": "markdown",
   "metadata": {
    "colab_type": "text",
    "id": "GxTlvB4Zpsl9"
   },
   "source": [
    "Também conhecido como teste de adequação ao ajustamento, seu nome se deve ao fato de utilizar uma variável estatística padronizada, representada pela letra grega qui ( $\\chi$) elevada ao quadrado. A tabela com os valores padronizados e como obtê-la podem ser vistos logo abaixo.\n",
    "\n",
    "O teste do $\\chi^2$ testa a hipótese nula de não haver diferença entre as frequências observadas de um determinado evento e as frequências que são realmente esperadas para este evento.\n",
    "\n",
    "Os passos de aplicação do teste são bem parecidos aos vistos para os testes paramétricos.\n",
    "\n",
    "![Região de Aceitação](https://caelum-online-public.s3.amazonaws.com/1229-estatistica-parte3/01/img017.png)"
   ]
  },
  {
   "cell_type": "markdown",
   "metadata": {
    "colab_type": "text",
    "id": "1lbHtKGfpsl9"
   },
   "source": [
    "### Construindo tabela $\\chi^2$\n",
    "\n",
    "#### <font color=red>Documentações:\n",
    "\n",
    "- [**Chisquare**](https://www.rdocumentation.org/packages/stats/versions/3.6.1/topics/Chisquare)"
   ]
  },
  {
   "cell_type": "code",
   "execution_count": 80,
   "metadata": {},
   "outputs": [
    {
     "data": {
      "text/html": [
       "<table>\n",
       "<caption>A matrix: 30 x 13 of type dbl</caption>\n",
       "<thead>\n",
       "\t<tr><th></th><th scope=col>0.005</th><th scope=col>0.010</th><th scope=col>0.025</th><th scope=col>0.050</th><th scope=col>0.100</th><th scope=col>0.250</th><th scope=col>0.500</th><th scope=col>0.750</th><th scope=col>0.900</th><th scope=col>0.975</th><th scope=col>0.950</th><th scope=col>0.990</th><th scope=col>0.995</th></tr>\n",
       "</thead>\n",
       "<tbody>\n",
       "\t<tr><th scope=row> 1</th><td> 0.0000</td><td> 0.0002</td><td> 0.0010</td><td> 0.0039</td><td> 0.0158</td><td> 0.1015</td><td> 0.4549</td><td> 1.3233</td><td> 2.7055</td><td> 5.0239</td><td> 3.8415</td><td> 6.6349</td><td> 7.8794</td></tr>\n",
       "\t<tr><th scope=row> 2</th><td> 0.0100</td><td> 0.0201</td><td> 0.0506</td><td> 0.1026</td><td> 0.2107</td><td> 0.5754</td><td> 1.3863</td><td> 2.7726</td><td> 4.6052</td><td> 7.3778</td><td> 5.9915</td><td> 9.2103</td><td>10.5966</td></tr>\n",
       "\t<tr><th scope=row> 3</th><td> 0.0717</td><td> 0.1148</td><td> 0.2158</td><td> 0.3518</td><td> 0.5844</td><td> 1.2125</td><td> 2.3660</td><td> 4.1083</td><td> 6.2514</td><td> 9.3484</td><td> 7.8147</td><td>11.3449</td><td>12.8382</td></tr>\n",
       "\t<tr><th scope=row> 4</th><td> 0.2070</td><td> 0.2971</td><td> 0.4844</td><td> 0.7107</td><td> 1.0636</td><td> 1.9226</td><td> 3.3567</td><td> 5.3853</td><td> 7.7794</td><td>11.1433</td><td> 9.4877</td><td>13.2767</td><td>14.8603</td></tr>\n",
       "\t<tr><th scope=row> 5</th><td> 0.4117</td><td> 0.5543</td><td> 0.8312</td><td> 1.1455</td><td> 1.6103</td><td> 2.6746</td><td> 4.3515</td><td> 6.6257</td><td> 9.2364</td><td>12.8325</td><td>11.0705</td><td>15.0863</td><td>16.7496</td></tr>\n",
       "\t<tr><th scope=row> 6</th><td> 0.6757</td><td> 0.8721</td><td> 1.2373</td><td> 1.6354</td><td> 2.2041</td><td> 3.4546</td><td> 5.3481</td><td> 7.8408</td><td>10.6446</td><td>14.4494</td><td>12.5916</td><td>16.8119</td><td>18.5476</td></tr>\n",
       "\t<tr><th scope=row> 7</th><td> 0.9893</td><td> 1.2390</td><td> 1.6899</td><td> 2.1673</td><td> 2.8331</td><td> 4.2549</td><td> 6.3458</td><td> 9.0371</td><td>12.0170</td><td>16.0128</td><td>14.0671</td><td>18.4753</td><td>20.2777</td></tr>\n",
       "\t<tr><th scope=row> 8</th><td> 1.3444</td><td> 1.6465</td><td> 2.1797</td><td> 2.7326</td><td> 3.4895</td><td> 5.0706</td><td> 7.3441</td><td>10.2189</td><td>13.3616</td><td>17.5345</td><td>15.5073</td><td>20.0902</td><td>21.9550</td></tr>\n",
       "\t<tr><th scope=row> 9</th><td> 1.7349</td><td> 2.0879</td><td> 2.7004</td><td> 3.3251</td><td> 4.1682</td><td> 5.8988</td><td> 8.3428</td><td>11.3888</td><td>14.6837</td><td>19.0228</td><td>16.9190</td><td>21.6660</td><td>23.5894</td></tr>\n",
       "\t<tr><th scope=row>10</th><td> 2.1559</td><td> 2.5582</td><td> 3.2470</td><td> 3.9403</td><td> 4.8652</td><td> 6.7372</td><td> 9.3418</td><td>12.5489</td><td>15.9872</td><td>20.4832</td><td>18.3070</td><td>23.2093</td><td>25.1882</td></tr>\n",
       "\t<tr><th scope=row>11</th><td> 2.6032</td><td> 3.0535</td><td> 3.8157</td><td> 4.5748</td><td> 5.5778</td><td> 7.5841</td><td>10.3410</td><td>13.7007</td><td>17.2750</td><td>21.9200</td><td>19.6751</td><td>24.7250</td><td>26.7568</td></tr>\n",
       "\t<tr><th scope=row>12</th><td> 3.0738</td><td> 3.5706</td><td> 4.4038</td><td> 5.2260</td><td> 6.3038</td><td> 8.4384</td><td>11.3403</td><td>14.8454</td><td>18.5493</td><td>23.3367</td><td>21.0261</td><td>26.2170</td><td>28.2995</td></tr>\n",
       "\t<tr><th scope=row>13</th><td> 3.5650</td><td> 4.1069</td><td> 5.0088</td><td> 5.8919</td><td> 7.0415</td><td> 9.2991</td><td>12.3398</td><td>15.9839</td><td>19.8119</td><td>24.7356</td><td>22.3620</td><td>27.6882</td><td>29.8195</td></tr>\n",
       "\t<tr><th scope=row>14</th><td> 4.0747</td><td> 4.6604</td><td> 5.6287</td><td> 6.5706</td><td> 7.7895</td><td>10.1653</td><td>13.3393</td><td>17.1169</td><td>21.0641</td><td>26.1189</td><td>23.6848</td><td>29.1412</td><td>31.3193</td></tr>\n",
       "\t<tr><th scope=row>15</th><td> 4.6009</td><td> 5.2293</td><td> 6.2621</td><td> 7.2609</td><td> 8.5468</td><td>11.0365</td><td>14.3389</td><td>18.2451</td><td>22.3071</td><td>27.4884</td><td>24.9958</td><td>30.5779</td><td>32.8013</td></tr>\n",
       "\t<tr><th scope=row>16</th><td> 5.1422</td><td> 5.8122</td><td> 6.9077</td><td> 7.9616</td><td> 9.3122</td><td>11.9122</td><td>15.3385</td><td>19.3689</td><td>23.5418</td><td>28.8454</td><td>26.2962</td><td>31.9999</td><td>34.2672</td></tr>\n",
       "\t<tr><th scope=row>17</th><td> 5.6972</td><td> 6.4078</td><td> 7.5642</td><td> 8.6718</td><td>10.0852</td><td>12.7919</td><td>16.3382</td><td>20.4887</td><td>24.7690</td><td>30.1910</td><td>27.5871</td><td>33.4087</td><td>35.7185</td></tr>\n",
       "\t<tr><th scope=row>18</th><td> 6.2648</td><td> 7.0149</td><td> 8.2307</td><td> 9.3905</td><td>10.8649</td><td>13.6753</td><td>17.3379</td><td>21.6049</td><td>25.9894</td><td>31.5264</td><td>28.8693</td><td>34.8053</td><td>37.1565</td></tr>\n",
       "\t<tr><th scope=row>19</th><td> 6.8440</td><td> 7.6327</td><td> 8.9065</td><td>10.1170</td><td>11.6509</td><td>14.5620</td><td>18.3377</td><td>22.7178</td><td>27.2036</td><td>32.8523</td><td>30.1435</td><td>36.1909</td><td>38.5823</td></tr>\n",
       "\t<tr><th scope=row>20</th><td> 7.4338</td><td> 8.2604</td><td> 9.5908</td><td>10.8508</td><td>12.4426</td><td>15.4518</td><td>19.3374</td><td>23.8277</td><td>28.4120</td><td>34.1696</td><td>31.4104</td><td>37.5662</td><td>39.9968</td></tr>\n",
       "\t<tr><th scope=row>21</th><td> 8.0337</td><td> 8.8972</td><td>10.2829</td><td>11.5913</td><td>13.2396</td><td>16.3444</td><td>20.3372</td><td>24.9348</td><td>29.6151</td><td>35.4789</td><td>32.6706</td><td>38.9322</td><td>41.4011</td></tr>\n",
       "\t<tr><th scope=row>22</th><td> 8.6427</td><td> 9.5425</td><td>10.9823</td><td>12.3380</td><td>14.0415</td><td>17.2396</td><td>21.3370</td><td>26.0393</td><td>30.8133</td><td>36.7807</td><td>33.9244</td><td>40.2894</td><td>42.7957</td></tr>\n",
       "\t<tr><th scope=row>23</th><td> 9.2604</td><td>10.1957</td><td>11.6886</td><td>13.0905</td><td>14.8480</td><td>18.1373</td><td>22.3369</td><td>27.1413</td><td>32.0069</td><td>38.0756</td><td>35.1725</td><td>41.6384</td><td>44.1813</td></tr>\n",
       "\t<tr><th scope=row>24</th><td> 9.8862</td><td>10.8564</td><td>12.4012</td><td>13.8484</td><td>15.6587</td><td>19.0373</td><td>23.3367</td><td>28.2412</td><td>33.1962</td><td>39.3641</td><td>36.4150</td><td>42.9798</td><td>45.5585</td></tr>\n",
       "\t<tr><th scope=row>25</th><td>10.5197</td><td>11.5240</td><td>13.1197</td><td>14.6114</td><td>16.4734</td><td>19.9393</td><td>24.3366</td><td>29.3389</td><td>34.3816</td><td>40.6465</td><td>37.6525</td><td>44.3141</td><td>46.9279</td></tr>\n",
       "\t<tr><th scope=row>26</th><td>11.1602</td><td>12.1981</td><td>13.8439</td><td>15.3792</td><td>17.2919</td><td>20.8434</td><td>25.3365</td><td>30.4346</td><td>35.5632</td><td>41.9232</td><td>38.8851</td><td>45.6417</td><td>48.2899</td></tr>\n",
       "\t<tr><th scope=row>27</th><td>11.8076</td><td>12.8785</td><td>14.5734</td><td>16.1514</td><td>18.1139</td><td>21.7494</td><td>26.3363</td><td>31.5284</td><td>36.7412</td><td>43.1945</td><td>40.1133</td><td>46.9629</td><td>49.6449</td></tr>\n",
       "\t<tr><th scope=row>28</th><td>12.4613</td><td>13.5647</td><td>15.3079</td><td>16.9279</td><td>18.9392</td><td>22.6572</td><td>27.3362</td><td>32.6205</td><td>37.9159</td><td>44.4608</td><td>41.3371</td><td>48.2782</td><td>50.9934</td></tr>\n",
       "\t<tr><th scope=row>29</th><td>13.1211</td><td>14.2565</td><td>16.0471</td><td>17.7084</td><td>19.7677</td><td>23.5666</td><td>28.3361</td><td>33.7109</td><td>39.0875</td><td>45.7223</td><td>42.5570</td><td>49.5879</td><td>52.3356</td></tr>\n",
       "\t<tr><th scope=row>30</th><td>13.7867</td><td>14.9535</td><td>16.7908</td><td>18.4927</td><td>20.5992</td><td>24.4776</td><td>29.3360</td><td>34.7997</td><td>40.2560</td><td>46.9792</td><td>43.7730</td><td>50.8922</td><td>53.6720</td></tr>\n",
       "</tbody>\n",
       "</table>\n"
      ],
      "text/latex": [
       "A matrix: 30 x 13 of type dbl\n",
       "\\begin{tabular}{r|lllllllllllll}\n",
       "  & 0.005 & 0.010 & 0.025 & 0.050 & 0.100 & 0.250 & 0.500 & 0.750 & 0.900 & 0.975 & 0.950 & 0.990 & 0.995\\\\\n",
       "\\hline\n",
       "\t 1 &  0.0000 &  0.0002 &  0.0010 &  0.0039 &  0.0158 &  0.1015 &  0.4549 &  1.3233 &  2.7055 &  5.0239 &  3.8415 &  6.6349 &  7.8794\\\\\n",
       "\t 2 &  0.0100 &  0.0201 &  0.0506 &  0.1026 &  0.2107 &  0.5754 &  1.3863 &  2.7726 &  4.6052 &  7.3778 &  5.9915 &  9.2103 & 10.5966\\\\\n",
       "\t 3 &  0.0717 &  0.1148 &  0.2158 &  0.3518 &  0.5844 &  1.2125 &  2.3660 &  4.1083 &  6.2514 &  9.3484 &  7.8147 & 11.3449 & 12.8382\\\\\n",
       "\t 4 &  0.2070 &  0.2971 &  0.4844 &  0.7107 &  1.0636 &  1.9226 &  3.3567 &  5.3853 &  7.7794 & 11.1433 &  9.4877 & 13.2767 & 14.8603\\\\\n",
       "\t 5 &  0.4117 &  0.5543 &  0.8312 &  1.1455 &  1.6103 &  2.6746 &  4.3515 &  6.6257 &  9.2364 & 12.8325 & 11.0705 & 15.0863 & 16.7496\\\\\n",
       "\t 6 &  0.6757 &  0.8721 &  1.2373 &  1.6354 &  2.2041 &  3.4546 &  5.3481 &  7.8408 & 10.6446 & 14.4494 & 12.5916 & 16.8119 & 18.5476\\\\\n",
       "\t 7 &  0.9893 &  1.2390 &  1.6899 &  2.1673 &  2.8331 &  4.2549 &  6.3458 &  9.0371 & 12.0170 & 16.0128 & 14.0671 & 18.4753 & 20.2777\\\\\n",
       "\t 8 &  1.3444 &  1.6465 &  2.1797 &  2.7326 &  3.4895 &  5.0706 &  7.3441 & 10.2189 & 13.3616 & 17.5345 & 15.5073 & 20.0902 & 21.9550\\\\\n",
       "\t 9 &  1.7349 &  2.0879 &  2.7004 &  3.3251 &  4.1682 &  5.8988 &  8.3428 & 11.3888 & 14.6837 & 19.0228 & 16.9190 & 21.6660 & 23.5894\\\\\n",
       "\t10 &  2.1559 &  2.5582 &  3.2470 &  3.9403 &  4.8652 &  6.7372 &  9.3418 & 12.5489 & 15.9872 & 20.4832 & 18.3070 & 23.2093 & 25.1882\\\\\n",
       "\t11 &  2.6032 &  3.0535 &  3.8157 &  4.5748 &  5.5778 &  7.5841 & 10.3410 & 13.7007 & 17.2750 & 21.9200 & 19.6751 & 24.7250 & 26.7568\\\\\n",
       "\t12 &  3.0738 &  3.5706 &  4.4038 &  5.2260 &  6.3038 &  8.4384 & 11.3403 & 14.8454 & 18.5493 & 23.3367 & 21.0261 & 26.2170 & 28.2995\\\\\n",
       "\t13 &  3.5650 &  4.1069 &  5.0088 &  5.8919 &  7.0415 &  9.2991 & 12.3398 & 15.9839 & 19.8119 & 24.7356 & 22.3620 & 27.6882 & 29.8195\\\\\n",
       "\t14 &  4.0747 &  4.6604 &  5.6287 &  6.5706 &  7.7895 & 10.1653 & 13.3393 & 17.1169 & 21.0641 & 26.1189 & 23.6848 & 29.1412 & 31.3193\\\\\n",
       "\t15 &  4.6009 &  5.2293 &  6.2621 &  7.2609 &  8.5468 & 11.0365 & 14.3389 & 18.2451 & 22.3071 & 27.4884 & 24.9958 & 30.5779 & 32.8013\\\\\n",
       "\t16 &  5.1422 &  5.8122 &  6.9077 &  7.9616 &  9.3122 & 11.9122 & 15.3385 & 19.3689 & 23.5418 & 28.8454 & 26.2962 & 31.9999 & 34.2672\\\\\n",
       "\t17 &  5.6972 &  6.4078 &  7.5642 &  8.6718 & 10.0852 & 12.7919 & 16.3382 & 20.4887 & 24.7690 & 30.1910 & 27.5871 & 33.4087 & 35.7185\\\\\n",
       "\t18 &  6.2648 &  7.0149 &  8.2307 &  9.3905 & 10.8649 & 13.6753 & 17.3379 & 21.6049 & 25.9894 & 31.5264 & 28.8693 & 34.8053 & 37.1565\\\\\n",
       "\t19 &  6.8440 &  7.6327 &  8.9065 & 10.1170 & 11.6509 & 14.5620 & 18.3377 & 22.7178 & 27.2036 & 32.8523 & 30.1435 & 36.1909 & 38.5823\\\\\n",
       "\t20 &  7.4338 &  8.2604 &  9.5908 & 10.8508 & 12.4426 & 15.4518 & 19.3374 & 23.8277 & 28.4120 & 34.1696 & 31.4104 & 37.5662 & 39.9968\\\\\n",
       "\t21 &  8.0337 &  8.8972 & 10.2829 & 11.5913 & 13.2396 & 16.3444 & 20.3372 & 24.9348 & 29.6151 & 35.4789 & 32.6706 & 38.9322 & 41.4011\\\\\n",
       "\t22 &  8.6427 &  9.5425 & 10.9823 & 12.3380 & 14.0415 & 17.2396 & 21.3370 & 26.0393 & 30.8133 & 36.7807 & 33.9244 & 40.2894 & 42.7957\\\\\n",
       "\t23 &  9.2604 & 10.1957 & 11.6886 & 13.0905 & 14.8480 & 18.1373 & 22.3369 & 27.1413 & 32.0069 & 38.0756 & 35.1725 & 41.6384 & 44.1813\\\\\n",
       "\t24 &  9.8862 & 10.8564 & 12.4012 & 13.8484 & 15.6587 & 19.0373 & 23.3367 & 28.2412 & 33.1962 & 39.3641 & 36.4150 & 42.9798 & 45.5585\\\\\n",
       "\t25 & 10.5197 & 11.5240 & 13.1197 & 14.6114 & 16.4734 & 19.9393 & 24.3366 & 29.3389 & 34.3816 & 40.6465 & 37.6525 & 44.3141 & 46.9279\\\\\n",
       "\t26 & 11.1602 & 12.1981 & 13.8439 & 15.3792 & 17.2919 & 20.8434 & 25.3365 & 30.4346 & 35.5632 & 41.9232 & 38.8851 & 45.6417 & 48.2899\\\\\n",
       "\t27 & 11.8076 & 12.8785 & 14.5734 & 16.1514 & 18.1139 & 21.7494 & 26.3363 & 31.5284 & 36.7412 & 43.1945 & 40.1133 & 46.9629 & 49.6449\\\\\n",
       "\t28 & 12.4613 & 13.5647 & 15.3079 & 16.9279 & 18.9392 & 22.6572 & 27.3362 & 32.6205 & 37.9159 & 44.4608 & 41.3371 & 48.2782 & 50.9934\\\\\n",
       "\t29 & 13.1211 & 14.2565 & 16.0471 & 17.7084 & 19.7677 & 23.5666 & 28.3361 & 33.7109 & 39.0875 & 45.7223 & 42.5570 & 49.5879 & 52.3356\\\\\n",
       "\t30 & 13.7867 & 14.9535 & 16.7908 & 18.4927 & 20.5992 & 24.4776 & 29.3360 & 34.7997 & 40.2560 & 46.9792 & 43.7730 & 50.8922 & 53.6720\\\\\n",
       "\\end{tabular}\n"
      ],
      "text/markdown": [
       "\n",
       "A matrix: 30 x 13 of type dbl\n",
       "\n",
       "| <!--/--> | 0.005 | 0.010 | 0.025 | 0.050 | 0.100 | 0.250 | 0.500 | 0.750 | 0.900 | 0.975 | 0.950 | 0.990 | 0.995 |\n",
       "|---|---|---|---|---|---|---|---|---|---|---|---|---|---|\n",
       "|  1 |  0.0000 |  0.0002 |  0.0010 |  0.0039 |  0.0158 |  0.1015 |  0.4549 |  1.3233 |  2.7055 |  5.0239 |  3.8415 |  6.6349 |  7.8794 |\n",
       "|  2 |  0.0100 |  0.0201 |  0.0506 |  0.1026 |  0.2107 |  0.5754 |  1.3863 |  2.7726 |  4.6052 |  7.3778 |  5.9915 |  9.2103 | 10.5966 |\n",
       "|  3 |  0.0717 |  0.1148 |  0.2158 |  0.3518 |  0.5844 |  1.2125 |  2.3660 |  4.1083 |  6.2514 |  9.3484 |  7.8147 | 11.3449 | 12.8382 |\n",
       "|  4 |  0.2070 |  0.2971 |  0.4844 |  0.7107 |  1.0636 |  1.9226 |  3.3567 |  5.3853 |  7.7794 | 11.1433 |  9.4877 | 13.2767 | 14.8603 |\n",
       "|  5 |  0.4117 |  0.5543 |  0.8312 |  1.1455 |  1.6103 |  2.6746 |  4.3515 |  6.6257 |  9.2364 | 12.8325 | 11.0705 | 15.0863 | 16.7496 |\n",
       "|  6 |  0.6757 |  0.8721 |  1.2373 |  1.6354 |  2.2041 |  3.4546 |  5.3481 |  7.8408 | 10.6446 | 14.4494 | 12.5916 | 16.8119 | 18.5476 |\n",
       "|  7 |  0.9893 |  1.2390 |  1.6899 |  2.1673 |  2.8331 |  4.2549 |  6.3458 |  9.0371 | 12.0170 | 16.0128 | 14.0671 | 18.4753 | 20.2777 |\n",
       "|  8 |  1.3444 |  1.6465 |  2.1797 |  2.7326 |  3.4895 |  5.0706 |  7.3441 | 10.2189 | 13.3616 | 17.5345 | 15.5073 | 20.0902 | 21.9550 |\n",
       "|  9 |  1.7349 |  2.0879 |  2.7004 |  3.3251 |  4.1682 |  5.8988 |  8.3428 | 11.3888 | 14.6837 | 19.0228 | 16.9190 | 21.6660 | 23.5894 |\n",
       "| 10 |  2.1559 |  2.5582 |  3.2470 |  3.9403 |  4.8652 |  6.7372 |  9.3418 | 12.5489 | 15.9872 | 20.4832 | 18.3070 | 23.2093 | 25.1882 |\n",
       "| 11 |  2.6032 |  3.0535 |  3.8157 |  4.5748 |  5.5778 |  7.5841 | 10.3410 | 13.7007 | 17.2750 | 21.9200 | 19.6751 | 24.7250 | 26.7568 |\n",
       "| 12 |  3.0738 |  3.5706 |  4.4038 |  5.2260 |  6.3038 |  8.4384 | 11.3403 | 14.8454 | 18.5493 | 23.3367 | 21.0261 | 26.2170 | 28.2995 |\n",
       "| 13 |  3.5650 |  4.1069 |  5.0088 |  5.8919 |  7.0415 |  9.2991 | 12.3398 | 15.9839 | 19.8119 | 24.7356 | 22.3620 | 27.6882 | 29.8195 |\n",
       "| 14 |  4.0747 |  4.6604 |  5.6287 |  6.5706 |  7.7895 | 10.1653 | 13.3393 | 17.1169 | 21.0641 | 26.1189 | 23.6848 | 29.1412 | 31.3193 |\n",
       "| 15 |  4.6009 |  5.2293 |  6.2621 |  7.2609 |  8.5468 | 11.0365 | 14.3389 | 18.2451 | 22.3071 | 27.4884 | 24.9958 | 30.5779 | 32.8013 |\n",
       "| 16 |  5.1422 |  5.8122 |  6.9077 |  7.9616 |  9.3122 | 11.9122 | 15.3385 | 19.3689 | 23.5418 | 28.8454 | 26.2962 | 31.9999 | 34.2672 |\n",
       "| 17 |  5.6972 |  6.4078 |  7.5642 |  8.6718 | 10.0852 | 12.7919 | 16.3382 | 20.4887 | 24.7690 | 30.1910 | 27.5871 | 33.4087 | 35.7185 |\n",
       "| 18 |  6.2648 |  7.0149 |  8.2307 |  9.3905 | 10.8649 | 13.6753 | 17.3379 | 21.6049 | 25.9894 | 31.5264 | 28.8693 | 34.8053 | 37.1565 |\n",
       "| 19 |  6.8440 |  7.6327 |  8.9065 | 10.1170 | 11.6509 | 14.5620 | 18.3377 | 22.7178 | 27.2036 | 32.8523 | 30.1435 | 36.1909 | 38.5823 |\n",
       "| 20 |  7.4338 |  8.2604 |  9.5908 | 10.8508 | 12.4426 | 15.4518 | 19.3374 | 23.8277 | 28.4120 | 34.1696 | 31.4104 | 37.5662 | 39.9968 |\n",
       "| 21 |  8.0337 |  8.8972 | 10.2829 | 11.5913 | 13.2396 | 16.3444 | 20.3372 | 24.9348 | 29.6151 | 35.4789 | 32.6706 | 38.9322 | 41.4011 |\n",
       "| 22 |  8.6427 |  9.5425 | 10.9823 | 12.3380 | 14.0415 | 17.2396 | 21.3370 | 26.0393 | 30.8133 | 36.7807 | 33.9244 | 40.2894 | 42.7957 |\n",
       "| 23 |  9.2604 | 10.1957 | 11.6886 | 13.0905 | 14.8480 | 18.1373 | 22.3369 | 27.1413 | 32.0069 | 38.0756 | 35.1725 | 41.6384 | 44.1813 |\n",
       "| 24 |  9.8862 | 10.8564 | 12.4012 | 13.8484 | 15.6587 | 19.0373 | 23.3367 | 28.2412 | 33.1962 | 39.3641 | 36.4150 | 42.9798 | 45.5585 |\n",
       "| 25 | 10.5197 | 11.5240 | 13.1197 | 14.6114 | 16.4734 | 19.9393 | 24.3366 | 29.3389 | 34.3816 | 40.6465 | 37.6525 | 44.3141 | 46.9279 |\n",
       "| 26 | 11.1602 | 12.1981 | 13.8439 | 15.3792 | 17.2919 | 20.8434 | 25.3365 | 30.4346 | 35.5632 | 41.9232 | 38.8851 | 45.6417 | 48.2899 |\n",
       "| 27 | 11.8076 | 12.8785 | 14.5734 | 16.1514 | 18.1139 | 21.7494 | 26.3363 | 31.5284 | 36.7412 | 43.1945 | 40.1133 | 46.9629 | 49.6449 |\n",
       "| 28 | 12.4613 | 13.5647 | 15.3079 | 16.9279 | 18.9392 | 22.6572 | 27.3362 | 32.6205 | 37.9159 | 44.4608 | 41.3371 | 48.2782 | 50.9934 |\n",
       "| 29 | 13.1211 | 14.2565 | 16.0471 | 17.7084 | 19.7677 | 23.5666 | 28.3361 | 33.7109 | 39.0875 | 45.7223 | 42.5570 | 49.5879 | 52.3356 |\n",
       "| 30 | 13.7867 | 14.9535 | 16.7908 | 18.4927 | 20.5992 | 24.4776 | 29.3360 | 34.7997 | 40.2560 | 46.9792 | 43.7730 | 50.8922 | 53.6720 |\n",
       "\n"
      ],
      "text/plain": [
       "   0.005   0.010   0.025   0.050   0.100   0.250   0.500   0.750   0.900  \n",
       " 1  0.0000  0.0002  0.0010  0.0039  0.0158  0.1015  0.4549  1.3233  2.7055\n",
       " 2  0.0100  0.0201  0.0506  0.1026  0.2107  0.5754  1.3863  2.7726  4.6052\n",
       " 3  0.0717  0.1148  0.2158  0.3518  0.5844  1.2125  2.3660  4.1083  6.2514\n",
       " 4  0.2070  0.2971  0.4844  0.7107  1.0636  1.9226  3.3567  5.3853  7.7794\n",
       " 5  0.4117  0.5543  0.8312  1.1455  1.6103  2.6746  4.3515  6.6257  9.2364\n",
       " 6  0.6757  0.8721  1.2373  1.6354  2.2041  3.4546  5.3481  7.8408 10.6446\n",
       " 7  0.9893  1.2390  1.6899  2.1673  2.8331  4.2549  6.3458  9.0371 12.0170\n",
       " 8  1.3444  1.6465  2.1797  2.7326  3.4895  5.0706  7.3441 10.2189 13.3616\n",
       " 9  1.7349  2.0879  2.7004  3.3251  4.1682  5.8988  8.3428 11.3888 14.6837\n",
       "10  2.1559  2.5582  3.2470  3.9403  4.8652  6.7372  9.3418 12.5489 15.9872\n",
       "11  2.6032  3.0535  3.8157  4.5748  5.5778  7.5841 10.3410 13.7007 17.2750\n",
       "12  3.0738  3.5706  4.4038  5.2260  6.3038  8.4384 11.3403 14.8454 18.5493\n",
       "13  3.5650  4.1069  5.0088  5.8919  7.0415  9.2991 12.3398 15.9839 19.8119\n",
       "14  4.0747  4.6604  5.6287  6.5706  7.7895 10.1653 13.3393 17.1169 21.0641\n",
       "15  4.6009  5.2293  6.2621  7.2609  8.5468 11.0365 14.3389 18.2451 22.3071\n",
       "16  5.1422  5.8122  6.9077  7.9616  9.3122 11.9122 15.3385 19.3689 23.5418\n",
       "17  5.6972  6.4078  7.5642  8.6718 10.0852 12.7919 16.3382 20.4887 24.7690\n",
       "18  6.2648  7.0149  8.2307  9.3905 10.8649 13.6753 17.3379 21.6049 25.9894\n",
       "19  6.8440  7.6327  8.9065 10.1170 11.6509 14.5620 18.3377 22.7178 27.2036\n",
       "20  7.4338  8.2604  9.5908 10.8508 12.4426 15.4518 19.3374 23.8277 28.4120\n",
       "21  8.0337  8.8972 10.2829 11.5913 13.2396 16.3444 20.3372 24.9348 29.6151\n",
       "22  8.6427  9.5425 10.9823 12.3380 14.0415 17.2396 21.3370 26.0393 30.8133\n",
       "23  9.2604 10.1957 11.6886 13.0905 14.8480 18.1373 22.3369 27.1413 32.0069\n",
       "24  9.8862 10.8564 12.4012 13.8484 15.6587 19.0373 23.3367 28.2412 33.1962\n",
       "25 10.5197 11.5240 13.1197 14.6114 16.4734 19.9393 24.3366 29.3389 34.3816\n",
       "26 11.1602 12.1981 13.8439 15.3792 17.2919 20.8434 25.3365 30.4346 35.5632\n",
       "27 11.8076 12.8785 14.5734 16.1514 18.1139 21.7494 26.3363 31.5284 36.7412\n",
       "28 12.4613 13.5647 15.3079 16.9279 18.9392 22.6572 27.3362 32.6205 37.9159\n",
       "29 13.1211 14.2565 16.0471 17.7084 19.7677 23.5666 28.3361 33.7109 39.0875\n",
       "30 13.7867 14.9535 16.7908 18.4927 20.5992 24.4776 29.3360 34.7997 40.2560\n",
       "   0.975   0.950   0.990   0.995  \n",
       " 1  5.0239  3.8415  6.6349  7.8794\n",
       " 2  7.3778  5.9915  9.2103 10.5966\n",
       " 3  9.3484  7.8147 11.3449 12.8382\n",
       " 4 11.1433  9.4877 13.2767 14.8603\n",
       " 5 12.8325 11.0705 15.0863 16.7496\n",
       " 6 14.4494 12.5916 16.8119 18.5476\n",
       " 7 16.0128 14.0671 18.4753 20.2777\n",
       " 8 17.5345 15.5073 20.0902 21.9550\n",
       " 9 19.0228 16.9190 21.6660 23.5894\n",
       "10 20.4832 18.3070 23.2093 25.1882\n",
       "11 21.9200 19.6751 24.7250 26.7568\n",
       "12 23.3367 21.0261 26.2170 28.2995\n",
       "13 24.7356 22.3620 27.6882 29.8195\n",
       "14 26.1189 23.6848 29.1412 31.3193\n",
       "15 27.4884 24.9958 30.5779 32.8013\n",
       "16 28.8454 26.2962 31.9999 34.2672\n",
       "17 30.1910 27.5871 33.4087 35.7185\n",
       "18 31.5264 28.8693 34.8053 37.1565\n",
       "19 32.8523 30.1435 36.1909 38.5823\n",
       "20 34.1696 31.4104 37.5662 39.9968\n",
       "21 35.4789 32.6706 38.9322 41.4011\n",
       "22 36.7807 33.9244 40.2894 42.7957\n",
       "23 38.0756 35.1725 41.6384 44.1813\n",
       "24 39.3641 36.4150 42.9798 45.5585\n",
       "25 40.6465 37.6525 44.3141 46.9279\n",
       "26 41.9232 38.8851 45.6417 48.2899\n",
       "27 43.1945 40.1133 46.9629 49.6449\n",
       "28 44.4608 41.3371 48.2782 50.9934\n",
       "29 45.7223 42.5570 49.5879 52.3356\n",
       "30 46.9792 43.7730 50.8922 53.6720"
      ]
     },
     "metadata": {},
     "output_type": "display_data"
    }
   ],
   "source": [
    "p <- c(0.005, 0.01, 0.025, 0.05, 0.1, 0.25, 0.5, 0.75, 0.9, 0.975, 0.95, 0.99, 0.995)\n",
    "df <- seq(1, 30, by = 1)\n",
    "probabilidade <- c()\n",
    "for(i in df){\n",
    "    for(j in p){\n",
    "        probabilidade <- c(probabilidade, round(qchisq(j, i, lower.tail = T), 4))\n",
    "    }\n",
    "}\n",
    "tabela_chi_2 <- matrix(probabilidade, ncol=13, byrow=TRUE)\n",
    "colnames(tabela_chi_2) <- format(p)\n",
    "rownames(tabela_chi_2) <- format(df)\n",
    "tabela_chi_2"
   ]
  },
  {
   "cell_type": "markdown",
   "metadata": {
    "colab_type": "text",
    "id": "UkzhYAPDpsl_"
   },
   "source": [
    "<img src='https://caelum-online-public.s3.amazonaws.com/1229-estatistica-parte3/01/img016.png' width='250px'>\n",
    "\n",
    "Tabela com os valores de $\\chi_p^2$ em função dos graus de liberdade $(n - 1)$ e de $p = P(\\chi^2 \\leq \\chi_p^2)$"
   ]
  },
  {
   "cell_type": "markdown",
   "metadata": {
    "colab_type": "text",
    "id": "cCPOqVFKpsl_"
   },
   "source": [
    "## <font color='red'>Problema</font>"
   ]
  },
  {
   "cell_type": "markdown",
   "metadata": {
    "colab_type": "text",
    "id": "GTq1wpkbpsl_"
   },
   "source": [
    "Antes de cada partida do campeonato nacional de futebol, as moedas utilizadas pelos árbitros devem ser verificadas para se ter certeza de que não são viciadas, ou seja, que não tendam para determinado resultado. Para isso um teste simples deve ser realizado antes de cada partida. Este teste consiste em lançar a moeda do jogo **50 vezes** e contar as frequências de **CARAS** e **COROAS** obtidas. A tabela abaixo mostra o resultado obtido no experimento:\n",
    "\n",
    "||CARA|COROA|\n",
    "|-|-|-|\n",
    "|Observado|17|33|\n",
    "|Esperado|25|25|\n",
    "\n",
    "A um **nível de significância de 5%**, é possível afirmar que a moeda não é honesta, isto é, que a moeda apresenta uma probabilidade maior de cair com a face **CARA** voltada para cima?"
   ]
  },
  {
   "cell_type": "markdown",
   "metadata": {
    "colab_type": "text",
    "id": "CSlCI1wUpsl_"
   },
   "source": [
    "---"
   ]
  },
  {
   "cell_type": "markdown",
   "metadata": {
    "colab_type": "text",
    "id": "Op26YDWnpsmA"
   },
   "source": [
    "### Dados do problema"
   ]
  },
  {
   "cell_type": "code",
   "execution_count": 83,
   "metadata": {
    "colab": {},
    "colab_type": "code",
    "id": "p5iOqxk2psmA"
   },
   "outputs": [],
   "source": [
    "F_Observada <- c(17, 33)\n",
    "F_Esperada <- c(25, 25)\n",
    "significancia <- 0.05\n",
    "confianca <- 1 - significancia\n",
    "k <- 2 # Número de eventos possíveis\n",
    "graus_de_liberdade <- k - 1"
   ]
  },
  {
   "cell_type": "markdown",
   "metadata": {
    "colab_type": "text",
    "id": "w6A74pM-psmB"
   },
   "source": [
    "### **Passo 1** - formulação das hipóteses $H_0$ e $H_1$\n",
    "\n",
    "#### <font color='red'>Lembre-se, a hipótese nula sempre contém a alegação de igualdade</font>"
   ]
  },
  {
   "cell_type": "markdown",
   "metadata": {
    "colab_type": "text",
    "id": "zA4AD5_8psmB"
   },
   "source": [
    "### $H_0: F_{CARA} = F_{COROA}$\n",
    "\n",
    "### $H_1: F_{CARA} \\neq F_{COROA}$"
   ]
  },
  {
   "cell_type": "markdown",
   "metadata": {
    "colab_type": "text",
    "id": "rUtuw6_bpsmB"
   },
   "source": [
    "---"
   ]
  },
  {
   "cell_type": "markdown",
   "metadata": {
    "colab_type": "text",
    "id": "Zi2oE6ZbpsmB"
   },
   "source": [
    "### **Passo 2** - fixação da significância do teste ($\\alpha$)"
   ]
  },
  {
   "cell_type": "markdown",
   "metadata": {
    "colab_type": "text",
    "id": "cCL8Wyy7psmC"
   },
   "source": [
    "https://docs.scipy.org/doc/scipy/reference/generated/scipy.stats.chi.html"
   ]
  },
  {
   "cell_type": "code",
   "execution_count": 84,
   "metadata": {
    "colab": {
     "base_uri": "https://localhost:8080/",
     "height": 210
    },
    "colab_type": "code",
    "id": "WRsJSXxGpsmE",
    "outputId": "106db812-4580-4e1f-e7d3-5070da776d1f",
    "scrolled": true
   },
   "outputs": [
    {
     "data": {
      "text/html": [
       "<table>\n",
       "<caption>A matrix: 3 x 13 of type dbl</caption>\n",
       "<thead>\n",
       "\t<tr><th></th><th scope=col>0.005</th><th scope=col>0.010</th><th scope=col>0.025</th><th scope=col>0.050</th><th scope=col>0.100</th><th scope=col>0.250</th><th scope=col>0.500</th><th scope=col>0.750</th><th scope=col>0.900</th><th scope=col>0.975</th><th scope=col>0.950</th><th scope=col>0.990</th><th scope=col>0.995</th></tr>\n",
       "</thead>\n",
       "<tbody>\n",
       "\t<tr><th scope=row> 1</th><td>0.0000</td><td>0.0002</td><td>0.0010</td><td>0.0039</td><td>0.0158</td><td>0.1015</td><td>0.4549</td><td>1.3233</td><td>2.7055</td><td>5.0239</td><td>3.8415</td><td> 6.6349</td><td> 7.8794</td></tr>\n",
       "\t<tr><th scope=row> 2</th><td>0.0100</td><td>0.0201</td><td>0.0506</td><td>0.1026</td><td>0.2107</td><td>0.5754</td><td>1.3863</td><td>2.7726</td><td>4.6052</td><td>7.3778</td><td>5.9915</td><td> 9.2103</td><td>10.5966</td></tr>\n",
       "\t<tr><th scope=row> 3</th><td>0.0717</td><td>0.1148</td><td>0.2158</td><td>0.3518</td><td>0.5844</td><td>1.2125</td><td>2.3660</td><td>4.1083</td><td>6.2514</td><td>9.3484</td><td>7.8147</td><td>11.3449</td><td>12.8382</td></tr>\n",
       "</tbody>\n",
       "</table>\n"
      ],
      "text/latex": [
       "A matrix: 3 x 13 of type dbl\n",
       "\\begin{tabular}{r|lllllllllllll}\n",
       "  & 0.005 & 0.010 & 0.025 & 0.050 & 0.100 & 0.250 & 0.500 & 0.750 & 0.900 & 0.975 & 0.950 & 0.990 & 0.995\\\\\n",
       "\\hline\n",
       "\t 1 & 0.0000 & 0.0002 & 0.0010 & 0.0039 & 0.0158 & 0.1015 & 0.4549 & 1.3233 & 2.7055 & 5.0239 & 3.8415 &  6.6349 &  7.8794\\\\\n",
       "\t 2 & 0.0100 & 0.0201 & 0.0506 & 0.1026 & 0.2107 & 0.5754 & 1.3863 & 2.7726 & 4.6052 & 7.3778 & 5.9915 &  9.2103 & 10.5966\\\\\n",
       "\t 3 & 0.0717 & 0.1148 & 0.2158 & 0.3518 & 0.5844 & 1.2125 & 2.3660 & 4.1083 & 6.2514 & 9.3484 & 7.8147 & 11.3449 & 12.8382\\\\\n",
       "\\end{tabular}\n"
      ],
      "text/markdown": [
       "\n",
       "A matrix: 3 x 13 of type dbl\n",
       "\n",
       "| <!--/--> | 0.005 | 0.010 | 0.025 | 0.050 | 0.100 | 0.250 | 0.500 | 0.750 | 0.900 | 0.975 | 0.950 | 0.990 | 0.995 |\n",
       "|---|---|---|---|---|---|---|---|---|---|---|---|---|---|\n",
       "|  1 | 0.0000 | 0.0002 | 0.0010 | 0.0039 | 0.0158 | 0.1015 | 0.4549 | 1.3233 | 2.7055 | 5.0239 | 3.8415 |  6.6349 |  7.8794 |\n",
       "|  2 | 0.0100 | 0.0201 | 0.0506 | 0.1026 | 0.2107 | 0.5754 | 1.3863 | 2.7726 | 4.6052 | 7.3778 | 5.9915 |  9.2103 | 10.5966 |\n",
       "|  3 | 0.0717 | 0.1148 | 0.2158 | 0.3518 | 0.5844 | 1.2125 | 2.3660 | 4.1083 | 6.2514 | 9.3484 | 7.8147 | 11.3449 | 12.8382 |\n",
       "\n"
      ],
      "text/plain": [
       "   0.005  0.010  0.025  0.050  0.100  0.250  0.500  0.750  0.900  0.975  0.950 \n",
       " 1 0.0000 0.0002 0.0010 0.0039 0.0158 0.1015 0.4549 1.3233 2.7055 5.0239 3.8415\n",
       " 2 0.0100 0.0201 0.0506 0.1026 0.2107 0.5754 1.3863 2.7726 4.6052 7.3778 5.9915\n",
       " 3 0.0717 0.1148 0.2158 0.3518 0.5844 1.2125 2.3660 4.1083 6.2514 9.3484 7.8147\n",
       "   0.990   0.995  \n",
       " 1  6.6349  7.8794\n",
       " 2  9.2103 10.5966\n",
       " 3 11.3449 12.8382"
      ]
     },
     "metadata": {},
     "output_type": "display_data"
    }
   ],
   "source": [
    "tabela_chi_2[1:3, ]"
   ]
  },
  {
   "cell_type": "markdown",
   "metadata": {
    "colab_type": "text",
    "id": "0RRjHQm7psmF"
   },
   "source": [
    "### Obtendo $\\chi_{\\alpha}^2$"
   ]
  },
  {
   "cell_type": "code",
   "execution_count": 85,
   "metadata": {},
   "outputs": [
    {
     "data": {
      "text/html": [
       "3.84145882069412"
      ],
      "text/latex": [
       "3.84145882069412"
      ],
      "text/markdown": [
       "3.84145882069412"
      ],
      "text/plain": [
       "[1] 3.841459"
      ]
     },
     "metadata": {},
     "output_type": "display_data"
    }
   ],
   "source": [
    "chi_2_alpha <- qchisq(confianca, graus_de_liberdade)\n",
    "chi_2_alpha"
   ]
  },
  {
   "cell_type": "markdown",
   "metadata": {
    "colab_type": "text",
    "id": "aHxm3ZCupsmJ"
   },
   "source": [
    "![Região de Aceitação](https://caelum-online-public.s3.amazonaws.com/1229-estatistica-parte3/01/img018.png)"
   ]
  },
  {
   "cell_type": "markdown",
   "metadata": {
    "colab_type": "text",
    "id": "FxLr2OnDpsmJ"
   },
   "source": [
    "---"
   ]
  },
  {
   "cell_type": "markdown",
   "metadata": {
    "colab_type": "text",
    "id": "JcUvBM5OpsmJ"
   },
   "source": [
    "### **Passo 3** - cálculo da estatística-teste e verificação desse valor com as áreas de aceitação e rejeição do teste\n",
    "\n",
    "# $$\\chi^2 = \\sum_{i=1}^{k}{\\frac{(F_{i}^{Obs} - F_{i}^{Esp})^2}{F_{i}^{Esp}}}$$\n",
    "\n",
    "Onde\n",
    "\n",
    "$F_{i}^{Obs}$ = frequência observada para o evento $i$\n",
    "\n",
    "$F_{i}^{Esp}$ = frequência esperada para o evento $i$\n",
    "\n",
    "$k$ = total de eventos possíveis"
   ]
  },
  {
   "cell_type": "code",
   "execution_count": 86,
   "metadata": {
    "colab": {
     "base_uri": "https://localhost:8080/",
     "height": 35
    },
    "colab_type": "code",
    "id": "2b32Y6HiuT-u",
    "outputId": "785b6961-162e-4672-9a71-2110af6ed3f4"
   },
   "outputs": [
    {
     "data": {
      "text/html": [
       "5.12"
      ],
      "text/latex": [
       "5.12"
      ],
      "text/markdown": [
       "5.12"
      ],
      "text/plain": [
       "[1] 5.12"
      ]
     },
     "metadata": {},
     "output_type": "display_data"
    }
   ],
   "source": [
    "chi_2 <- ( (F_Observada[1] - F_Esperada[1]) ** 2 / F_Esperada[1] ) + ( (F_Observada[2] - F_Esperada[2]) ** 2 / F_Esperada[2] )\n",
    "chi_2"
   ]
  },
  {
   "cell_type": "code",
   "execution_count": 87,
   "metadata": {
    "colab": {
     "base_uri": "https://localhost:8080/",
     "height": 35
    },
    "colab_type": "code",
    "id": "7eL97ts8psmJ",
    "outputId": "7667b7de-8e7b-46df-fe08-d84eecac6c83"
   },
   "outputs": [
    {
     "data": {
      "text/html": [
       "5.12"
      ],
      "text/latex": [
       "5.12"
      ],
      "text/markdown": [
       "5.12"
      ],
      "text/plain": [
       "[1] 5.12"
      ]
     },
     "metadata": {},
     "output_type": "display_data"
    }
   ],
   "source": [
    "chi_2 = 0\n",
    "for(i in 1:k){\n",
    "    chi_2 <- chi_2 + (F_Observada[i] - F_Esperada[i]) ** 2 / F_Esperada[i] \n",
    "}\n",
    "chi_2"
   ]
  },
  {
   "cell_type": "markdown",
   "metadata": {
    "colab_type": "text",
    "id": "gdwiYn6ZpsmK"
   },
   "source": [
    "![Estatística-Teste](https://caelum-online-public.s3.amazonaws.com/1229-estatistica-parte3/01/img019.png)"
   ]
  },
  {
   "cell_type": "markdown",
   "metadata": {
    "colab_type": "text",
    "id": "7v6msKABpsmK"
   },
   "source": [
    "---"
   ]
  },
  {
   "cell_type": "markdown",
   "metadata": {
    "colab_type": "text",
    "id": "PHLhbZ3IpsmK"
   },
   "source": [
    "### **Passo 4** - Aceitação ou rejeição da hipótese nula"
   ]
  },
  {
   "cell_type": "markdown",
   "metadata": {
    "colab_type": "text",
    "id": "tiQ0gAMGpsmL"
   },
   "source": [
    "<img src='https://caelum-online-public.s3.amazonaws.com/1229-estatistica-parte3/01/img020.png' width=80%>"
   ]
  },
  {
   "cell_type": "markdown",
   "metadata": {
    "colab_type": "text",
    "id": "lhFLib7-psmM"
   },
   "source": [
    "### <font color='red'>Critério do valor crítico</font>\n",
    "\n",
    "> ### Rejeitar $H_0$ se $\\chi_{teste}^2 > \\chi_{\\alpha}^2$"
   ]
  },
  {
   "cell_type": "code",
   "execution_count": 88,
   "metadata": {
    "colab": {
     "base_uri": "https://localhost:8080/",
     "height": 35
    },
    "colab_type": "code",
    "id": "HSOhw7E7psmM",
    "outputId": "1b6ce243-ae51-4497-addd-3e7aae82f4f3"
   },
   "outputs": [
    {
     "data": {
      "text/html": [
       "TRUE"
      ],
      "text/latex": [
       "TRUE"
      ],
      "text/markdown": [
       "TRUE"
      ],
      "text/plain": [
       "[1] TRUE"
      ]
     },
     "metadata": {},
     "output_type": "display_data"
    }
   ],
   "source": [
    "chi_2 > chi_2_alpha"
   ]
  },
  {
   "cell_type": "markdown",
   "metadata": {
    "colab_type": "text",
    "id": "hvHTGAOepsmN"
   },
   "source": [
    "### <font color='green'>Conclusão: Com um nível de confiança de 95% rejeitamos a hipótese nula ($H_0$) e concluímos que as frequências observadas e esperadas são discrepantes, ou seja, a moeda não é honesta e precisa ser substituída.</font>"
   ]
  },
  {
   "cell_type": "markdown",
   "metadata": {
    "colab_type": "text",
    "id": "VcqxUxnopsmN"
   },
   "source": [
    "### <font color='red'>Critério do valor $p$</font>\n",
    "\n",
    "> ### Rejeitar $H_0$ se o valor $p\\leq\\alpha$"
   ]
  },
  {
   "cell_type": "code",
   "execution_count": 103,
   "metadata": {
    "colab": {
     "base_uri": "https://localhost:8080/",
     "height": 35
    },
    "colab_type": "code",
    "id": "fP8w-6MZpsmO",
    "outputId": "0cc2f80a-ab46-4485-b7da-f07a9a7085a9"
   },
   "outputs": [
    {
     "data": {
      "text/html": [
       "5.12"
      ],
      "text/latex": [
       "5.12"
      ],
      "text/markdown": [
       "5.12"
      ],
      "text/plain": [
       "[1] 5.12"
      ]
     },
     "metadata": {},
     "output_type": "display_data"
    }
   ],
   "source": [
    "chi_2"
   ]
  },
  {
   "cell_type": "code",
   "execution_count": 104,
   "metadata": {
    "colab": {
     "base_uri": "https://localhost:8080/",
     "height": 35
    },
    "colab_type": "code",
    "id": "LWCqrM2rpsmP",
    "outputId": "9a9ff1a3-5553-40de-9863-ef8d68e03fff"
   },
   "outputs": [
    {
     "data": {
      "text/html": [
       "0.023651616655356"
      ],
      "text/latex": [
       "0.023651616655356"
      ],
      "text/markdown": [
       "0.023651616655356"
      ],
      "text/plain": [
       "[1] 0.02365162"
      ]
     },
     "metadata": {},
     "output_type": "display_data"
    }
   ],
   "source": [
    "p_valor <- pchisq(chi_2, df = graus_de_liberdade, lower.tail = F)\n",
    "p_valor"
   ]
  },
  {
   "cell_type": "markdown",
   "metadata": {
    "colab_type": "text",
    "id": "WpvavOAVpsmR"
   },
   "source": [
    "#### <font color=red>Documentações:\n",
    "\n",
    "- [**chisq.test**](https://www.rdocumentation.org/packages/stats/versions/3.6.1/topics/chisq.test)"
   ]
  },
  {
   "cell_type": "code",
   "execution_count": 106,
   "metadata": {},
   "outputs": [
    {
     "data": {
      "text/plain": [
       "\n",
       "\tChi-squared test for given probabilities\n",
       "\n",
       "data:  F_Observada\n",
       "X-squared = 5.12, df = 1, p-value = 0.02365\n"
      ]
     },
     "metadata": {},
     "output_type": "display_data"
    }
   ],
   "source": [
    "chisq.test(x = F_Observada)"
   ]
  },
  {
   "cell_type": "code",
   "execution_count": 107,
   "metadata": {},
   "outputs": [
    {
     "data": {
      "text/plain": [
       "\n",
       "\tChi-squared test for given probabilities\n",
       "\n",
       "data:  F_Observada\n",
       "X-squared = 5.12, df = 1, p-value = 0.02365\n"
      ]
     },
     "metadata": {},
     "output_type": "display_data"
    }
   ],
   "source": [
    "resultado <- chisq.test(x = F_Observada, p = c(0.5, 0.5))\n",
    "resultado"
   ]
  },
  {
   "cell_type": "code",
   "execution_count": 108,
   "metadata": {},
   "outputs": [
    {
     "data": {
      "text/html": [
       "<strong>X-squared:</strong> 5.12"
      ],
      "text/latex": [
       "\\textbf{X-squared:} 5.12"
      ],
      "text/markdown": [
       "**X-squared:** 5.12"
      ],
      "text/plain": [
       "X-squared \n",
       "     5.12 "
      ]
     },
     "metadata": {},
     "output_type": "display_data"
    }
   ],
   "source": [
    "resultado$statistic"
   ]
  },
  {
   "cell_type": "code",
   "execution_count": 110,
   "metadata": {},
   "outputs": [
    {
     "data": {
      "text/html": [
       "<strong>df:</strong> 1"
      ],
      "text/latex": [
       "\\textbf{df:} 1"
      ],
      "text/markdown": [
       "**df:** 1"
      ],
      "text/plain": [
       "df \n",
       " 1 "
      ]
     },
     "metadata": {},
     "output_type": "display_data"
    }
   ],
   "source": [
    "resultado$parameter"
   ]
  },
  {
   "cell_type": "code",
   "execution_count": 111,
   "metadata": {},
   "outputs": [
    {
     "data": {
      "text/html": [
       "0.023651616655356"
      ],
      "text/latex": [
       "0.023651616655356"
      ],
      "text/markdown": [
       "0.023651616655356"
      ],
      "text/plain": [
       "[1] 0.02365162"
      ]
     },
     "metadata": {},
     "output_type": "display_data"
    }
   ],
   "source": [
    "p_valor <- resultado$p.value\n",
    "p_valor"
   ]
  },
  {
   "cell_type": "code",
   "execution_count": 112,
   "metadata": {},
   "outputs": [
    {
     "data": {
      "text/html": [
       "<ol class=list-inline>\n",
       "\t<li>17</li>\n",
       "\t<li>33</li>\n",
       "</ol>\n"
      ],
      "text/latex": [
       "\\begin{enumerate*}\n",
       "\\item 17\n",
       "\\item 33\n",
       "\\end{enumerate*}\n"
      ],
      "text/markdown": [
       "1. 17\n",
       "2. 33\n",
       "\n",
       "\n"
      ],
      "text/plain": [
       "[1] 17 33"
      ]
     },
     "metadata": {},
     "output_type": "display_data"
    }
   ],
   "source": [
    "resultado$observed"
   ]
  },
  {
   "cell_type": "code",
   "execution_count": 113,
   "metadata": {},
   "outputs": [
    {
     "data": {
      "text/html": [
       "<ol class=list-inline>\n",
       "\t<li>25</li>\n",
       "\t<li>25</li>\n",
       "</ol>\n"
      ],
      "text/latex": [
       "\\begin{enumerate*}\n",
       "\\item 25\n",
       "\\item 25\n",
       "\\end{enumerate*}\n"
      ],
      "text/markdown": [
       "1. 25\n",
       "2. 25\n",
       "\n",
       "\n"
      ],
      "text/plain": [
       "[1] 25 25"
      ]
     },
     "metadata": {},
     "output_type": "display_data"
    }
   ],
   "source": [
    "resultado$expected"
   ]
  },
  {
   "cell_type": "code",
   "execution_count": 114,
   "metadata": {
    "colab": {
     "base_uri": "https://localhost:8080/",
     "height": 35
    },
    "colab_type": "code",
    "id": "reKBubKWpsmT",
    "outputId": "69394a7b-9acb-4ce2-fea4-f51a05c9b39f"
   },
   "outputs": [
    {
     "data": {
      "text/html": [
       "TRUE"
      ],
      "text/latex": [
       "TRUE"
      ],
      "text/markdown": [
       "TRUE"
      ],
      "text/plain": [
       "[1] TRUE"
      ]
     },
     "metadata": {},
     "output_type": "display_data"
    }
   ],
   "source": [
    "p_valor <= significancia"
   ]
  },
  {
   "cell_type": "markdown",
   "metadata": {
    "colab_type": "text",
    "id": "WlHU5fNNpsmU"
   },
   "source": [
    "---"
   ]
  },
  {
   "cell_type": "markdown",
   "metadata": {
    "colab_type": "text",
    "id": "PUXdBJ9FpsmU"
   },
   "source": [
    "## <font color='red'>Problema</font>"
   ]
  },
  {
   "cell_type": "markdown",
   "metadata": {
    "colab_type": "text",
    "id": "DXvJ2JnKpsmU"
   },
   "source": [
    "Um novo tratamento para acabar com o hábito de fumar está sendo empregado em um grupo de **35 pacientes** voluntários. De cada paciente testado foram obtidas as informações de quantidades de cigarros consumidos por dia antes e depois do término do tratamento. Assumindo um **nível de confiança de 95%** é possível concluir que, depois da aplicação do novo tratamento, houve uma mudança no hábito de fumar do grupo de pacientes testado?"
   ]
  },
  {
   "cell_type": "markdown",
   "metadata": {
    "colab_type": "text",
    "id": "BqE_PN7IpsmU"
   },
   "source": [
    "## <font color=green>4.2 Teste Wilcoxon</font>\n",
    "### Comparação de duas populações - amostras dependentes\n",
    "***"
   ]
  },
  {
   "cell_type": "markdown",
   "metadata": {
    "colab_type": "text",
    "id": "1MxFBYB-psmU"
   },
   "source": [
    "Empregado quando se deseja comparar duas amostras relacionadas, amostras emparelhadas. Pode ser aplicado quando se deseja testar a diferença de duas condições, isto é, quando um mesmo elemento é submetido a duas medidas."
   ]
  },
  {
   "cell_type": "markdown",
   "metadata": {},
   "source": [
    "#### <font color=red>Documentações:\n",
    "\n",
    "- [**aggregate**](https://www.rdocumentation.org/packages/stats/versions/3.6.1/topics/aggregate)\n",
    "- [**merge**](https://www.rdocumentation.org/packages/base/versions/3.6.1/topics/merge)\n",
    "- [**apply**](https://www.rdocumentation.org/packages/base/versions/3.6.1/topics/apply)\n",
    "- [**Extremes**](https://www.rdocumentation.org/packages/base/versions/3.6.1/topics/Extremes)\n",
    "- [**sum**](https://www.rdocumentation.org/packages/base/versions/3.6.1/topics/sum)"
   ]
  },
  {
   "cell_type": "markdown",
   "metadata": {
    "colab_type": "text",
    "id": "3H67Y7P7psmV"
   },
   "source": [
    "### Dados do problema"
   ]
  },
  {
   "cell_type": "code",
   "execution_count": 115,
   "metadata": {
    "colab": {},
    "colab_type": "code",
    "id": "JBh5-HrnpsmV"
   },
   "outputs": [],
   "source": [
    "fumo <- data.frame(\n",
    "    Antes = c(39, 25, 24, 50, 13, 52, 21, 29, 10, 22, 50, 15, 36, 39, 52, 48, 24, 15, 40, 41, 17, 12, 21, 49, 14, 55, 46, 22, 28, 23, 37, 17, 31, 49, 49),\n",
    "    Depois = c(16, 8, 12, 0, 14, 16, 13, 12, 19, 17, 17, 2, 15, 10, 20, 13, 0, 4, 16, 18, 16, 16, 9, 9, 18, 4, 17, 0, 11, 14, 0, 19, 2, 9, 6)\n",
    ")\n",
    "significancia <- 0.05\n",
    "confianca <- 1 - significancia\n",
    "n <- 35"
   ]
  },
  {
   "cell_type": "code",
   "execution_count": 116,
   "metadata": {
    "colab": {
     "base_uri": "https://localhost:8080/",
     "height": 204
    },
    "colab_type": "code",
    "id": "AfEGWBp1psmW",
    "outputId": "b68e51d1-b307-432f-8658-4642285f3725",
    "scrolled": true
   },
   "outputs": [
    {
     "data": {
      "text/html": [
       "<table>\n",
       "<caption>A data.frame: 6 x 2</caption>\n",
       "<thead>\n",
       "\t<tr><th scope=col>Antes</th><th scope=col>Depois</th></tr>\n",
       "\t<tr><th scope=col>&lt;dbl&gt;</th><th scope=col>&lt;dbl&gt;</th></tr>\n",
       "</thead>\n",
       "<tbody>\n",
       "\t<tr><td>39</td><td>16</td></tr>\n",
       "\t<tr><td>25</td><td> 8</td></tr>\n",
       "\t<tr><td>24</td><td>12</td></tr>\n",
       "\t<tr><td>50</td><td> 0</td></tr>\n",
       "\t<tr><td>13</td><td>14</td></tr>\n",
       "\t<tr><td>52</td><td>16</td></tr>\n",
       "</tbody>\n",
       "</table>\n"
      ],
      "text/latex": [
       "A data.frame: 6 x 2\n",
       "\\begin{tabular}{r|ll}\n",
       " Antes & Depois\\\\\n",
       " <dbl> & <dbl>\\\\\n",
       "\\hline\n",
       "\t 39 & 16\\\\\n",
       "\t 25 &  8\\\\\n",
       "\t 24 & 12\\\\\n",
       "\t 50 &  0\\\\\n",
       "\t 13 & 14\\\\\n",
       "\t 52 & 16\\\\\n",
       "\\end{tabular}\n"
      ],
      "text/markdown": [
       "\n",
       "A data.frame: 6 x 2\n",
       "\n",
       "| Antes &lt;dbl&gt; | Depois &lt;dbl&gt; |\n",
       "|---|---|\n",
       "| 39 | 16 |\n",
       "| 25 |  8 |\n",
       "| 24 | 12 |\n",
       "| 50 |  0 |\n",
       "| 13 | 14 |\n",
       "| 52 | 16 |\n",
       "\n"
      ],
      "text/plain": [
       "  Antes Depois\n",
       "1 39    16    \n",
       "2 25     8    \n",
       "3 24    12    \n",
       "4 50     0    \n",
       "5 13    14    \n",
       "6 52    16    "
      ]
     },
     "metadata": {},
     "output_type": "display_data"
    }
   ],
   "source": [
    "head(fumo)"
   ]
  },
  {
   "cell_type": "code",
   "execution_count": 117,
   "metadata": {
    "colab": {
     "base_uri": "https://localhost:8080/",
     "height": 35
    },
    "colab_type": "code",
    "id": "oNQvLLR8psmX",
    "outputId": "434a1498-67cb-47fd-b87a-f68bd05a923d"
   },
   "outputs": [
    {
     "data": {
      "text/html": [
       "31.8571428571429"
      ],
      "text/latex": [
       "31.8571428571429"
      ],
      "text/markdown": [
       "31.8571428571429"
      ],
      "text/plain": [
       "[1] 31.85714"
      ]
     },
     "metadata": {},
     "output_type": "display_data"
    }
   ],
   "source": [
    "media_antes <- mean(fumo$Antes)\n",
    "media_antes"
   ]
  },
  {
   "cell_type": "code",
   "execution_count": 118,
   "metadata": {
    "colab": {
     "base_uri": "https://localhost:8080/",
     "height": 35
    },
    "colab_type": "code",
    "id": "wOgIYP0upsmZ",
    "outputId": "926b067c-2ea2-407b-edba-c57075fa5c94"
   },
   "outputs": [
    {
     "data": {
      "text/html": [
       "11.2"
      ],
      "text/latex": [
       "11.2"
      ],
      "text/markdown": [
       "11.2"
      ],
      "text/plain": [
       "[1] 11.2"
      ]
     },
     "metadata": {},
     "output_type": "display_data"
    }
   ],
   "source": [
    "media_depois <- mean(fumo$Depois)\n",
    "media_depois"
   ]
  },
  {
   "cell_type": "markdown",
   "metadata": {
    "colab_type": "text",
    "id": "gvnOmelVpsma"
   },
   "source": [
    "### **Passo 1** - formulação das hipóteses $H_0$ e $H_1$\n",
    "\n",
    "#### <font color='red'>Lembre-se, a hipótese nula sempre contém a alegação de igualdade</font>"
   ]
  },
  {
   "cell_type": "markdown",
   "metadata": {
    "colab_type": "text",
    "id": "1AXOiD_epsma"
   },
   "source": [
    "### $H_0: \\mu_{antes} = \\mu_{depois}$\n",
    "\n",
    "### $H_1: \\mu_{antes} > \\mu_{depois}$"
   ]
  },
  {
   "cell_type": "markdown",
   "metadata": {
    "colab_type": "text",
    "id": "degUD6b2psmb"
   },
   "source": [
    "---"
   ]
  },
  {
   "cell_type": "markdown",
   "metadata": {
    "colab_type": "text",
    "id": "3jrV_c2Opsmb"
   },
   "source": [
    "### **Passo 2** - escolha da distribuição amostral adequada"
   ]
  },
  {
   "cell_type": "markdown",
   "metadata": {
    "colab_type": "text",
    "id": "vF-9xAPzpsmc"
   },
   "source": [
    "### O tamanho da amostra é maior que 30?\n",
    "#### Resp.: Sim"
   ]
  },
  {
   "cell_type": "markdown",
   "metadata": {
    "colab_type": "text",
    "id": "tvxXutrGpsmc"
   },
   "source": [
    "---"
   ]
  },
  {
   "cell_type": "markdown",
   "metadata": {
    "colab_type": "text",
    "id": "aihd76Wkpsmc"
   },
   "source": [
    "### **Passo 3** - fixação da significância do teste ($\\alpha$)"
   ]
  },
  {
   "cell_type": "markdown",
   "metadata": {
    "colab_type": "text",
    "id": "XF6AA8qLpsmc"
   },
   "source": [
    "### Obtendo $z_{\\alpha/2}$"
   ]
  },
  {
   "cell_type": "code",
   "execution_count": 119,
   "metadata": {
    "colab": {
     "base_uri": "https://localhost:8080/",
     "height": 35
    },
    "colab_type": "code",
    "id": "UsRrnCnXpsmd",
    "outputId": "969dfd46-755b-496b-b84a-1d3e9d565ed2"
   },
   "outputs": [
    {
     "data": {
      "text/html": [
       "0.975"
      ],
      "text/latex": [
       "0.975"
      ],
      "text/markdown": [
       "0.975"
      ],
      "text/plain": [
       "[1] 0.975"
      ]
     },
     "metadata": {},
     "output_type": "display_data"
    }
   ],
   "source": [
    "probabilidade <- (0.5 + (confianca / 2))\n",
    "probabilidade"
   ]
  },
  {
   "cell_type": "code",
   "execution_count": 120,
   "metadata": {},
   "outputs": [
    {
     "data": {
      "text/html": [
       "1.95996398454005"
      ],
      "text/latex": [
       "1.95996398454005"
      ],
      "text/markdown": [
       "1.95996398454005"
      ],
      "text/plain": [
       "[1] 1.959964"
      ]
     },
     "metadata": {},
     "output_type": "display_data"
    }
   ],
   "source": [
    "z_alpha_2 <- qnorm(probabilidade)\n",
    "z_alpha_2"
   ]
  },
  {
   "cell_type": "markdown",
   "metadata": {
    "colab_type": "text",
    "id": "S2dqQHQJpsmf"
   },
   "source": [
    "![Região de Aceitação](https://caelum-online-public.s3.amazonaws.com/1229-estatistica-parte3/01/img006.png)"
   ]
  },
  {
   "cell_type": "markdown",
   "metadata": {
    "colab_type": "text",
    "id": "z0iEZ685psmf"
   },
   "source": [
    "---"
   ]
  },
  {
   "cell_type": "markdown",
   "metadata": {
    "colab_type": "text",
    "id": "zpYLf-dZpsmg"
   },
   "source": [
    "### **Passo 4** - cálculo da estatística-teste e verificação desse valor com as áreas de aceitação e rejeição do teste\n",
    "\n",
    "# $$Z = \\frac{T - \\mu_T}{\\sigma_T}$$\n",
    "\n",
    "Onde\n",
    "\n",
    "## $T$ = menor das somas de postos de mesmo sinal\n",
    "\n",
    "# $$\\mu_T = \\frac{n(n+1)}{4}$$\n",
    "# $$\\sigma_T = \\sqrt{\\frac{n(n + 1)(2n + 1)}{24}}$$"
   ]
  },
  {
   "cell_type": "markdown",
   "metadata": {
    "colab_type": "text",
    "id": "ZTY9IuIIpsmg"
   },
   "source": [
    "### Construindo a tabela com os postos"
   ]
  },
  {
   "cell_type": "code",
   "execution_count": 121,
   "metadata": {
    "colab": {
     "base_uri": "https://localhost:8080/",
     "height": 1134
    },
    "colab_type": "code",
    "id": "o0fp6m3iqIlu",
    "outputId": "af1f1a0d-c2e7-478c-b637-71a520cc9a2c",
    "scrolled": true
   },
   "outputs": [
    {
     "data": {
      "text/html": [
       "<table>\n",
       "<caption>A data.frame: 35 x 2</caption>\n",
       "<thead>\n",
       "\t<tr><th scope=col>Antes</th><th scope=col>Depois</th></tr>\n",
       "\t<tr><th scope=col>&lt;dbl&gt;</th><th scope=col>&lt;dbl&gt;</th></tr>\n",
       "</thead>\n",
       "<tbody>\n",
       "\t<tr><td>39</td><td>16</td></tr>\n",
       "\t<tr><td>25</td><td> 8</td></tr>\n",
       "\t<tr><td>24</td><td>12</td></tr>\n",
       "\t<tr><td>50</td><td> 0</td></tr>\n",
       "\t<tr><td>13</td><td>14</td></tr>\n",
       "\t<tr><td>52</td><td>16</td></tr>\n",
       "\t<tr><td>21</td><td>13</td></tr>\n",
       "\t<tr><td>29</td><td>12</td></tr>\n",
       "\t<tr><td>10</td><td>19</td></tr>\n",
       "\t<tr><td>22</td><td>17</td></tr>\n",
       "\t<tr><td>50</td><td>17</td></tr>\n",
       "\t<tr><td>15</td><td> 2</td></tr>\n",
       "\t<tr><td>36</td><td>15</td></tr>\n",
       "\t<tr><td>39</td><td>10</td></tr>\n",
       "\t<tr><td>52</td><td>20</td></tr>\n",
       "\t<tr><td>48</td><td>13</td></tr>\n",
       "\t<tr><td>24</td><td> 0</td></tr>\n",
       "\t<tr><td>15</td><td> 4</td></tr>\n",
       "\t<tr><td>40</td><td>16</td></tr>\n",
       "\t<tr><td>41</td><td>18</td></tr>\n",
       "\t<tr><td>17</td><td>16</td></tr>\n",
       "\t<tr><td>12</td><td>16</td></tr>\n",
       "\t<tr><td>21</td><td> 9</td></tr>\n",
       "\t<tr><td>49</td><td> 9</td></tr>\n",
       "\t<tr><td>14</td><td>18</td></tr>\n",
       "\t<tr><td>55</td><td> 4</td></tr>\n",
       "\t<tr><td>46</td><td>17</td></tr>\n",
       "\t<tr><td>22</td><td> 0</td></tr>\n",
       "\t<tr><td>28</td><td>11</td></tr>\n",
       "\t<tr><td>23</td><td>14</td></tr>\n",
       "\t<tr><td>37</td><td> 0</td></tr>\n",
       "\t<tr><td>17</td><td>19</td></tr>\n",
       "\t<tr><td>31</td><td> 2</td></tr>\n",
       "\t<tr><td>49</td><td> 9</td></tr>\n",
       "\t<tr><td>49</td><td> 6</td></tr>\n",
       "</tbody>\n",
       "</table>\n"
      ],
      "text/latex": [
       "A data.frame: 35 x 2\n",
       "\\begin{tabular}{r|ll}\n",
       " Antes & Depois\\\\\n",
       " <dbl> & <dbl>\\\\\n",
       "\\hline\n",
       "\t 39 & 16\\\\\n",
       "\t 25 &  8\\\\\n",
       "\t 24 & 12\\\\\n",
       "\t 50 &  0\\\\\n",
       "\t 13 & 14\\\\\n",
       "\t 52 & 16\\\\\n",
       "\t 21 & 13\\\\\n",
       "\t 29 & 12\\\\\n",
       "\t 10 & 19\\\\\n",
       "\t 22 & 17\\\\\n",
       "\t 50 & 17\\\\\n",
       "\t 15 &  2\\\\\n",
       "\t 36 & 15\\\\\n",
       "\t 39 & 10\\\\\n",
       "\t 52 & 20\\\\\n",
       "\t 48 & 13\\\\\n",
       "\t 24 &  0\\\\\n",
       "\t 15 &  4\\\\\n",
       "\t 40 & 16\\\\\n",
       "\t 41 & 18\\\\\n",
       "\t 17 & 16\\\\\n",
       "\t 12 & 16\\\\\n",
       "\t 21 &  9\\\\\n",
       "\t 49 &  9\\\\\n",
       "\t 14 & 18\\\\\n",
       "\t 55 &  4\\\\\n",
       "\t 46 & 17\\\\\n",
       "\t 22 &  0\\\\\n",
       "\t 28 & 11\\\\\n",
       "\t 23 & 14\\\\\n",
       "\t 37 &  0\\\\\n",
       "\t 17 & 19\\\\\n",
       "\t 31 &  2\\\\\n",
       "\t 49 &  9\\\\\n",
       "\t 49 &  6\\\\\n",
       "\\end{tabular}\n"
      ],
      "text/markdown": [
       "\n",
       "A data.frame: 35 x 2\n",
       "\n",
       "| Antes &lt;dbl&gt; | Depois &lt;dbl&gt; |\n",
       "|---|---|\n",
       "| 39 | 16 |\n",
       "| 25 |  8 |\n",
       "| 24 | 12 |\n",
       "| 50 |  0 |\n",
       "| 13 | 14 |\n",
       "| 52 | 16 |\n",
       "| 21 | 13 |\n",
       "| 29 | 12 |\n",
       "| 10 | 19 |\n",
       "| 22 | 17 |\n",
       "| 50 | 17 |\n",
       "| 15 |  2 |\n",
       "| 36 | 15 |\n",
       "| 39 | 10 |\n",
       "| 52 | 20 |\n",
       "| 48 | 13 |\n",
       "| 24 |  0 |\n",
       "| 15 |  4 |\n",
       "| 40 | 16 |\n",
       "| 41 | 18 |\n",
       "| 17 | 16 |\n",
       "| 12 | 16 |\n",
       "| 21 |  9 |\n",
       "| 49 |  9 |\n",
       "| 14 | 18 |\n",
       "| 55 |  4 |\n",
       "| 46 | 17 |\n",
       "| 22 |  0 |\n",
       "| 28 | 11 |\n",
       "| 23 | 14 |\n",
       "| 37 |  0 |\n",
       "| 17 | 19 |\n",
       "| 31 |  2 |\n",
       "| 49 |  9 |\n",
       "| 49 |  6 |\n",
       "\n"
      ],
      "text/plain": [
       "   Antes Depois\n",
       "1  39    16    \n",
       "2  25     8    \n",
       "3  24    12    \n",
       "4  50     0    \n",
       "5  13    14    \n",
       "6  52    16    \n",
       "7  21    13    \n",
       "8  29    12    \n",
       "9  10    19    \n",
       "10 22    17    \n",
       "11 50    17    \n",
       "12 15     2    \n",
       "13 36    15    \n",
       "14 39    10    \n",
       "15 52    20    \n",
       "16 48    13    \n",
       "17 24     0    \n",
       "18 15     4    \n",
       "19 40    16    \n",
       "20 41    18    \n",
       "21 17    16    \n",
       "22 12    16    \n",
       "23 21     9    \n",
       "24 49     9    \n",
       "25 14    18    \n",
       "26 55     4    \n",
       "27 46    17    \n",
       "28 22     0    \n",
       "29 28    11    \n",
       "30 23    14    \n",
       "31 37     0    \n",
       "32 17    19    \n",
       "33 31     2    \n",
       "34 49     9    \n",
       "35 49     6    "
      ]
     },
     "metadata": {},
     "output_type": "display_data"
    }
   ],
   "source": [
    "fumo"
   ]
  },
  {
   "cell_type": "code",
   "execution_count": 122,
   "metadata": {
    "colab": {
     "base_uri": "https://localhost:8080/",
     "height": 1134
    },
    "colab_type": "code",
    "id": "T4KmZijZotWj",
    "outputId": "97779ef9-8387-43d3-c41a-76b01cc7d52c",
    "scrolled": true
   },
   "outputs": [
    {
     "data": {
      "text/html": [
       "<table>\n",
       "<caption>A data.frame: 35 x 3</caption>\n",
       "<thead>\n",
       "\t<tr><th scope=col>Antes</th><th scope=col>Depois</th><th scope=col>Dif</th></tr>\n",
       "\t<tr><th scope=col>&lt;dbl&gt;</th><th scope=col>&lt;dbl&gt;</th><th scope=col>&lt;dbl&gt;</th></tr>\n",
       "</thead>\n",
       "<tbody>\n",
       "\t<tr><td>39</td><td>16</td><td>-23</td></tr>\n",
       "\t<tr><td>25</td><td> 8</td><td>-17</td></tr>\n",
       "\t<tr><td>24</td><td>12</td><td>-12</td></tr>\n",
       "\t<tr><td>50</td><td> 0</td><td>-50</td></tr>\n",
       "\t<tr><td>13</td><td>14</td><td>  1</td></tr>\n",
       "\t<tr><td>52</td><td>16</td><td>-36</td></tr>\n",
       "\t<tr><td>21</td><td>13</td><td> -8</td></tr>\n",
       "\t<tr><td>29</td><td>12</td><td>-17</td></tr>\n",
       "\t<tr><td>10</td><td>19</td><td>  9</td></tr>\n",
       "\t<tr><td>22</td><td>17</td><td> -5</td></tr>\n",
       "\t<tr><td>50</td><td>17</td><td>-33</td></tr>\n",
       "\t<tr><td>15</td><td> 2</td><td>-13</td></tr>\n",
       "\t<tr><td>36</td><td>15</td><td>-21</td></tr>\n",
       "\t<tr><td>39</td><td>10</td><td>-29</td></tr>\n",
       "\t<tr><td>52</td><td>20</td><td>-32</td></tr>\n",
       "\t<tr><td>48</td><td>13</td><td>-35</td></tr>\n",
       "\t<tr><td>24</td><td> 0</td><td>-24</td></tr>\n",
       "\t<tr><td>15</td><td> 4</td><td>-11</td></tr>\n",
       "\t<tr><td>40</td><td>16</td><td>-24</td></tr>\n",
       "\t<tr><td>41</td><td>18</td><td>-23</td></tr>\n",
       "\t<tr><td>17</td><td>16</td><td> -1</td></tr>\n",
       "\t<tr><td>12</td><td>16</td><td>  4</td></tr>\n",
       "\t<tr><td>21</td><td> 9</td><td>-12</td></tr>\n",
       "\t<tr><td>49</td><td> 9</td><td>-40</td></tr>\n",
       "\t<tr><td>14</td><td>18</td><td>  4</td></tr>\n",
       "\t<tr><td>55</td><td> 4</td><td>-51</td></tr>\n",
       "\t<tr><td>46</td><td>17</td><td>-29</td></tr>\n",
       "\t<tr><td>22</td><td> 0</td><td>-22</td></tr>\n",
       "\t<tr><td>28</td><td>11</td><td>-17</td></tr>\n",
       "\t<tr><td>23</td><td>14</td><td> -9</td></tr>\n",
       "\t<tr><td>37</td><td> 0</td><td>-37</td></tr>\n",
       "\t<tr><td>17</td><td>19</td><td>  2</td></tr>\n",
       "\t<tr><td>31</td><td> 2</td><td>-29</td></tr>\n",
       "\t<tr><td>49</td><td> 9</td><td>-40</td></tr>\n",
       "\t<tr><td>49</td><td> 6</td><td>-43</td></tr>\n",
       "</tbody>\n",
       "</table>\n"
      ],
      "text/latex": [
       "A data.frame: 35 x 3\n",
       "\\begin{tabular}{r|lll}\n",
       " Antes & Depois & Dif\\\\\n",
       " <dbl> & <dbl> & <dbl>\\\\\n",
       "\\hline\n",
       "\t 39 & 16 & -23\\\\\n",
       "\t 25 &  8 & -17\\\\\n",
       "\t 24 & 12 & -12\\\\\n",
       "\t 50 &  0 & -50\\\\\n",
       "\t 13 & 14 &   1\\\\\n",
       "\t 52 & 16 & -36\\\\\n",
       "\t 21 & 13 &  -8\\\\\n",
       "\t 29 & 12 & -17\\\\\n",
       "\t 10 & 19 &   9\\\\\n",
       "\t 22 & 17 &  -5\\\\\n",
       "\t 50 & 17 & -33\\\\\n",
       "\t 15 &  2 & -13\\\\\n",
       "\t 36 & 15 & -21\\\\\n",
       "\t 39 & 10 & -29\\\\\n",
       "\t 52 & 20 & -32\\\\\n",
       "\t 48 & 13 & -35\\\\\n",
       "\t 24 &  0 & -24\\\\\n",
       "\t 15 &  4 & -11\\\\\n",
       "\t 40 & 16 & -24\\\\\n",
       "\t 41 & 18 & -23\\\\\n",
       "\t 17 & 16 &  -1\\\\\n",
       "\t 12 & 16 &   4\\\\\n",
       "\t 21 &  9 & -12\\\\\n",
       "\t 49 &  9 & -40\\\\\n",
       "\t 14 & 18 &   4\\\\\n",
       "\t 55 &  4 & -51\\\\\n",
       "\t 46 & 17 & -29\\\\\n",
       "\t 22 &  0 & -22\\\\\n",
       "\t 28 & 11 & -17\\\\\n",
       "\t 23 & 14 &  -9\\\\\n",
       "\t 37 &  0 & -37\\\\\n",
       "\t 17 & 19 &   2\\\\\n",
       "\t 31 &  2 & -29\\\\\n",
       "\t 49 &  9 & -40\\\\\n",
       "\t 49 &  6 & -43\\\\\n",
       "\\end{tabular}\n"
      ],
      "text/markdown": [
       "\n",
       "A data.frame: 35 x 3\n",
       "\n",
       "| Antes &lt;dbl&gt; | Depois &lt;dbl&gt; | Dif &lt;dbl&gt; |\n",
       "|---|---|---|\n",
       "| 39 | 16 | -23 |\n",
       "| 25 |  8 | -17 |\n",
       "| 24 | 12 | -12 |\n",
       "| 50 |  0 | -50 |\n",
       "| 13 | 14 |   1 |\n",
       "| 52 | 16 | -36 |\n",
       "| 21 | 13 |  -8 |\n",
       "| 29 | 12 | -17 |\n",
       "| 10 | 19 |   9 |\n",
       "| 22 | 17 |  -5 |\n",
       "| 50 | 17 | -33 |\n",
       "| 15 |  2 | -13 |\n",
       "| 36 | 15 | -21 |\n",
       "| 39 | 10 | -29 |\n",
       "| 52 | 20 | -32 |\n",
       "| 48 | 13 | -35 |\n",
       "| 24 |  0 | -24 |\n",
       "| 15 |  4 | -11 |\n",
       "| 40 | 16 | -24 |\n",
       "| 41 | 18 | -23 |\n",
       "| 17 | 16 |  -1 |\n",
       "| 12 | 16 |   4 |\n",
       "| 21 |  9 | -12 |\n",
       "| 49 |  9 | -40 |\n",
       "| 14 | 18 |   4 |\n",
       "| 55 |  4 | -51 |\n",
       "| 46 | 17 | -29 |\n",
       "| 22 |  0 | -22 |\n",
       "| 28 | 11 | -17 |\n",
       "| 23 | 14 |  -9 |\n",
       "| 37 |  0 | -37 |\n",
       "| 17 | 19 |   2 |\n",
       "| 31 |  2 | -29 |\n",
       "| 49 |  9 | -40 |\n",
       "| 49 |  6 | -43 |\n",
       "\n"
      ],
      "text/plain": [
       "   Antes Depois Dif\n",
       "1  39    16     -23\n",
       "2  25     8     -17\n",
       "3  24    12     -12\n",
       "4  50     0     -50\n",
       "5  13    14       1\n",
       "6  52    16     -36\n",
       "7  21    13      -8\n",
       "8  29    12     -17\n",
       "9  10    19       9\n",
       "10 22    17      -5\n",
       "11 50    17     -33\n",
       "12 15     2     -13\n",
       "13 36    15     -21\n",
       "14 39    10     -29\n",
       "15 52    20     -32\n",
       "16 48    13     -35\n",
       "17 24     0     -24\n",
       "18 15     4     -11\n",
       "19 40    16     -24\n",
       "20 41    18     -23\n",
       "21 17    16      -1\n",
       "22 12    16       4\n",
       "23 21     9     -12\n",
       "24 49     9     -40\n",
       "25 14    18       4\n",
       "26 55     4     -51\n",
       "27 46    17     -29\n",
       "28 22     0     -22\n",
       "29 28    11     -17\n",
       "30 23    14      -9\n",
       "31 37     0     -37\n",
       "32 17    19       2\n",
       "33 31     2     -29\n",
       "34 49     9     -40\n",
       "35 49     6     -43"
      ]
     },
     "metadata": {},
     "output_type": "display_data"
    }
   ],
   "source": [
    "fumo['Dif'] <- fumo$Depois - fumo$Antes\n",
    "fumo"
   ]
  },
  {
   "cell_type": "code",
   "execution_count": 123,
   "metadata": {
    "colab": {
     "base_uri": "https://localhost:8080/",
     "height": 1134
    },
    "colab_type": "code",
    "id": "c4fvYVrdotTL",
    "outputId": "a0da369c-d29f-40c1-e8e6-ff715c14e3e3",
    "scrolled": true
   },
   "outputs": [
    {
     "data": {
      "text/html": [
       "<table>\n",
       "<caption>A data.frame: 35 x 4</caption>\n",
       "<thead>\n",
       "\t<tr><th scope=col>Antes</th><th scope=col>Depois</th><th scope=col>Dif</th><th scope=col>|Dif|</th></tr>\n",
       "\t<tr><th scope=col>&lt;dbl&gt;</th><th scope=col>&lt;dbl&gt;</th><th scope=col>&lt;dbl&gt;</th><th scope=col>&lt;dbl&gt;</th></tr>\n",
       "</thead>\n",
       "<tbody>\n",
       "\t<tr><td>39</td><td>16</td><td>-23</td><td>23</td></tr>\n",
       "\t<tr><td>25</td><td> 8</td><td>-17</td><td>17</td></tr>\n",
       "\t<tr><td>24</td><td>12</td><td>-12</td><td>12</td></tr>\n",
       "\t<tr><td>50</td><td> 0</td><td>-50</td><td>50</td></tr>\n",
       "\t<tr><td>13</td><td>14</td><td>  1</td><td> 1</td></tr>\n",
       "\t<tr><td>52</td><td>16</td><td>-36</td><td>36</td></tr>\n",
       "\t<tr><td>21</td><td>13</td><td> -8</td><td> 8</td></tr>\n",
       "\t<tr><td>29</td><td>12</td><td>-17</td><td>17</td></tr>\n",
       "\t<tr><td>10</td><td>19</td><td>  9</td><td> 9</td></tr>\n",
       "\t<tr><td>22</td><td>17</td><td> -5</td><td> 5</td></tr>\n",
       "\t<tr><td>50</td><td>17</td><td>-33</td><td>33</td></tr>\n",
       "\t<tr><td>15</td><td> 2</td><td>-13</td><td>13</td></tr>\n",
       "\t<tr><td>36</td><td>15</td><td>-21</td><td>21</td></tr>\n",
       "\t<tr><td>39</td><td>10</td><td>-29</td><td>29</td></tr>\n",
       "\t<tr><td>52</td><td>20</td><td>-32</td><td>32</td></tr>\n",
       "\t<tr><td>48</td><td>13</td><td>-35</td><td>35</td></tr>\n",
       "\t<tr><td>24</td><td> 0</td><td>-24</td><td>24</td></tr>\n",
       "\t<tr><td>15</td><td> 4</td><td>-11</td><td>11</td></tr>\n",
       "\t<tr><td>40</td><td>16</td><td>-24</td><td>24</td></tr>\n",
       "\t<tr><td>41</td><td>18</td><td>-23</td><td>23</td></tr>\n",
       "\t<tr><td>17</td><td>16</td><td> -1</td><td> 1</td></tr>\n",
       "\t<tr><td>12</td><td>16</td><td>  4</td><td> 4</td></tr>\n",
       "\t<tr><td>21</td><td> 9</td><td>-12</td><td>12</td></tr>\n",
       "\t<tr><td>49</td><td> 9</td><td>-40</td><td>40</td></tr>\n",
       "\t<tr><td>14</td><td>18</td><td>  4</td><td> 4</td></tr>\n",
       "\t<tr><td>55</td><td> 4</td><td>-51</td><td>51</td></tr>\n",
       "\t<tr><td>46</td><td>17</td><td>-29</td><td>29</td></tr>\n",
       "\t<tr><td>22</td><td> 0</td><td>-22</td><td>22</td></tr>\n",
       "\t<tr><td>28</td><td>11</td><td>-17</td><td>17</td></tr>\n",
       "\t<tr><td>23</td><td>14</td><td> -9</td><td> 9</td></tr>\n",
       "\t<tr><td>37</td><td> 0</td><td>-37</td><td>37</td></tr>\n",
       "\t<tr><td>17</td><td>19</td><td>  2</td><td> 2</td></tr>\n",
       "\t<tr><td>31</td><td> 2</td><td>-29</td><td>29</td></tr>\n",
       "\t<tr><td>49</td><td> 9</td><td>-40</td><td>40</td></tr>\n",
       "\t<tr><td>49</td><td> 6</td><td>-43</td><td>43</td></tr>\n",
       "</tbody>\n",
       "</table>\n"
      ],
      "text/latex": [
       "A data.frame: 35 x 4\n",
       "\\begin{tabular}{r|llll}\n",
       " Antes & Depois & Dif & \\textbar{}Dif\\textbar{}\\\\\n",
       " <dbl> & <dbl> & <dbl> & <dbl>\\\\\n",
       "\\hline\n",
       "\t 39 & 16 & -23 & 23\\\\\n",
       "\t 25 &  8 & -17 & 17\\\\\n",
       "\t 24 & 12 & -12 & 12\\\\\n",
       "\t 50 &  0 & -50 & 50\\\\\n",
       "\t 13 & 14 &   1 &  1\\\\\n",
       "\t 52 & 16 & -36 & 36\\\\\n",
       "\t 21 & 13 &  -8 &  8\\\\\n",
       "\t 29 & 12 & -17 & 17\\\\\n",
       "\t 10 & 19 &   9 &  9\\\\\n",
       "\t 22 & 17 &  -5 &  5\\\\\n",
       "\t 50 & 17 & -33 & 33\\\\\n",
       "\t 15 &  2 & -13 & 13\\\\\n",
       "\t 36 & 15 & -21 & 21\\\\\n",
       "\t 39 & 10 & -29 & 29\\\\\n",
       "\t 52 & 20 & -32 & 32\\\\\n",
       "\t 48 & 13 & -35 & 35\\\\\n",
       "\t 24 &  0 & -24 & 24\\\\\n",
       "\t 15 &  4 & -11 & 11\\\\\n",
       "\t 40 & 16 & -24 & 24\\\\\n",
       "\t 41 & 18 & -23 & 23\\\\\n",
       "\t 17 & 16 &  -1 &  1\\\\\n",
       "\t 12 & 16 &   4 &  4\\\\\n",
       "\t 21 &  9 & -12 & 12\\\\\n",
       "\t 49 &  9 & -40 & 40\\\\\n",
       "\t 14 & 18 &   4 &  4\\\\\n",
       "\t 55 &  4 & -51 & 51\\\\\n",
       "\t 46 & 17 & -29 & 29\\\\\n",
       "\t 22 &  0 & -22 & 22\\\\\n",
       "\t 28 & 11 & -17 & 17\\\\\n",
       "\t 23 & 14 &  -9 &  9\\\\\n",
       "\t 37 &  0 & -37 & 37\\\\\n",
       "\t 17 & 19 &   2 &  2\\\\\n",
       "\t 31 &  2 & -29 & 29\\\\\n",
       "\t 49 &  9 & -40 & 40\\\\\n",
       "\t 49 &  6 & -43 & 43\\\\\n",
       "\\end{tabular}\n"
      ],
      "text/markdown": [
       "\n",
       "A data.frame: 35 x 4\n",
       "\n",
       "| Antes &lt;dbl&gt; | Depois &lt;dbl&gt; | Dif &lt;dbl&gt; | |Dif| &lt;dbl&gt; |\n",
       "|---|---|---|---|\n",
       "| 39 | 16 | -23 | 23 |\n",
       "| 25 |  8 | -17 | 17 |\n",
       "| 24 | 12 | -12 | 12 |\n",
       "| 50 |  0 | -50 | 50 |\n",
       "| 13 | 14 |   1 |  1 |\n",
       "| 52 | 16 | -36 | 36 |\n",
       "| 21 | 13 |  -8 |  8 |\n",
       "| 29 | 12 | -17 | 17 |\n",
       "| 10 | 19 |   9 |  9 |\n",
       "| 22 | 17 |  -5 |  5 |\n",
       "| 50 | 17 | -33 | 33 |\n",
       "| 15 |  2 | -13 | 13 |\n",
       "| 36 | 15 | -21 | 21 |\n",
       "| 39 | 10 | -29 | 29 |\n",
       "| 52 | 20 | -32 | 32 |\n",
       "| 48 | 13 | -35 | 35 |\n",
       "| 24 |  0 | -24 | 24 |\n",
       "| 15 |  4 | -11 | 11 |\n",
       "| 40 | 16 | -24 | 24 |\n",
       "| 41 | 18 | -23 | 23 |\n",
       "| 17 | 16 |  -1 |  1 |\n",
       "| 12 | 16 |   4 |  4 |\n",
       "| 21 |  9 | -12 | 12 |\n",
       "| 49 |  9 | -40 | 40 |\n",
       "| 14 | 18 |   4 |  4 |\n",
       "| 55 |  4 | -51 | 51 |\n",
       "| 46 | 17 | -29 | 29 |\n",
       "| 22 |  0 | -22 | 22 |\n",
       "| 28 | 11 | -17 | 17 |\n",
       "| 23 | 14 |  -9 |  9 |\n",
       "| 37 |  0 | -37 | 37 |\n",
       "| 17 | 19 |   2 |  2 |\n",
       "| 31 |  2 | -29 | 29 |\n",
       "| 49 |  9 | -40 | 40 |\n",
       "| 49 |  6 | -43 | 43 |\n",
       "\n"
      ],
      "text/plain": [
       "   Antes Depois Dif |Dif|\n",
       "1  39    16     -23 23   \n",
       "2  25     8     -17 17   \n",
       "3  24    12     -12 12   \n",
       "4  50     0     -50 50   \n",
       "5  13    14       1  1   \n",
       "6  52    16     -36 36   \n",
       "7  21    13      -8  8   \n",
       "8  29    12     -17 17   \n",
       "9  10    19       9  9   \n",
       "10 22    17      -5  5   \n",
       "11 50    17     -33 33   \n",
       "12 15     2     -13 13   \n",
       "13 36    15     -21 21   \n",
       "14 39    10     -29 29   \n",
       "15 52    20     -32 32   \n",
       "16 48    13     -35 35   \n",
       "17 24     0     -24 24   \n",
       "18 15     4     -11 11   \n",
       "19 40    16     -24 24   \n",
       "20 41    18     -23 23   \n",
       "21 17    16      -1  1   \n",
       "22 12    16       4  4   \n",
       "23 21     9     -12 12   \n",
       "24 49     9     -40 40   \n",
       "25 14    18       4  4   \n",
       "26 55     4     -51 51   \n",
       "27 46    17     -29 29   \n",
       "28 22     0     -22 22   \n",
       "29 28    11     -17 17   \n",
       "30 23    14      -9  9   \n",
       "31 37     0     -37 37   \n",
       "32 17    19       2  2   \n",
       "33 31     2     -29 29   \n",
       "34 49     9     -40 40   \n",
       "35 49     6     -43 43   "
      ]
     },
     "metadata": {},
     "output_type": "display_data"
    }
   ],
   "source": [
    "fumo['|Dif|'] = abs(fumo$Dif)\n",
    "fumo"
   ]
  },
  {
   "cell_type": "code",
   "execution_count": 124,
   "metadata": {
    "scrolled": true
   },
   "outputs": [
    {
     "data": {
      "text/html": [
       "<table>\n",
       "<caption>A data.frame: 35 x 4</caption>\n",
       "<thead>\n",
       "\t<tr><th></th><th scope=col>Antes</th><th scope=col>Depois</th><th scope=col>Dif</th><th scope=col>|Dif|</th></tr>\n",
       "\t<tr><th></th><th scope=col>&lt;dbl&gt;</th><th scope=col>&lt;dbl&gt;</th><th scope=col>&lt;dbl&gt;</th><th scope=col>&lt;dbl&gt;</th></tr>\n",
       "</thead>\n",
       "<tbody>\n",
       "\t<tr><th scope=row>5</th><td>13</td><td>14</td><td>  1</td><td> 1</td></tr>\n",
       "\t<tr><th scope=row>21</th><td>17</td><td>16</td><td> -1</td><td> 1</td></tr>\n",
       "\t<tr><th scope=row>32</th><td>17</td><td>19</td><td>  2</td><td> 2</td></tr>\n",
       "\t<tr><th scope=row>22</th><td>12</td><td>16</td><td>  4</td><td> 4</td></tr>\n",
       "\t<tr><th scope=row>25</th><td>14</td><td>18</td><td>  4</td><td> 4</td></tr>\n",
       "\t<tr><th scope=row>10</th><td>22</td><td>17</td><td> -5</td><td> 5</td></tr>\n",
       "\t<tr><th scope=row>7</th><td>21</td><td>13</td><td> -8</td><td> 8</td></tr>\n",
       "\t<tr><th scope=row>9</th><td>10</td><td>19</td><td>  9</td><td> 9</td></tr>\n",
       "\t<tr><th scope=row>30</th><td>23</td><td>14</td><td> -9</td><td> 9</td></tr>\n",
       "\t<tr><th scope=row>18</th><td>15</td><td> 4</td><td>-11</td><td>11</td></tr>\n",
       "\t<tr><th scope=row>3</th><td>24</td><td>12</td><td>-12</td><td>12</td></tr>\n",
       "\t<tr><th scope=row>23</th><td>21</td><td> 9</td><td>-12</td><td>12</td></tr>\n",
       "\t<tr><th scope=row>12</th><td>15</td><td> 2</td><td>-13</td><td>13</td></tr>\n",
       "\t<tr><th scope=row>2</th><td>25</td><td> 8</td><td>-17</td><td>17</td></tr>\n",
       "\t<tr><th scope=row>8</th><td>29</td><td>12</td><td>-17</td><td>17</td></tr>\n",
       "\t<tr><th scope=row>29</th><td>28</td><td>11</td><td>-17</td><td>17</td></tr>\n",
       "\t<tr><th scope=row>13</th><td>36</td><td>15</td><td>-21</td><td>21</td></tr>\n",
       "\t<tr><th scope=row>28</th><td>22</td><td> 0</td><td>-22</td><td>22</td></tr>\n",
       "\t<tr><th scope=row>1</th><td>39</td><td>16</td><td>-23</td><td>23</td></tr>\n",
       "\t<tr><th scope=row>20</th><td>41</td><td>18</td><td>-23</td><td>23</td></tr>\n",
       "\t<tr><th scope=row>17</th><td>24</td><td> 0</td><td>-24</td><td>24</td></tr>\n",
       "\t<tr><th scope=row>19</th><td>40</td><td>16</td><td>-24</td><td>24</td></tr>\n",
       "\t<tr><th scope=row>14</th><td>39</td><td>10</td><td>-29</td><td>29</td></tr>\n",
       "\t<tr><th scope=row>27</th><td>46</td><td>17</td><td>-29</td><td>29</td></tr>\n",
       "\t<tr><th scope=row>33</th><td>31</td><td> 2</td><td>-29</td><td>29</td></tr>\n",
       "\t<tr><th scope=row>15</th><td>52</td><td>20</td><td>-32</td><td>32</td></tr>\n",
       "\t<tr><th scope=row>11</th><td>50</td><td>17</td><td>-33</td><td>33</td></tr>\n",
       "\t<tr><th scope=row>16</th><td>48</td><td>13</td><td>-35</td><td>35</td></tr>\n",
       "\t<tr><th scope=row>6</th><td>52</td><td>16</td><td>-36</td><td>36</td></tr>\n",
       "\t<tr><th scope=row>31</th><td>37</td><td> 0</td><td>-37</td><td>37</td></tr>\n",
       "\t<tr><th scope=row>24</th><td>49</td><td> 9</td><td>-40</td><td>40</td></tr>\n",
       "\t<tr><th scope=row>34</th><td>49</td><td> 9</td><td>-40</td><td>40</td></tr>\n",
       "\t<tr><th scope=row>35</th><td>49</td><td> 6</td><td>-43</td><td>43</td></tr>\n",
       "\t<tr><th scope=row>4</th><td>50</td><td> 0</td><td>-50</td><td>50</td></tr>\n",
       "\t<tr><th scope=row>26</th><td>55</td><td> 4</td><td>-51</td><td>51</td></tr>\n",
       "</tbody>\n",
       "</table>\n"
      ],
      "text/latex": [
       "A data.frame: 35 x 4\n",
       "\\begin{tabular}{r|llll}\n",
       "  & Antes & Depois & Dif & \\textbar{}Dif\\textbar{}\\\\\n",
       "  & <dbl> & <dbl> & <dbl> & <dbl>\\\\\n",
       "\\hline\n",
       "\t5 & 13 & 14 &   1 &  1\\\\\n",
       "\t21 & 17 & 16 &  -1 &  1\\\\\n",
       "\t32 & 17 & 19 &   2 &  2\\\\\n",
       "\t22 & 12 & 16 &   4 &  4\\\\\n",
       "\t25 & 14 & 18 &   4 &  4\\\\\n",
       "\t10 & 22 & 17 &  -5 &  5\\\\\n",
       "\t7 & 21 & 13 &  -8 &  8\\\\\n",
       "\t9 & 10 & 19 &   9 &  9\\\\\n",
       "\t30 & 23 & 14 &  -9 &  9\\\\\n",
       "\t18 & 15 &  4 & -11 & 11\\\\\n",
       "\t3 & 24 & 12 & -12 & 12\\\\\n",
       "\t23 & 21 &  9 & -12 & 12\\\\\n",
       "\t12 & 15 &  2 & -13 & 13\\\\\n",
       "\t2 & 25 &  8 & -17 & 17\\\\\n",
       "\t8 & 29 & 12 & -17 & 17\\\\\n",
       "\t29 & 28 & 11 & -17 & 17\\\\\n",
       "\t13 & 36 & 15 & -21 & 21\\\\\n",
       "\t28 & 22 &  0 & -22 & 22\\\\\n",
       "\t1 & 39 & 16 & -23 & 23\\\\\n",
       "\t20 & 41 & 18 & -23 & 23\\\\\n",
       "\t17 & 24 &  0 & -24 & 24\\\\\n",
       "\t19 & 40 & 16 & -24 & 24\\\\\n",
       "\t14 & 39 & 10 & -29 & 29\\\\\n",
       "\t27 & 46 & 17 & -29 & 29\\\\\n",
       "\t33 & 31 &  2 & -29 & 29\\\\\n",
       "\t15 & 52 & 20 & -32 & 32\\\\\n",
       "\t11 & 50 & 17 & -33 & 33\\\\\n",
       "\t16 & 48 & 13 & -35 & 35\\\\\n",
       "\t6 & 52 & 16 & -36 & 36\\\\\n",
       "\t31 & 37 &  0 & -37 & 37\\\\\n",
       "\t24 & 49 &  9 & -40 & 40\\\\\n",
       "\t34 & 49 &  9 & -40 & 40\\\\\n",
       "\t35 & 49 &  6 & -43 & 43\\\\\n",
       "\t4 & 50 &  0 & -50 & 50\\\\\n",
       "\t26 & 55 &  4 & -51 & 51\\\\\n",
       "\\end{tabular}\n"
      ],
      "text/markdown": [
       "\n",
       "A data.frame: 35 x 4\n",
       "\n",
       "| <!--/--> | Antes &lt;dbl&gt; | Depois &lt;dbl&gt; | Dif &lt;dbl&gt; | |Dif| &lt;dbl&gt; |\n",
       "|---|---|---|---|---|\n",
       "| 5 | 13 | 14 |   1 |  1 |\n",
       "| 21 | 17 | 16 |  -1 |  1 |\n",
       "| 32 | 17 | 19 |   2 |  2 |\n",
       "| 22 | 12 | 16 |   4 |  4 |\n",
       "| 25 | 14 | 18 |   4 |  4 |\n",
       "| 10 | 22 | 17 |  -5 |  5 |\n",
       "| 7 | 21 | 13 |  -8 |  8 |\n",
       "| 9 | 10 | 19 |   9 |  9 |\n",
       "| 30 | 23 | 14 |  -9 |  9 |\n",
       "| 18 | 15 |  4 | -11 | 11 |\n",
       "| 3 | 24 | 12 | -12 | 12 |\n",
       "| 23 | 21 |  9 | -12 | 12 |\n",
       "| 12 | 15 |  2 | -13 | 13 |\n",
       "| 2 | 25 |  8 | -17 | 17 |\n",
       "| 8 | 29 | 12 | -17 | 17 |\n",
       "| 29 | 28 | 11 | -17 | 17 |\n",
       "| 13 | 36 | 15 | -21 | 21 |\n",
       "| 28 | 22 |  0 | -22 | 22 |\n",
       "| 1 | 39 | 16 | -23 | 23 |\n",
       "| 20 | 41 | 18 | -23 | 23 |\n",
       "| 17 | 24 |  0 | -24 | 24 |\n",
       "| 19 | 40 | 16 | -24 | 24 |\n",
       "| 14 | 39 | 10 | -29 | 29 |\n",
       "| 27 | 46 | 17 | -29 | 29 |\n",
       "| 33 | 31 |  2 | -29 | 29 |\n",
       "| 15 | 52 | 20 | -32 | 32 |\n",
       "| 11 | 50 | 17 | -33 | 33 |\n",
       "| 16 | 48 | 13 | -35 | 35 |\n",
       "| 6 | 52 | 16 | -36 | 36 |\n",
       "| 31 | 37 |  0 | -37 | 37 |\n",
       "| 24 | 49 |  9 | -40 | 40 |\n",
       "| 34 | 49 |  9 | -40 | 40 |\n",
       "| 35 | 49 |  6 | -43 | 43 |\n",
       "| 4 | 50 |  0 | -50 | 50 |\n",
       "| 26 | 55 |  4 | -51 | 51 |\n",
       "\n"
      ],
      "text/plain": [
       "   Antes Depois Dif |Dif|\n",
       "5  13    14       1  1   \n",
       "21 17    16      -1  1   \n",
       "32 17    19       2  2   \n",
       "22 12    16       4  4   \n",
       "25 14    18       4  4   \n",
       "10 22    17      -5  5   \n",
       "7  21    13      -8  8   \n",
       "9  10    19       9  9   \n",
       "30 23    14      -9  9   \n",
       "18 15     4     -11 11   \n",
       "3  24    12     -12 12   \n",
       "23 21     9     -12 12   \n",
       "12 15     2     -13 13   \n",
       "2  25     8     -17 17   \n",
       "8  29    12     -17 17   \n",
       "29 28    11     -17 17   \n",
       "13 36    15     -21 21   \n",
       "28 22     0     -22 22   \n",
       "1  39    16     -23 23   \n",
       "20 41    18     -23 23   \n",
       "17 24     0     -24 24   \n",
       "19 40    16     -24 24   \n",
       "14 39    10     -29 29   \n",
       "27 46    17     -29 29   \n",
       "33 31     2     -29 29   \n",
       "15 52    20     -32 32   \n",
       "11 50    17     -33 33   \n",
       "16 48    13     -35 35   \n",
       "6  52    16     -36 36   \n",
       "31 37     0     -37 37   \n",
       "24 49     9     -40 40   \n",
       "34 49     9     -40 40   \n",
       "35 49     6     -43 43   \n",
       "4  50     0     -50 50   \n",
       "26 55     4     -51 51   "
      ]
     },
     "metadata": {},
     "output_type": "display_data"
    }
   ],
   "source": [
    "fumo <- fumo[order(fumo$'|Dif|'),]\n",
    "fumo"
   ]
  },
  {
   "cell_type": "code",
   "execution_count": 125,
   "metadata": {
    "colab": {
     "base_uri": "https://localhost:8080/",
     "height": 1134
    },
    "colab_type": "code",
    "id": "K_JKSwLHotMx",
    "outputId": "51594adf-1a5c-4d51-aad3-ed49e4c1e018",
    "scrolled": true
   },
   "outputs": [
    {
     "data": {
      "text/html": [
       "<table>\n",
       "<caption>A data.frame: 35 x 5</caption>\n",
       "<thead>\n",
       "\t<tr><th></th><th scope=col>Antes</th><th scope=col>Depois</th><th scope=col>Dif</th><th scope=col>|Dif|</th><th scope=col>Posto</th></tr>\n",
       "\t<tr><th></th><th scope=col>&lt;dbl&gt;</th><th scope=col>&lt;dbl&gt;</th><th scope=col>&lt;dbl&gt;</th><th scope=col>&lt;dbl&gt;</th><th scope=col>&lt;int&gt;</th></tr>\n",
       "</thead>\n",
       "<tbody>\n",
       "\t<tr><th scope=row>5</th><td>13</td><td>14</td><td>  1</td><td> 1</td><td> 1</td></tr>\n",
       "\t<tr><th scope=row>21</th><td>17</td><td>16</td><td> -1</td><td> 1</td><td> 2</td></tr>\n",
       "\t<tr><th scope=row>32</th><td>17</td><td>19</td><td>  2</td><td> 2</td><td> 3</td></tr>\n",
       "\t<tr><th scope=row>22</th><td>12</td><td>16</td><td>  4</td><td> 4</td><td> 4</td></tr>\n",
       "\t<tr><th scope=row>25</th><td>14</td><td>18</td><td>  4</td><td> 4</td><td> 5</td></tr>\n",
       "\t<tr><th scope=row>10</th><td>22</td><td>17</td><td> -5</td><td> 5</td><td> 6</td></tr>\n",
       "\t<tr><th scope=row>7</th><td>21</td><td>13</td><td> -8</td><td> 8</td><td> 7</td></tr>\n",
       "\t<tr><th scope=row>9</th><td>10</td><td>19</td><td>  9</td><td> 9</td><td> 8</td></tr>\n",
       "\t<tr><th scope=row>30</th><td>23</td><td>14</td><td> -9</td><td> 9</td><td> 9</td></tr>\n",
       "\t<tr><th scope=row>18</th><td>15</td><td> 4</td><td>-11</td><td>11</td><td>10</td></tr>\n",
       "\t<tr><th scope=row>3</th><td>24</td><td>12</td><td>-12</td><td>12</td><td>11</td></tr>\n",
       "\t<tr><th scope=row>23</th><td>21</td><td> 9</td><td>-12</td><td>12</td><td>12</td></tr>\n",
       "\t<tr><th scope=row>12</th><td>15</td><td> 2</td><td>-13</td><td>13</td><td>13</td></tr>\n",
       "\t<tr><th scope=row>2</th><td>25</td><td> 8</td><td>-17</td><td>17</td><td>14</td></tr>\n",
       "\t<tr><th scope=row>8</th><td>29</td><td>12</td><td>-17</td><td>17</td><td>15</td></tr>\n",
       "\t<tr><th scope=row>29</th><td>28</td><td>11</td><td>-17</td><td>17</td><td>16</td></tr>\n",
       "\t<tr><th scope=row>13</th><td>36</td><td>15</td><td>-21</td><td>21</td><td>17</td></tr>\n",
       "\t<tr><th scope=row>28</th><td>22</td><td> 0</td><td>-22</td><td>22</td><td>18</td></tr>\n",
       "\t<tr><th scope=row>1</th><td>39</td><td>16</td><td>-23</td><td>23</td><td>19</td></tr>\n",
       "\t<tr><th scope=row>20</th><td>41</td><td>18</td><td>-23</td><td>23</td><td>20</td></tr>\n",
       "\t<tr><th scope=row>17</th><td>24</td><td> 0</td><td>-24</td><td>24</td><td>21</td></tr>\n",
       "\t<tr><th scope=row>19</th><td>40</td><td>16</td><td>-24</td><td>24</td><td>22</td></tr>\n",
       "\t<tr><th scope=row>14</th><td>39</td><td>10</td><td>-29</td><td>29</td><td>23</td></tr>\n",
       "\t<tr><th scope=row>27</th><td>46</td><td>17</td><td>-29</td><td>29</td><td>24</td></tr>\n",
       "\t<tr><th scope=row>33</th><td>31</td><td> 2</td><td>-29</td><td>29</td><td>25</td></tr>\n",
       "\t<tr><th scope=row>15</th><td>52</td><td>20</td><td>-32</td><td>32</td><td>26</td></tr>\n",
       "\t<tr><th scope=row>11</th><td>50</td><td>17</td><td>-33</td><td>33</td><td>27</td></tr>\n",
       "\t<tr><th scope=row>16</th><td>48</td><td>13</td><td>-35</td><td>35</td><td>28</td></tr>\n",
       "\t<tr><th scope=row>6</th><td>52</td><td>16</td><td>-36</td><td>36</td><td>29</td></tr>\n",
       "\t<tr><th scope=row>31</th><td>37</td><td> 0</td><td>-37</td><td>37</td><td>30</td></tr>\n",
       "\t<tr><th scope=row>24</th><td>49</td><td> 9</td><td>-40</td><td>40</td><td>31</td></tr>\n",
       "\t<tr><th scope=row>34</th><td>49</td><td> 9</td><td>-40</td><td>40</td><td>32</td></tr>\n",
       "\t<tr><th scope=row>35</th><td>49</td><td> 6</td><td>-43</td><td>43</td><td>33</td></tr>\n",
       "\t<tr><th scope=row>4</th><td>50</td><td> 0</td><td>-50</td><td>50</td><td>34</td></tr>\n",
       "\t<tr><th scope=row>26</th><td>55</td><td> 4</td><td>-51</td><td>51</td><td>35</td></tr>\n",
       "</tbody>\n",
       "</table>\n"
      ],
      "text/latex": [
       "A data.frame: 35 x 5\n",
       "\\begin{tabular}{r|lllll}\n",
       "  & Antes & Depois & Dif & \\textbar{}Dif\\textbar{} & Posto\\\\\n",
       "  & <dbl> & <dbl> & <dbl> & <dbl> & <int>\\\\\n",
       "\\hline\n",
       "\t5 & 13 & 14 &   1 &  1 &  1\\\\\n",
       "\t21 & 17 & 16 &  -1 &  1 &  2\\\\\n",
       "\t32 & 17 & 19 &   2 &  2 &  3\\\\\n",
       "\t22 & 12 & 16 &   4 &  4 &  4\\\\\n",
       "\t25 & 14 & 18 &   4 &  4 &  5\\\\\n",
       "\t10 & 22 & 17 &  -5 &  5 &  6\\\\\n",
       "\t7 & 21 & 13 &  -8 &  8 &  7\\\\\n",
       "\t9 & 10 & 19 &   9 &  9 &  8\\\\\n",
       "\t30 & 23 & 14 &  -9 &  9 &  9\\\\\n",
       "\t18 & 15 &  4 & -11 & 11 & 10\\\\\n",
       "\t3 & 24 & 12 & -12 & 12 & 11\\\\\n",
       "\t23 & 21 &  9 & -12 & 12 & 12\\\\\n",
       "\t12 & 15 &  2 & -13 & 13 & 13\\\\\n",
       "\t2 & 25 &  8 & -17 & 17 & 14\\\\\n",
       "\t8 & 29 & 12 & -17 & 17 & 15\\\\\n",
       "\t29 & 28 & 11 & -17 & 17 & 16\\\\\n",
       "\t13 & 36 & 15 & -21 & 21 & 17\\\\\n",
       "\t28 & 22 &  0 & -22 & 22 & 18\\\\\n",
       "\t1 & 39 & 16 & -23 & 23 & 19\\\\\n",
       "\t20 & 41 & 18 & -23 & 23 & 20\\\\\n",
       "\t17 & 24 &  0 & -24 & 24 & 21\\\\\n",
       "\t19 & 40 & 16 & -24 & 24 & 22\\\\\n",
       "\t14 & 39 & 10 & -29 & 29 & 23\\\\\n",
       "\t27 & 46 & 17 & -29 & 29 & 24\\\\\n",
       "\t33 & 31 &  2 & -29 & 29 & 25\\\\\n",
       "\t15 & 52 & 20 & -32 & 32 & 26\\\\\n",
       "\t11 & 50 & 17 & -33 & 33 & 27\\\\\n",
       "\t16 & 48 & 13 & -35 & 35 & 28\\\\\n",
       "\t6 & 52 & 16 & -36 & 36 & 29\\\\\n",
       "\t31 & 37 &  0 & -37 & 37 & 30\\\\\n",
       "\t24 & 49 &  9 & -40 & 40 & 31\\\\\n",
       "\t34 & 49 &  9 & -40 & 40 & 32\\\\\n",
       "\t35 & 49 &  6 & -43 & 43 & 33\\\\\n",
       "\t4 & 50 &  0 & -50 & 50 & 34\\\\\n",
       "\t26 & 55 &  4 & -51 & 51 & 35\\\\\n",
       "\\end{tabular}\n"
      ],
      "text/markdown": [
       "\n",
       "A data.frame: 35 x 5\n",
       "\n",
       "| <!--/--> | Antes &lt;dbl&gt; | Depois &lt;dbl&gt; | Dif &lt;dbl&gt; | |Dif| &lt;dbl&gt; | Posto &lt;int&gt; |\n",
       "|---|---|---|---|---|---|\n",
       "| 5 | 13 | 14 |   1 |  1 |  1 |\n",
       "| 21 | 17 | 16 |  -1 |  1 |  2 |\n",
       "| 32 | 17 | 19 |   2 |  2 |  3 |\n",
       "| 22 | 12 | 16 |   4 |  4 |  4 |\n",
       "| 25 | 14 | 18 |   4 |  4 |  5 |\n",
       "| 10 | 22 | 17 |  -5 |  5 |  6 |\n",
       "| 7 | 21 | 13 |  -8 |  8 |  7 |\n",
       "| 9 | 10 | 19 |   9 |  9 |  8 |\n",
       "| 30 | 23 | 14 |  -9 |  9 |  9 |\n",
       "| 18 | 15 |  4 | -11 | 11 | 10 |\n",
       "| 3 | 24 | 12 | -12 | 12 | 11 |\n",
       "| 23 | 21 |  9 | -12 | 12 | 12 |\n",
       "| 12 | 15 |  2 | -13 | 13 | 13 |\n",
       "| 2 | 25 |  8 | -17 | 17 | 14 |\n",
       "| 8 | 29 | 12 | -17 | 17 | 15 |\n",
       "| 29 | 28 | 11 | -17 | 17 | 16 |\n",
       "| 13 | 36 | 15 | -21 | 21 | 17 |\n",
       "| 28 | 22 |  0 | -22 | 22 | 18 |\n",
       "| 1 | 39 | 16 | -23 | 23 | 19 |\n",
       "| 20 | 41 | 18 | -23 | 23 | 20 |\n",
       "| 17 | 24 |  0 | -24 | 24 | 21 |\n",
       "| 19 | 40 | 16 | -24 | 24 | 22 |\n",
       "| 14 | 39 | 10 | -29 | 29 | 23 |\n",
       "| 27 | 46 | 17 | -29 | 29 | 24 |\n",
       "| 33 | 31 |  2 | -29 | 29 | 25 |\n",
       "| 15 | 52 | 20 | -32 | 32 | 26 |\n",
       "| 11 | 50 | 17 | -33 | 33 | 27 |\n",
       "| 16 | 48 | 13 | -35 | 35 | 28 |\n",
       "| 6 | 52 | 16 | -36 | 36 | 29 |\n",
       "| 31 | 37 |  0 | -37 | 37 | 30 |\n",
       "| 24 | 49 |  9 | -40 | 40 | 31 |\n",
       "| 34 | 49 |  9 | -40 | 40 | 32 |\n",
       "| 35 | 49 |  6 | -43 | 43 | 33 |\n",
       "| 4 | 50 |  0 | -50 | 50 | 34 |\n",
       "| 26 | 55 |  4 | -51 | 51 | 35 |\n",
       "\n"
      ],
      "text/plain": [
       "   Antes Depois Dif |Dif| Posto\n",
       "5  13    14       1  1     1   \n",
       "21 17    16      -1  1     2   \n",
       "32 17    19       2  2     3   \n",
       "22 12    16       4  4     4   \n",
       "25 14    18       4  4     5   \n",
       "10 22    17      -5  5     6   \n",
       "7  21    13      -8  8     7   \n",
       "9  10    19       9  9     8   \n",
       "30 23    14      -9  9     9   \n",
       "18 15     4     -11 11    10   \n",
       "3  24    12     -12 12    11   \n",
       "23 21     9     -12 12    12   \n",
       "12 15     2     -13 13    13   \n",
       "2  25     8     -17 17    14   \n",
       "8  29    12     -17 17    15   \n",
       "29 28    11     -17 17    16   \n",
       "13 36    15     -21 21    17   \n",
       "28 22     0     -22 22    18   \n",
       "1  39    16     -23 23    19   \n",
       "20 41    18     -23 23    20   \n",
       "17 24     0     -24 24    21   \n",
       "19 40    16     -24 24    22   \n",
       "14 39    10     -29 29    23   \n",
       "27 46    17     -29 29    24   \n",
       "33 31     2     -29 29    25   \n",
       "15 52    20     -32 32    26   \n",
       "11 50    17     -33 33    27   \n",
       "16 48    13     -35 35    28   \n",
       "6  52    16     -36 36    29   \n",
       "31 37     0     -37 37    30   \n",
       "24 49     9     -40 40    31   \n",
       "34 49     9     -40 40    32   \n",
       "35 49     6     -43 43    33   \n",
       "4  50     0     -50 50    34   \n",
       "26 55     4     -51 51    35   "
      ]
     },
     "metadata": {},
     "output_type": "display_data"
    }
   ],
   "source": [
    "fumo['Posto'] <- seq(1, nrow(fumo))\n",
    "fumo"
   ]
  },
  {
   "cell_type": "code",
   "execution_count": 126,
   "metadata": {
    "scrolled": true
   },
   "outputs": [
    {
     "data": {
      "text/html": [
       "<table>\n",
       "<caption>A data.frame: 24 x 2</caption>\n",
       "<thead>\n",
       "\t<tr><th scope=col>|Dif|</th><th scope=col>Posto</th></tr>\n",
       "\t<tr><th scope=col>&lt;dbl&gt;</th><th scope=col>&lt;dbl&gt;</th></tr>\n",
       "</thead>\n",
       "<tbody>\n",
       "\t<tr><td> 1</td><td> 1.5</td></tr>\n",
       "\t<tr><td> 2</td><td> 3.0</td></tr>\n",
       "\t<tr><td> 4</td><td> 4.5</td></tr>\n",
       "\t<tr><td> 5</td><td> 6.0</td></tr>\n",
       "\t<tr><td> 8</td><td> 7.0</td></tr>\n",
       "\t<tr><td> 9</td><td> 8.5</td></tr>\n",
       "\t<tr><td>11</td><td>10.0</td></tr>\n",
       "\t<tr><td>12</td><td>11.5</td></tr>\n",
       "\t<tr><td>13</td><td>13.0</td></tr>\n",
       "\t<tr><td>17</td><td>15.0</td></tr>\n",
       "\t<tr><td>21</td><td>17.0</td></tr>\n",
       "\t<tr><td>22</td><td>18.0</td></tr>\n",
       "\t<tr><td>23</td><td>19.5</td></tr>\n",
       "\t<tr><td>24</td><td>21.5</td></tr>\n",
       "\t<tr><td>29</td><td>24.0</td></tr>\n",
       "\t<tr><td>32</td><td>26.0</td></tr>\n",
       "\t<tr><td>33</td><td>27.0</td></tr>\n",
       "\t<tr><td>35</td><td>28.0</td></tr>\n",
       "\t<tr><td>36</td><td>29.0</td></tr>\n",
       "\t<tr><td>37</td><td>30.0</td></tr>\n",
       "\t<tr><td>40</td><td>31.5</td></tr>\n",
       "\t<tr><td>43</td><td>33.0</td></tr>\n",
       "\t<tr><td>50</td><td>34.0</td></tr>\n",
       "\t<tr><td>51</td><td>35.0</td></tr>\n",
       "</tbody>\n",
       "</table>\n"
      ],
      "text/latex": [
       "A data.frame: 24 x 2\n",
       "\\begin{tabular}{r|ll}\n",
       " \\textbar{}Dif\\textbar{} & Posto\\\\\n",
       " <dbl> & <dbl>\\\\\n",
       "\\hline\n",
       "\t  1 &  1.5\\\\\n",
       "\t  2 &  3.0\\\\\n",
       "\t  4 &  4.5\\\\\n",
       "\t  5 &  6.0\\\\\n",
       "\t  8 &  7.0\\\\\n",
       "\t  9 &  8.5\\\\\n",
       "\t 11 & 10.0\\\\\n",
       "\t 12 & 11.5\\\\\n",
       "\t 13 & 13.0\\\\\n",
       "\t 17 & 15.0\\\\\n",
       "\t 21 & 17.0\\\\\n",
       "\t 22 & 18.0\\\\\n",
       "\t 23 & 19.5\\\\\n",
       "\t 24 & 21.5\\\\\n",
       "\t 29 & 24.0\\\\\n",
       "\t 32 & 26.0\\\\\n",
       "\t 33 & 27.0\\\\\n",
       "\t 35 & 28.0\\\\\n",
       "\t 36 & 29.0\\\\\n",
       "\t 37 & 30.0\\\\\n",
       "\t 40 & 31.5\\\\\n",
       "\t 43 & 33.0\\\\\n",
       "\t 50 & 34.0\\\\\n",
       "\t 51 & 35.0\\\\\n",
       "\\end{tabular}\n"
      ],
      "text/markdown": [
       "\n",
       "A data.frame: 24 x 2\n",
       "\n",
       "| |Dif| &lt;dbl&gt; | Posto &lt;dbl&gt; |\n",
       "|---|---|\n",
       "|  1 |  1.5 |\n",
       "|  2 |  3.0 |\n",
       "|  4 |  4.5 |\n",
       "|  5 |  6.0 |\n",
       "|  8 |  7.0 |\n",
       "|  9 |  8.5 |\n",
       "| 11 | 10.0 |\n",
       "| 12 | 11.5 |\n",
       "| 13 | 13.0 |\n",
       "| 17 | 15.0 |\n",
       "| 21 | 17.0 |\n",
       "| 22 | 18.0 |\n",
       "| 23 | 19.5 |\n",
       "| 24 | 21.5 |\n",
       "| 29 | 24.0 |\n",
       "| 32 | 26.0 |\n",
       "| 33 | 27.0 |\n",
       "| 35 | 28.0 |\n",
       "| 36 | 29.0 |\n",
       "| 37 | 30.0 |\n",
       "| 40 | 31.5 |\n",
       "| 43 | 33.0 |\n",
       "| 50 | 34.0 |\n",
       "| 51 | 35.0 |\n",
       "\n"
      ],
      "text/plain": [
       "   |Dif| Posto\n",
       "1   1     1.5 \n",
       "2   2     3.0 \n",
       "3   4     4.5 \n",
       "4   5     6.0 \n",
       "5   8     7.0 \n",
       "6   9     8.5 \n",
       "7  11    10.0 \n",
       "8  12    11.5 \n",
       "9  13    13.0 \n",
       "10 17    15.0 \n",
       "11 21    17.0 \n",
       "12 22    18.0 \n",
       "13 23    19.5 \n",
       "14 24    21.5 \n",
       "15 29    24.0 \n",
       "16 32    26.0 \n",
       "17 33    27.0 \n",
       "18 35    28.0 \n",
       "19 36    29.0 \n",
       "20 37    30.0 \n",
       "21 40    31.5 \n",
       "22 43    33.0 \n",
       "23 50    34.0 \n",
       "24 51    35.0 "
      ]
     },
     "metadata": {},
     "output_type": "display_data"
    }
   ],
   "source": [
    "posto <- aggregate(x = fumo$'Posto', by = list(fumo$'|Dif|'), FUN = mean)\n",
    "colnames(posto) <- c('|Dif|', 'Posto')\n",
    "posto"
   ]
  },
  {
   "cell_type": "code",
   "execution_count": 127,
   "metadata": {
    "scrolled": true
   },
   "outputs": [
    {
     "data": {
      "text/html": [
       "<table>\n",
       "<caption>A data.frame: 35 x 4</caption>\n",
       "<thead>\n",
       "\t<tr><th></th><th scope=col>Antes</th><th scope=col>Depois</th><th scope=col>Dif</th><th scope=col>|Dif|</th></tr>\n",
       "\t<tr><th></th><th scope=col>&lt;dbl&gt;</th><th scope=col>&lt;dbl&gt;</th><th scope=col>&lt;dbl&gt;</th><th scope=col>&lt;dbl&gt;</th></tr>\n",
       "</thead>\n",
       "<tbody>\n",
       "\t<tr><th scope=row>5</th><td>13</td><td>14</td><td>  1</td><td> 1</td></tr>\n",
       "\t<tr><th scope=row>21</th><td>17</td><td>16</td><td> -1</td><td> 1</td></tr>\n",
       "\t<tr><th scope=row>32</th><td>17</td><td>19</td><td>  2</td><td> 2</td></tr>\n",
       "\t<tr><th scope=row>22</th><td>12</td><td>16</td><td>  4</td><td> 4</td></tr>\n",
       "\t<tr><th scope=row>25</th><td>14</td><td>18</td><td>  4</td><td> 4</td></tr>\n",
       "\t<tr><th scope=row>10</th><td>22</td><td>17</td><td> -5</td><td> 5</td></tr>\n",
       "\t<tr><th scope=row>7</th><td>21</td><td>13</td><td> -8</td><td> 8</td></tr>\n",
       "\t<tr><th scope=row>9</th><td>10</td><td>19</td><td>  9</td><td> 9</td></tr>\n",
       "\t<tr><th scope=row>30</th><td>23</td><td>14</td><td> -9</td><td> 9</td></tr>\n",
       "\t<tr><th scope=row>18</th><td>15</td><td> 4</td><td>-11</td><td>11</td></tr>\n",
       "\t<tr><th scope=row>3</th><td>24</td><td>12</td><td>-12</td><td>12</td></tr>\n",
       "\t<tr><th scope=row>23</th><td>21</td><td> 9</td><td>-12</td><td>12</td></tr>\n",
       "\t<tr><th scope=row>12</th><td>15</td><td> 2</td><td>-13</td><td>13</td></tr>\n",
       "\t<tr><th scope=row>2</th><td>25</td><td> 8</td><td>-17</td><td>17</td></tr>\n",
       "\t<tr><th scope=row>8</th><td>29</td><td>12</td><td>-17</td><td>17</td></tr>\n",
       "\t<tr><th scope=row>29</th><td>28</td><td>11</td><td>-17</td><td>17</td></tr>\n",
       "\t<tr><th scope=row>13</th><td>36</td><td>15</td><td>-21</td><td>21</td></tr>\n",
       "\t<tr><th scope=row>28</th><td>22</td><td> 0</td><td>-22</td><td>22</td></tr>\n",
       "\t<tr><th scope=row>1</th><td>39</td><td>16</td><td>-23</td><td>23</td></tr>\n",
       "\t<tr><th scope=row>20</th><td>41</td><td>18</td><td>-23</td><td>23</td></tr>\n",
       "\t<tr><th scope=row>17</th><td>24</td><td> 0</td><td>-24</td><td>24</td></tr>\n",
       "\t<tr><th scope=row>19</th><td>40</td><td>16</td><td>-24</td><td>24</td></tr>\n",
       "\t<tr><th scope=row>14</th><td>39</td><td>10</td><td>-29</td><td>29</td></tr>\n",
       "\t<tr><th scope=row>27</th><td>46</td><td>17</td><td>-29</td><td>29</td></tr>\n",
       "\t<tr><th scope=row>33</th><td>31</td><td> 2</td><td>-29</td><td>29</td></tr>\n",
       "\t<tr><th scope=row>15</th><td>52</td><td>20</td><td>-32</td><td>32</td></tr>\n",
       "\t<tr><th scope=row>11</th><td>50</td><td>17</td><td>-33</td><td>33</td></tr>\n",
       "\t<tr><th scope=row>16</th><td>48</td><td>13</td><td>-35</td><td>35</td></tr>\n",
       "\t<tr><th scope=row>6</th><td>52</td><td>16</td><td>-36</td><td>36</td></tr>\n",
       "\t<tr><th scope=row>31</th><td>37</td><td> 0</td><td>-37</td><td>37</td></tr>\n",
       "\t<tr><th scope=row>24</th><td>49</td><td> 9</td><td>-40</td><td>40</td></tr>\n",
       "\t<tr><th scope=row>34</th><td>49</td><td> 9</td><td>-40</td><td>40</td></tr>\n",
       "\t<tr><th scope=row>35</th><td>49</td><td> 6</td><td>-43</td><td>43</td></tr>\n",
       "\t<tr><th scope=row>4</th><td>50</td><td> 0</td><td>-50</td><td>50</td></tr>\n",
       "\t<tr><th scope=row>26</th><td>55</td><td> 4</td><td>-51</td><td>51</td></tr>\n",
       "</tbody>\n",
       "</table>\n"
      ],
      "text/latex": [
       "A data.frame: 35 x 4\n",
       "\\begin{tabular}{r|llll}\n",
       "  & Antes & Depois & Dif & \\textbar{}Dif\\textbar{}\\\\\n",
       "  & <dbl> & <dbl> & <dbl> & <dbl>\\\\\n",
       "\\hline\n",
       "\t5 & 13 & 14 &   1 &  1\\\\\n",
       "\t21 & 17 & 16 &  -1 &  1\\\\\n",
       "\t32 & 17 & 19 &   2 &  2\\\\\n",
       "\t22 & 12 & 16 &   4 &  4\\\\\n",
       "\t25 & 14 & 18 &   4 &  4\\\\\n",
       "\t10 & 22 & 17 &  -5 &  5\\\\\n",
       "\t7 & 21 & 13 &  -8 &  8\\\\\n",
       "\t9 & 10 & 19 &   9 &  9\\\\\n",
       "\t30 & 23 & 14 &  -9 &  9\\\\\n",
       "\t18 & 15 &  4 & -11 & 11\\\\\n",
       "\t3 & 24 & 12 & -12 & 12\\\\\n",
       "\t23 & 21 &  9 & -12 & 12\\\\\n",
       "\t12 & 15 &  2 & -13 & 13\\\\\n",
       "\t2 & 25 &  8 & -17 & 17\\\\\n",
       "\t8 & 29 & 12 & -17 & 17\\\\\n",
       "\t29 & 28 & 11 & -17 & 17\\\\\n",
       "\t13 & 36 & 15 & -21 & 21\\\\\n",
       "\t28 & 22 &  0 & -22 & 22\\\\\n",
       "\t1 & 39 & 16 & -23 & 23\\\\\n",
       "\t20 & 41 & 18 & -23 & 23\\\\\n",
       "\t17 & 24 &  0 & -24 & 24\\\\\n",
       "\t19 & 40 & 16 & -24 & 24\\\\\n",
       "\t14 & 39 & 10 & -29 & 29\\\\\n",
       "\t27 & 46 & 17 & -29 & 29\\\\\n",
       "\t33 & 31 &  2 & -29 & 29\\\\\n",
       "\t15 & 52 & 20 & -32 & 32\\\\\n",
       "\t11 & 50 & 17 & -33 & 33\\\\\n",
       "\t16 & 48 & 13 & -35 & 35\\\\\n",
       "\t6 & 52 & 16 & -36 & 36\\\\\n",
       "\t31 & 37 &  0 & -37 & 37\\\\\n",
       "\t24 & 49 &  9 & -40 & 40\\\\\n",
       "\t34 & 49 &  9 & -40 & 40\\\\\n",
       "\t35 & 49 &  6 & -43 & 43\\\\\n",
       "\t4 & 50 &  0 & -50 & 50\\\\\n",
       "\t26 & 55 &  4 & -51 & 51\\\\\n",
       "\\end{tabular}\n"
      ],
      "text/markdown": [
       "\n",
       "A data.frame: 35 x 4\n",
       "\n",
       "| <!--/--> | Antes &lt;dbl&gt; | Depois &lt;dbl&gt; | Dif &lt;dbl&gt; | |Dif| &lt;dbl&gt; |\n",
       "|---|---|---|---|---|\n",
       "| 5 | 13 | 14 |   1 |  1 |\n",
       "| 21 | 17 | 16 |  -1 |  1 |\n",
       "| 32 | 17 | 19 |   2 |  2 |\n",
       "| 22 | 12 | 16 |   4 |  4 |\n",
       "| 25 | 14 | 18 |   4 |  4 |\n",
       "| 10 | 22 | 17 |  -5 |  5 |\n",
       "| 7 | 21 | 13 |  -8 |  8 |\n",
       "| 9 | 10 | 19 |   9 |  9 |\n",
       "| 30 | 23 | 14 |  -9 |  9 |\n",
       "| 18 | 15 |  4 | -11 | 11 |\n",
       "| 3 | 24 | 12 | -12 | 12 |\n",
       "| 23 | 21 |  9 | -12 | 12 |\n",
       "| 12 | 15 |  2 | -13 | 13 |\n",
       "| 2 | 25 |  8 | -17 | 17 |\n",
       "| 8 | 29 | 12 | -17 | 17 |\n",
       "| 29 | 28 | 11 | -17 | 17 |\n",
       "| 13 | 36 | 15 | -21 | 21 |\n",
       "| 28 | 22 |  0 | -22 | 22 |\n",
       "| 1 | 39 | 16 | -23 | 23 |\n",
       "| 20 | 41 | 18 | -23 | 23 |\n",
       "| 17 | 24 |  0 | -24 | 24 |\n",
       "| 19 | 40 | 16 | -24 | 24 |\n",
       "| 14 | 39 | 10 | -29 | 29 |\n",
       "| 27 | 46 | 17 | -29 | 29 |\n",
       "| 33 | 31 |  2 | -29 | 29 |\n",
       "| 15 | 52 | 20 | -32 | 32 |\n",
       "| 11 | 50 | 17 | -33 | 33 |\n",
       "| 16 | 48 | 13 | -35 | 35 |\n",
       "| 6 | 52 | 16 | -36 | 36 |\n",
       "| 31 | 37 |  0 | -37 | 37 |\n",
       "| 24 | 49 |  9 | -40 | 40 |\n",
       "| 34 | 49 |  9 | -40 | 40 |\n",
       "| 35 | 49 |  6 | -43 | 43 |\n",
       "| 4 | 50 |  0 | -50 | 50 |\n",
       "| 26 | 55 |  4 | -51 | 51 |\n",
       "\n"
      ],
      "text/plain": [
       "   Antes Depois Dif |Dif|\n",
       "5  13    14       1  1   \n",
       "21 17    16      -1  1   \n",
       "32 17    19       2  2   \n",
       "22 12    16       4  4   \n",
       "25 14    18       4  4   \n",
       "10 22    17      -5  5   \n",
       "7  21    13      -8  8   \n",
       "9  10    19       9  9   \n",
       "30 23    14      -9  9   \n",
       "18 15     4     -11 11   \n",
       "3  24    12     -12 12   \n",
       "23 21     9     -12 12   \n",
       "12 15     2     -13 13   \n",
       "2  25     8     -17 17   \n",
       "8  29    12     -17 17   \n",
       "29 28    11     -17 17   \n",
       "13 36    15     -21 21   \n",
       "28 22     0     -22 22   \n",
       "1  39    16     -23 23   \n",
       "20 41    18     -23 23   \n",
       "17 24     0     -24 24   \n",
       "19 40    16     -24 24   \n",
       "14 39    10     -29 29   \n",
       "27 46    17     -29 29   \n",
       "33 31     2     -29 29   \n",
       "15 52    20     -32 32   \n",
       "11 50    17     -33 33   \n",
       "16 48    13     -35 35   \n",
       "6  52    16     -36 36   \n",
       "31 37     0     -37 37   \n",
       "24 49     9     -40 40   \n",
       "34 49     9     -40 40   \n",
       "35 49     6     -43 43   \n",
       "4  50     0     -50 50   \n",
       "26 55     4     -51 51   "
      ]
     },
     "metadata": {},
     "output_type": "display_data"
    }
   ],
   "source": [
    "fumo$Posto <- NULL\n",
    "fumo"
   ]
  },
  {
   "cell_type": "code",
   "execution_count": 128,
   "metadata": {
    "scrolled": true
   },
   "outputs": [
    {
     "data": {
      "text/html": [
       "<table>\n",
       "<caption>A data.frame: 35 x 5</caption>\n",
       "<thead>\n",
       "\t<tr><th scope=col>|Dif|</th><th scope=col>Antes</th><th scope=col>Depois</th><th scope=col>Dif</th><th scope=col>Posto</th></tr>\n",
       "\t<tr><th scope=col>&lt;dbl&gt;</th><th scope=col>&lt;dbl&gt;</th><th scope=col>&lt;dbl&gt;</th><th scope=col>&lt;dbl&gt;</th><th scope=col>&lt;dbl&gt;</th></tr>\n",
       "</thead>\n",
       "<tbody>\n",
       "\t<tr><td> 1</td><td>13</td><td>14</td><td>  1</td><td> 1.5</td></tr>\n",
       "\t<tr><td> 1</td><td>17</td><td>16</td><td> -1</td><td> 1.5</td></tr>\n",
       "\t<tr><td> 2</td><td>17</td><td>19</td><td>  2</td><td> 3.0</td></tr>\n",
       "\t<tr><td> 4</td><td>12</td><td>16</td><td>  4</td><td> 4.5</td></tr>\n",
       "\t<tr><td> 4</td><td>14</td><td>18</td><td>  4</td><td> 4.5</td></tr>\n",
       "\t<tr><td> 5</td><td>22</td><td>17</td><td> -5</td><td> 6.0</td></tr>\n",
       "\t<tr><td> 8</td><td>21</td><td>13</td><td> -8</td><td> 7.0</td></tr>\n",
       "\t<tr><td> 9</td><td>10</td><td>19</td><td>  9</td><td> 8.5</td></tr>\n",
       "\t<tr><td> 9</td><td>23</td><td>14</td><td> -9</td><td> 8.5</td></tr>\n",
       "\t<tr><td>11</td><td>15</td><td> 4</td><td>-11</td><td>10.0</td></tr>\n",
       "\t<tr><td>12</td><td>24</td><td>12</td><td>-12</td><td>11.5</td></tr>\n",
       "\t<tr><td>12</td><td>21</td><td> 9</td><td>-12</td><td>11.5</td></tr>\n",
       "\t<tr><td>13</td><td>15</td><td> 2</td><td>-13</td><td>13.0</td></tr>\n",
       "\t<tr><td>17</td><td>25</td><td> 8</td><td>-17</td><td>15.0</td></tr>\n",
       "\t<tr><td>17</td><td>29</td><td>12</td><td>-17</td><td>15.0</td></tr>\n",
       "\t<tr><td>17</td><td>28</td><td>11</td><td>-17</td><td>15.0</td></tr>\n",
       "\t<tr><td>21</td><td>36</td><td>15</td><td>-21</td><td>17.0</td></tr>\n",
       "\t<tr><td>22</td><td>22</td><td> 0</td><td>-22</td><td>18.0</td></tr>\n",
       "\t<tr><td>23</td><td>39</td><td>16</td><td>-23</td><td>19.5</td></tr>\n",
       "\t<tr><td>23</td><td>41</td><td>18</td><td>-23</td><td>19.5</td></tr>\n",
       "\t<tr><td>24</td><td>24</td><td> 0</td><td>-24</td><td>21.5</td></tr>\n",
       "\t<tr><td>24</td><td>40</td><td>16</td><td>-24</td><td>21.5</td></tr>\n",
       "\t<tr><td>29</td><td>39</td><td>10</td><td>-29</td><td>24.0</td></tr>\n",
       "\t<tr><td>29</td><td>46</td><td>17</td><td>-29</td><td>24.0</td></tr>\n",
       "\t<tr><td>29</td><td>31</td><td> 2</td><td>-29</td><td>24.0</td></tr>\n",
       "\t<tr><td>32</td><td>52</td><td>20</td><td>-32</td><td>26.0</td></tr>\n",
       "\t<tr><td>33</td><td>50</td><td>17</td><td>-33</td><td>27.0</td></tr>\n",
       "\t<tr><td>35</td><td>48</td><td>13</td><td>-35</td><td>28.0</td></tr>\n",
       "\t<tr><td>36</td><td>52</td><td>16</td><td>-36</td><td>29.0</td></tr>\n",
       "\t<tr><td>37</td><td>37</td><td> 0</td><td>-37</td><td>30.0</td></tr>\n",
       "\t<tr><td>40</td><td>49</td><td> 9</td><td>-40</td><td>31.5</td></tr>\n",
       "\t<tr><td>40</td><td>49</td><td> 9</td><td>-40</td><td>31.5</td></tr>\n",
       "\t<tr><td>43</td><td>49</td><td> 6</td><td>-43</td><td>33.0</td></tr>\n",
       "\t<tr><td>50</td><td>50</td><td> 0</td><td>-50</td><td>34.0</td></tr>\n",
       "\t<tr><td>51</td><td>55</td><td> 4</td><td>-51</td><td>35.0</td></tr>\n",
       "</tbody>\n",
       "</table>\n"
      ],
      "text/latex": [
       "A data.frame: 35 x 5\n",
       "\\begin{tabular}{r|lllll}\n",
       " \\textbar{}Dif\\textbar{} & Antes & Depois & Dif & Posto\\\\\n",
       " <dbl> & <dbl> & <dbl> & <dbl> & <dbl>\\\\\n",
       "\\hline\n",
       "\t  1 & 13 & 14 &   1 &  1.5\\\\\n",
       "\t  1 & 17 & 16 &  -1 &  1.5\\\\\n",
       "\t  2 & 17 & 19 &   2 &  3.0\\\\\n",
       "\t  4 & 12 & 16 &   4 &  4.5\\\\\n",
       "\t  4 & 14 & 18 &   4 &  4.5\\\\\n",
       "\t  5 & 22 & 17 &  -5 &  6.0\\\\\n",
       "\t  8 & 21 & 13 &  -8 &  7.0\\\\\n",
       "\t  9 & 10 & 19 &   9 &  8.5\\\\\n",
       "\t  9 & 23 & 14 &  -9 &  8.5\\\\\n",
       "\t 11 & 15 &  4 & -11 & 10.0\\\\\n",
       "\t 12 & 24 & 12 & -12 & 11.5\\\\\n",
       "\t 12 & 21 &  9 & -12 & 11.5\\\\\n",
       "\t 13 & 15 &  2 & -13 & 13.0\\\\\n",
       "\t 17 & 25 &  8 & -17 & 15.0\\\\\n",
       "\t 17 & 29 & 12 & -17 & 15.0\\\\\n",
       "\t 17 & 28 & 11 & -17 & 15.0\\\\\n",
       "\t 21 & 36 & 15 & -21 & 17.0\\\\\n",
       "\t 22 & 22 &  0 & -22 & 18.0\\\\\n",
       "\t 23 & 39 & 16 & -23 & 19.5\\\\\n",
       "\t 23 & 41 & 18 & -23 & 19.5\\\\\n",
       "\t 24 & 24 &  0 & -24 & 21.5\\\\\n",
       "\t 24 & 40 & 16 & -24 & 21.5\\\\\n",
       "\t 29 & 39 & 10 & -29 & 24.0\\\\\n",
       "\t 29 & 46 & 17 & -29 & 24.0\\\\\n",
       "\t 29 & 31 &  2 & -29 & 24.0\\\\\n",
       "\t 32 & 52 & 20 & -32 & 26.0\\\\\n",
       "\t 33 & 50 & 17 & -33 & 27.0\\\\\n",
       "\t 35 & 48 & 13 & -35 & 28.0\\\\\n",
       "\t 36 & 52 & 16 & -36 & 29.0\\\\\n",
       "\t 37 & 37 &  0 & -37 & 30.0\\\\\n",
       "\t 40 & 49 &  9 & -40 & 31.5\\\\\n",
       "\t 40 & 49 &  9 & -40 & 31.5\\\\\n",
       "\t 43 & 49 &  6 & -43 & 33.0\\\\\n",
       "\t 50 & 50 &  0 & -50 & 34.0\\\\\n",
       "\t 51 & 55 &  4 & -51 & 35.0\\\\\n",
       "\\end{tabular}\n"
      ],
      "text/markdown": [
       "\n",
       "A data.frame: 35 x 5\n",
       "\n",
       "| |Dif| &lt;dbl&gt; | Antes &lt;dbl&gt; | Depois &lt;dbl&gt; | Dif &lt;dbl&gt; | Posto &lt;dbl&gt; |\n",
       "|---|---|---|---|---|\n",
       "|  1 | 13 | 14 |   1 |  1.5 |\n",
       "|  1 | 17 | 16 |  -1 |  1.5 |\n",
       "|  2 | 17 | 19 |   2 |  3.0 |\n",
       "|  4 | 12 | 16 |   4 |  4.5 |\n",
       "|  4 | 14 | 18 |   4 |  4.5 |\n",
       "|  5 | 22 | 17 |  -5 |  6.0 |\n",
       "|  8 | 21 | 13 |  -8 |  7.0 |\n",
       "|  9 | 10 | 19 |   9 |  8.5 |\n",
       "|  9 | 23 | 14 |  -9 |  8.5 |\n",
       "| 11 | 15 |  4 | -11 | 10.0 |\n",
       "| 12 | 24 | 12 | -12 | 11.5 |\n",
       "| 12 | 21 |  9 | -12 | 11.5 |\n",
       "| 13 | 15 |  2 | -13 | 13.0 |\n",
       "| 17 | 25 |  8 | -17 | 15.0 |\n",
       "| 17 | 29 | 12 | -17 | 15.0 |\n",
       "| 17 | 28 | 11 | -17 | 15.0 |\n",
       "| 21 | 36 | 15 | -21 | 17.0 |\n",
       "| 22 | 22 |  0 | -22 | 18.0 |\n",
       "| 23 | 39 | 16 | -23 | 19.5 |\n",
       "| 23 | 41 | 18 | -23 | 19.5 |\n",
       "| 24 | 24 |  0 | -24 | 21.5 |\n",
       "| 24 | 40 | 16 | -24 | 21.5 |\n",
       "| 29 | 39 | 10 | -29 | 24.0 |\n",
       "| 29 | 46 | 17 | -29 | 24.0 |\n",
       "| 29 | 31 |  2 | -29 | 24.0 |\n",
       "| 32 | 52 | 20 | -32 | 26.0 |\n",
       "| 33 | 50 | 17 | -33 | 27.0 |\n",
       "| 35 | 48 | 13 | -35 | 28.0 |\n",
       "| 36 | 52 | 16 | -36 | 29.0 |\n",
       "| 37 | 37 |  0 | -37 | 30.0 |\n",
       "| 40 | 49 |  9 | -40 | 31.5 |\n",
       "| 40 | 49 |  9 | -40 | 31.5 |\n",
       "| 43 | 49 |  6 | -43 | 33.0 |\n",
       "| 50 | 50 |  0 | -50 | 34.0 |\n",
       "| 51 | 55 |  4 | -51 | 35.0 |\n",
       "\n"
      ],
      "text/plain": [
       "   |Dif| Antes Depois Dif Posto\n",
       "1   1    13    14       1  1.5 \n",
       "2   1    17    16      -1  1.5 \n",
       "3   2    17    19       2  3.0 \n",
       "4   4    12    16       4  4.5 \n",
       "5   4    14    18       4  4.5 \n",
       "6   5    22    17      -5  6.0 \n",
       "7   8    21    13      -8  7.0 \n",
       "8   9    10    19       9  8.5 \n",
       "9   9    23    14      -9  8.5 \n",
       "10 11    15     4     -11 10.0 \n",
       "11 12    24    12     -12 11.5 \n",
       "12 12    21     9     -12 11.5 \n",
       "13 13    15     2     -13 13.0 \n",
       "14 17    25     8     -17 15.0 \n",
       "15 17    29    12     -17 15.0 \n",
       "16 17    28    11     -17 15.0 \n",
       "17 21    36    15     -21 17.0 \n",
       "18 22    22     0     -22 18.0 \n",
       "19 23    39    16     -23 19.5 \n",
       "20 23    41    18     -23 19.5 \n",
       "21 24    24     0     -24 21.5 \n",
       "22 24    40    16     -24 21.5 \n",
       "23 29    39    10     -29 24.0 \n",
       "24 29    46    17     -29 24.0 \n",
       "25 29    31     2     -29 24.0 \n",
       "26 32    52    20     -32 26.0 \n",
       "27 33    50    17     -33 27.0 \n",
       "28 35    48    13     -35 28.0 \n",
       "29 36    52    16     -36 29.0 \n",
       "30 37    37     0     -37 30.0 \n",
       "31 40    49     9     -40 31.5 \n",
       "32 40    49     9     -40 31.5 \n",
       "33 43    49     6     -43 33.0 \n",
       "34 50    50     0     -50 34.0 \n",
       "35 51    55     4     -51 35.0 "
      ]
     },
     "metadata": {},
     "output_type": "display_data"
    }
   ],
   "source": [
    "fumo <- merge(x = fumo, y = posto, by = '|Dif|', all.x = TRUE)\n",
    "fumo"
   ]
  },
  {
   "cell_type": "code",
   "execution_count": 129,
   "metadata": {
    "scrolled": true
   },
   "outputs": [
    {
     "data": {
      "text/html": [
       "<table>\n",
       "<caption>A data.frame: 35 x 6</caption>\n",
       "<thead>\n",
       "\t<tr><th scope=col>|Dif|</th><th scope=col>Antes</th><th scope=col>Depois</th><th scope=col>Dif</th><th scope=col>Posto</th><th scope=col>Posto (+)</th></tr>\n",
       "\t<tr><th scope=col>&lt;dbl&gt;</th><th scope=col>&lt;dbl&gt;</th><th scope=col>&lt;dbl&gt;</th><th scope=col>&lt;dbl&gt;</th><th scope=col>&lt;dbl&gt;</th><th scope=col>&lt;dbl&gt;</th></tr>\n",
       "</thead>\n",
       "<tbody>\n",
       "\t<tr><td> 1</td><td>13</td><td>14</td><td>  1</td><td> 1.5</td><td>1.5</td></tr>\n",
       "\t<tr><td> 1</td><td>17</td><td>16</td><td> -1</td><td> 1.5</td><td>0.0</td></tr>\n",
       "\t<tr><td> 2</td><td>17</td><td>19</td><td>  2</td><td> 3.0</td><td>3.0</td></tr>\n",
       "\t<tr><td> 4</td><td>12</td><td>16</td><td>  4</td><td> 4.5</td><td>4.5</td></tr>\n",
       "\t<tr><td> 4</td><td>14</td><td>18</td><td>  4</td><td> 4.5</td><td>4.5</td></tr>\n",
       "\t<tr><td> 5</td><td>22</td><td>17</td><td> -5</td><td> 6.0</td><td>0.0</td></tr>\n",
       "\t<tr><td> 8</td><td>21</td><td>13</td><td> -8</td><td> 7.0</td><td>0.0</td></tr>\n",
       "\t<tr><td> 9</td><td>10</td><td>19</td><td>  9</td><td> 8.5</td><td>8.5</td></tr>\n",
       "\t<tr><td> 9</td><td>23</td><td>14</td><td> -9</td><td> 8.5</td><td>0.0</td></tr>\n",
       "\t<tr><td>11</td><td>15</td><td> 4</td><td>-11</td><td>10.0</td><td>0.0</td></tr>\n",
       "\t<tr><td>12</td><td>24</td><td>12</td><td>-12</td><td>11.5</td><td>0.0</td></tr>\n",
       "\t<tr><td>12</td><td>21</td><td> 9</td><td>-12</td><td>11.5</td><td>0.0</td></tr>\n",
       "\t<tr><td>13</td><td>15</td><td> 2</td><td>-13</td><td>13.0</td><td>0.0</td></tr>\n",
       "\t<tr><td>17</td><td>25</td><td> 8</td><td>-17</td><td>15.0</td><td>0.0</td></tr>\n",
       "\t<tr><td>17</td><td>29</td><td>12</td><td>-17</td><td>15.0</td><td>0.0</td></tr>\n",
       "\t<tr><td>17</td><td>28</td><td>11</td><td>-17</td><td>15.0</td><td>0.0</td></tr>\n",
       "\t<tr><td>21</td><td>36</td><td>15</td><td>-21</td><td>17.0</td><td>0.0</td></tr>\n",
       "\t<tr><td>22</td><td>22</td><td> 0</td><td>-22</td><td>18.0</td><td>0.0</td></tr>\n",
       "\t<tr><td>23</td><td>39</td><td>16</td><td>-23</td><td>19.5</td><td>0.0</td></tr>\n",
       "\t<tr><td>23</td><td>41</td><td>18</td><td>-23</td><td>19.5</td><td>0.0</td></tr>\n",
       "\t<tr><td>24</td><td>24</td><td> 0</td><td>-24</td><td>21.5</td><td>0.0</td></tr>\n",
       "\t<tr><td>24</td><td>40</td><td>16</td><td>-24</td><td>21.5</td><td>0.0</td></tr>\n",
       "\t<tr><td>29</td><td>39</td><td>10</td><td>-29</td><td>24.0</td><td>0.0</td></tr>\n",
       "\t<tr><td>29</td><td>46</td><td>17</td><td>-29</td><td>24.0</td><td>0.0</td></tr>\n",
       "\t<tr><td>29</td><td>31</td><td> 2</td><td>-29</td><td>24.0</td><td>0.0</td></tr>\n",
       "\t<tr><td>32</td><td>52</td><td>20</td><td>-32</td><td>26.0</td><td>0.0</td></tr>\n",
       "\t<tr><td>33</td><td>50</td><td>17</td><td>-33</td><td>27.0</td><td>0.0</td></tr>\n",
       "\t<tr><td>35</td><td>48</td><td>13</td><td>-35</td><td>28.0</td><td>0.0</td></tr>\n",
       "\t<tr><td>36</td><td>52</td><td>16</td><td>-36</td><td>29.0</td><td>0.0</td></tr>\n",
       "\t<tr><td>37</td><td>37</td><td> 0</td><td>-37</td><td>30.0</td><td>0.0</td></tr>\n",
       "\t<tr><td>40</td><td>49</td><td> 9</td><td>-40</td><td>31.5</td><td>0.0</td></tr>\n",
       "\t<tr><td>40</td><td>49</td><td> 9</td><td>-40</td><td>31.5</td><td>0.0</td></tr>\n",
       "\t<tr><td>43</td><td>49</td><td> 6</td><td>-43</td><td>33.0</td><td>0.0</td></tr>\n",
       "\t<tr><td>50</td><td>50</td><td> 0</td><td>-50</td><td>34.0</td><td>0.0</td></tr>\n",
       "\t<tr><td>51</td><td>55</td><td> 4</td><td>-51</td><td>35.0</td><td>0.0</td></tr>\n",
       "</tbody>\n",
       "</table>\n"
      ],
      "text/latex": [
       "A data.frame: 35 x 6\n",
       "\\begin{tabular}{r|llllll}\n",
       " \\textbar{}Dif\\textbar{} & Antes & Depois & Dif & Posto & Posto (+)\\\\\n",
       " <dbl> & <dbl> & <dbl> & <dbl> & <dbl> & <dbl>\\\\\n",
       "\\hline\n",
       "\t  1 & 13 & 14 &   1 &  1.5 & 1.5\\\\\n",
       "\t  1 & 17 & 16 &  -1 &  1.5 & 0.0\\\\\n",
       "\t  2 & 17 & 19 &   2 &  3.0 & 3.0\\\\\n",
       "\t  4 & 12 & 16 &   4 &  4.5 & 4.5\\\\\n",
       "\t  4 & 14 & 18 &   4 &  4.5 & 4.5\\\\\n",
       "\t  5 & 22 & 17 &  -5 &  6.0 & 0.0\\\\\n",
       "\t  8 & 21 & 13 &  -8 &  7.0 & 0.0\\\\\n",
       "\t  9 & 10 & 19 &   9 &  8.5 & 8.5\\\\\n",
       "\t  9 & 23 & 14 &  -9 &  8.5 & 0.0\\\\\n",
       "\t 11 & 15 &  4 & -11 & 10.0 & 0.0\\\\\n",
       "\t 12 & 24 & 12 & -12 & 11.5 & 0.0\\\\\n",
       "\t 12 & 21 &  9 & -12 & 11.5 & 0.0\\\\\n",
       "\t 13 & 15 &  2 & -13 & 13.0 & 0.0\\\\\n",
       "\t 17 & 25 &  8 & -17 & 15.0 & 0.0\\\\\n",
       "\t 17 & 29 & 12 & -17 & 15.0 & 0.0\\\\\n",
       "\t 17 & 28 & 11 & -17 & 15.0 & 0.0\\\\\n",
       "\t 21 & 36 & 15 & -21 & 17.0 & 0.0\\\\\n",
       "\t 22 & 22 &  0 & -22 & 18.0 & 0.0\\\\\n",
       "\t 23 & 39 & 16 & -23 & 19.5 & 0.0\\\\\n",
       "\t 23 & 41 & 18 & -23 & 19.5 & 0.0\\\\\n",
       "\t 24 & 24 &  0 & -24 & 21.5 & 0.0\\\\\n",
       "\t 24 & 40 & 16 & -24 & 21.5 & 0.0\\\\\n",
       "\t 29 & 39 & 10 & -29 & 24.0 & 0.0\\\\\n",
       "\t 29 & 46 & 17 & -29 & 24.0 & 0.0\\\\\n",
       "\t 29 & 31 &  2 & -29 & 24.0 & 0.0\\\\\n",
       "\t 32 & 52 & 20 & -32 & 26.0 & 0.0\\\\\n",
       "\t 33 & 50 & 17 & -33 & 27.0 & 0.0\\\\\n",
       "\t 35 & 48 & 13 & -35 & 28.0 & 0.0\\\\\n",
       "\t 36 & 52 & 16 & -36 & 29.0 & 0.0\\\\\n",
       "\t 37 & 37 &  0 & -37 & 30.0 & 0.0\\\\\n",
       "\t 40 & 49 &  9 & -40 & 31.5 & 0.0\\\\\n",
       "\t 40 & 49 &  9 & -40 & 31.5 & 0.0\\\\\n",
       "\t 43 & 49 &  6 & -43 & 33.0 & 0.0\\\\\n",
       "\t 50 & 50 &  0 & -50 & 34.0 & 0.0\\\\\n",
       "\t 51 & 55 &  4 & -51 & 35.0 & 0.0\\\\\n",
       "\\end{tabular}\n"
      ],
      "text/markdown": [
       "\n",
       "A data.frame: 35 x 6\n",
       "\n",
       "| |Dif| &lt;dbl&gt; | Antes &lt;dbl&gt; | Depois &lt;dbl&gt; | Dif &lt;dbl&gt; | Posto &lt;dbl&gt; | Posto (+) &lt;dbl&gt; |\n",
       "|---|---|---|---|---|---|\n",
       "|  1 | 13 | 14 |   1 |  1.5 | 1.5 |\n",
       "|  1 | 17 | 16 |  -1 |  1.5 | 0.0 |\n",
       "|  2 | 17 | 19 |   2 |  3.0 | 3.0 |\n",
       "|  4 | 12 | 16 |   4 |  4.5 | 4.5 |\n",
       "|  4 | 14 | 18 |   4 |  4.5 | 4.5 |\n",
       "|  5 | 22 | 17 |  -5 |  6.0 | 0.0 |\n",
       "|  8 | 21 | 13 |  -8 |  7.0 | 0.0 |\n",
       "|  9 | 10 | 19 |   9 |  8.5 | 8.5 |\n",
       "|  9 | 23 | 14 |  -9 |  8.5 | 0.0 |\n",
       "| 11 | 15 |  4 | -11 | 10.0 | 0.0 |\n",
       "| 12 | 24 | 12 | -12 | 11.5 | 0.0 |\n",
       "| 12 | 21 |  9 | -12 | 11.5 | 0.0 |\n",
       "| 13 | 15 |  2 | -13 | 13.0 | 0.0 |\n",
       "| 17 | 25 |  8 | -17 | 15.0 | 0.0 |\n",
       "| 17 | 29 | 12 | -17 | 15.0 | 0.0 |\n",
       "| 17 | 28 | 11 | -17 | 15.0 | 0.0 |\n",
       "| 21 | 36 | 15 | -21 | 17.0 | 0.0 |\n",
       "| 22 | 22 |  0 | -22 | 18.0 | 0.0 |\n",
       "| 23 | 39 | 16 | -23 | 19.5 | 0.0 |\n",
       "| 23 | 41 | 18 | -23 | 19.5 | 0.0 |\n",
       "| 24 | 24 |  0 | -24 | 21.5 | 0.0 |\n",
       "| 24 | 40 | 16 | -24 | 21.5 | 0.0 |\n",
       "| 29 | 39 | 10 | -29 | 24.0 | 0.0 |\n",
       "| 29 | 46 | 17 | -29 | 24.0 | 0.0 |\n",
       "| 29 | 31 |  2 | -29 | 24.0 | 0.0 |\n",
       "| 32 | 52 | 20 | -32 | 26.0 | 0.0 |\n",
       "| 33 | 50 | 17 | -33 | 27.0 | 0.0 |\n",
       "| 35 | 48 | 13 | -35 | 28.0 | 0.0 |\n",
       "| 36 | 52 | 16 | -36 | 29.0 | 0.0 |\n",
       "| 37 | 37 |  0 | -37 | 30.0 | 0.0 |\n",
       "| 40 | 49 |  9 | -40 | 31.5 | 0.0 |\n",
       "| 40 | 49 |  9 | -40 | 31.5 | 0.0 |\n",
       "| 43 | 49 |  6 | -43 | 33.0 | 0.0 |\n",
       "| 50 | 50 |  0 | -50 | 34.0 | 0.0 |\n",
       "| 51 | 55 |  4 | -51 | 35.0 | 0.0 |\n",
       "\n"
      ],
      "text/plain": [
       "   |Dif| Antes Depois Dif Posto Posto (+)\n",
       "1   1    13    14       1  1.5  1.5      \n",
       "2   1    17    16      -1  1.5  0.0      \n",
       "3   2    17    19       2  3.0  3.0      \n",
       "4   4    12    16       4  4.5  4.5      \n",
       "5   4    14    18       4  4.5  4.5      \n",
       "6   5    22    17      -5  6.0  0.0      \n",
       "7   8    21    13      -8  7.0  0.0      \n",
       "8   9    10    19       9  8.5  8.5      \n",
       "9   9    23    14      -9  8.5  0.0      \n",
       "10 11    15     4     -11 10.0  0.0      \n",
       "11 12    24    12     -12 11.5  0.0      \n",
       "12 12    21     9     -12 11.5  0.0      \n",
       "13 13    15     2     -13 13.0  0.0      \n",
       "14 17    25     8     -17 15.0  0.0      \n",
       "15 17    29    12     -17 15.0  0.0      \n",
       "16 17    28    11     -17 15.0  0.0      \n",
       "17 21    36    15     -21 17.0  0.0      \n",
       "18 22    22     0     -22 18.0  0.0      \n",
       "19 23    39    16     -23 19.5  0.0      \n",
       "20 23    41    18     -23 19.5  0.0      \n",
       "21 24    24     0     -24 21.5  0.0      \n",
       "22 24    40    16     -24 21.5  0.0      \n",
       "23 29    39    10     -29 24.0  0.0      \n",
       "24 29    46    17     -29 24.0  0.0      \n",
       "25 29    31     2     -29 24.0  0.0      \n",
       "26 32    52    20     -32 26.0  0.0      \n",
       "27 33    50    17     -33 27.0  0.0      \n",
       "28 35    48    13     -35 28.0  0.0      \n",
       "29 36    52    16     -36 29.0  0.0      \n",
       "30 37    37     0     -37 30.0  0.0      \n",
       "31 40    49     9     -40 31.5  0.0      \n",
       "32 40    49     9     -40 31.5  0.0      \n",
       "33 43    49     6     -43 33.0  0.0      \n",
       "34 50    50     0     -50 34.0  0.0      \n",
       "35 51    55     4     -51 35.0  0.0      "
      ]
     },
     "metadata": {},
     "output_type": "display_data"
    }
   ],
   "source": [
    "fumo['Posto (+)'] <- apply(fumo[, c('Dif', 'Posto')], 1, function(x) if(x[1] > 0) x[2] else 0)\n",
    "fumo"
   ]
  },
  {
   "cell_type": "code",
   "execution_count": 130,
   "metadata": {
    "scrolled": true
   },
   "outputs": [
    {
     "data": {
      "text/html": [
       "<table>\n",
       "<caption>A data.frame: 35 x 7</caption>\n",
       "<thead>\n",
       "\t<tr><th scope=col>|Dif|</th><th scope=col>Antes</th><th scope=col>Depois</th><th scope=col>Dif</th><th scope=col>Posto</th><th scope=col>Posto (+)</th><th scope=col>Posto (-)</th></tr>\n",
       "\t<tr><th scope=col>&lt;dbl&gt;</th><th scope=col>&lt;dbl&gt;</th><th scope=col>&lt;dbl&gt;</th><th scope=col>&lt;dbl&gt;</th><th scope=col>&lt;dbl&gt;</th><th scope=col>&lt;dbl&gt;</th><th scope=col>&lt;dbl&gt;</th></tr>\n",
       "</thead>\n",
       "<tbody>\n",
       "\t<tr><td> 1</td><td>13</td><td>14</td><td>  1</td><td> 1.5</td><td>1.5</td><td> 0.0</td></tr>\n",
       "\t<tr><td> 1</td><td>17</td><td>16</td><td> -1</td><td> 1.5</td><td>0.0</td><td> 1.5</td></tr>\n",
       "\t<tr><td> 2</td><td>17</td><td>19</td><td>  2</td><td> 3.0</td><td>3.0</td><td> 0.0</td></tr>\n",
       "\t<tr><td> 4</td><td>12</td><td>16</td><td>  4</td><td> 4.5</td><td>4.5</td><td> 0.0</td></tr>\n",
       "\t<tr><td> 4</td><td>14</td><td>18</td><td>  4</td><td> 4.5</td><td>4.5</td><td> 0.0</td></tr>\n",
       "\t<tr><td> 5</td><td>22</td><td>17</td><td> -5</td><td> 6.0</td><td>0.0</td><td> 6.0</td></tr>\n",
       "\t<tr><td> 8</td><td>21</td><td>13</td><td> -8</td><td> 7.0</td><td>0.0</td><td> 7.0</td></tr>\n",
       "\t<tr><td> 9</td><td>10</td><td>19</td><td>  9</td><td> 8.5</td><td>8.5</td><td> 0.0</td></tr>\n",
       "\t<tr><td> 9</td><td>23</td><td>14</td><td> -9</td><td> 8.5</td><td>0.0</td><td> 8.5</td></tr>\n",
       "\t<tr><td>11</td><td>15</td><td> 4</td><td>-11</td><td>10.0</td><td>0.0</td><td>10.0</td></tr>\n",
       "\t<tr><td>12</td><td>24</td><td>12</td><td>-12</td><td>11.5</td><td>0.0</td><td>11.5</td></tr>\n",
       "\t<tr><td>12</td><td>21</td><td> 9</td><td>-12</td><td>11.5</td><td>0.0</td><td>11.5</td></tr>\n",
       "\t<tr><td>13</td><td>15</td><td> 2</td><td>-13</td><td>13.0</td><td>0.0</td><td>13.0</td></tr>\n",
       "\t<tr><td>17</td><td>25</td><td> 8</td><td>-17</td><td>15.0</td><td>0.0</td><td>15.0</td></tr>\n",
       "\t<tr><td>17</td><td>29</td><td>12</td><td>-17</td><td>15.0</td><td>0.0</td><td>15.0</td></tr>\n",
       "\t<tr><td>17</td><td>28</td><td>11</td><td>-17</td><td>15.0</td><td>0.0</td><td>15.0</td></tr>\n",
       "\t<tr><td>21</td><td>36</td><td>15</td><td>-21</td><td>17.0</td><td>0.0</td><td>17.0</td></tr>\n",
       "\t<tr><td>22</td><td>22</td><td> 0</td><td>-22</td><td>18.0</td><td>0.0</td><td>18.0</td></tr>\n",
       "\t<tr><td>23</td><td>39</td><td>16</td><td>-23</td><td>19.5</td><td>0.0</td><td>19.5</td></tr>\n",
       "\t<tr><td>23</td><td>41</td><td>18</td><td>-23</td><td>19.5</td><td>0.0</td><td>19.5</td></tr>\n",
       "\t<tr><td>24</td><td>24</td><td> 0</td><td>-24</td><td>21.5</td><td>0.0</td><td>21.5</td></tr>\n",
       "\t<tr><td>24</td><td>40</td><td>16</td><td>-24</td><td>21.5</td><td>0.0</td><td>21.5</td></tr>\n",
       "\t<tr><td>29</td><td>39</td><td>10</td><td>-29</td><td>24.0</td><td>0.0</td><td>24.0</td></tr>\n",
       "\t<tr><td>29</td><td>46</td><td>17</td><td>-29</td><td>24.0</td><td>0.0</td><td>24.0</td></tr>\n",
       "\t<tr><td>29</td><td>31</td><td> 2</td><td>-29</td><td>24.0</td><td>0.0</td><td>24.0</td></tr>\n",
       "\t<tr><td>32</td><td>52</td><td>20</td><td>-32</td><td>26.0</td><td>0.0</td><td>26.0</td></tr>\n",
       "\t<tr><td>33</td><td>50</td><td>17</td><td>-33</td><td>27.0</td><td>0.0</td><td>27.0</td></tr>\n",
       "\t<tr><td>35</td><td>48</td><td>13</td><td>-35</td><td>28.0</td><td>0.0</td><td>28.0</td></tr>\n",
       "\t<tr><td>36</td><td>52</td><td>16</td><td>-36</td><td>29.0</td><td>0.0</td><td>29.0</td></tr>\n",
       "\t<tr><td>37</td><td>37</td><td> 0</td><td>-37</td><td>30.0</td><td>0.0</td><td>30.0</td></tr>\n",
       "\t<tr><td>40</td><td>49</td><td> 9</td><td>-40</td><td>31.5</td><td>0.0</td><td>31.5</td></tr>\n",
       "\t<tr><td>40</td><td>49</td><td> 9</td><td>-40</td><td>31.5</td><td>0.0</td><td>31.5</td></tr>\n",
       "\t<tr><td>43</td><td>49</td><td> 6</td><td>-43</td><td>33.0</td><td>0.0</td><td>33.0</td></tr>\n",
       "\t<tr><td>50</td><td>50</td><td> 0</td><td>-50</td><td>34.0</td><td>0.0</td><td>34.0</td></tr>\n",
       "\t<tr><td>51</td><td>55</td><td> 4</td><td>-51</td><td>35.0</td><td>0.0</td><td>35.0</td></tr>\n",
       "</tbody>\n",
       "</table>\n"
      ],
      "text/latex": [
       "A data.frame: 35 x 7\n",
       "\\begin{tabular}{r|lllllll}\n",
       " \\textbar{}Dif\\textbar{} & Antes & Depois & Dif & Posto & Posto (+) & Posto (-)\\\\\n",
       " <dbl> & <dbl> & <dbl> & <dbl> & <dbl> & <dbl> & <dbl>\\\\\n",
       "\\hline\n",
       "\t  1 & 13 & 14 &   1 &  1.5 & 1.5 &  0.0\\\\\n",
       "\t  1 & 17 & 16 &  -1 &  1.5 & 0.0 &  1.5\\\\\n",
       "\t  2 & 17 & 19 &   2 &  3.0 & 3.0 &  0.0\\\\\n",
       "\t  4 & 12 & 16 &   4 &  4.5 & 4.5 &  0.0\\\\\n",
       "\t  4 & 14 & 18 &   4 &  4.5 & 4.5 &  0.0\\\\\n",
       "\t  5 & 22 & 17 &  -5 &  6.0 & 0.0 &  6.0\\\\\n",
       "\t  8 & 21 & 13 &  -8 &  7.0 & 0.0 &  7.0\\\\\n",
       "\t  9 & 10 & 19 &   9 &  8.5 & 8.5 &  0.0\\\\\n",
       "\t  9 & 23 & 14 &  -9 &  8.5 & 0.0 &  8.5\\\\\n",
       "\t 11 & 15 &  4 & -11 & 10.0 & 0.0 & 10.0\\\\\n",
       "\t 12 & 24 & 12 & -12 & 11.5 & 0.0 & 11.5\\\\\n",
       "\t 12 & 21 &  9 & -12 & 11.5 & 0.0 & 11.5\\\\\n",
       "\t 13 & 15 &  2 & -13 & 13.0 & 0.0 & 13.0\\\\\n",
       "\t 17 & 25 &  8 & -17 & 15.0 & 0.0 & 15.0\\\\\n",
       "\t 17 & 29 & 12 & -17 & 15.0 & 0.0 & 15.0\\\\\n",
       "\t 17 & 28 & 11 & -17 & 15.0 & 0.0 & 15.0\\\\\n",
       "\t 21 & 36 & 15 & -21 & 17.0 & 0.0 & 17.0\\\\\n",
       "\t 22 & 22 &  0 & -22 & 18.0 & 0.0 & 18.0\\\\\n",
       "\t 23 & 39 & 16 & -23 & 19.5 & 0.0 & 19.5\\\\\n",
       "\t 23 & 41 & 18 & -23 & 19.5 & 0.0 & 19.5\\\\\n",
       "\t 24 & 24 &  0 & -24 & 21.5 & 0.0 & 21.5\\\\\n",
       "\t 24 & 40 & 16 & -24 & 21.5 & 0.0 & 21.5\\\\\n",
       "\t 29 & 39 & 10 & -29 & 24.0 & 0.0 & 24.0\\\\\n",
       "\t 29 & 46 & 17 & -29 & 24.0 & 0.0 & 24.0\\\\\n",
       "\t 29 & 31 &  2 & -29 & 24.0 & 0.0 & 24.0\\\\\n",
       "\t 32 & 52 & 20 & -32 & 26.0 & 0.0 & 26.0\\\\\n",
       "\t 33 & 50 & 17 & -33 & 27.0 & 0.0 & 27.0\\\\\n",
       "\t 35 & 48 & 13 & -35 & 28.0 & 0.0 & 28.0\\\\\n",
       "\t 36 & 52 & 16 & -36 & 29.0 & 0.0 & 29.0\\\\\n",
       "\t 37 & 37 &  0 & -37 & 30.0 & 0.0 & 30.0\\\\\n",
       "\t 40 & 49 &  9 & -40 & 31.5 & 0.0 & 31.5\\\\\n",
       "\t 40 & 49 &  9 & -40 & 31.5 & 0.0 & 31.5\\\\\n",
       "\t 43 & 49 &  6 & -43 & 33.0 & 0.0 & 33.0\\\\\n",
       "\t 50 & 50 &  0 & -50 & 34.0 & 0.0 & 34.0\\\\\n",
       "\t 51 & 55 &  4 & -51 & 35.0 & 0.0 & 35.0\\\\\n",
       "\\end{tabular}\n"
      ],
      "text/markdown": [
       "\n",
       "A data.frame: 35 x 7\n",
       "\n",
       "| |Dif| &lt;dbl&gt; | Antes &lt;dbl&gt; | Depois &lt;dbl&gt; | Dif &lt;dbl&gt; | Posto &lt;dbl&gt; | Posto (+) &lt;dbl&gt; | Posto (-) &lt;dbl&gt; |\n",
       "|---|---|---|---|---|---|---|\n",
       "|  1 | 13 | 14 |   1 |  1.5 | 1.5 |  0.0 |\n",
       "|  1 | 17 | 16 |  -1 |  1.5 | 0.0 |  1.5 |\n",
       "|  2 | 17 | 19 |   2 |  3.0 | 3.0 |  0.0 |\n",
       "|  4 | 12 | 16 |   4 |  4.5 | 4.5 |  0.0 |\n",
       "|  4 | 14 | 18 |   4 |  4.5 | 4.5 |  0.0 |\n",
       "|  5 | 22 | 17 |  -5 |  6.0 | 0.0 |  6.0 |\n",
       "|  8 | 21 | 13 |  -8 |  7.0 | 0.0 |  7.0 |\n",
       "|  9 | 10 | 19 |   9 |  8.5 | 8.5 |  0.0 |\n",
       "|  9 | 23 | 14 |  -9 |  8.5 | 0.0 |  8.5 |\n",
       "| 11 | 15 |  4 | -11 | 10.0 | 0.0 | 10.0 |\n",
       "| 12 | 24 | 12 | -12 | 11.5 | 0.0 | 11.5 |\n",
       "| 12 | 21 |  9 | -12 | 11.5 | 0.0 | 11.5 |\n",
       "| 13 | 15 |  2 | -13 | 13.0 | 0.0 | 13.0 |\n",
       "| 17 | 25 |  8 | -17 | 15.0 | 0.0 | 15.0 |\n",
       "| 17 | 29 | 12 | -17 | 15.0 | 0.0 | 15.0 |\n",
       "| 17 | 28 | 11 | -17 | 15.0 | 0.0 | 15.0 |\n",
       "| 21 | 36 | 15 | -21 | 17.0 | 0.0 | 17.0 |\n",
       "| 22 | 22 |  0 | -22 | 18.0 | 0.0 | 18.0 |\n",
       "| 23 | 39 | 16 | -23 | 19.5 | 0.0 | 19.5 |\n",
       "| 23 | 41 | 18 | -23 | 19.5 | 0.0 | 19.5 |\n",
       "| 24 | 24 |  0 | -24 | 21.5 | 0.0 | 21.5 |\n",
       "| 24 | 40 | 16 | -24 | 21.5 | 0.0 | 21.5 |\n",
       "| 29 | 39 | 10 | -29 | 24.0 | 0.0 | 24.0 |\n",
       "| 29 | 46 | 17 | -29 | 24.0 | 0.0 | 24.0 |\n",
       "| 29 | 31 |  2 | -29 | 24.0 | 0.0 | 24.0 |\n",
       "| 32 | 52 | 20 | -32 | 26.0 | 0.0 | 26.0 |\n",
       "| 33 | 50 | 17 | -33 | 27.0 | 0.0 | 27.0 |\n",
       "| 35 | 48 | 13 | -35 | 28.0 | 0.0 | 28.0 |\n",
       "| 36 | 52 | 16 | -36 | 29.0 | 0.0 | 29.0 |\n",
       "| 37 | 37 |  0 | -37 | 30.0 | 0.0 | 30.0 |\n",
       "| 40 | 49 |  9 | -40 | 31.5 | 0.0 | 31.5 |\n",
       "| 40 | 49 |  9 | -40 | 31.5 | 0.0 | 31.5 |\n",
       "| 43 | 49 |  6 | -43 | 33.0 | 0.0 | 33.0 |\n",
       "| 50 | 50 |  0 | -50 | 34.0 | 0.0 | 34.0 |\n",
       "| 51 | 55 |  4 | -51 | 35.0 | 0.0 | 35.0 |\n",
       "\n"
      ],
      "text/plain": [
       "   |Dif| Antes Depois Dif Posto Posto (+) Posto (-)\n",
       "1   1    13    14       1  1.5  1.5        0.0     \n",
       "2   1    17    16      -1  1.5  0.0        1.5     \n",
       "3   2    17    19       2  3.0  3.0        0.0     \n",
       "4   4    12    16       4  4.5  4.5        0.0     \n",
       "5   4    14    18       4  4.5  4.5        0.0     \n",
       "6   5    22    17      -5  6.0  0.0        6.0     \n",
       "7   8    21    13      -8  7.0  0.0        7.0     \n",
       "8   9    10    19       9  8.5  8.5        0.0     \n",
       "9   9    23    14      -9  8.5  0.0        8.5     \n",
       "10 11    15     4     -11 10.0  0.0       10.0     \n",
       "11 12    24    12     -12 11.5  0.0       11.5     \n",
       "12 12    21     9     -12 11.5  0.0       11.5     \n",
       "13 13    15     2     -13 13.0  0.0       13.0     \n",
       "14 17    25     8     -17 15.0  0.0       15.0     \n",
       "15 17    29    12     -17 15.0  0.0       15.0     \n",
       "16 17    28    11     -17 15.0  0.0       15.0     \n",
       "17 21    36    15     -21 17.0  0.0       17.0     \n",
       "18 22    22     0     -22 18.0  0.0       18.0     \n",
       "19 23    39    16     -23 19.5  0.0       19.5     \n",
       "20 23    41    18     -23 19.5  0.0       19.5     \n",
       "21 24    24     0     -24 21.5  0.0       21.5     \n",
       "22 24    40    16     -24 21.5  0.0       21.5     \n",
       "23 29    39    10     -29 24.0  0.0       24.0     \n",
       "24 29    46    17     -29 24.0  0.0       24.0     \n",
       "25 29    31     2     -29 24.0  0.0       24.0     \n",
       "26 32    52    20     -32 26.0  0.0       26.0     \n",
       "27 33    50    17     -33 27.0  0.0       27.0     \n",
       "28 35    48    13     -35 28.0  0.0       28.0     \n",
       "29 36    52    16     -36 29.0  0.0       29.0     \n",
       "30 37    37     0     -37 30.0  0.0       30.0     \n",
       "31 40    49     9     -40 31.5  0.0       31.5     \n",
       "32 40    49     9     -40 31.5  0.0       31.5     \n",
       "33 43    49     6     -43 33.0  0.0       33.0     \n",
       "34 50    50     0     -50 34.0  0.0       34.0     \n",
       "35 51    55     4     -51 35.0  0.0       35.0     "
      ]
     },
     "metadata": {},
     "output_type": "display_data"
    }
   ],
   "source": [
    "fumo['Posto (-)'] <- apply(fumo[, c('Dif', 'Posto')], 1, function(x) if(x[1] < 0) x[2] else 0)\n",
    "fumo"
   ]
  },
  {
   "cell_type": "code",
   "execution_count": 131,
   "metadata": {
    "colab": {
     "base_uri": "https://localhost:8080/",
     "height": 1134
    },
    "colab_type": "code",
    "id": "R2Nyk4E_os77",
    "outputId": "e22a2377-88b8-4b5b-e901-ddd8b04cab75",
    "scrolled": true
   },
   "outputs": [
    {
     "data": {
      "text/html": [
       "<table>\n",
       "<caption>A data.frame: 35 x 6</caption>\n",
       "<thead>\n",
       "\t<tr><th scope=col>|Dif|</th><th scope=col>Antes</th><th scope=col>Depois</th><th scope=col>Dif</th><th scope=col>Posto (+)</th><th scope=col>Posto (-)</th></tr>\n",
       "\t<tr><th scope=col>&lt;dbl&gt;</th><th scope=col>&lt;dbl&gt;</th><th scope=col>&lt;dbl&gt;</th><th scope=col>&lt;dbl&gt;</th><th scope=col>&lt;dbl&gt;</th><th scope=col>&lt;dbl&gt;</th></tr>\n",
       "</thead>\n",
       "<tbody>\n",
       "\t<tr><td> 1</td><td>13</td><td>14</td><td>  1</td><td>1.5</td><td> 0.0</td></tr>\n",
       "\t<tr><td> 1</td><td>17</td><td>16</td><td> -1</td><td>0.0</td><td> 1.5</td></tr>\n",
       "\t<tr><td> 2</td><td>17</td><td>19</td><td>  2</td><td>3.0</td><td> 0.0</td></tr>\n",
       "\t<tr><td> 4</td><td>12</td><td>16</td><td>  4</td><td>4.5</td><td> 0.0</td></tr>\n",
       "\t<tr><td> 4</td><td>14</td><td>18</td><td>  4</td><td>4.5</td><td> 0.0</td></tr>\n",
       "\t<tr><td> 5</td><td>22</td><td>17</td><td> -5</td><td>0.0</td><td> 6.0</td></tr>\n",
       "\t<tr><td> 8</td><td>21</td><td>13</td><td> -8</td><td>0.0</td><td> 7.0</td></tr>\n",
       "\t<tr><td> 9</td><td>10</td><td>19</td><td>  9</td><td>8.5</td><td> 0.0</td></tr>\n",
       "\t<tr><td> 9</td><td>23</td><td>14</td><td> -9</td><td>0.0</td><td> 8.5</td></tr>\n",
       "\t<tr><td>11</td><td>15</td><td> 4</td><td>-11</td><td>0.0</td><td>10.0</td></tr>\n",
       "\t<tr><td>12</td><td>24</td><td>12</td><td>-12</td><td>0.0</td><td>11.5</td></tr>\n",
       "\t<tr><td>12</td><td>21</td><td> 9</td><td>-12</td><td>0.0</td><td>11.5</td></tr>\n",
       "\t<tr><td>13</td><td>15</td><td> 2</td><td>-13</td><td>0.0</td><td>13.0</td></tr>\n",
       "\t<tr><td>17</td><td>25</td><td> 8</td><td>-17</td><td>0.0</td><td>15.0</td></tr>\n",
       "\t<tr><td>17</td><td>29</td><td>12</td><td>-17</td><td>0.0</td><td>15.0</td></tr>\n",
       "\t<tr><td>17</td><td>28</td><td>11</td><td>-17</td><td>0.0</td><td>15.0</td></tr>\n",
       "\t<tr><td>21</td><td>36</td><td>15</td><td>-21</td><td>0.0</td><td>17.0</td></tr>\n",
       "\t<tr><td>22</td><td>22</td><td> 0</td><td>-22</td><td>0.0</td><td>18.0</td></tr>\n",
       "\t<tr><td>23</td><td>39</td><td>16</td><td>-23</td><td>0.0</td><td>19.5</td></tr>\n",
       "\t<tr><td>23</td><td>41</td><td>18</td><td>-23</td><td>0.0</td><td>19.5</td></tr>\n",
       "\t<tr><td>24</td><td>24</td><td> 0</td><td>-24</td><td>0.0</td><td>21.5</td></tr>\n",
       "\t<tr><td>24</td><td>40</td><td>16</td><td>-24</td><td>0.0</td><td>21.5</td></tr>\n",
       "\t<tr><td>29</td><td>39</td><td>10</td><td>-29</td><td>0.0</td><td>24.0</td></tr>\n",
       "\t<tr><td>29</td><td>46</td><td>17</td><td>-29</td><td>0.0</td><td>24.0</td></tr>\n",
       "\t<tr><td>29</td><td>31</td><td> 2</td><td>-29</td><td>0.0</td><td>24.0</td></tr>\n",
       "\t<tr><td>32</td><td>52</td><td>20</td><td>-32</td><td>0.0</td><td>26.0</td></tr>\n",
       "\t<tr><td>33</td><td>50</td><td>17</td><td>-33</td><td>0.0</td><td>27.0</td></tr>\n",
       "\t<tr><td>35</td><td>48</td><td>13</td><td>-35</td><td>0.0</td><td>28.0</td></tr>\n",
       "\t<tr><td>36</td><td>52</td><td>16</td><td>-36</td><td>0.0</td><td>29.0</td></tr>\n",
       "\t<tr><td>37</td><td>37</td><td> 0</td><td>-37</td><td>0.0</td><td>30.0</td></tr>\n",
       "\t<tr><td>40</td><td>49</td><td> 9</td><td>-40</td><td>0.0</td><td>31.5</td></tr>\n",
       "\t<tr><td>40</td><td>49</td><td> 9</td><td>-40</td><td>0.0</td><td>31.5</td></tr>\n",
       "\t<tr><td>43</td><td>49</td><td> 6</td><td>-43</td><td>0.0</td><td>33.0</td></tr>\n",
       "\t<tr><td>50</td><td>50</td><td> 0</td><td>-50</td><td>0.0</td><td>34.0</td></tr>\n",
       "\t<tr><td>51</td><td>55</td><td> 4</td><td>-51</td><td>0.0</td><td>35.0</td></tr>\n",
       "</tbody>\n",
       "</table>\n"
      ],
      "text/latex": [
       "A data.frame: 35 x 6\n",
       "\\begin{tabular}{r|llllll}\n",
       " \\textbar{}Dif\\textbar{} & Antes & Depois & Dif & Posto (+) & Posto (-)\\\\\n",
       " <dbl> & <dbl> & <dbl> & <dbl> & <dbl> & <dbl>\\\\\n",
       "\\hline\n",
       "\t  1 & 13 & 14 &   1 & 1.5 &  0.0\\\\\n",
       "\t  1 & 17 & 16 &  -1 & 0.0 &  1.5\\\\\n",
       "\t  2 & 17 & 19 &   2 & 3.0 &  0.0\\\\\n",
       "\t  4 & 12 & 16 &   4 & 4.5 &  0.0\\\\\n",
       "\t  4 & 14 & 18 &   4 & 4.5 &  0.0\\\\\n",
       "\t  5 & 22 & 17 &  -5 & 0.0 &  6.0\\\\\n",
       "\t  8 & 21 & 13 &  -8 & 0.0 &  7.0\\\\\n",
       "\t  9 & 10 & 19 &   9 & 8.5 &  0.0\\\\\n",
       "\t  9 & 23 & 14 &  -9 & 0.0 &  8.5\\\\\n",
       "\t 11 & 15 &  4 & -11 & 0.0 & 10.0\\\\\n",
       "\t 12 & 24 & 12 & -12 & 0.0 & 11.5\\\\\n",
       "\t 12 & 21 &  9 & -12 & 0.0 & 11.5\\\\\n",
       "\t 13 & 15 &  2 & -13 & 0.0 & 13.0\\\\\n",
       "\t 17 & 25 &  8 & -17 & 0.0 & 15.0\\\\\n",
       "\t 17 & 29 & 12 & -17 & 0.0 & 15.0\\\\\n",
       "\t 17 & 28 & 11 & -17 & 0.0 & 15.0\\\\\n",
       "\t 21 & 36 & 15 & -21 & 0.0 & 17.0\\\\\n",
       "\t 22 & 22 &  0 & -22 & 0.0 & 18.0\\\\\n",
       "\t 23 & 39 & 16 & -23 & 0.0 & 19.5\\\\\n",
       "\t 23 & 41 & 18 & -23 & 0.0 & 19.5\\\\\n",
       "\t 24 & 24 &  0 & -24 & 0.0 & 21.5\\\\\n",
       "\t 24 & 40 & 16 & -24 & 0.0 & 21.5\\\\\n",
       "\t 29 & 39 & 10 & -29 & 0.0 & 24.0\\\\\n",
       "\t 29 & 46 & 17 & -29 & 0.0 & 24.0\\\\\n",
       "\t 29 & 31 &  2 & -29 & 0.0 & 24.0\\\\\n",
       "\t 32 & 52 & 20 & -32 & 0.0 & 26.0\\\\\n",
       "\t 33 & 50 & 17 & -33 & 0.0 & 27.0\\\\\n",
       "\t 35 & 48 & 13 & -35 & 0.0 & 28.0\\\\\n",
       "\t 36 & 52 & 16 & -36 & 0.0 & 29.0\\\\\n",
       "\t 37 & 37 &  0 & -37 & 0.0 & 30.0\\\\\n",
       "\t 40 & 49 &  9 & -40 & 0.0 & 31.5\\\\\n",
       "\t 40 & 49 &  9 & -40 & 0.0 & 31.5\\\\\n",
       "\t 43 & 49 &  6 & -43 & 0.0 & 33.0\\\\\n",
       "\t 50 & 50 &  0 & -50 & 0.0 & 34.0\\\\\n",
       "\t 51 & 55 &  4 & -51 & 0.0 & 35.0\\\\\n",
       "\\end{tabular}\n"
      ],
      "text/markdown": [
       "\n",
       "A data.frame: 35 x 6\n",
       "\n",
       "| |Dif| &lt;dbl&gt; | Antes &lt;dbl&gt; | Depois &lt;dbl&gt; | Dif &lt;dbl&gt; | Posto (+) &lt;dbl&gt; | Posto (-) &lt;dbl&gt; |\n",
       "|---|---|---|---|---|---|\n",
       "|  1 | 13 | 14 |   1 | 1.5 |  0.0 |\n",
       "|  1 | 17 | 16 |  -1 | 0.0 |  1.5 |\n",
       "|  2 | 17 | 19 |   2 | 3.0 |  0.0 |\n",
       "|  4 | 12 | 16 |   4 | 4.5 |  0.0 |\n",
       "|  4 | 14 | 18 |   4 | 4.5 |  0.0 |\n",
       "|  5 | 22 | 17 |  -5 | 0.0 |  6.0 |\n",
       "|  8 | 21 | 13 |  -8 | 0.0 |  7.0 |\n",
       "|  9 | 10 | 19 |   9 | 8.5 |  0.0 |\n",
       "|  9 | 23 | 14 |  -9 | 0.0 |  8.5 |\n",
       "| 11 | 15 |  4 | -11 | 0.0 | 10.0 |\n",
       "| 12 | 24 | 12 | -12 | 0.0 | 11.5 |\n",
       "| 12 | 21 |  9 | -12 | 0.0 | 11.5 |\n",
       "| 13 | 15 |  2 | -13 | 0.0 | 13.0 |\n",
       "| 17 | 25 |  8 | -17 | 0.0 | 15.0 |\n",
       "| 17 | 29 | 12 | -17 | 0.0 | 15.0 |\n",
       "| 17 | 28 | 11 | -17 | 0.0 | 15.0 |\n",
       "| 21 | 36 | 15 | -21 | 0.0 | 17.0 |\n",
       "| 22 | 22 |  0 | -22 | 0.0 | 18.0 |\n",
       "| 23 | 39 | 16 | -23 | 0.0 | 19.5 |\n",
       "| 23 | 41 | 18 | -23 | 0.0 | 19.5 |\n",
       "| 24 | 24 |  0 | -24 | 0.0 | 21.5 |\n",
       "| 24 | 40 | 16 | -24 | 0.0 | 21.5 |\n",
       "| 29 | 39 | 10 | -29 | 0.0 | 24.0 |\n",
       "| 29 | 46 | 17 | -29 | 0.0 | 24.0 |\n",
       "| 29 | 31 |  2 | -29 | 0.0 | 24.0 |\n",
       "| 32 | 52 | 20 | -32 | 0.0 | 26.0 |\n",
       "| 33 | 50 | 17 | -33 | 0.0 | 27.0 |\n",
       "| 35 | 48 | 13 | -35 | 0.0 | 28.0 |\n",
       "| 36 | 52 | 16 | -36 | 0.0 | 29.0 |\n",
       "| 37 | 37 |  0 | -37 | 0.0 | 30.0 |\n",
       "| 40 | 49 |  9 | -40 | 0.0 | 31.5 |\n",
       "| 40 | 49 |  9 | -40 | 0.0 | 31.5 |\n",
       "| 43 | 49 |  6 | -43 | 0.0 | 33.0 |\n",
       "| 50 | 50 |  0 | -50 | 0.0 | 34.0 |\n",
       "| 51 | 55 |  4 | -51 | 0.0 | 35.0 |\n",
       "\n"
      ],
      "text/plain": [
       "   |Dif| Antes Depois Dif Posto (+) Posto (-)\n",
       "1   1    13    14       1 1.5        0.0     \n",
       "2   1    17    16      -1 0.0        1.5     \n",
       "3   2    17    19       2 3.0        0.0     \n",
       "4   4    12    16       4 4.5        0.0     \n",
       "5   4    14    18       4 4.5        0.0     \n",
       "6   5    22    17      -5 0.0        6.0     \n",
       "7   8    21    13      -8 0.0        7.0     \n",
       "8   9    10    19       9 8.5        0.0     \n",
       "9   9    23    14      -9 0.0        8.5     \n",
       "10 11    15     4     -11 0.0       10.0     \n",
       "11 12    24    12     -12 0.0       11.5     \n",
       "12 12    21     9     -12 0.0       11.5     \n",
       "13 13    15     2     -13 0.0       13.0     \n",
       "14 17    25     8     -17 0.0       15.0     \n",
       "15 17    29    12     -17 0.0       15.0     \n",
       "16 17    28    11     -17 0.0       15.0     \n",
       "17 21    36    15     -21 0.0       17.0     \n",
       "18 22    22     0     -22 0.0       18.0     \n",
       "19 23    39    16     -23 0.0       19.5     \n",
       "20 23    41    18     -23 0.0       19.5     \n",
       "21 24    24     0     -24 0.0       21.5     \n",
       "22 24    40    16     -24 0.0       21.5     \n",
       "23 29    39    10     -29 0.0       24.0     \n",
       "24 29    46    17     -29 0.0       24.0     \n",
       "25 29    31     2     -29 0.0       24.0     \n",
       "26 32    52    20     -32 0.0       26.0     \n",
       "27 33    50    17     -33 0.0       27.0     \n",
       "28 35    48    13     -35 0.0       28.0     \n",
       "29 36    52    16     -36 0.0       29.0     \n",
       "30 37    37     0     -37 0.0       30.0     \n",
       "31 40    49     9     -40 0.0       31.5     \n",
       "32 40    49     9     -40 0.0       31.5     \n",
       "33 43    49     6     -43 0.0       33.0     \n",
       "34 50    50     0     -50 0.0       34.0     \n",
       "35 51    55     4     -51 0.0       35.0     "
      ]
     },
     "metadata": {},
     "output_type": "display_data"
    }
   ],
   "source": [
    "fumo$Posto <- NULL\n",
    "fumo"
   ]
  },
  {
   "cell_type": "markdown",
   "metadata": {
    "colab_type": "text",
    "id": "QrhSJfAipsmh"
   },
   "source": [
    "### Obter $T$\n",
    "\n",
    "## $T$ = menor das somas de postos de mesmo sinal"
   ]
  },
  {
   "cell_type": "code",
   "execution_count": 132,
   "metadata": {
    "colab": {
     "base_uri": "https://localhost:8080/",
     "height": 35
    },
    "colab_type": "code",
    "id": "TTWy-3OQpsmh",
    "outputId": "041d1650-b553-4f7c-f4ce-03284c9f445e"
   },
   "outputs": [
    {
     "data": {
      "text/html": [
       "22"
      ],
      "text/latex": [
       "22"
      ],
      "text/markdown": [
       "22"
      ],
      "text/plain": [
       "[1] 22"
      ]
     },
     "metadata": {},
     "output_type": "display_data"
    }
   ],
   "source": [
    "T <- min( sum( fumo['Posto (+)'] ), sum( fumo['Posto (-)'] ) )\n",
    "T"
   ]
  },
  {
   "cell_type": "markdown",
   "metadata": {
    "colab_type": "text",
    "id": "3y4Tn1y4psmi"
   },
   "source": [
    "### Obter $\\mu_T$\n",
    "\n",
    "# $$\\mu_T = \\frac{n(n+1)}{4}$$\n"
   ]
  },
  {
   "cell_type": "code",
   "execution_count": 133,
   "metadata": {
    "colab": {
     "base_uri": "https://localhost:8080/",
     "height": 35
    },
    "colab_type": "code",
    "id": "0KhV5ph6psmi",
    "outputId": "d5a49227-aefe-4ab2-8f96-1575e4d00a68"
   },
   "outputs": [
    {
     "data": {
      "text/html": [
       "315"
      ],
      "text/latex": [
       "315"
      ],
      "text/markdown": [
       "315"
      ],
      "text/plain": [
       "[1] 315"
      ]
     },
     "metadata": {},
     "output_type": "display_data"
    }
   ],
   "source": [
    "mu_T <- ( n * ( n + 1 ) ) / 4\n",
    "mu_T"
   ]
  },
  {
   "cell_type": "markdown",
   "metadata": {
    "colab_type": "text",
    "id": "ZqFb-m08psmj"
   },
   "source": [
    "### Obter $\\sigma_T$\n",
    "\n",
    "# $$\\sigma_T = \\sqrt{\\frac{n(n + 1)(2n + 1)}{24}}$$"
   ]
  },
  {
   "cell_type": "code",
   "execution_count": 134,
   "metadata": {
    "colab": {
     "base_uri": "https://localhost:8080/",
     "height": 35
    },
    "colab_type": "code",
    "id": "c6dypGFSpsmj",
    "outputId": "a56e71d7-cec3-4529-f266-b82315fa8766"
   },
   "outputs": [
    {
     "data": {
      "text/html": [
       "61.0532554414586"
      ],
      "text/latex": [
       "61.0532554414586"
      ],
      "text/markdown": [
       "61.0532554414586"
      ],
      "text/plain": [
       "[1] 61.05326"
      ]
     },
     "metadata": {},
     "output_type": "display_data"
    }
   ],
   "source": [
    "sigma_T <- sqrt( ( n * ( n + 1 ) * ( ( 2 * n ) + 1 ) ) / 24 )\n",
    "sigma_T"
   ]
  },
  {
   "cell_type": "markdown",
   "metadata": {
    "colab_type": "text",
    "id": "qEk2CUKApsmk"
   },
   "source": [
    "### Obter $Z_{teste}$\n",
    "\n",
    "# $$Z = \\frac{T - \\mu_T}{\\sigma_T}$$"
   ]
  },
  {
   "cell_type": "code",
   "execution_count": 135,
   "metadata": {
    "colab": {
     "base_uri": "https://localhost:8080/",
     "height": 35
    },
    "colab_type": "code",
    "id": "KqPQgbBEpsmk",
    "outputId": "fc02c944-b662-4539-a4c4-e91f746358f3"
   },
   "outputs": [
    {
     "data": {
      "text/html": [
       "-4.7990888918437"
      ],
      "text/latex": [
       "-4.7990888918437"
      ],
      "text/markdown": [
       "-4.7990888918437"
      ],
      "text/plain": [
       "[1] -4.799089"
      ]
     },
     "metadata": {},
     "output_type": "display_data"
    }
   ],
   "source": [
    "Z <- ( T - mu_T ) / sigma_T\n",
    "Z"
   ]
  },
  {
   "cell_type": "markdown",
   "metadata": {
    "colab_type": "text",
    "id": "iMpU26IZpsmm"
   },
   "source": [
    "![Estatística-Teste](https://caelum-online-public.s3.amazonaws.com/1229-estatistica-parte3/01/img021.png)"
   ]
  },
  {
   "cell_type": "markdown",
   "metadata": {
    "colab_type": "text",
    "id": "XFgoaLzSpsmm"
   },
   "source": [
    "---"
   ]
  },
  {
   "cell_type": "markdown",
   "metadata": {
    "colab_type": "text",
    "id": "YYGhG-lSpsmm"
   },
   "source": [
    "### **Passo 5** - Aceitação ou rejeição da hipótese nula"
   ]
  },
  {
   "cell_type": "markdown",
   "metadata": {
    "colab_type": "text",
    "id": "pDOdx-Vqpsmm"
   },
   "source": [
    "<img src='https://caelum-online-public.s3.amazonaws.com/1229-estatistica-parte3/01/img022.png' width='80%'>"
   ]
  },
  {
   "cell_type": "markdown",
   "metadata": {
    "colab_type": "text",
    "id": "ODKOD-rkpsmm"
   },
   "source": [
    "### <font color='red'>Critério do valor crítico</font>\n",
    "\n",
    "> ### Rejeitar $H_0$ se $Z \\leq -z_{\\alpha / 2}$ ou se $Z \\geq z_{\\alpha / 2}$"
   ]
  },
  {
   "cell_type": "code",
   "execution_count": 136,
   "metadata": {
    "colab": {
     "base_uri": "https://localhost:8080/",
     "height": 35
    },
    "colab_type": "code",
    "id": "Gmp8dB6Apsmm",
    "outputId": "8311f709-2b10-477c-8410-93d6efbde833"
   },
   "outputs": [
    {
     "data": {
      "text/html": [
       "TRUE"
      ],
      "text/latex": [
       "TRUE"
      ],
      "text/markdown": [
       "TRUE"
      ],
      "text/plain": [
       "[1] TRUE"
      ]
     },
     "metadata": {},
     "output_type": "display_data"
    }
   ],
   "source": [
    "Z <= -z_alpha_2"
   ]
  },
  {
   "cell_type": "code",
   "execution_count": 137,
   "metadata": {
    "colab": {
     "base_uri": "https://localhost:8080/",
     "height": 35
    },
    "colab_type": "code",
    "id": "E9jxoexkpsmn",
    "outputId": "57165249-f63d-411c-ff87-d25e1e9ee401"
   },
   "outputs": [
    {
     "data": {
      "text/html": [
       "FALSE"
      ],
      "text/latex": [
       "FALSE"
      ],
      "text/markdown": [
       "FALSE"
      ],
      "text/plain": [
       "[1] FALSE"
      ]
     },
     "metadata": {},
     "output_type": "display_data"
    }
   ],
   "source": [
    "Z >= z_alpha_2"
   ]
  },
  {
   "cell_type": "markdown",
   "metadata": {
    "colab_type": "text",
    "id": "n0gtzn53psmo"
   },
   "source": [
    "### <font color='green'>Conclusão: Rejeitamos a hipótese de que não existe diferença entre os grupos, isto é, existe uma diferença entre as médias de cigarros fumados pelos pacientes antes e depois do tratamento. E como é possível verificar através das médias de cigarros fumados por dia antes (31.86) e depois (11.2) do tratamento, podemos concluir que o tratamento apresentou resultado satisfatório.</font>"
   ]
  },
  {
   "cell_type": "markdown",
   "metadata": {
    "colab_type": "text",
    "id": "8bP36mQ-psmp"
   },
   "source": [
    "### <font color='red'>Critério do valor $p$</font>\n",
    "\n",
    "> ### Rejeitar $H_0$ se o valor $p\\leq\\alpha$"
   ]
  },
  {
   "cell_type": "markdown",
   "metadata": {
    "colab_type": "text",
    "id": "H8kFeqh1psmp"
   },
   "source": [
    "#### <font color=red>Documentações:\n",
    "\n",
    "- [**wilcox.test**](https://www.rdocumentation.org/packages/stats/versions/3.6.1/topics/wilcox.test)"
   ]
  },
  {
   "cell_type": "code",
   "execution_count": 154,
   "metadata": {
    "colab": {},
    "colab_type": "code",
    "id": "bgWrxnBmpsmp"
   },
   "outputs": [
    {
     "name": "stderr",
     "output_type": "stream",
     "text": [
      "Warning message in wilcox.test.default(fumo$Depois, fumo$Antes, paired = T, correct = F):\n",
      "“cannot compute exact p-value with ties”"
     ]
    },
    {
     "data": {
      "text/plain": [
       "\n",
       "\tWilcoxon signed rank test\n",
       "\n",
       "data:  fumo$Depois and fumo$Antes\n",
       "V = 22, p-value = 1.584e-06\n",
       "alternative hypothesis: true location shift is not equal to 0\n"
      ]
     },
     "metadata": {},
     "output_type": "display_data"
    }
   ],
   "source": [
    "resultado <- wilcox.test(fumo$Depois, fumo$Antes, paired = T, correct = F)\n",
    "resultado"
   ]
  },
  {
   "cell_type": "code",
   "execution_count": 155,
   "metadata": {},
   "outputs": [
    {
     "data": {
      "text/html": [
       "1.58431001850587e-06"
      ],
      "text/latex": [
       "1.58431001850587e-06"
      ],
      "text/markdown": [
       "1.58431001850587e-06"
      ],
      "text/plain": [
       "[1] 1.58431e-06"
      ]
     },
     "metadata": {},
     "output_type": "display_data"
    }
   ],
   "source": [
    "p_valor <- resultado$p.value\n",
    "p_valor"
   ]
  },
  {
   "cell_type": "code",
   "execution_count": 156,
   "metadata": {
    "colab": {
     "base_uri": "https://localhost:8080/",
     "height": 35
    },
    "colab_type": "code",
    "id": "Qk13I21vpsmq",
    "outputId": "f111c5d0-c448-40d3-f4ee-f39e7b3a3dc3",
    "scrolled": true
   },
   "outputs": [
    {
     "data": {
      "text/html": [
       "TRUE"
      ],
      "text/latex": [
       "TRUE"
      ],
      "text/markdown": [
       "TRUE"
      ],
      "text/plain": [
       "[1] TRUE"
      ]
     },
     "metadata": {},
     "output_type": "display_data"
    }
   ],
   "source": [
    "p_valor <= significancia"
   ]
  },
  {
   "cell_type": "code",
   "execution_count": null,
   "metadata": {},
   "outputs": [],
   "source": []
  }
 ],
 "metadata": {
  "colab": {
   "collapsed_sections": [
    "cVgsZ_E3jQKg",
    "nk65O0lepz57"
   ],
   "name": "Curso_de_Estatística_Parte_3.ipynb",
   "provenance": [],
   "toc_visible": true,
   "version": "0.3.2"
  },
  "kernelspec": {
   "display_name": "R",
   "language": "R",
   "name": "ir"
  },
  "language_info": {
   "codemirror_mode": "r",
   "file_extension": ".r",
   "mimetype": "text/x-r-source",
   "name": "R",
   "pygments_lexer": "r",
   "version": "4.3.1"
  }
 },
 "nbformat": 4,
 "nbformat_minor": 4
}
