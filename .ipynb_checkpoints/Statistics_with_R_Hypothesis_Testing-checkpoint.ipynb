{
 "cells": [
  {
   "cell_type": "markdown",
   "id": "1b770613-4659-46ff-bc0d-c545babbc6b9",
   "metadata": {},
   "source": [
    "***\n",
    "# <font color='purple' size=10>Statistics With Language 'R':</font>\n",
    "# <font color='purple'>Hypothesis Testing</font>\n",
    "***"
   ]
  },
  {
   "cell_type": "markdown",
   "id": "99883d97-4609-4544-a4df-b962de4d9aae",
   "metadata": {},
   "source": [
    "# <font color='lightgreen'> Knowing The Data</font>\n",
    "***"
   ]
  },
  {
   "cell_type": "markdown",
   "id": "089fed71-ca07-465a-9f00-0ced1fd393a0",
   "metadata": {},
   "source": [
    "## <font color='lightgreen'> Project Dataset</font>\n",
    "***"
   ]
  },
  {
   "cell_type": "markdown",
   "id": "55bf2893-3070-41b1-aa32-d9022a9eef0a",
   "metadata": {},
   "source": [
    "### National Household Sample Survey - 2015\n",
    "\n",
    "The **National Household Sample Survey - PNAD** investigates annually, on a permanent basis, general characteristics of the population, education, work, income and housing and others, with variable frequency, according to the information needs of the country , such as features on migration, fertility, nuptiality, health, food security, among other topics. The survey of these statistics constitutes, over the 49 years of research, an important instrument for formulating, validating and evaluating policies aimed at socioeconomic development and improving living conditions in Brazil."
   ]
  },
  {
   "cell_type": "markdown",
   "id": "35fafe2d-208c-45e2-999d-e7b7856bc316",
   "metadata": {},
   "source": [
    "### Data Source\n",
    "\n",
    "https://ww2.ibge.gov.br/home/estatistica/populacao/trabalhoerendimento/pnad2015/microdados.shtm"
   ]
  },
  {
   "cell_type": "markdown",
   "id": "4faa6ff3-7c8d-49e3-ab87-6a187681f5f7",
   "metadata": {},
   "source": [
    "***\n",
    "### Variables used\n",
    "\n",
    "### Income\n",
    "***\n",
    "\n",
    "Monthly income from main job for people aged 10 or over.\n",
    "\n",
    "### Age\n",
    "***\n",
    "\n",
    "Age of the resident on the reference date in years.\n",
    "\n",
    "### Height (own elaboration)\n",
    "***\n",
    "\n",
    "Resident's height in meters.\n",
    "\n",
    "### UF\n",
    "***\n",
    "\n",
    "|Code|Description|\n",
    "|---|---|\n",
    "|11|Rondônia|\n",
    "|12|Acre|\n",
    "|13|Amazons|\n",
    "|14|Roraima|\n",
    "|15|Para|\n",
    "|16|Amapá|\n",
    "|17|Tocantins|\n",
    "|21|Maranhão|\n",
    "|22|Piauí|\n",
    "|23|Ceará|\n",
    "|24|Rio Grande do Norte|\n",
    "|25|Paraíba|\n",
    "|26|Pernambuco|\n",
    "|27|Alagoas|\n",
    "|28|Sergipe|\n",
    "|29|Bahia|\n",
    "|31|Minas Gerais|\n",
    "|32|Holy Spirit|\n",
    "|33|Rio de Janeiro|\n",
    "|35|São Paulo|\n",
    "|41|Paraná|\n",
    "|42|Santa Catarina|\n",
    "|43|Rio Grande do Sul|\n",
    "|50|Mato Grosso do Sul|\n",
    "|51|Mato Grosso|\n",
    "|52|Goiás|\n",
    "|53|Distrito Federal|\n",
    "\n",
    "### Sex\n",
    "***\n",
    "\n",
    "|Code|Description|\n",
    "|---|---|\n",
    "|0|Masculine|\n",
    "|1|Feminine|\n",
    "\n",
    "### Years of Study\n",
    "***\n",
    "\n",
    "|Code|Description|\n",
    "|---|---|\n",
    "|1|No education and less than 1 year|\n",
    "|2|1 year|\n",
    "|3|2 years|\n",
    "|4|3 years|\n",
    "|5|4 years|\n",
    "|6|5 years|\n",
    "|7|6 years|\n",
    "|8|7 years|\n",
    "|9|8 years|\n",
    "|10|9 years|\n",
    "|11|10 years|\n",
    "|12|11 years|\n",
    "|13|12 years old|\n",
    "|14|13 years old|\n",
    "|15|14 years old|\n",
    "|16|15 years or more|\n",
    "|17|Not determined|\n",
    "||Not applicable|\n",
    "\n",
    "### Color\n",
    "***\n",
    "\n",
    "|Code|Description|\n",
    "|---|---|\n",
    "|0|Indigenous|\n",
    "|2|White|\n",
    "|4|Black|\n",
    "|6|Yellow|\n",
    "|8|Brown|\n",
    "|9|No statement|"
   ]
  },
  {
   "cell_type": "markdown",
   "id": "13f7d847-fa5d-4b09-8cf2-559b6d60d0c2",
   "metadata": {},
   "source": [
    "***\n",
    "## <font color='purple'>Imports:</font>\n"
   ]
  },
  {
   "cell_type": "code",
   "execution_count": 159,
   "id": "d6c1b535-2334-4bcc-aed0-e28952ea55c7",
   "metadata": {},
   "outputs": [],
   "source": [
    "library(ggplot2)\n",
    "library(dplyr)\n",
    "library(DescTools)\n",
    "library(BSDA)"
   ]
  },
  {
   "cell_type": "markdown",
   "id": "0c7a360e-226b-4613-a77e-5cc2e80161b2",
   "metadata": {},
   "source": [
    "***\n",
    "### <font color='purple'>Configs:</font>"
   ]
  },
  {
   "cell_type": "code",
   "execution_count": 2,
   "id": "61cd0399-4524-4c8e-bedd-69c26832c97d",
   "metadata": {},
   "outputs": [],
   "source": [
    "options(repr.plot.width = 12, repr.plot.height = 6)"
   ]
  },
  {
   "cell_type": "markdown",
   "id": "a29f3c68-fc32-4d18-887f-1492e73064e8",
   "metadata": {},
   "source": [
    "***\n",
    "## <font color='lightgreen'>Loading Project Dataset:</font>"
   ]
  },
  {
   "cell_type": "code",
   "execution_count": 3,
   "id": "89492c87-b959-4f08-8381-187c8782a7ba",
   "metadata": {},
   "outputs": [],
   "source": [
    "dataset <- read.csv('dataset_IBGE.csv')"
   ]
  },
  {
   "cell_type": "code",
   "execution_count": 4,
   "id": "0632a5f2-5c38-43cc-ae60-4a0fa5520280",
   "metadata": {},
   "outputs": [
    {
     "data": {
      "text/html": [
       "<table class=\"dataframe\">\n",
       "<caption>A data.frame: 6 × 7</caption>\n",
       "<thead>\n",
       "\t<tr><th></th><th scope=col>UF</th><th scope=col>Sex</th><th scope=col>Age</th><th scope=col>Color</th><th scope=col>Years.of.Studies</th><th scope=col>Income</th><th scope=col>Height</th></tr>\n",
       "\t<tr><th></th><th scope=col>&lt;int&gt;</th><th scope=col>&lt;int&gt;</th><th scope=col>&lt;int&gt;</th><th scope=col>&lt;int&gt;</th><th scope=col>&lt;int&gt;</th><th scope=col>&lt;int&gt;</th><th scope=col>&lt;dbl&gt;</th></tr>\n",
       "</thead>\n",
       "<tbody>\n",
       "\t<tr><th scope=row>1</th><td>11</td><td>0</td><td>23</td><td>8</td><td>12</td><td> 800</td><td>1.603808</td></tr>\n",
       "\t<tr><th scope=row>2</th><td>11</td><td>1</td><td>23</td><td>2</td><td>12</td><td>1150</td><td>1.739790</td></tr>\n",
       "\t<tr><th scope=row>3</th><td>11</td><td>1</td><td>35</td><td>8</td><td>15</td><td> 880</td><td>1.760444</td></tr>\n",
       "\t<tr><th scope=row>4</th><td>11</td><td>0</td><td>46</td><td>2</td><td> 6</td><td>3500</td><td>1.783158</td></tr>\n",
       "\t<tr><th scope=row>5</th><td>11</td><td>1</td><td>47</td><td>8</td><td> 9</td><td> 150</td><td>1.690631</td></tr>\n",
       "\t<tr><th scope=row>6</th><td>11</td><td>1</td><td>34</td><td>8</td><td>12</td><td> 790</td><td>1.637906</td></tr>\n",
       "</tbody>\n",
       "</table>\n"
      ],
      "text/latex": [
       "A data.frame: 6 × 7\n",
       "\\begin{tabular}{r|lllllll}\n",
       "  & UF & Sex & Age & Color & Years.of.Studies & Income & Height\\\\\n",
       "  & <int> & <int> & <int> & <int> & <int> & <int> & <dbl>\\\\\n",
       "\\hline\n",
       "\t1 & 11 & 0 & 23 & 8 & 12 &  800 & 1.603808\\\\\n",
       "\t2 & 11 & 1 & 23 & 2 & 12 & 1150 & 1.739790\\\\\n",
       "\t3 & 11 & 1 & 35 & 8 & 15 &  880 & 1.760444\\\\\n",
       "\t4 & 11 & 0 & 46 & 2 &  6 & 3500 & 1.783158\\\\\n",
       "\t5 & 11 & 1 & 47 & 8 &  9 &  150 & 1.690631\\\\\n",
       "\t6 & 11 & 1 & 34 & 8 & 12 &  790 & 1.637906\\\\\n",
       "\\end{tabular}\n"
      ],
      "text/markdown": [
       "\n",
       "A data.frame: 6 × 7\n",
       "\n",
       "| <!--/--> | UF &lt;int&gt; | Sex &lt;int&gt; | Age &lt;int&gt; | Color &lt;int&gt; | Years.of.Studies &lt;int&gt; | Income &lt;int&gt; | Height &lt;dbl&gt; |\n",
       "|---|---|---|---|---|---|---|---|\n",
       "| 1 | 11 | 0 | 23 | 8 | 12 |  800 | 1.603808 |\n",
       "| 2 | 11 | 1 | 23 | 2 | 12 | 1150 | 1.739790 |\n",
       "| 3 | 11 | 1 | 35 | 8 | 15 |  880 | 1.760444 |\n",
       "| 4 | 11 | 0 | 46 | 2 |  6 | 3500 | 1.783158 |\n",
       "| 5 | 11 | 1 | 47 | 8 |  9 |  150 | 1.690631 |\n",
       "| 6 | 11 | 1 | 34 | 8 | 12 |  790 | 1.637906 |\n",
       "\n"
      ],
      "text/plain": [
       "  UF Sex Age Color Years.of.Studies Income Height  \n",
       "1 11 0   23  8     12                800   1.603808\n",
       "2 11 1   23  2     12               1150   1.739790\n",
       "3 11 1   35  8     15                880   1.760444\n",
       "4 11 0   46  2      6               3500   1.783158\n",
       "5 11 1   47  8      9                150   1.690631\n",
       "6 11 1   34  8     12                790   1.637906"
      ]
     },
     "metadata": {},
     "output_type": "display_data"
    }
   ],
   "source": [
    "head(dataset)"
   ]
  },
  {
   "cell_type": "markdown",
   "id": "a5021a01-b5d2-44f7-8656-4eb0110f5521",
   "metadata": {},
   "source": [
    "***\n",
    "## <font color='lightgreen'> Hypothesis Testing</font>"
   ]
  },
  {
   "cell_type": "markdown",
   "id": "af3cb346-3829-4dcf-9283-d422b59a14e1",
   "metadata": {},
   "source": [
    "Statistical tests are decision rules that allow evaluating the reasonableness of hypotheses made about population parameters and accepting or rejecting them as probably true or false based on a sample."
   ]
  },
  {
   "cell_type": "markdown",
   "id": "812a3c24-ea9b-49ed-8236-8a7acf8c03e0",
   "metadata": {},
   "source": [
    "***\n",
    "### <font color='lightgreen'>Normality Test</font>"
   ]
  },
  {
   "cell_type": "markdown",
   "id": "2fd755da-24cd-481f-86c3-4ffb7ae82c02",
   "metadata": {},
   "source": [
    "The *shapiro.test* function tests the null hypothesis $H_0$ that the sample comes from a normal distribution, that is, the data is normally distributed."
   ]
  },
  {
   "cell_type": "markdown",
   "id": "5de18ce7-f112-4361-81fe-085c74d07ad7",
   "metadata": {},
   "source": [
    "### Defining test significance ($\\alpha$)"
   ]
  },
  {
   "cell_type": "code",
   "execution_count": 5,
   "id": "f54c849e-cc03-429b-a4aa-767deff9969f",
   "metadata": {},
   "outputs": [
    {
     "data": {
      "text/html": [
       "0.05"
      ],
      "text/latex": [
       "0.05"
      ],
      "text/markdown": [
       "0.05"
      ],
      "text/plain": [
       "[1] 0.05"
      ]
     },
     "metadata": {},
     "output_type": "display_data"
    }
   ],
   "source": [
    "meaningfulness <- 0.05\n",
    "meaningfulness"
   ]
  },
  {
   "cell_type": "markdown",
   "id": "beae0e48-80fa-41ac-80ad-0e1a76e5e1c6",
   "metadata": {},
   "source": [
    "### Testing the Income variable"
   ]
  },
  {
   "cell_type": "code",
   "execution_count": 6,
   "id": "dd7a0b79-cbb1-458e-ac77-9cbe9ba3b64d",
   "metadata": {},
   "outputs": [
    {
     "data": {
      "image/png": "[encoded data removed]",
      "text/plain": [
       "plot without title"
      ]
     },
     "metadata": {
      "image/png": {
       "height": 360,
       "width": 720
      }
     },
     "output_type": "display_data"
    }
   ],
   "source": [
    "ggplot(dataset, aes(x = Income))+\n",
    "    geom_histogram(bins = 30)+\n",
    "    ylab('Frequency')+\n",
    "    xlab('Income')+\n",
    "    ggtitle('Income Histogram')+\n",
    "    theme(plot.title = element_text(hjust = 0.05))"
   ]
  },
  {
   "cell_type": "markdown",
   "id": "b5d6218b-be62-4772-b522-214a174776d9",
   "metadata": {},
   "source": [
    "### <font color='red'>Value Criterion $p$</font>\n",
    "\n",
    "> ### Reject $H_0$ if value $p\\leq \\alpha$"
   ]
  },
  {
   "cell_type": "code",
   "execution_count": 7,
   "id": "ae04ccb2-1c0d-4961-ad55-0fa074bd2d79",
   "metadata": {},
   "outputs": [],
   "source": [
    "set.seed(333)\n",
    "sample <- sample_n(dataset, 5000)"
   ]
  },
  {
   "cell_type": "code",
   "execution_count": 8,
   "id": "5bab9ffe-95c6-47a6-bebd-46cd22947ee6",
   "metadata": {},
   "outputs": [
    {
     "data": {
      "text/html": [
       "<table class=\"dataframe\">\n",
       "<caption>A data.frame: 6 × 7</caption>\n",
       "<thead>\n",
       "\t<tr><th></th><th scope=col>UF</th><th scope=col>Sex</th><th scope=col>Age</th><th scope=col>Color</th><th scope=col>Years.of.Studies</th><th scope=col>Income</th><th scope=col>Height</th></tr>\n",
       "\t<tr><th></th><th scope=col>&lt;int&gt;</th><th scope=col>&lt;int&gt;</th><th scope=col>&lt;int&gt;</th><th scope=col>&lt;int&gt;</th><th scope=col>&lt;int&gt;</th><th scope=col>&lt;int&gt;</th><th scope=col>&lt;dbl&gt;</th></tr>\n",
       "</thead>\n",
       "<tbody>\n",
       "\t<tr><th scope=row>1</th><td>51</td><td>0</td><td>27</td><td>2</td><td>12</td><td>1200</td><td>1.750691</td></tr>\n",
       "\t<tr><th scope=row>2</th><td>31</td><td>0</td><td>52</td><td>2</td><td> 5</td><td> 800</td><td>1.721134</td></tr>\n",
       "\t<tr><th scope=row>3</th><td>35</td><td>0</td><td>26</td><td>2</td><td>16</td><td>3500</td><td>1.738461</td></tr>\n",
       "\t<tr><th scope=row>4</th><td>25</td><td>0</td><td>29</td><td>8</td><td>12</td><td> 600</td><td>1.693630</td></tr>\n",
       "\t<tr><th scope=row>5</th><td>29</td><td>1</td><td>51</td><td>2</td><td>16</td><td>3000</td><td>1.771060</td></tr>\n",
       "\t<tr><th scope=row>6</th><td>42</td><td>1</td><td>50</td><td>2</td><td>11</td><td>1500</td><td>1.837385</td></tr>\n",
       "</tbody>\n",
       "</table>\n"
      ],
      "text/latex": [
       "A data.frame: 6 × 7\n",
       "\\begin{tabular}{r|lllllll}\n",
       "  & UF & Sex & Age & Color & Years.of.Studies & Income & Height\\\\\n",
       "  & <int> & <int> & <int> & <int> & <int> & <int> & <dbl>\\\\\n",
       "\\hline\n",
       "\t1 & 51 & 0 & 27 & 2 & 12 & 1200 & 1.750691\\\\\n",
       "\t2 & 31 & 0 & 52 & 2 &  5 &  800 & 1.721134\\\\\n",
       "\t3 & 35 & 0 & 26 & 2 & 16 & 3500 & 1.738461\\\\\n",
       "\t4 & 25 & 0 & 29 & 8 & 12 &  600 & 1.693630\\\\\n",
       "\t5 & 29 & 1 & 51 & 2 & 16 & 3000 & 1.771060\\\\\n",
       "\t6 & 42 & 1 & 50 & 2 & 11 & 1500 & 1.837385\\\\\n",
       "\\end{tabular}\n"
      ],
      "text/markdown": [
       "\n",
       "A data.frame: 6 × 7\n",
       "\n",
       "| <!--/--> | UF &lt;int&gt; | Sex &lt;int&gt; | Age &lt;int&gt; | Color &lt;int&gt; | Years.of.Studies &lt;int&gt; | Income &lt;int&gt; | Height &lt;dbl&gt; |\n",
       "|---|---|---|---|---|---|---|---|\n",
       "| 1 | 51 | 0 | 27 | 2 | 12 | 1200 | 1.750691 |\n",
       "| 2 | 31 | 0 | 52 | 2 |  5 |  800 | 1.721134 |\n",
       "| 3 | 35 | 0 | 26 | 2 | 16 | 3500 | 1.738461 |\n",
       "| 4 | 25 | 0 | 29 | 8 | 12 |  600 | 1.693630 |\n",
       "| 5 | 29 | 1 | 51 | 2 | 16 | 3000 | 1.771060 |\n",
       "| 6 | 42 | 1 | 50 | 2 | 11 | 1500 | 1.837385 |\n",
       "\n"
      ],
      "text/plain": [
       "  UF Sex Age Color Years.of.Studies Income Height  \n",
       "1 51 0   27  2     12               1200   1.750691\n",
       "2 31 0   52  2      5                800   1.721134\n",
       "3 35 0   26  2     16               3500   1.738461\n",
       "4 25 0   29  8     12                600   1.693630\n",
       "5 29 1   51  2     16               3000   1.771060\n",
       "6 42 1   50  2     11               1500   1.837385"
      ]
     },
     "metadata": {},
     "output_type": "display_data"
    }
   ],
   "source": [
    "head(sample)"
   ]
  },
  {
   "cell_type": "code",
   "execution_count": 9,
   "id": "9ea593e5-d11b-4db7-9dfa-baac045a21aa",
   "metadata": {},
   "outputs": [
    {
     "data": {
      "text/html": [
       "5000"
      ],
      "text/latex": [
       "5000"
      ],
      "text/markdown": [
       "5000"
      ],
      "text/plain": [
       "[1] 5000"
      ]
     },
     "metadata": {},
     "output_type": "display_data"
    }
   ],
   "source": [
    "nrow(sample)"
   ]
  },
  {
   "cell_type": "code",
   "execution_count": 10,
   "id": "c98fe91d-0a57-4f94-a964-83a68dcca68f",
   "metadata": {},
   "outputs": [
    {
     "data": {
      "text/plain": [
       "\n",
       "\tShapiro-Wilk normality test\n",
       "\n",
       "data:  sample$Income\n",
       "W = 0.56313, p-value < 2.2e-16\n"
      ]
     },
     "metadata": {},
     "output_type": "display_data"
    }
   ],
   "source": [
    "result <- shapiro.test(sample$Income)\n",
    "result"
   ]
  },
  {
   "cell_type": "code",
   "execution_count": 11,
   "id": "6d91feae-af5e-41fd-b731-9f2097299880",
   "metadata": {},
   "outputs": [
    {
     "data": {
      "text/html": [
       "<strong>W:</strong> 0.563134900078855"
      ],
      "text/latex": [
       "\\textbf{W:} 0.563134900078855"
      ],
      "text/markdown": [
       "**W:** 0.563134900078855"
      ],
      "text/plain": [
       "        W \n",
       "0.5631349 "
      ]
     },
     "metadata": {},
     "output_type": "display_data"
    }
   ],
   "source": [
    "result$statistic"
   ]
  },
  {
   "cell_type": "code",
   "execution_count": 12,
   "id": "79e509dd-5a58-444a-aadd-0734bd47e895",
   "metadata": {},
   "outputs": [
    {
     "data": {
      "text/html": [
       "2.94285501985654e-77"
      ],
      "text/latex": [
       "2.94285501985654e-77"
      ],
      "text/markdown": [
       "2.94285501985654e-77"
      ],
      "text/plain": [
       "[1] 2.942855e-77"
      ]
     },
     "metadata": {},
     "output_type": "display_data"
    }
   ],
   "source": [
    "result$p.value"
   ]
  },
  {
   "cell_type": "code",
   "execution_count": 13,
   "id": "aaf074ff-5d95-4850-bc6f-a5a0d7b92767",
   "metadata": {},
   "outputs": [
    {
     "data": {
      "text/html": [
       "2.94285501985654e-77"
      ],
      "text/latex": [
       "2.94285501985654e-77"
      ],
      "text/markdown": [
       "2.94285501985654e-77"
      ],
      "text/plain": [
       "[1] 2.942855e-77"
      ]
     },
     "metadata": {},
     "output_type": "display_data"
    }
   ],
   "source": [
    "p_value <- result$p.value\n",
    "p_value"
   ]
  },
  {
   "cell_type": "code",
   "execution_count": 14,
   "id": "7c00951a-99ac-40fe-8240-b4382b7ab323",
   "metadata": {},
   "outputs": [
    {
     "data": {
      "text/html": [
       "TRUE"
      ],
      "text/latex": [
       "TRUE"
      ],
      "text/markdown": [
       "TRUE"
      ],
      "text/plain": [
       "[1] TRUE"
      ]
     },
     "metadata": {},
     "output_type": "display_data"
    }
   ],
   "source": [
    "p_value <= meaningfulness"
   ]
  },
  {
   "cell_type": "markdown",
   "id": "1d7b08a2-18d8-48aa-99c7-d1059e9ac069",
   "metadata": {},
   "source": [
    "### Testing the Height variable"
   ]
  },
  {
   "cell_type": "code",
   "execution_count": 15,
   "id": "99fd2d09-3dd3-4ed3-ae1c-969417192063",
   "metadata": {},
   "outputs": [
    {
     "data": {
      "image/png": "[encoded data removed]",
      "text/plain": [
       "plot without title"
      ]
     },
     "metadata": {
      "image/png": {
       "height": 360,
       "width": 720
      }
     },
     "output_type": "display_data"
    }
   ],
   "source": [
    "ggplot(dataset, aes(x = Height))+\n",
    "    geom_histogram(bins = 30)+\n",
    "    ylab('Frequency')+\n",
    "    xlab('Height')+\n",
    "    ggtitle('Height Histogram')+\n",
    "    theme(plot.title = element_text(hjust = 0.05))"
   ]
  },
  {
   "cell_type": "code",
   "execution_count": 16,
   "id": "0055cedd-e019-47ec-baf1-6b2d024d8643",
   "metadata": {},
   "outputs": [
    {
     "data": {
      "text/plain": [
       "\n",
       "\tShapiro-Wilk normality test\n",
       "\n",
       "data:  sample$Height\n",
       "W = 0.99971, p-value = 0.7221\n"
      ]
     },
     "metadata": {},
     "output_type": "display_data"
    }
   ],
   "source": [
    "result <- shapiro.test(sample$Height)\n",
    "result"
   ]
  },
  {
   "cell_type": "code",
   "execution_count": 17,
   "id": "9a6f61b5-22d7-4bde-b754-729bb2811388",
   "metadata": {},
   "outputs": [
    {
     "data": {
      "text/html": [
       "<strong>W:</strong> 0.999705132829771"
      ],
      "text/latex": [
       "\\textbf{W:} 0.999705132829771"
      ],
      "text/markdown": [
       "**W:** 0.999705132829771"
      ],
      "text/plain": [
       "        W \n",
       "0.9997051 "
      ]
     },
     "metadata": {},
     "output_type": "display_data"
    }
   ],
   "source": [
    "result$statistic"
   ]
  },
  {
   "cell_type": "code",
   "execution_count": 18,
   "id": "110931be-5cfb-428a-8294-6df307199bed",
   "metadata": {},
   "outputs": [
    {
     "data": {
      "text/html": [
       "0.722050910375033"
      ],
      "text/latex": [
       "0.722050910375033"
      ],
      "text/markdown": [
       "0.722050910375033"
      ],
      "text/plain": [
       "[1] 0.7220509"
      ]
     },
     "metadata": {},
     "output_type": "display_data"
    }
   ],
   "source": [
    "result$p.value"
   ]
  },
  {
   "cell_type": "code",
   "execution_count": 19,
   "id": "331064d9-4b88-4ba5-b574-98e1ff027215",
   "metadata": {},
   "outputs": [
    {
     "data": {
      "text/html": [
       "0.722050910375033"
      ],
      "text/latex": [
       "0.722050910375033"
      ],
      "text/markdown": [
       "0.722050910375033"
      ],
      "text/plain": [
       "[1] 0.7220509"
      ]
     },
     "metadata": {},
     "output_type": "display_data"
    }
   ],
   "source": [
    "p_value <- result$p.value\n",
    "p_value"
   ]
  },
  {
   "cell_type": "code",
   "execution_count": 20,
   "id": "60488b15-ac13-498c-9d68-213dc3c92084",
   "metadata": {},
   "outputs": [
    {
     "data": {
      "text/html": [
       "FALSE"
      ],
      "text/latex": [
       "FALSE"
      ],
      "text/markdown": [
       "FALSE"
      ],
      "text/plain": [
       "[1] FALSE"
      ]
     },
     "metadata": {},
     "output_type": "display_data"
    }
   ],
   "source": [
    "p_value <= meaningfulness"
   ]
  },
  {
   "cell_type": "markdown",
   "id": "f770c45d-9151-4ddd-b504-39e07f6346ff",
   "metadata": {},
   "source": [
    "***\n",
    "## <font color='lightgreen'>Basic Test Steps</font>"
   ]
  },
  {
   "cell_type": "markdown",
   "id": "28a26f49-27ef-42fc-971f-974336c85ecc",
   "metadata": {},
   "source": [
    "### **Step 1** - formulation of hypotheses $H_0$ and $H_1$;\n",
    "\n",
    "> ### <font color='red'>Important points</font>\n",
    "> - In general, the target of the study should be formulated as the alternative hypothesis $H_1$.\n",
    "> - The null hypothesis always affirms an equality or population property, and $H_1$ the inequality that denies $H_0$.\n",
    "> - In the case of the null hypothesis $H_0$, equality can be represented by a simple equality \"$=$\" or by \"$\\geq$\" and \"$\\leq$\". Always complementary to what is established by the alternative hypothesis.\n",
    "> - The alternative hypothesis $H_1$ must define an inequality that can be a simple difference \"$\\neq$\" or of the types \"$>$\" and \"$<$\".\n",
    "\n",
    "\n",
    "### **Step 2** - choosing the appropriate sampling distribution;\n",
    "\n",
    "> ### <font color='red'>Important points</font>\n",
    "> - When the sample size has 30 elements or more, the normal distribution must be used, as established by the **central limit theorem**.\n",
    "> - For a sample size smaller than 30 elements, and if we can state that the population is distributed approximately as normal and the population standard deviation is known, the normal distribution must be used.\n",
    "> - For a sample size smaller than 30 elements, and if we can state that the population is distributed approximately as normal and the population standard deviation is unknown, Student's t distribution must be used.\n",
    "\n",
    "### **Step 3** - fixing the significance of the test ($\\alpha$), which defines the acceptance and rejection regions of the hypotheses (the most frequent values are 10%, 5% and 1%);\n",
    "\n",
    "> ### <font color='red'>Important points</font>\n",
    "> - The **confidence level** ($1 - \\alpha$) represents the probability of the estimate being correct. In a complementary way, the **significance level** ($\\alpha$) expresses the probability of error in the estimate.\n",
    ">\n",
    "\n",
    "> - The **confidence level** represents the degree of reliability of the estimate result being within a certain range. When we set a **confidence level** of 95% in a survey, for example, we are assuming that there is a 95% probability that the survey results represent reality well, that is, they are correct.\n",
    ">\n",
    "\n",
    "### **Step 4** - calculation of the test statistics and verification of this value with the test acceptance and rejection areas;\n",
    "\n",
    "> ### <font color='red'>Important points</font>\n",
    "> - In parametric tests, relative distance between the sample statistic and the value claimed as probable.\n",
    "> - In this step, the sample statistics necessary to perform the test are obtained (mean, standard deviation, degrees of freedom, etc.)\n",
    "\n",
    "\n",
    "### **Step 5** - Acceptance or rejection of the null hypothesis.\n",
    "\n",
    "> ### <font color='red'>Important points</font>\n",
    "> - If the acceptance interval contains the test statistic, $H_0$ is accepted as statistically valid and $H_1$ is rejected as such.\n",
    "> - If the acceptance interval does not contain the test statistic, $H_0$ is rejected and $H_1$ is accepted as probably true.\n",
    "> - Acceptance also occurs with the tail probability (p-value): if greater than $\\alpha$, $H_0$ is accepted."
   ]
  },
  {
   "cell_type": "markdown",
   "id": "82cabdcf-a869-4fda-9248-8b1399300cc3",
   "metadata": {},
   "source": [
    "## <font color='lightgreen'>PARAMETRIC TESTS</font>"
   ]
  },
  {
   "cell_type": "markdown",
   "id": "ebadd916-e12e-4c16-b29f-6f084f7a77f3",
   "metadata": {},
   "source": [
    "When a test assumes certain assumptions about how the parameters of a population are distributed, we are working with Parametric Tests."
   ]
  },
  {
   "cell_type": "markdown",
   "id": "5e77b271-cf73-47d7-b785-f319debef45c",
   "metadata": {},
   "source": [
    "## <font color='lightgreen'>Two-Tailed Test</font>"
   ]
  },
  {
   "cell_type": "markdown",
   "id": "cab3fc63-23be-41bc-84de-fdfeac1fc614",
   "metadata": {},
   "source": [
    "The **two-tailed test** is widely used in **quality tests**, such as the one presented in our problem above. Another example is the evaluation of parts that must fit perfectly (nuts and screws, keys and locks, etc.)."
   ]
  },
  {
   "cell_type": "markdown",
   "id": "6098dfcb-4adb-45c5-ba35-69fca83f982f",
   "metadata": {},
   "source": [
    "## <font color='purple'>Problem</font>"
   ]
  },
  {
   "cell_type": "markdown",
   "id": "e8411116-a280-4be3-bb9d-e350a47fe34b",
   "metadata": {},
   "source": [
    "The company **Suco Bom** produces **fruit juices in 500 ml packages**. Its production process is almost entirely automated and the juice packaging is filled by a machine that sometimes presents a certain misadjustment, leading to errors in filling the packaging with more or less content. When the average volume drops below 500 ml, the company worries about losing sales and having problems with regulatory bodies. When the volume exceeds 500 ml, the company begins to worry about losses in the production process.\n",
    "\n",
    "The quality control sector of the company **Suco Bom** periodically extracts **samples from 50 packages** to monitor the production process. For each sample, a **hypothesis test** is carried out to assess whether the machinery has become out of adjustment. The QA team assumes a **5% significance level**.\n",
    "\n",
    "Suppose now that a **sample of 50 packages** was selected and that the **observed sample average was 503.24 ml**. **Is this sample mean value sufficiently greater than 500 ml to make us reject the hypothesis that the process mean is 500 ml at the 5% significance level?**"
   ]
  },
  {
   "cell_type": "markdown",
   "id": "4172772b-7e1f-44a8-97a2-8398458a6050",
   "metadata": {},
   "source": [
    "### Problem Data"
   ]
  },
  {
   "cell_type": "code",
   "execution_count": 21,
   "id": "73c401f5-83bf-497a-933c-dc15e77b3e61",
   "metadata": {},
   "outputs": [],
   "source": [
    "sample <- c(509, 505, 495, 510, 496, 509, 497, 502, 503, 505, \n",
    "           501, 505, 510, 505, 504, 497, 506, 506, 508, 505, \n",
    "           497, 504, 500, 498, 506, 496, 508, 497, 503, 501, \n",
    "           503, 506, 499, 498, 509, 507, 503, 499, 509, 495, \n",
    "           502, 505, 504, 509, 508, 501, 505, 497, 508, 507)"
   ]
  },
  {
   "cell_type": "code",
   "execution_count": 22,
   "id": "523b5bfb-7035-43c3-86c6-00575014a505",
   "metadata": {},
   "outputs": [],
   "source": [
    "sample <- data.frame(Sample=sample)"
   ]
  },
  {
   "cell_type": "code",
   "execution_count": 23,
   "id": "5c855bc2-bfed-4c33-a0b2-41bca3bdfc09",
   "metadata": {},
   "outputs": [
    {
     "data": {
      "text/html": [
       "<table class=\"dataframe\">\n",
       "<caption>A data.frame: 6 × 1</caption>\n",
       "<thead>\n",
       "\t<tr><th></th><th scope=col>Sample</th></tr>\n",
       "\t<tr><th></th><th scope=col>&lt;dbl&gt;</th></tr>\n",
       "</thead>\n",
       "<tbody>\n",
       "\t<tr><th scope=row>1</th><td>509</td></tr>\n",
       "\t<tr><th scope=row>2</th><td>505</td></tr>\n",
       "\t<tr><th scope=row>3</th><td>495</td></tr>\n",
       "\t<tr><th scope=row>4</th><td>510</td></tr>\n",
       "\t<tr><th scope=row>5</th><td>496</td></tr>\n",
       "\t<tr><th scope=row>6</th><td>509</td></tr>\n",
       "</tbody>\n",
       "</table>\n"
      ],
      "text/latex": [
       "A data.frame: 6 × 1\n",
       "\\begin{tabular}{r|l}\n",
       "  & Sample\\\\\n",
       "  & <dbl>\\\\\n",
       "\\hline\n",
       "\t1 & 509\\\\\n",
       "\t2 & 505\\\\\n",
       "\t3 & 495\\\\\n",
       "\t4 & 510\\\\\n",
       "\t5 & 496\\\\\n",
       "\t6 & 509\\\\\n",
       "\\end{tabular}\n"
      ],
      "text/markdown": [
       "\n",
       "A data.frame: 6 × 1\n",
       "\n",
       "| <!--/--> | Sample &lt;dbl&gt; |\n",
       "|---|---|\n",
       "| 1 | 509 |\n",
       "| 2 | 505 |\n",
       "| 3 | 495 |\n",
       "| 4 | 510 |\n",
       "| 5 | 496 |\n",
       "| 6 | 509 |\n",
       "\n"
      ],
      "text/plain": [
       "  Sample\n",
       "1 509   \n",
       "2 505   \n",
       "3 495   \n",
       "4 510   \n",
       "5 496   \n",
       "6 509   "
      ]
     },
     "metadata": {},
     "output_type": "display_data"
    }
   ],
   "source": [
    "head(sample)"
   ]
  },
  {
   "cell_type": "code",
   "execution_count": 24,
   "id": "a37a0df6-a81c-4ac8-9bf4-ead874ba3589",
   "metadata": {},
   "outputs": [
    {
     "data": {
      "text/html": [
       "500"
      ],
      "text/latex": [
       "500"
      ],
      "text/markdown": [
       "500"
      ],
      "text/plain": [
       "[1] 500"
      ]
     },
     "metadata": {},
     "output_type": "display_data"
    }
   ],
   "source": [
    "mean <- 500\n",
    "mean"
   ]
  },
  {
   "cell_type": "code",
   "execution_count": 25,
   "id": "1f15c7ec-1bfb-45b2-9d31-b4c926712310",
   "metadata": {},
   "outputs": [
    {
     "data": {
      "text/html": [
       "503.24"
      ],
      "text/latex": [
       "503.24"
      ],
      "text/markdown": [
       "503.24"
      ],
      "text/plain": [
       "[1] 503.24"
      ]
     },
     "metadata": {},
     "output_type": "display_data"
    }
   ],
   "source": [
    "mean_sample <- mean(sample$Sample)\n",
    "mean_sample"
   ]
  },
  {
   "cell_type": "code",
   "execution_count": 26,
   "id": "6d61c244-95ed-4ff0-9e18-8f59fd8d0ef9",
   "metadata": {},
   "outputs": [
    {
     "data": {
      "text/html": [
       "4.48380305052735"
      ],
      "text/latex": [
       "4.48380305052735"
      ],
      "text/markdown": [
       "4.48380305052735"
      ],
      "text/plain": [
       "[1] 4.483803"
      ]
     },
     "metadata": {},
     "output_type": "display_data"
    }
   ],
   "source": [
    "sd_sample <- sd(sample$Sample)\n",
    "sd_sample"
   ]
  },
  {
   "cell_type": "code",
   "execution_count": 27,
   "id": "186c4c69-cf85-4c70-ad74-371ffcec8d3c",
   "metadata": {},
   "outputs": [
    {
     "data": {
      "text/html": [
       "0.05"
      ],
      "text/latex": [
       "0.05"
      ],
      "text/markdown": [
       "0.05"
      ],
      "text/plain": [
       "[1] 0.05"
      ]
     },
     "metadata": {},
     "output_type": "display_data"
    }
   ],
   "source": [
    "meaningfulness <- 0.05\n",
    "meaningfulness"
   ]
  },
  {
   "cell_type": "code",
   "execution_count": 28,
   "id": "a0efea1e-220e-41f7-aea5-5ff179f68016",
   "metadata": {},
   "outputs": [
    {
     "data": {
      "text/html": [
       "0.95"
      ],
      "text/latex": [
       "0.95"
      ],
      "text/markdown": [
       "0.95"
      ],
      "text/plain": [
       "[1] 0.95"
      ]
     },
     "metadata": {},
     "output_type": "display_data"
    }
   ],
   "source": [
    "confidence <- 1 - meaningfulness\n",
    "confidence"
   ]
  },
  {
   "cell_type": "code",
   "execution_count": 29,
   "id": "618e114f-f2d9-405f-b894-9bf60c47542b",
   "metadata": {},
   "outputs": [
    {
     "data": {
      "text/html": [
       "50"
      ],
      "text/latex": [
       "50"
      ],
      "text/markdown": [
       "50"
      ],
      "text/plain": [
       "[1] 50"
      ]
     },
     "metadata": {},
     "output_type": "display_data"
    }
   ],
   "source": [
    "n <- 50\n",
    "n"
   ]
  },
  {
   "cell_type": "markdown",
   "id": "527268d1-26d8-4a5b-a826-2f4bf76cdb9f",
   "metadata": {},
   "source": [
    "### **Step 1** - formulation of hypotheses $H_0$ and $H_1$\n",
    "\n",
    "#### <font color='red'>Remember, the null hypothesis always contains the claim of equality</font>"
   ]
  },
  {
   "cell_type": "markdown",
   "id": "cfa101e8-1e2f-4a6c-b719-89ad46518738",
   "metadata": {},
   "source": [
    "### $H_0: \\mu = 500$\n",
    "\n",
    "### $H_1: \\mu \\neq 500$"
   ]
  },
  {
   "cell_type": "markdown",
   "id": "23e2d28a-12bc-4308-8c03-911e1a516056",
   "metadata": {},
   "source": [
    "### **Step 2** - choosing the appropriate sampling distribution\n",
    " ### <font color='red'>Important points</font>\n",
    " - When the sample size has 30 elements or more, the normal distribution must be used, as established by the **central limit theorem**.\n",
    " - For a sample size smaller than 30 elements, and if we can state that the population is distributed approximately as normal and the population standard deviation is known, the normal distribution must be used.\n",
    " - For a sample size smaller than 30 elements, and if we can state that the population is distributed approximately as normal and the population standard deviation is unknown, Student's t distribution must be used."
   ]
  },
  {
   "cell_type": "markdown",
   "id": "86812424-b2d7-4627-8ce0-5678fbe84860",
   "metadata": {},
   "source": [
    "### **Step 3** - fixing the significance of the test ($\\alpha$)"
   ]
  },
  {
   "cell_type": "markdown",
   "id": "62cd6a6c-ebfe-4884-8fba-b33980a9f4e4",
   "metadata": {},
   "source": [
    "### Getting $z_{\\alpha/2}$"
   ]
  },
  {
   "cell_type": "code",
   "execution_count": 30,
   "id": "e81c1629-1717-47aa-bdf6-3739d34ae4f2",
   "metadata": {},
   "outputs": [
    {
     "data": {
      "text/html": [
       "1.95996398454005"
      ],
      "text/latex": [
       "1.95996398454005"
      ],
      "text/markdown": [
       "1.95996398454005"
      ],
      "text/plain": [
       "[1] 1.959964"
      ]
     },
     "metadata": {},
     "output_type": "display_data"
    }
   ],
   "source": [
    "Z_alpha_2 <- qnorm(0.5 + (confidence / 2))\n",
    "Z_alpha_2"
   ]
  },
  {
   "cell_type": "markdown",
   "id": "7ef53374-b086-42ef-9fe0-8b035eeb8215",
   "metadata": {},
   "source": [
    "### **Step 4** - calculation of test statistics and verification of this value with the test acceptance and rejection areas\n",
    "\n",
    "# $$z = \\frac{\\bar{x} - \\mu_0}{\\frac{s}{\\sqrt{n}}}$$"
   ]
  },
  {
   "cell_type": "code",
   "execution_count": 31,
   "id": "c4a76e66-316b-4bc4-8963-24f25feff6e4",
   "metadata": {},
   "outputs": [
    {
     "data": {
      "text/html": [
       "5.10955977599187"
      ],
      "text/latex": [
       "5.10955977599187"
      ],
      "text/markdown": [
       "5.10955977599187"
      ],
      "text/plain": [
       "[1] 5.10956"
      ]
     },
     "metadata": {},
     "output_type": "display_data"
    }
   ],
   "source": [
    "Z <- (mean_sample - mean) / (sd_sample / sqrt(n))\n",
    "Z"
   ]
  },
  {
   "cell_type": "markdown",
   "id": "fdf34163-91db-44c4-987d-d78dc88e9aaa",
   "metadata": {},
   "source": [
    "### **Step 5** - Acceptance or rejection of the null hypothesis"
   ]
  },
  {
   "cell_type": "markdown",
   "id": "88e49329-82e8-4b4b-8aa9-e723260d3d2c",
   "metadata": {},
   "source": [
    "### <font color='red'>Critical Value Criterion</font>\n",
    "\n",
    "> ### Two-Tailed Test\n",
    "> ### Reject $H_0$ se $z \\leq -z_{\\alpha / 2}$ Or if $z \\geq z_{\\alpha / 2}$"
   ]
  },
  {
   "cell_type": "code",
   "execution_count": 32,
   "id": "c984e6de-56fd-43be-b2da-f8c78dac45c8",
   "metadata": {},
   "outputs": [
    {
     "data": {
      "text/html": [
       "'Reject H0'"
      ],
      "text/latex": [
       "'Reject H0'"
      ],
      "text/markdown": [
       "'Reject H0'"
      ],
      "text/plain": [
       "[1] \"Reject H0\""
      ]
     },
     "metadata": {},
     "output_type": "display_data"
    }
   ],
   "source": [
    "if(Z <= -Z_alpha_2 || Z >= Z_alpha_2){\n",
    "    'Reject H0'\n",
    "}else{\n",
    "    'Accept H0'\n",
    "}"
   ]
  },
  {
   "cell_type": "markdown",
   "id": "19bf9e71-d3c6-48c3-8a10-89e8eb5c63ac",
   "metadata": {},
   "source": [
    "### <font color='red'>$p$ Value Criterion</font>\n",
    "\n",
    "> ### Two-Tailed Test\n",
    "> ### Reject $H_0$ if the value $p\\leq\\alpha$"
   ]
  },
  {
   "cell_type": "code",
   "execution_count": 33,
   "id": "5003f764-922c-42ef-936a-b99215359aa5",
   "metadata": {},
   "outputs": [
    {
     "data": {
      "text/html": [
       "3.22910317152036e-07"
      ],
      "text/latex": [
       "3.22910317152036e-07"
      ],
      "text/markdown": [
       "3.22910317152036e-07"
      ],
      "text/plain": [
       "[1] 3.229103e-07"
      ]
     },
     "metadata": {},
     "output_type": "display_data"
    }
   ],
   "source": [
    "p_value <- 2 * (1 - pnorm(Z))\n",
    "p_value"
   ]
  },
  {
   "cell_type": "code",
   "execution_count": 34,
   "id": "dd727393-8752-44d4-bf36-56febb745917",
   "metadata": {},
   "outputs": [
    {
     "data": {
      "text/html": [
       "TRUE"
      ],
      "text/latex": [
       "TRUE"
      ],
      "text/markdown": [
       "TRUE"
      ],
      "text/plain": [
       "[1] TRUE"
      ]
     },
     "metadata": {},
     "output_type": "display_data"
    }
   ],
   "source": [
    "p_value <= meaningfulness"
   ]
  },
  {
   "cell_type": "code",
   "execution_count": 35,
   "id": "cf1951f8-011b-48a3-8b14-f912f789e00b",
   "metadata": {},
   "outputs": [],
   "source": [
    "result <- ZTest(sample$Sample, mu = mean, sd_pop = sd_sample)"
   ]
  },
  {
   "cell_type": "code",
   "execution_count": 36,
   "id": "8bad378e-5978-4f1d-94ee-90bcffe20a11",
   "metadata": {},
   "outputs": [
    {
     "data": {
      "text/html": [
       "<strong>z:</strong> 5.10955977599187"
      ],
      "text/latex": [
       "\\textbf{z:} 5.10955977599187"
      ],
      "text/markdown": [
       "**z:** 5.10955977599187"
      ],
      "text/plain": [
       "      z \n",
       "5.10956 "
      ]
     },
     "metadata": {},
     "output_type": "display_data"
    }
   ],
   "source": [
    "result$statistic"
   ]
  },
  {
   "cell_type": "code",
   "execution_count": 37,
   "id": "04c91b45-5c8c-4a29-9111-8a03b24e9ff4",
   "metadata": {},
   "outputs": [
    {
     "data": {
      "text/html": [
       "3.22910317244578e-07"
      ],
      "text/latex": [
       "3.22910317244578e-07"
      ],
      "text/markdown": [
       "3.22910317244578e-07"
      ],
      "text/plain": [
       "[1] 3.229103e-07"
      ]
     },
     "metadata": {},
     "output_type": "display_data"
    }
   ],
   "source": [
    "result$p.value"
   ]
  },
  {
   "cell_type": "code",
   "execution_count": 38,
   "id": "874a6659-ce10-4a3e-8b0c-92b34d5bb20d",
   "metadata": {},
   "outputs": [
    {
     "data": {
      "text/html": [
       "TRUE"
      ],
      "text/latex": [
       "TRUE"
      ],
      "text/markdown": [
       "TRUE"
      ],
      "text/plain": [
       "[1] TRUE"
      ]
     },
     "metadata": {},
     "output_type": "display_data"
    }
   ],
   "source": [
    "p_value <= meaningfulness"
   ]
  },
  {
   "cell_type": "markdown",
   "id": "841ee2ea-90fc-4baf-abda-86157aa75f13",
   "metadata": {},
   "source": [
    "### <font color='purple'>Conclusion: As the sample mean $\\bar{x}$ is significantly greater than 500 ml, we reject $H_0$. In this case, measures must be taken to adjust the machinery that fills the packages.</font>"
   ]
  },
  {
   "cell_type": "markdown",
   "id": "16031bc8-13de-45dc-b71f-573724bc2fa9",
   "metadata": {},
   "source": [
    "***\n",
    "## <font color='lightgreen'>One-Tailed Test</font>"
   ]
  },
  {
   "cell_type": "markdown",
   "id": "4407a798-70d1-4610-a109-5ecb61c6e672",
   "metadata": {},
   "source": [
    "**One-tailed tests** check variables in relation to a floor or ceiling and evaluate the maximum or minimum values expected for the parameters under study and the chance of the sample statistics being lower or higher than a given limit."
   ]
  },
  {
   "cell_type": "markdown",
   "id": "27dcd477-2c62-4942-9d6c-00c76129f548",
   "metadata": {},
   "source": [
    "***\n",
    "## <font color='purple'>Problem</font>"
   ]
  },
  {
   "cell_type": "markdown",
   "id": "9ceaf678-62af-4a6f-8d72-5e8eba1fa15f",
   "metadata": {},
   "source": [
    "A famous soft drink manufacturer claims that a 350 ml can of its flagship product contains, **at most**, **37 grams of sugar**. This claim leads us to understand that the average amount of sugar in a can of soda should be **equal to or less than 37 g**.\n",
    "\n",
    "A suspicious consumer with knowledge of statistical inference decides to test the manufacturer's claim and selects, at random, from a set of different establishments, **a sample of 25 cans** of the soft drink in question. Using the correct equipment, the consumer obtained the amounts of sugar in all 25 cans of his sample.\n",
    "\n",
    "**Assuming that this population is distributed approximately as normal and considering a significance level of 5%, is it possible to accept the manufacturer's claim as valid?**"
   ]
  },
  {
   "cell_type": "markdown",
   "id": "b118bdd6-d82a-4a12-b5c9-36ebd72a51a4",
   "metadata": {},
   "source": [
    "### Problem Data"
   ]
  },
  {
   "cell_type": "code",
   "execution_count": 39,
   "id": "39e1be4e-f45b-40b2-8cc6-84eb334b5bbe",
   "metadata": {},
   "outputs": [],
   "source": [
    "sample <- c(37.27, 36.42, 34.84, 34.60, 37.49, \n",
    "           36.53, 35.49, 36.90, 34.52, 37.30, \n",
    "           34.99, 36.55, 36.29, 36.06, 37.42, \n",
    "           34.47, 36.70, 35.86, 36.80, 36.92, \n",
    "           37.04, 36.39, 37.32, 36.64, 35.45)"
   ]
  },
  {
   "cell_type": "code",
   "execution_count": 40,
   "id": "6a7d5f4f-d7f8-49cb-9888-8a51707eb192",
   "metadata": {},
   "outputs": [],
   "source": [
    "sample <- data.frame(Sample=sample)"
   ]
  },
  {
   "cell_type": "code",
   "execution_count": 41,
   "id": "b127335b-464e-4dcf-a712-f2f4f9ed9e99",
   "metadata": {},
   "outputs": [
    {
     "data": {
      "text/html": [
       "<table class=\"dataframe\">\n",
       "<caption>A data.frame: 6 × 1</caption>\n",
       "<thead>\n",
       "\t<tr><th></th><th scope=col>Sample</th></tr>\n",
       "\t<tr><th></th><th scope=col>&lt;dbl&gt;</th></tr>\n",
       "</thead>\n",
       "<tbody>\n",
       "\t<tr><th scope=row>1</th><td>37.27</td></tr>\n",
       "\t<tr><th scope=row>2</th><td>36.42</td></tr>\n",
       "\t<tr><th scope=row>3</th><td>34.84</td></tr>\n",
       "\t<tr><th scope=row>4</th><td>34.60</td></tr>\n",
       "\t<tr><th scope=row>5</th><td>37.49</td></tr>\n",
       "\t<tr><th scope=row>6</th><td>36.53</td></tr>\n",
       "</tbody>\n",
       "</table>\n"
      ],
      "text/latex": [
       "A data.frame: 6 × 1\n",
       "\\begin{tabular}{r|l}\n",
       "  & Sample\\\\\n",
       "  & <dbl>\\\\\n",
       "\\hline\n",
       "\t1 & 37.27\\\\\n",
       "\t2 & 36.42\\\\\n",
       "\t3 & 34.84\\\\\n",
       "\t4 & 34.60\\\\\n",
       "\t5 & 37.49\\\\\n",
       "\t6 & 36.53\\\\\n",
       "\\end{tabular}\n"
      ],
      "text/markdown": [
       "\n",
       "A data.frame: 6 × 1\n",
       "\n",
       "| <!--/--> | Sample &lt;dbl&gt; |\n",
       "|---|---|\n",
       "| 1 | 37.27 |\n",
       "| 2 | 36.42 |\n",
       "| 3 | 34.84 |\n",
       "| 4 | 34.60 |\n",
       "| 5 | 37.49 |\n",
       "| 6 | 36.53 |\n",
       "\n"
      ],
      "text/plain": [
       "  Sample\n",
       "1 37.27 \n",
       "2 36.42 \n",
       "3 34.84 \n",
       "4 34.60 \n",
       "5 37.49 \n",
       "6 36.53 "
      ]
     },
     "metadata": {},
     "output_type": "display_data"
    }
   ],
   "source": [
    "head(sample)"
   ]
  },
  {
   "cell_type": "code",
   "execution_count": 42,
   "id": "1890e327-257f-458c-bb91-9ee873a9651a",
   "metadata": {},
   "outputs": [
    {
     "data": {
      "text/html": [
       "37"
      ],
      "text/latex": [
       "37"
      ],
      "text/markdown": [
       "37"
      ],
      "text/plain": [
       "[1] 37"
      ]
     },
     "metadata": {},
     "output_type": "display_data"
    }
   ],
   "source": [
    "mean <- 37\n",
    "mean"
   ]
  },
  {
   "cell_type": "code",
   "execution_count": 43,
   "id": "1b352364-d200-4afb-9d9c-cfaad7daf2f0",
   "metadata": {},
   "outputs": [
    {
     "data": {
      "text/html": [
       "36.2504"
      ],
      "text/latex": [
       "36.2504"
      ],
      "text/markdown": [
       "36.2504"
      ],
      "text/plain": [
       "[1] 36.2504"
      ]
     },
     "metadata": {},
     "output_type": "display_data"
    }
   ],
   "source": [
    "mean_sample <- mean(sample$Sample)\n",
    "mean_sample"
   ]
  },
  {
   "cell_type": "code",
   "execution_count": 44,
   "id": "40649200-b62b-48d6-b865-8d64bbf0de73",
   "metadata": {},
   "outputs": [
    {
     "data": {
      "text/html": [
       "0.966753501846946"
      ],
      "text/latex": [
       "0.966753501846946"
      ],
      "text/markdown": [
       "0.966753501846946"
      ],
      "text/plain": [
       "[1] 0.9667535"
      ]
     },
     "metadata": {},
     "output_type": "display_data"
    }
   ],
   "source": [
    "sd_sample <- sd(sample$Sample)\n",
    "sd_sample"
   ]
  },
  {
   "cell_type": "code",
   "execution_count": 45,
   "id": "f1fc9b51-a525-469a-97fb-17d1916ca170",
   "metadata": {},
   "outputs": [
    {
     "data": {
      "text/html": [
       "0.05"
      ],
      "text/latex": [
       "0.05"
      ],
      "text/markdown": [
       "0.05"
      ],
      "text/plain": [
       "[1] 0.05"
      ]
     },
     "metadata": {},
     "output_type": "display_data"
    }
   ],
   "source": [
    "meaningfulness <- 0.05\n",
    "meaningfulness"
   ]
  },
  {
   "cell_type": "code",
   "execution_count": 46,
   "id": "92986992-52fc-4e2c-89eb-377732a93d46",
   "metadata": {},
   "outputs": [
    {
     "data": {
      "text/html": [
       "0.95"
      ],
      "text/latex": [
       "0.95"
      ],
      "text/markdown": [
       "0.95"
      ],
      "text/plain": [
       "[1] 0.95"
      ]
     },
     "metadata": {},
     "output_type": "display_data"
    }
   ],
   "source": [
    "confidence <- 1 - meaningfulness\n",
    "confidence"
   ]
  },
  {
   "cell_type": "code",
   "execution_count": 47,
   "id": "67e853d5-bf63-467c-a4ad-df1de6a59efe",
   "metadata": {},
   "outputs": [
    {
     "data": {
      "text/html": [
       "25"
      ],
      "text/latex": [
       "25"
      ],
      "text/markdown": [
       "25"
      ],
      "text/plain": [
       "[1] 25"
      ]
     },
     "metadata": {},
     "output_type": "display_data"
    }
   ],
   "source": [
    "n <- 25\n",
    "n"
   ]
  },
  {
   "cell_type": "code",
   "execution_count": 48,
   "id": "a725816b-1f77-472e-8539-c8c352cee241",
   "metadata": {},
   "outputs": [
    {
     "data": {
      "text/html": [
       "24"
      ],
      "text/latex": [
       "24"
      ],
      "text/markdown": [
       "24"
      ],
      "text/plain": [
       "[1] 24"
      ]
     },
     "metadata": {},
     "output_type": "display_data"
    }
   ],
   "source": [
    "degrees_of_freedom <- n -1\n",
    "degrees_of_freedom"
   ]
  },
  {
   "cell_type": "markdown",
   "id": "ca69c4eb-e17c-48e6-947e-753bbd5aa68a",
   "metadata": {},
   "source": [
    "### **Step 1** - Formulation of Hypotheses $H_0$ e $H_1$\n",
    "#### <font color='red'>Remember, the null hypothesis always contains the claim of equality</font>"
   ]
  },
  {
   "cell_type": "markdown",
   "id": "f0418c8e-6b7d-4f5b-b1f7-9e90059eb16d",
   "metadata": {},
   "source": [
    "### $H_0: \\mu \\leq 37$\n",
    "\n",
    "### $H_1: \\mu > 37$"
   ]
  },
  {
   "cell_type": "markdown",
   "id": "11ce29d6-a4de-4850-bf31-900af3450475",
   "metadata": {},
   "source": [
    "### **Step 2** - choosing the appropriate sampling distribution\n",
    " ### <font color='red'>Important points</font>\n",
    " - When the sample size has 30 elements or more, the normal distribution must be used, as established by the **central limit theorem**.\n",
    " - For a sample size smaller than 30 elements, and if we can state that the population is distributed approximately as normal and the population standard deviation is known, the normal distribution must be used.\n",
    " - For a sample size smaller than 30 elements, and if we can state that the population is distributed approximately as normal and the population standard deviation is unknown, Student's t distribution must be used."
   ]
  },
  {
   "cell_type": "markdown",
   "id": "f343bf8b-e3f1-4fda-a16f-ba98aff0c597",
   "metadata": {},
   "source": [
    "### **Step 3** - Fixing the significance of the test ($\\alpha$)\n"
   ]
  },
  {
   "cell_type": "markdown",
   "id": "b9612dae-9e54-4da3-8320-52da48fb4a76",
   "metadata": {},
   "source": [
    "### Getting $t_{\\alpha}$"
   ]
  },
  {
   "cell_type": "code",
   "execution_count": 49,
   "id": "ee85e8c6-ec43-4a86-a71f-363863e4f41f",
   "metadata": {},
   "outputs": [
    {
     "data": {
      "text/html": [
       "1.71088207990943"
      ],
      "text/latex": [
       "1.71088207990943"
      ],
      "text/markdown": [
       "1.71088207990943"
      ],
      "text/plain": [
       "[1] 1.710882"
      ]
     },
     "metadata": {},
     "output_type": "display_data"
    }
   ],
   "source": [
    "t_alpha <- qt(confidence, degrees_of_freedom)\n",
    "t_alpha"
   ]
  },
  {
   "cell_type": "markdown",
   "id": "b40a4be0-d191-499b-8c7f-3a7e6eee6f13",
   "metadata": {},
   "source": [
    "### **Step 4** - Calculation of test statistics and verification of this value with the test acceptance and rejection areas\n",
    "\n",
    "# $$t = \\frac{\\bar{x} - \\mu_0}{\\frac{s}{\\sqrt{n}}}$$"
   ]
  },
  {
   "cell_type": "code",
   "execution_count": 50,
   "id": "883116b5-b1b4-44e1-aeaf-10e905fd2011",
   "metadata": {},
   "outputs": [
    {
     "data": {
      "text/html": [
       "-3.87689311995208"
      ],
      "text/latex": [
       "-3.87689311995208"
      ],
      "text/markdown": [
       "-3.87689311995208"
      ],
      "text/plain": [
       "[1] -3.876893"
      ]
     },
     "metadata": {},
     "output_type": "display_data"
    }
   ],
   "source": [
    "t <- (mean_sample - mean) / (sd_sample / sqrt(n))\n",
    "t"
   ]
  },
  {
   "cell_type": "markdown",
   "id": "f5b7e124-0f13-455f-8a02-fea5bf99144f",
   "metadata": {},
   "source": [
    "### **Step 5** - Acceptance or rejection of the null hypothesis"
   ]
  },
  {
   "cell_type": "markdown",
   "id": "9eb8cb46-2854-45cc-94e3-6cb5b0d4c1af",
   "metadata": {},
   "source": [
    "### <font color='red'>Critical Value Criterion</font>\n",
    "\n",
    "> ### Superior One-Tailed Test\n",
    "> ### Reject $H_0$ if $t \\geq t_{\\alpha}$"
   ]
  },
  {
   "cell_type": "code",
   "execution_count": 51,
   "id": "eed6bd44-d160-4535-962f-b3091588878b",
   "metadata": {},
   "outputs": [
    {
     "data": {
      "text/html": [
       "FALSE"
      ],
      "text/latex": [
       "FALSE"
      ],
      "text/markdown": [
       "FALSE"
      ],
      "text/plain": [
       "[1] FALSE"
      ]
     },
     "metadata": {},
     "output_type": "display_data"
    }
   ],
   "source": [
    "t >= t_alpha"
   ]
  },
  {
   "cell_type": "markdown",
   "id": "494ade5c-f3a6-4058-ba21-ec8515981e46",
   "metadata": {},
   "source": [
    "### <font color='red'>$p$ Value Criterion</font>\n",
    "\n",
    "> ### Superior One-Tailed Test\n",
    "> ### Reject $H_0$ if the value $p\\leq\\alpha$"
   ]
  },
  {
   "cell_type": "code",
   "execution_count": 52,
   "id": "763685dd-7fa8-40e1-b8b1-7eeacfbea5c6",
   "metadata": {},
   "outputs": [
    {
     "data": {
      "text/html": [
       "0.999640617030382"
      ],
      "text/latex": [
       "0.999640617030382"
      ],
      "text/markdown": [
       "0.999640617030382"
      ],
      "text/plain": [
       "[1] 0.9996406"
      ]
     },
     "metadata": {},
     "output_type": "display_data"
    }
   ],
   "source": [
    "p_value <- pt(t, degrees_of_freedom, lower.tail = FALSE)\n",
    "p_value"
   ]
  },
  {
   "cell_type": "code",
   "execution_count": 53,
   "id": "906b5673-8a68-4328-9ca2-037f82b61fcc",
   "metadata": {},
   "outputs": [
    {
     "data": {
      "text/html": [
       "FALSE"
      ],
      "text/latex": [
       "FALSE"
      ],
      "text/markdown": [
       "FALSE"
      ],
      "text/plain": [
       "[1] FALSE"
      ]
     },
     "metadata": {},
     "output_type": "display_data"
    }
   ],
   "source": [
    "p_value <= meaningfulness"
   ]
  },
  {
   "cell_type": "code",
   "execution_count": 54,
   "id": "02b370b1-800f-4bba-9c6d-02b03772f2d2",
   "metadata": {},
   "outputs": [
    {
     "data": {
      "text/plain": [
       "\n",
       "\tOne Sample t-test\n",
       "\n",
       "data:  sample$Sample\n",
       "t = -3.8769, df = 24, p-value = 0.9996\n",
       "alternative hypothesis: true mean is greater than 37\n",
       "95 percent confidence interval:\n",
       " 35.9196     Inf\n",
       "sample estimates:\n",
       "mean of x \n",
       "  36.2504 \n"
      ]
     },
     "metadata": {},
     "output_type": "display_data"
    }
   ],
   "source": [
    "result <-  t.test(sample$Sample, alternative = 'greater', mu = mean)\n",
    "result"
   ]
  },
  {
   "cell_type": "code",
   "execution_count": 55,
   "id": "cda2e77b-565b-4478-a03d-b9c2b0c4f2a3",
   "metadata": {},
   "outputs": [
    {
     "data": {
      "text/html": [
       "<strong>t:</strong> -3.87689311995208"
      ],
      "text/latex": [
       "\\textbf{t:} -3.87689311995208"
      ],
      "text/markdown": [
       "**t:** -3.87689311995208"
      ],
      "text/plain": [
       "        t \n",
       "-3.876893 "
      ]
     },
     "metadata": {},
     "output_type": "display_data"
    }
   ],
   "source": [
    "result$statistic"
   ]
  },
  {
   "cell_type": "code",
   "execution_count": 56,
   "id": "4660e51f-6f6b-47b3-8f51-8226722e9de5",
   "metadata": {},
   "outputs": [
    {
     "data": {
      "text/html": [
       "0.999640617030382"
      ],
      "text/latex": [
       "0.999640617030382"
      ],
      "text/markdown": [
       "0.999640617030382"
      ],
      "text/plain": [
       "[1] 0.9996406"
      ]
     },
     "metadata": {},
     "output_type": "display_data"
    }
   ],
   "source": [
    "p_value <- result$p.value\n",
    "p_value"
   ]
  },
  {
   "cell_type": "code",
   "execution_count": 57,
   "id": "ab63f31d-e1a4-48cb-9ce7-3776395135e7",
   "metadata": {},
   "outputs": [
    {
     "data": {
      "text/html": [
       "FALSE"
      ],
      "text/latex": [
       "FALSE"
      ],
      "text/markdown": [
       "FALSE"
      ],
      "text/plain": [
       "[1] FALSE"
      ]
     },
     "metadata": {},
     "output_type": "display_data"
    }
   ],
   "source": [
    "p_value <= meaningfulness"
   ]
  },
  {
   "cell_type": "markdown",
   "id": "a8a0ce3d-5a5f-45ff-8940-d32f9275226b",
   "metadata": {},
   "source": [
    "### <font color='purple'>Conclusion: With a 95% confidence level we cannot reject $H_0$, that is, the manufacturer's claim is true.</font>"
   ]
  },
  {
   "cell_type": "markdown",
   "id": "dea3d822-d491-4c56-8571-3cae27f19fc8",
   "metadata": {},
   "source": [
    "***\n",
    "## <font color='lightgreen'>Two-Sample Tests</font>"
   ]
  },
  {
   "cell_type": "markdown",
   "id": "3260863d-7fd5-4374-86f1-d9f0b9695bc0",
   "metadata": {},
   "source": [
    "It is also possible to use hypothesis tests to compare two different samples. In this type of test, you want to decide whether one sample is different from another."
   ]
  },
  {
   "cell_type": "markdown",
   "id": "fc1265a7-faf5-4f76-8c8c-73c82c206f10",
   "metadata": {},
   "source": [
    "***\n",
    "### <font color='purple'>Problem</font>"
   ]
  },
  {
   "cell_type": "markdown",
   "id": "c0ef81cd-867b-4dd3-875e-8f171873fcd6",
   "metadata": {},
   "source": [
    "In our dataset we have the income of heads of households obtained from the National Household Sample Survey - PNAD in 2015. A well-known problem in our country concerns income inequality, mainly between men and women.\n",
    "\n",
    "Two random samples, one with **500 men** and the other with **500 women**, were selected from our dataset. In order to prove this inequality, **test the equality of means** between these two samples with a **significance level of 1%**."
   ]
  },
  {
   "cell_type": "markdown",
   "id": "8b870eac-e557-429a-8ddf-5b3f6c350c82",
   "metadata": {},
   "source": [
    "### Sample Selection"
   ]
  },
  {
   "cell_type": "code",
   "execution_count": 58,
   "id": "27416335-8ebf-4be0-bb33-d91da2394270",
   "metadata": {},
   "outputs": [],
   "source": [
    "men <- matrix(c(300, 1000, 4000, 5000, 300, 350, 1200, 1200, 1100, 1800, 700, 5000, 250, 1560, 400, 5500, 3000, 0, 1100, 1500, 500, 500, 788, 500, 3000, 788, 2400, 788, 3300, 1350, 2500, 2000, 1300, 2430, 9000, 10120, 1380, 2000, 1400, 1000, 500, 1500, 2200, 2100, 4000, 1000, 1200, 2900, 1800, 2000, 788, 1576, 800, 2400, 788, 788, 788, 0, 12000, 7880, 850, 1000, 1000, 1600, 3800, 788, 1200, 300, 350, 700, 6000, 1500, 5000, 2000, 1200, 800, 250, 800, 1600, 400, 3000, 2304, 800, 1400, 450, 788, 2200, 6000, 1200, 4000, 6000, 1100, 1200, 1300, 3000, 3000, 1500, 1280, 788, 1400, 788, 4000, 0, 1000, 2500, 1300, 3000, 500, 1600, 2000, 1280, 150, 0, 0, 7000, 1061, 700, 788, 2000, 788, 10500, 788, 1600, 1050, 1100, 3000, 800, 1400, 1200, 2500, 1000, 1500, 1500, 900, 2000, 300, 3000, 788, 1400, 2000, 2000, 3000, 2600, 15000, 1500, 950, 1200, 1500, 7500, 1400, 350, 750, 1200, 788, 0, 2500, 1700, 788, 700, 1600, 1200, 320, 6000, 2000, 2000, 3000, 900, 2100, 0, 788, 1800, 1600, 4000, 1300, 1300, 1500, 8900, 1400, 788, 600, 1000, 950, 2000, 4000, 2300, 2000, 800, 2500, 1500, 1400, 800, 6000, 788, 900, 200, 1300, 788, 2600, 1500, 8000, 900, 2000, 2000, 350, 3000, 9580, 0, 400, 800, 1700, 1800, 1200, 18000, 9000, 3000, 1200, 700, 1200, 400, 987, 6000, 2000, 0, 0, 480, 500, 800, 1680, 10000, 1200, 1700, 788, 2200, 10000, 10000, 100, 1200, 1600, 2500, 1300, 1200, 1300, 2200, 200, 60, 1100, 1200, 6000, 4500, 100, 788, 2900, 2500, 900, 788, 2500, 4000, 788, 1400, 1000, 300, 788, 1000, 4000, 2200, 788, 1000, 1000, 600, 1600, 6000, 2500, 2500, 1000, 3000, 2200, 4500, 1500, 4300, 1500, 8500, 3200, 1200, 1200, 1500, 4000, 2000, 1350, 1500, 890, 5000, 2400, 13000, 800, 1500, 1500, 2000, 580, 500, 920, 1200, 2000, 788, 500, 20000, 1350, 1576, 500, 8000, 1800, 600, 1000, 3000, 4000, 1500, 788, 600, 2300, 1500, 500, 500, 800, 900, 8000, 1600, 3000, 788, 1500, 5200, 900, 3565, 650, 1700, 1600, 788, 1200, 788, 788, 100, 900, 1700, 10000, 1600, 200, 788, 1400, 1500, 400, 4200, 1400, 4000, 5516, 3500, 700, 1400, 1200, 0, 7000, 2000, 5000, 2000, 750, 3000, 2000, 1500, 200, 3000, 1700, 1500, 7000, 1500, 788, 2400, 2500, 1500, 2000, 1500, 2000, 1100, 800, 1800, 480, 3500, 700, 3400, 5000, 5000, 1300, 3000, 2000, 900, 2000, 1000, 1800, 0, 1500, 788, 3500, 875, 5000, 2000, 1300, 1600, 0, 750, 1200, 120, 1800, 1200, 788, 1000, 0, 1400, 2300, 7000, 4000, 5000, 788, 20000, 4000, 0, 1200, 1800, 500, 1000, 788, 1300, 5000, 50, 1700, 2000, 1600, 2000, 1350, 1500, 600, 1700, 780, 2446, 2100, 5000, 1700, 1200, 1000, 788, 4500, 1500, 788, 0, 1580, 1000, 4500, 2400, 788, 1100, 2000, 788, 100, 1200, 1200, 1200, 1000, 2000, 788, 2000, 15000, 600, 0, 1500, 3000, 4000, 900, 810, 600, 1500, 4000, 1200, 5000, 5300, 2500, 800, 0, 1400, 1500, 4000, 1200, 400, 1000, 820, 1000, 1000, 788, 1500, 2500, 1500, 220, 600, 788, 1750, 7000))\n",
    "women <- matrix(c(788, 1200, 6000, 1000, 788, 1100, 1900, 1577, 900, 950, 1200, 788, 788, 1100, 30, 620, 900, 1000, 1200, 2000, 0, 500, 1200, 1500, 1200, 1120, 788, 788, 2300, 2400, 3000, 788, 4000, 1000, 500, 500, 1700, 200, 6000, 400, 950, 1100, 50, 930, 850, 1100, 3500, 1500, 1200, 900, 1100, 1500, 788, 1000, 788, 4500, 4000, 8000, 3500, 788, 1050, 1000, 1400, 3500, 600, 3000, 500, 930, 2660, 788, 360, 2364, 788, 160, 1100, 1085, 1050, 1500, 100, 0, 788, 250, 1700, 1300, 800, 0, 2000, 820, 910, 300, 2000, 200, 788, 788, 800, 1500, 1300, 1200, 0, 600, 1036, 400, 1100, 788, 400, 1500, 1200, 1800, 1000, 788, 850, 60, 1800, 3500, 600, 200, 500, 200, 1100, 1540, 1100, 900, 800, 500, 200, 1200, 1250, 788, 500, 200, 788, 200, 0, 1800, 2000, 1000, 900, 3000, 700, 1200, 788, 2800, 3300, 400, 0, 850, 1022, 6000, 750, 1000, 3500, 400, 1500, 1000, 800, 0, 980, 2400, 850, 1100, 788, 1100, 788, 1200, 788, 864, 1000, 500, 400, 3000, 1200, 100, 80, 900, 2000, 1250, 1000, 300, 400, 1500, 60, 8000, 1000, 600, 800, 350, 788, 0, 600, 788, 2500, 1300, 800, 8000, 1100, 800, 900, 2000, 0, 800, 1400, 1000, 1200, 788, 3840, 788, 3940, 788, 560, 800, 2000, 600, 2900, 0, 400, 800, 7000, 788, 788, 788, 788, 1250, 1500, 1386, 100, 300, 788, 788, 600, 600, 900, 2800, 788, 350, 900, 0, 150, 788, 788, 1000, 30, 788, 780, 900, 0, 0, 3000, 1800, 2000, 1100, 788, 0, 7500, 1800, 788, 788, 2000, 3000, 180, 2500, 800, 0, 1250, 200, 1100, 0, 1100, 400, 1300, 300, 0, 1312, 600, 200, 4000, 2400, 12000, 2150, 500, 400, 0, 600, 400, 788, 1200, 500, 2000, 1500, 70, 500, 2000, 1000, 100, 500, 2000, 100, 2115, 800, 5800, 2300, 750, 788, 0, 900, 1000, 600, 3000, 5500, 1600, 788, 4000, 0, 1100, 120, 320, 1100, 2500, 200, 800, 3000, 550, 4200, 7000, 720, 0, 2000, 5000, 2000, 788, 500, 788, 7000, 500, 788, 1760, 1200, 3500, 1500, 150, 800, 788, 3000, 400, 788, 1000, 2000, 2500, 0, 788, 5200, 788, 0, 600, 1300, 120, 850, 1576, 788, 2000, 1300, 788, 800, 1800, 655, 1580, 789, 788, 850, 788, 7000, 788, 430, 800, 788, 900, 10000, 1200, 300, 400, 788, 788, 3000, 900, 1300, 1300, 788, 800, 1000, 1890, 0, 788, 900, 4000, 788, 1010, 150, 450, 1700, 890, 1200, 2800, 1000, 788, 788, 700, 600, 800, 880, 6000, 800, 800, 820, 788, 1030, 560, 2100, 6500, 2500, 788, 400, 300, 788, 2300, 1000, 3500, 984, 1576, 420, 1700, 450, 1800, 400, 1500, 1500, 4256, 1200, 890, 1200, 300, 400, 850, 1500, 3800, 1800, 996, 2000, 1000, 788, 1500, 300, 600, 950, 1200, 788, 1200, 1500, 250, 788, 1200, 6000, 300, 789, 1500, 788, 3800, 780, 1200, 1200, 220, 788, 500, 200, 480, 1576, 1576, 1035, 900, 800, 1000, 805, 200, 1200, 2220, 1500, 880, 220, 2000, 788, 150, 0, 13000, 40, 5500, 788, 788, 1000, 400, 2000, 200, 1600))"
   ]
  },
  {
   "cell_type": "markdown",
   "id": "a5eb1ca2-0ad6-42dc-948c-61854ead5a00",
   "metadata": {},
   "source": [
    "### Problem Data"
   ]
  },
  {
   "cell_type": "code",
   "execution_count": 59,
   "id": "448d7afc-d0ac-4ac2-80ec-84d8b750be41",
   "metadata": {},
   "outputs": [
    {
     "data": {
      "text/html": [
       "1357.528"
      ],
      "text/latex": [
       "1357.528"
      ],
      "text/markdown": [
       "1357.528"
      ],
      "text/plain": [
       "[1] 1357.528"
      ]
     },
     "metadata": {},
     "output_type": "display_data"
    }
   ],
   "source": [
    "mean_sample_women <- mean(women)\n",
    "mean_sample_women"
   ]
  },
  {
   "cell_type": "code",
   "execution_count": 60,
   "id": "c8b3a8fd-d076-4753-ad1c-0deed94209ce",
   "metadata": {},
   "outputs": [
    {
     "data": {
      "text/html": [
       "1569.90119074846"
      ],
      "text/latex": [
       "1569.90119074846"
      ],
      "text/markdown": [
       "1569.90119074846"
      ],
      "text/plain": [
       "[1] 1569.901"
      ]
     },
     "metadata": {},
     "output_type": "display_data"
    }
   ],
   "source": [
    "sd_sample_women <- sd(women)\n",
    "sd_sample_women"
   ]
  },
  {
   "cell_type": "code",
   "execution_count": 61,
   "id": "b8dcc7a7-8092-4e49-b467-f8a7f912205e",
   "metadata": {},
   "outputs": [
    {
     "data": {
      "text/html": [
       "2142.608"
      ],
      "text/latex": [
       "2142.608"
      ],
      "text/markdown": [
       "2142.608"
      ],
      "text/plain": [
       "[1] 2142.608"
      ]
     },
     "metadata": {},
     "output_type": "display_data"
    }
   ],
   "source": [
    "mean_sample_men <- mean(men)\n",
    "mean_sample_men"
   ]
  },
  {
   "cell_type": "code",
   "execution_count": 62,
   "id": "4cb3501c-d167-40ac-b152-af1ee07d4cf2",
   "metadata": {},
   "outputs": [
    {
     "data": {
      "text/html": [
       "2548.05080249987"
      ],
      "text/latex": [
       "2548.05080249987"
      ],
      "text/markdown": [
       "2548.05080249987"
      ],
      "text/plain": [
       "[1] 2548.051"
      ]
     },
     "metadata": {},
     "output_type": "display_data"
    }
   ],
   "source": [
    "sd_sample_men <- sd(men)\n",
    "sd_sample_men"
   ]
  },
  {
   "cell_type": "code",
   "execution_count": 63,
   "id": "603a88f3-bd24-4a86-b954-e411806e4796",
   "metadata": {},
   "outputs": [
    {
     "data": {
      "text/html": [
       "0.01"
      ],
      "text/latex": [
       "0.01"
      ],
      "text/markdown": [
       "0.01"
      ],
      "text/plain": [
       "[1] 0.01"
      ]
     },
     "metadata": {},
     "output_type": "display_data"
    }
   ],
   "source": [
    "meaningfulness <- 0.01\n",
    "meaningfulness"
   ]
  },
  {
   "cell_type": "code",
   "execution_count": 64,
   "id": "a99914ea-4ac0-4491-9c91-d8b98dce5b8c",
   "metadata": {},
   "outputs": [
    {
     "data": {
      "text/html": [
       "0.99"
      ],
      "text/latex": [
       "0.99"
      ],
      "text/markdown": [
       "0.99"
      ],
      "text/plain": [
       "[1] 0.99"
      ]
     },
     "metadata": {},
     "output_type": "display_data"
    }
   ],
   "source": [
    "confidence <- 1 - meaningfulness\n",
    "confidence"
   ]
  },
  {
   "cell_type": "code",
   "execution_count": 65,
   "id": "8fbf33a0-4e01-45d2-98fb-21d412ea2284",
   "metadata": {},
   "outputs": [
    {
     "data": {
      "text/html": [
       "500"
      ],
      "text/latex": [
       "500"
      ],
      "text/markdown": [
       "500"
      ],
      "text/plain": [
       "[1] 500"
      ]
     },
     "metadata": {},
     "output_type": "display_data"
    }
   ],
   "source": [
    "n_women <- nrow(women)\n",
    "n_women"
   ]
  },
  {
   "cell_type": "code",
   "execution_count": 66,
   "id": "62592665-e5d4-484e-a66f-3edb6b258d59",
   "metadata": {},
   "outputs": [
    {
     "data": {
      "text/html": [
       "500"
      ],
      "text/latex": [
       "500"
      ],
      "text/markdown": [
       "500"
      ],
      "text/plain": [
       "[1] 500"
      ]
     },
     "metadata": {},
     "output_type": "display_data"
    }
   ],
   "source": [
    "n_men <- nrow(men)\n",
    "n_men"
   ]
  },
  {
   "cell_type": "code",
   "execution_count": 67,
   "id": "6117da07-6722-45c8-bb4a-9aa0560d6e0d",
   "metadata": {},
   "outputs": [
    {
     "data": {
      "text/html": [
       "0"
      ],
      "text/latex": [
       "0"
      ],
      "text/markdown": [
       "0"
      ],
      "text/plain": [
       "[1] 0"
      ]
     },
     "metadata": {},
     "output_type": "display_data"
    }
   ],
   "source": [
    "D_0 <- 0\n",
    "D_0"
   ]
  },
  {
   "cell_type": "markdown",
   "id": "a219849d-a55b-4c94-ad73-4c2753f3dc88",
   "metadata": {},
   "source": [
    "### **Step 1** - Formulation of hypotheses $H_0$ e $H_1$\n",
    "\n",
    "#### <font color='red'>Remember, the null hypothesis always contains the claim of equality</font>"
   ]
  },
  {
   "cell_type": "markdown",
   "id": "e41547b4-e60d-4f5a-a172-31d84322a192",
   "metadata": {},
   "source": [
    "### $\\mu_1 \\Rightarrow$ Average income of male heads of households\n",
    "### $\\mu_2 \\Rightarrow$ Average income of female heads of households\n",
    "\n",
    "### $\n",
    "\\begin{cases}\n",
    "H_0: \\mu_1 \\leq \\mu_2\\\\\n",
    "H_1: \\mu_1 > \\mu_2\n",
    "\\end{cases}\n",
    "$\n",
    "\n",
    "### ou\n",
    "\n",
    "### $\n",
    "\\begin{cases}\n",
    "H_0: \\mu_1 -\\mu_2 \\leq 0\\\\\n",
    "H_1: \\mu_1 -\\mu_2 > 0\n",
    "\\end{cases}\n",
    "$"
   ]
  },
  {
   "cell_type": "markdown",
   "id": "0c3e2178-e995-4c51-a318-8aaaec5188bf",
   "metadata": {},
   "source": [
    "### **Step 2** - choosing the appropriate sampling distribution\n",
    "\n",
    "### <font color='red'>Important Note</font>\n",
    "> In tests involving two samples using Student's $t$ table, the number of degrees of freedom will always be equal to $n_1 + n_2 - 2$\n",
    "### <font color='red'>Important points</font>\n",
    " - When the sample size has 30 elements or more, the normal distribution must be used, as established by the **central limit theorem**.\n",
    " - For a sample size smaller than 30 elements, and if we can state that the population is distributed approximately as normal and the population standard deviation is known, the normal distribution must be used.\n",
    " - For a sample size smaller than 30 elements, and if we can state that the population is distributed approximately as normal and the population standard deviation is unknown, Student's t distribution must be used."
   ]
  },
  {
   "cell_type": "markdown",
   "id": "dcaa737c-57a4-4d8e-8f18-5ec9c822659b",
   "metadata": {},
   "source": [
    "### **Step 3** - fixing the significance of the test ($\\alpha$)"
   ]
  },
  {
   "cell_type": "code",
   "execution_count": 68,
   "id": "b454befd-0c94-4b9a-a865-953053614750",
   "metadata": {},
   "outputs": [
    {
     "data": {
      "text/html": [
       "0.99"
      ],
      "text/latex": [
       "0.99"
      ],
      "text/markdown": [
       "0.99"
      ],
      "text/plain": [
       "[1] 0.99"
      ]
     },
     "metadata": {},
     "output_type": "display_data"
    }
   ],
   "source": [
    "probability <- confidence\n",
    "probability"
   ]
  },
  {
   "cell_type": "code",
   "execution_count": 69,
   "id": "65ceca11-2861-4f47-afab-00eed1150d1f",
   "metadata": {},
   "outputs": [
    {
     "data": {
      "text/html": [
       "2.32634787404084"
      ],
      "text/latex": [
       "2.32634787404084"
      ],
      "text/markdown": [
       "2.32634787404084"
      ],
      "text/plain": [
       "[1] 2.326348"
      ]
     },
     "metadata": {},
     "output_type": "display_data"
    }
   ],
   "source": [
    "Z_alpha <- qnorm(probability)\n",
    "Z_alpha"
   ]
  },
  {
   "cell_type": "markdown",
   "id": "4883881b-6c36-4a4b-b2e5-4e74f7cf7e2f",
   "metadata": {},
   "source": [
    "### **Step 4** - calculation of test statistics and verification of this value with the test acceptance and rejection areas\n",
    "\n",
    "# $$z = \\frac{(\\bar{x_1} - \\bar{x_2})-D_0}{\\sqrt{\\frac{s_1^2}{n_1} + \\frac{s_2^2}{n_2}}}$$"
   ]
  },
  {
   "cell_type": "code",
   "execution_count": 70,
   "id": "f7cf17ea-64d4-4cca-b2fe-3f4a9ca2a004",
   "metadata": {},
   "outputs": [
    {
     "data": {
      "text/html": [
       "5.86562005776475"
      ],
      "text/latex": [
       "5.86562005776475"
      ],
      "text/markdown": [
       "5.86562005776475"
      ],
      "text/plain": [
       "[1] 5.86562"
      ]
     },
     "metadata": {},
     "output_type": "display_data"
    }
   ],
   "source": [
    "Z <- ((mean_sample_men - mean_sample_women) - D_0) / (sqrt((sd_sample_men ** 2 / n_men) + (sd_sample_women ** 2 / n_women)))\n",
    "Z"
   ]
  },
  {
   "cell_type": "markdown",
   "id": "7e4046d5-e49b-45f2-b2af-213bd0f47610",
   "metadata": {},
   "source": [
    "### **Step 5** - Acceptance or rejection of the null hypothesis"
   ]
  },
  {
   "cell_type": "markdown",
   "id": "baba9d81-5c0c-44e9-a4d5-9b6f71b3fe73",
   "metadata": {},
   "source": [
    "### <font color='red'>Critical Value Criterion</font>\n",
    "\n",
    "> ### One-tailed Test\n",
    "> ### Reject $H_0$ if $z \\geq z_{\\alpha}$"
   ]
  },
  {
   "cell_type": "code",
   "execution_count": 71,
   "id": "e256a7ac-319f-4cf6-945e-4316d0d7c050",
   "metadata": {},
   "outputs": [
    {
     "data": {
      "text/html": [
       "TRUE"
      ],
      "text/latex": [
       "TRUE"
      ],
      "text/markdown": [
       "TRUE"
      ],
      "text/plain": [
       "[1] TRUE"
      ]
     },
     "metadata": {},
     "output_type": "display_data"
    }
   ],
   "source": [
    "Z >= Z_alpha"
   ]
  },
  {
   "cell_type": "markdown",
   "id": "cda9c0b6-c3f0-47df-be59-c06df0c9a4b4",
   "metadata": {},
   "source": [
    "### <font color='red'>$p$ Value Criterion</font>\n",
    "\n",
    "> ### One-tailed Test\n",
    "> ### Reject $H_0$ if the value $p\\leq\\alpha$"
   ]
  },
  {
   "cell_type": "markdown",
   "id": "7b007bfd-f11f-435b-87b5-e8ad6d949dea",
   "metadata": {},
   "source": [
    "### z.test()"
   ]
  },
  {
   "cell_type": "code",
   "execution_count": 72,
   "id": "6325e331-0822-40c8-aa3c-8ee6f8aec172",
   "metadata": {},
   "outputs": [
    {
     "data": {
      "text/plain": [
       "\n",
       "\tTwo-sample z-Test\n",
       "\n",
       "data:  men and women\n",
       "z = 5.8656, p-value = 2.237e-09\n",
       "alternative hypothesis: true difference in means is greater than 0\n",
       "99 percent confidence interval:\n",
       " 473.7115       NA\n",
       "sample estimates:\n",
       "mean of x mean of y \n",
       " 2142.608  1357.528 \n"
      ]
     },
     "metadata": {},
     "output_type": "display_data"
    }
   ],
   "source": [
    "result <- z.test(\n",
    "    x = men,\n",
    "    y = women,\n",
    "    alternative = 'greater',\n",
    "    mu = 0,\n",
    "    sigma.x = sd_sample_men,\n",
    "    sigma.y = sd_sample_women,\n",
    "    conf.level = confidence\n",
    ")\n",
    "result"
   ]
  },
  {
   "cell_type": "code",
   "execution_count": 73,
   "id": "e16a314d-c688-4e76-bdec-e899c589fbb5",
   "metadata": {},
   "outputs": [
    {
     "data": {
      "text/html": [
       "2.23728680026625e-09"
      ],
      "text/latex": [
       "2.23728680026625e-09"
      ],
      "text/markdown": [
       "2.23728680026625e-09"
      ],
      "text/plain": [
       "[1] 2.237287e-09"
      ]
     },
     "metadata": {},
     "output_type": "display_data"
    }
   ],
   "source": [
    "p_value <- result$p.value\n",
    "p_value"
   ]
  },
  {
   "cell_type": "code",
   "execution_count": 74,
   "id": "b0757557-817a-47e7-a427-6135a9eb6cfd",
   "metadata": {},
   "outputs": [
    {
     "data": {
      "text/html": [
       "TRUE"
      ],
      "text/latex": [
       "TRUE"
      ],
      "text/markdown": [
       "TRUE"
      ],
      "text/plain": [
       "[1] TRUE"
      ]
     },
     "metadata": {},
     "output_type": "display_data"
    }
   ],
   "source": [
    "p_value <= meaningfulness"
   ]
  },
  {
   "cell_type": "markdown",
   "id": "4f53cacd-ec80-4f9a-9b79-8caca0be6880",
   "metadata": {},
   "source": [
    "### <font color=red>Just as an observation</font>\n",
    "### t.test()"
   ]
  },
  {
   "cell_type": "code",
   "execution_count": 75,
   "id": "caacb6bd-1627-4914-bb6c-73eda86bfd43",
   "metadata": {
    "scrolled": true
   },
   "outputs": [
    {
     "data": {
      "text/plain": [
       "\n",
       "\tTwo Sample t-test\n",
       "\n",
       "data:  men and women\n",
       "t = 5.8656, df = 998, p-value = 6.08e-09\n",
       "alternative hypothesis: true difference in means is not equal to 0\n",
       "95 percent confidence interval:\n",
       "  522.4314 1047.7286\n",
       "sample estimates:\n",
       "mean of x mean of y \n",
       " 2142.608  1357.528 \n"
      ]
     },
     "metadata": {},
     "output_type": "display_data"
    }
   ],
   "source": [
    "result <- t.test(\n",
    "    x = men,\n",
    "    y = women,\n",
    "    alternatiive = 'greater',\n",
    "    paired = FALSE,\n",
    "    var.equal = TRUE\n",
    ")\n",
    "result"
   ]
  },
  {
   "cell_type": "code",
   "execution_count": 76,
   "id": "4e61da55-8204-4723-ba8d-a936d8294f79",
   "metadata": {},
   "outputs": [
    {
     "data": {
      "text/html": [
       "6.08020801886738e-09"
      ],
      "text/latex": [
       "6.08020801886738e-09"
      ],
      "text/markdown": [
       "6.08020801886738e-09"
      ],
      "text/plain": [
       "[1] 6.080208e-09"
      ]
     },
     "metadata": {},
     "output_type": "display_data"
    }
   ],
   "source": [
    "p_value <- result$p.value\n",
    "p_value"
   ]
  },
  {
   "cell_type": "code",
   "execution_count": 77,
   "id": "a087897c-5d76-4c40-a84e-a2d1c2f3e4ce",
   "metadata": {},
   "outputs": [
    {
     "data": {
      "text/html": [
       "TRUE"
      ],
      "text/latex": [
       "TRUE"
      ],
      "text/markdown": [
       "TRUE"
      ],
      "text/plain": [
       "[1] TRUE"
      ]
     },
     "metadata": {},
     "output_type": "display_data"
    }
   ],
   "source": [
    "p_value <= meaningfulness"
   ]
  },
  {
   "cell_type": "markdown",
   "id": "853fc06a-27f8-4f46-9bfc-ba32b504faac",
   "metadata": {},
   "source": [
    "### <font color='purple'>Conclusion: With a 99% confidence level, we reject $H_0$, that is, we conclude that the average income of male heads of households is higher than the average income of female heads of households. Confirming the allegation of income inequality between the sexes.</font>"
   ]
  },
  {
   "cell_type": "markdown",
   "id": "2bce035b-2c61-4348-a241-1215c474c416",
   "metadata": {},
   "source": [
    "***\n",
    "## <font color='lightgreen'>NON-PARAMETRIC TESTS</font>"
   ]
  },
  {
   "cell_type": "markdown",
   "id": "247bacca-5a71-4008-9401-85643a761e5c",
   "metadata": {},
   "source": [
    "Working with small samples can lead to non-acceptance of the validity of the central limit theorem and also the impossibility of making assumptions about the distribution of the evaluated variable. When this occurs, the application of non-parametric tests becomes necessary. In non-parametric tests, we do not make assumptions about the (probability) distribution from which observations are drawn."
   ]
  },
  {
   "cell_type": "markdown",
   "id": "ee9c2797-5f85-4b82-937d-f7ed0393e9d9",
   "metadata": {},
   "source": [
    "***\n",
    "## <font color='lightgreen'>Chi-Square Test ( $\\chi^2$)"
   ]
  },
  {
   "cell_type": "markdown",
   "id": "cf02e62b-e23a-4ea2-83aa-1f84beb5ee36",
   "metadata": {},
   "source": [
    "Also known as the goodness-of-fit test, its name comes from the fact that it uses a standardized statistical variable, represented by the Greek letter chi ( $\\chi$) squared.\n",
    "\n",
    "The $\\chi^2$ test tests the null hypothesis that there is no difference between the observed frequencies of a given event and the frequencies that are actually expected for this event.\n",
    "\n",
    "The test application steps are very similar to those seen for parametric tests."
   ]
  },
  {
   "cell_type": "markdown",
   "id": "beb1ee01-d013-4fa1-bc3f-ed6783bd0dfd",
   "metadata": {},
   "source": [
    "***\n",
    "### <font color='purple'>Problem</font>"
   ]
  },
  {
   "cell_type": "markdown",
   "id": "6d5e6ea5-f5c2-40fc-8391-f3e88046843b",
   "metadata": {},
   "source": [
    "Before each national football championship match, the coins used by referees must be checked to make sure they are not biased, that is, they do not tend towards a certain result. To do this, a simple test must be carried out before each match. This test consists of tossing the game coin **50 times** and counting the frequencies of **HEADS** and **TAILS** obtained. The table below shows the results obtained in the experiment:\n",
    "\n",
    "||HEADS|TAILS|\n",
    "|-|-|-|\n",
    "|Observed|17|33|\n",
    "|Expected|25|25|\n",
    "\n",
    "At a **significance level of 5%**, is it possible to say that the coin is not fair, that is, that the coin has a greater probability of falling with the **HEADS** side facing up?"
   ]
  },
  {
   "cell_type": "markdown",
   "id": "6ce12bae-2f5e-4ca6-b316-06f2f8f1d68e",
   "metadata": {},
   "source": [
    "### Problem Data"
   ]
  },
  {
   "cell_type": "code",
   "execution_count": 78,
   "id": "c3f1af95-5a19-489e-a282-3fcc1b4847d2",
   "metadata": {},
   "outputs": [
    {
     "data": {
      "text/html": [
       "<style>\n",
       ".list-inline {list-style: none; margin:0; padding: 0}\n",
       ".list-inline>li {display: inline-block}\n",
       ".list-inline>li:not(:last-child)::after {content: \"\\00b7\"; padding: 0 .5ex}\n",
       "</style>\n",
       "<ol class=list-inline><li>17</li><li>33</li></ol>\n"
      ],
      "text/latex": [
       "\\begin{enumerate*}\n",
       "\\item 17\n",
       "\\item 33\n",
       "\\end{enumerate*}\n"
      ],
      "text/markdown": [
       "1. 17\n",
       "2. 33\n",
       "\n",
       "\n"
      ],
      "text/plain": [
       "[1] 17 33"
      ]
     },
     "metadata": {},
     "output_type": "display_data"
    }
   ],
   "source": [
    "F_observed <- c(17, 33)\n",
    "F_observed"
   ]
  },
  {
   "cell_type": "code",
   "execution_count": 79,
   "id": "b447ce5b-30bd-4a2e-8af5-721b3ef023ca",
   "metadata": {},
   "outputs": [
    {
     "data": {
      "text/html": [
       "<style>\n",
       ".list-inline {list-style: none; margin:0; padding: 0}\n",
       ".list-inline>li {display: inline-block}\n",
       ".list-inline>li:not(:last-child)::after {content: \"\\00b7\"; padding: 0 .5ex}\n",
       "</style>\n",
       "<ol class=list-inline><li>25</li><li>25</li></ol>\n"
      ],
      "text/latex": [
       "\\begin{enumerate*}\n",
       "\\item 25\n",
       "\\item 25\n",
       "\\end{enumerate*}\n"
      ],
      "text/markdown": [
       "1. 25\n",
       "2. 25\n",
       "\n",
       "\n"
      ],
      "text/plain": [
       "[1] 25 25"
      ]
     },
     "metadata": {},
     "output_type": "display_data"
    }
   ],
   "source": [
    "F_expected <- c(25, 25)\n",
    "F_expected"
   ]
  },
  {
   "cell_type": "code",
   "execution_count": 80,
   "id": "49f2fb9a-21e3-4875-b034-172d666760b2",
   "metadata": {},
   "outputs": [
    {
     "data": {
      "text/html": [
       "0.05"
      ],
      "text/latex": [
       "0.05"
      ],
      "text/markdown": [
       "0.05"
      ],
      "text/plain": [
       "[1] 0.05"
      ]
     },
     "metadata": {},
     "output_type": "display_data"
    }
   ],
   "source": [
    "meaningfulness <- 0.05\n",
    "meaningfulness"
   ]
  },
  {
   "cell_type": "code",
   "execution_count": 81,
   "id": "c25518de-7b55-463e-9126-b0dec2a9a11e",
   "metadata": {},
   "outputs": [
    {
     "data": {
      "text/html": [
       "0.95"
      ],
      "text/latex": [
       "0.95"
      ],
      "text/markdown": [
       "0.95"
      ],
      "text/plain": [
       "[1] 0.95"
      ]
     },
     "metadata": {},
     "output_type": "display_data"
    }
   ],
   "source": [
    "confidence <- 1 - meaningfulness\n",
    "confidence"
   ]
  },
  {
   "cell_type": "code",
   "execution_count": 84,
   "id": "6a6fe7a9-4f43-4b12-87bf-7f1a9e3ee2ea",
   "metadata": {},
   "outputs": [
    {
     "data": {
      "text/html": [
       "2"
      ],
      "text/latex": [
       "2"
      ],
      "text/markdown": [
       "2"
      ],
      "text/plain": [
       "[1] 2"
      ]
     },
     "metadata": {},
     "output_type": "display_data"
    }
   ],
   "source": [
    "k <- 2 # number of possible events\n",
    "k"
   ]
  },
  {
   "cell_type": "code",
   "execution_count": 83,
   "id": "c6ce2db1-13cb-4572-ad92-45904b23e6c0",
   "metadata": {},
   "outputs": [
    {
     "data": {
      "text/html": [
       "1"
      ],
      "text/latex": [
       "1"
      ],
      "text/markdown": [
       "1"
      ],
      "text/plain": [
       "[1] 1"
      ]
     },
     "metadata": {},
     "output_type": "display_data"
    }
   ],
   "source": [
    "degrees_of_freedom <- k - 1\n",
    "degrees_of_freedom"
   ]
  },
  {
   "cell_type": "markdown",
   "id": "be8ee7a3-df05-4c3d-a6cb-ec62e303da8a",
   "metadata": {},
   "source": [
    "### **Step 1** - Formulation of Hypotheses $H_0$ e $H_1$\n",
    "\n",
    "#### <font color='red'>Remember, the null hypothesis always contains the claim of equality</font>"
   ]
  },
  {
   "cell_type": "markdown",
   "id": "619a7601-2e2d-4b8a-9120-67823af871d7",
   "metadata": {},
   "source": [
    "### $H_0: F_{HEADS} = F_{TAILS}$\n",
    "\n",
    "### $H_1: F_{HEADS} \\neq F_{TAILS}$"
   ]
  },
  {
   "cell_type": "markdown",
   "id": "5843e1d6-d6e1-4db0-875c-d646e6928b67",
   "metadata": {},
   "source": [
    "### **Step 2** - Fixing the significance of the test ($\\alpha$)"
   ]
  },
  {
   "cell_type": "markdown",
   "id": "681d5791-deb8-4d32-9160-d1353eda2af7",
   "metadata": {},
   "source": [
    "### Getting $\\chi_{\\alpha}^2$"
   ]
  },
  {
   "cell_type": "code",
   "execution_count": 88,
   "id": "6fd6c6b1-4ec7-4db6-bb14-fad6d24ccc72",
   "metadata": {},
   "outputs": [
    {
     "data": {
      "text/html": [
       "3.84145882069412"
      ],
      "text/latex": [
       "3.84145882069412"
      ],
      "text/markdown": [
       "3.84145882069412"
      ],
      "text/plain": [
       "[1] 3.841459"
      ]
     },
     "metadata": {},
     "output_type": "display_data"
    }
   ],
   "source": [
    "chi_2_alpha <- qchisq(confidence, degrees_of_freedom)\n",
    "chi_2_alpha"
   ]
  },
  {
   "cell_type": "markdown",
   "id": "ae00c7e5-9442-49ff-a4e7-f8bb189ddd72",
   "metadata": {},
   "source": [
    "### **Step 3** - Calculation of test statistics and verification of this value with the test acceptance and rejection areas\n",
    "\n",
    "# $$\\chi^2 = \\sum_{i=1}^{k}{\\frac{(F_{i}^{Obs} - F_{i}^{Esp})^2}{F_{i}^{Esp}}}$$\n",
    "\n",
    "Where\n",
    "\n",
    "$F_{i}^{Obs}$ = Observed frequency for the event $i$\n",
    "\n",
    "$F_{i}^{Esp}$ = Expected frequency of the event $i$\n",
    "\n",
    "$k$ = Total possible events"
   ]
  },
  {
   "cell_type": "code",
   "execution_count": 89,
   "id": "0bb5377b-3c51-4ea4-8388-12fb0b7e6535",
   "metadata": {},
   "outputs": [
    {
     "data": {
      "text/html": [
       "5.12"
      ],
      "text/latex": [
       "5.12"
      ],
      "text/markdown": [
       "5.12"
      ],
      "text/plain": [
       "[1] 5.12"
      ]
     },
     "metadata": {},
     "output_type": "display_data"
    }
   ],
   "source": [
    "chi_2 <-((F_observed[1] - F_expected[1]) ** 2 / F_expected[1]) + ((F_observed[2] - F_expected[2]) ** 2 / F_expected[2])\n",
    "chi_2"
   ]
  },
  {
   "cell_type": "code",
   "execution_count": 90,
   "id": "5d022233-7e09-4c7f-8968-28e4049d92a2",
   "metadata": {},
   "outputs": [
    {
     "data": {
      "text/html": [
       "5.12"
      ],
      "text/latex": [
       "5.12"
      ],
      "text/markdown": [
       "5.12"
      ],
      "text/plain": [
       "[1] 5.12"
      ]
     },
     "metadata": {},
     "output_type": "display_data"
    }
   ],
   "source": [
    "chi_2 <- 0\n",
    "for(i in 1:k){\n",
    "    chi_2 <- chi_2 + ((F_observed[i] - F_expected[i]) ** 2 / F_expected[i])\n",
    "}\n",
    "chi_2"
   ]
  },
  {
   "cell_type": "markdown",
   "id": "97b55113-6234-4e69-9add-9b131018f5f2",
   "metadata": {},
   "source": [
    "### **Step 4** - Acceptance or rejection of the null hypothesis"
   ]
  },
  {
   "cell_type": "markdown",
   "id": "536ea736-5090-48de-8c7d-fc66b5ccbda0",
   "metadata": {},
   "source": [
    "### <font color='red'>Critical Value Criterion</font>\n",
    "\n",
    "> ### Reject $H_0$ if $\\chi_{test}^2 > \\chi_{\\alpha}^2$"
   ]
  },
  {
   "cell_type": "code",
   "execution_count": 91,
   "id": "dcf4cac6-a5b8-4f2f-8770-97936c3fa27c",
   "metadata": {},
   "outputs": [
    {
     "data": {
      "text/html": [
       "TRUE"
      ],
      "text/latex": [
       "TRUE"
      ],
      "text/markdown": [
       "TRUE"
      ],
      "text/plain": [
       "[1] TRUE"
      ]
     },
     "metadata": {},
     "output_type": "display_data"
    }
   ],
   "source": [
    "chi_2 > chi_2_alpha"
   ]
  },
  {
   "cell_type": "markdown",
   "id": "f1e73639-2a60-461a-9760-0d0f8d8d6d44",
   "metadata": {},
   "source": [
    "### <font color='red'>$p$ Value Criterion</font>\n",
    "\n",
    "> ### Reject $H_0$ if the value $p\\leq\\alpha$"
   ]
  },
  {
   "cell_type": "code",
   "execution_count": 92,
   "id": "f3b901ea-833f-4828-a6ae-c50148046883",
   "metadata": {},
   "outputs": [
    {
     "data": {
      "text/html": [
       "5.12"
      ],
      "text/latex": [
       "5.12"
      ],
      "text/markdown": [
       "5.12"
      ],
      "text/plain": [
       "[1] 5.12"
      ]
     },
     "metadata": {},
     "output_type": "display_data"
    }
   ],
   "source": [
    "chi_2"
   ]
  },
  {
   "cell_type": "code",
   "execution_count": 94,
   "id": "8e1fd8e9-b1cb-4dec-8d1a-647c64502926",
   "metadata": {},
   "outputs": [
    {
     "data": {
      "text/html": [
       "0.023651616655356"
      ],
      "text/latex": [
       "0.023651616655356"
      ],
      "text/markdown": [
       "0.023651616655356"
      ],
      "text/plain": [
       "[1] 0.02365162"
      ]
     },
     "metadata": {},
     "output_type": "display_data"
    }
   ],
   "source": [
    "p_value <- pchisq(chi_2, df = degrees_of_freedom, lower.tail = FALSE)\n",
    "p_value"
   ]
  },
  {
   "cell_type": "markdown",
   "id": "b8a575d8-f424-43b5-b7b5-1b2d27ab046b",
   "metadata": {},
   "source": [
    "### chisq.test"
   ]
  },
  {
   "cell_type": "code",
   "execution_count": 98,
   "id": "d506e7bd-94bf-4b08-85ef-d4c2d4e63b6e",
   "metadata": {},
   "outputs": [
    {
     "data": {
      "text/plain": [
       "\n",
       "\tChi-squared test for given probabilities\n",
       "\n",
       "data:  F_observed\n",
       "X-squared = 5.12, df = 1, p-value = 0.02365\n"
      ]
     },
     "metadata": {},
     "output_type": "display_data"
    }
   ],
   "source": [
    "result <- chisq.test(F_observed, p = c(0.5, 0.5))\n",
    "result"
   ]
  },
  {
   "cell_type": "code",
   "execution_count": 99,
   "id": "695bf174-6492-4363-87e3-349219b386d9",
   "metadata": {},
   "outputs": [
    {
     "data": {
      "text/html": [
       "<strong>X-squared:</strong> 5.12"
      ],
      "text/latex": [
       "\\textbf{X-squared:} 5.12"
      ],
      "text/markdown": [
       "**X-squared:** 5.12"
      ],
      "text/plain": [
       "X-squared \n",
       "     5.12 "
      ]
     },
     "metadata": {},
     "output_type": "display_data"
    }
   ],
   "source": [
    "result$statistic"
   ]
  },
  {
   "cell_type": "code",
   "execution_count": 100,
   "id": "96caab0b-8465-4a34-85d7-a51b3bf5377a",
   "metadata": {},
   "outputs": [
    {
     "data": {
      "text/html": [
       "<strong>df:</strong> 1"
      ],
      "text/latex": [
       "\\textbf{df:} 1"
      ],
      "text/markdown": [
       "**df:** 1"
      ],
      "text/plain": [
       "df \n",
       " 1 "
      ]
     },
     "metadata": {},
     "output_type": "display_data"
    }
   ],
   "source": [
    "result$parameter"
   ]
  },
  {
   "cell_type": "code",
   "execution_count": 102,
   "id": "225dbf89-45e3-418f-9e17-0f2a214a8907",
   "metadata": {},
   "outputs": [
    {
     "data": {
      "text/html": [
       "0.023651616655356"
      ],
      "text/latex": [
       "0.023651616655356"
      ],
      "text/markdown": [
       "0.023651616655356"
      ],
      "text/plain": [
       "[1] 0.02365162"
      ]
     },
     "metadata": {},
     "output_type": "display_data"
    }
   ],
   "source": [
    "p_value <- result$p.value\n",
    "p_value"
   ]
  },
  {
   "cell_type": "code",
   "execution_count": 103,
   "id": "374ca5b0-4743-42c1-997d-d4561c13493e",
   "metadata": {},
   "outputs": [
    {
     "data": {
      "text/html": [
       "<style>\n",
       ".list-inline {list-style: none; margin:0; padding: 0}\n",
       ".list-inline>li {display: inline-block}\n",
       ".list-inline>li:not(:last-child)::after {content: \"\\00b7\"; padding: 0 .5ex}\n",
       "</style>\n",
       "<ol class=list-inline><li>17</li><li>33</li></ol>\n"
      ],
      "text/latex": [
       "\\begin{enumerate*}\n",
       "\\item 17\n",
       "\\item 33\n",
       "\\end{enumerate*}\n"
      ],
      "text/markdown": [
       "1. 17\n",
       "2. 33\n",
       "\n",
       "\n"
      ],
      "text/plain": [
       "[1] 17 33"
      ]
     },
     "metadata": {},
     "output_type": "display_data"
    }
   ],
   "source": [
    "result$observed"
   ]
  },
  {
   "cell_type": "code",
   "execution_count": 104,
   "id": "b2370506-ecfd-4e80-bf61-0ed7342c0333",
   "metadata": {},
   "outputs": [
    {
     "data": {
      "text/html": [
       "<style>\n",
       ".list-inline {list-style: none; margin:0; padding: 0}\n",
       ".list-inline>li {display: inline-block}\n",
       ".list-inline>li:not(:last-child)::after {content: \"\\00b7\"; padding: 0 .5ex}\n",
       "</style>\n",
       "<ol class=list-inline><li>25</li><li>25</li></ol>\n"
      ],
      "text/latex": [
       "\\begin{enumerate*}\n",
       "\\item 25\n",
       "\\item 25\n",
       "\\end{enumerate*}\n"
      ],
      "text/markdown": [
       "1. 25\n",
       "2. 25\n",
       "\n",
       "\n"
      ],
      "text/plain": [
       "[1] 25 25"
      ]
     },
     "metadata": {},
     "output_type": "display_data"
    }
   ],
   "source": [
    "result$expected"
   ]
  },
  {
   "cell_type": "code",
   "execution_count": 106,
   "id": "df2ea811-1929-4f30-95b9-a98bc6b01eb7",
   "metadata": {},
   "outputs": [
    {
     "data": {
      "text/html": [
       "TRUE"
      ],
      "text/latex": [
       "TRUE"
      ],
      "text/markdown": [
       "TRUE"
      ],
      "text/plain": [
       "[1] TRUE"
      ]
     },
     "metadata": {},
     "output_type": "display_data"
    }
   ],
   "source": [
    "p_value <= meaningfulness"
   ]
  },
  {
   "cell_type": "markdown",
   "id": "cbae881b-f3c8-4065-9805-7bab6d1dbc5f",
   "metadata": {},
   "source": [
    "### <font color='purple'>Conclusion: With a 95% confidence level, we reject the null hypothesis ($H_0$) and conclude that the observed and expected frequencies are discrepant, that is, the coin is not honest and needs to be replaced.</font>"
   ]
  },
  {
   "cell_type": "markdown",
   "id": "016ef5b0-a347-4aeb-8541-be3092936369",
   "metadata": {},
   "source": [
    "***\n",
    "## <font color='lightgreen'>Wilcoxon test</font>\n",
    "### Comparison of two populations - dependent samples"
   ]
  },
  {
   "cell_type": "markdown",
   "id": "05198174-e3ad-4601-9667-b700ab1f536a",
   "metadata": {},
   "source": [
    "Used when you want to compare two related samples, paired samples. It can be applied when you want to test the difference between two conditions, that is, when the same element is subjected to two measurements."
   ]
  },
  {
   "cell_type": "markdown",
   "id": "27bc96af-4968-438a-8990-9d09b0653556",
   "metadata": {},
   "source": [
    "### <font color='purple'>Problem</font>"
   ]
  },
  {
   "cell_type": "markdown",
   "id": "2cc2dc5d-20a6-430b-9bb3-96df1dc6b3de",
   "metadata": {},
   "source": [
    "A new treatment to end the smoking habit is being used on a group of **35 voluntary patients**. Information was obtained from each patient tested on the number of cigarettes consumed per day before and after the end of treatment. Assuming a **confidence level of 95%**, is it possible to conclude that, after applying the new treatment, there was a change in the smoking habit of the group of patients tested?"
   ]
  },
  {
   "cell_type": "markdown",
   "id": "d644198d-16c2-4ff7-a283-f8b53b0ef417",
   "metadata": {},
   "source": [
    "### Problem Data"
   ]
  },
  {
   "cell_type": "code",
   "execution_count": 110,
   "id": "f4df4ef6-5f3d-4b8f-85b8-d69644a1283b",
   "metadata": {},
   "outputs": [],
   "source": [
    "smoke <- data.frame(\n",
    "    Before = c(39, 25, 24, 50, 13, 52, 21, 29, 10, 22, 50, 15, 36, 39, 52, 48, 24, 15, 40, 41, 17, 12, 21, 49, 14, 55, 46, 22, 28, 23, 37, 17, 31, 49, 49),\n",
    "    After = c(16, 8, 12, 0, 14, 16, 13, 12, 19, 17, 17, 2, 15, 10, 20, 13, 0, 4, 16, 18, 16, 16, 9, 9, 18, 4, 17, 0, 11, 14, 0, 19, 2, 9, 6)\n",
    ")"
   ]
  },
  {
   "cell_type": "code",
   "execution_count": 111,
   "id": "24c3e547-a6ae-4b6f-be2e-d729bac2afbb",
   "metadata": {},
   "outputs": [
    {
     "data": {
      "text/html": [
       "<table class=\"dataframe\">\n",
       "<caption>A data.frame: 6 × 2</caption>\n",
       "<thead>\n",
       "\t<tr><th></th><th scope=col>Before</th><th scope=col>After</th></tr>\n",
       "\t<tr><th></th><th scope=col>&lt;dbl&gt;</th><th scope=col>&lt;dbl&gt;</th></tr>\n",
       "</thead>\n",
       "<tbody>\n",
       "\t<tr><th scope=row>1</th><td>39</td><td>16</td></tr>\n",
       "\t<tr><th scope=row>2</th><td>25</td><td> 8</td></tr>\n",
       "\t<tr><th scope=row>3</th><td>24</td><td>12</td></tr>\n",
       "\t<tr><th scope=row>4</th><td>50</td><td> 0</td></tr>\n",
       "\t<tr><th scope=row>5</th><td>13</td><td>14</td></tr>\n",
       "\t<tr><th scope=row>6</th><td>52</td><td>16</td></tr>\n",
       "</tbody>\n",
       "</table>\n"
      ],
      "text/latex": [
       "A data.frame: 6 × 2\n",
       "\\begin{tabular}{r|ll}\n",
       "  & Before & After\\\\\n",
       "  & <dbl> & <dbl>\\\\\n",
       "\\hline\n",
       "\t1 & 39 & 16\\\\\n",
       "\t2 & 25 &  8\\\\\n",
       "\t3 & 24 & 12\\\\\n",
       "\t4 & 50 &  0\\\\\n",
       "\t5 & 13 & 14\\\\\n",
       "\t6 & 52 & 16\\\\\n",
       "\\end{tabular}\n"
      ],
      "text/markdown": [
       "\n",
       "A data.frame: 6 × 2\n",
       "\n",
       "| <!--/--> | Before &lt;dbl&gt; | After &lt;dbl&gt; |\n",
       "|---|---|---|\n",
       "| 1 | 39 | 16 |\n",
       "| 2 | 25 |  8 |\n",
       "| 3 | 24 | 12 |\n",
       "| 4 | 50 |  0 |\n",
       "| 5 | 13 | 14 |\n",
       "| 6 | 52 | 16 |\n",
       "\n"
      ],
      "text/plain": [
       "  Before After\n",
       "1 39     16   \n",
       "2 25      8   \n",
       "3 24     12   \n",
       "4 50      0   \n",
       "5 13     14   \n",
       "6 52     16   "
      ]
     },
     "metadata": {},
     "output_type": "display_data"
    }
   ],
   "source": [
    "head(smoke)"
   ]
  },
  {
   "cell_type": "code",
   "execution_count": 112,
   "id": "574be302-060e-4bbf-b90b-c00f2b595d63",
   "metadata": {},
   "outputs": [
    {
     "data": {
      "text/html": [
       "0.05"
      ],
      "text/latex": [
       "0.05"
      ],
      "text/markdown": [
       "0.05"
      ],
      "text/plain": [
       "[1] 0.05"
      ]
     },
     "metadata": {},
     "output_type": "display_data"
    }
   ],
   "source": [
    "meaningfulness <- 0.05\n",
    "meaningfulness"
   ]
  },
  {
   "cell_type": "code",
   "execution_count": 114,
   "id": "574aa712-f9ff-4a29-a7f8-b33ff9cec873",
   "metadata": {},
   "outputs": [
    {
     "data": {
      "text/html": [
       "0.95"
      ],
      "text/latex": [
       "0.95"
      ],
      "text/markdown": [
       "0.95"
      ],
      "text/plain": [
       "[1] 0.95"
      ]
     },
     "metadata": {},
     "output_type": "display_data"
    }
   ],
   "source": [
    "confidence <- 1 - meaningfulness\n",
    "confidence"
   ]
  },
  {
   "cell_type": "code",
   "execution_count": 115,
   "id": "4eaaa06d-4f71-41a6-879f-1ffd1ba9eaa8",
   "metadata": {},
   "outputs": [
    {
     "data": {
      "text/html": [
       "35"
      ],
      "text/latex": [
       "35"
      ],
      "text/markdown": [
       "35"
      ],
      "text/plain": [
       "[1] 35"
      ]
     },
     "metadata": {},
     "output_type": "display_data"
    }
   ],
   "source": [
    "n <- 35\n",
    "n"
   ]
  },
  {
   "cell_type": "code",
   "execution_count": 116,
   "id": "cc225b86-ebf1-4bd0-915b-010d861c97c9",
   "metadata": {},
   "outputs": [
    {
     "data": {
      "text/html": [
       "31.8571428571429"
      ],
      "text/latex": [
       "31.8571428571429"
      ],
      "text/markdown": [
       "31.8571428571429"
      ],
      "text/plain": [
       "[1] 31.85714"
      ]
     },
     "metadata": {},
     "output_type": "display_data"
    }
   ],
   "source": [
    "mean_before <- mean(smoke$Before)\n",
    "mean_before"
   ]
  },
  {
   "cell_type": "code",
   "execution_count": 118,
   "id": "a04bed6c-1e0e-4189-876f-54455b34d85f",
   "metadata": {},
   "outputs": [
    {
     "data": {
      "text/html": [
       "11.2"
      ],
      "text/latex": [
       "11.2"
      ],
      "text/markdown": [
       "11.2"
      ],
      "text/plain": [
       "[1] 11.2"
      ]
     },
     "metadata": {},
     "output_type": "display_data"
    }
   ],
   "source": [
    "mean_after <- mean(smoke$After)\n",
    "mean_after"
   ]
  },
  {
   "cell_type": "markdown",
   "id": "74c1d031-54f9-4688-96f1-bfae856bb39b",
   "metadata": {},
   "source": [
    "### **Step 1** - Formulation of hypotheses $H_0$ e $H_1$\n",
    "\n",
    "#### <font color='red'>Remember, the null hypothesis always contains the claim of equality</font>"
   ]
  },
  {
   "cell_type": "markdown",
   "id": "4c84dfb5-8ba6-446c-bd9e-b4e197c24356",
   "metadata": {},
   "source": [
    "### $H_0: \\mu_{before} = \\mu_{after}$\n",
    "\n",
    "### $H_1: \\mu_{before} > \\mu_{after}$"
   ]
  },
  {
   "cell_type": "markdown",
   "id": "269e6f2a-da28-41d1-bd92-3a6ad904dc22",
   "metadata": {},
   "source": [
    "### **Step 2** - Choosing the appropriate sampling distribution"
   ]
  },
  {
   "cell_type": "markdown",
   "id": "dc6c413b-d0e1-4fb1-9c96-a42b63809191",
   "metadata": {},
   "source": [
    "> ### <font color='red'>Important points</font>\n",
    "> - When the sample size has 30 elements or more, the normal distribution must be used, as established by the **central limit theorem**.\n",
    "> - For a sample size smaller than 30 elements, and if we can state that the population is distributed approximately as normal and the population standard deviation is known, the normal distribution must be used.\n",
    "> - For a sample size smaller than 30 elements, and if we can state that the population is distributed approximately as normal and the population standard deviation is unknown, Student's t distribution must be used."
   ]
  },
  {
   "cell_type": "markdown",
   "id": "5bcfefa6-ba81-4d6d-9505-5a69d0f3037f",
   "metadata": {},
   "source": [
    "### **Step 3** - Fixing the significance of the test ($\\alpha$)"
   ]
  },
  {
   "cell_type": "markdown",
   "id": "0be8354f-6bdf-434a-af1e-0d546e2d9843",
   "metadata": {},
   "source": [
    "### Getting $z_{\\alpha/2}$"
   ]
  },
  {
   "cell_type": "code",
   "execution_count": 119,
   "id": "7fb584bc-8503-451d-8fe0-1c9e61ce7835",
   "metadata": {},
   "outputs": [
    {
     "data": {
      "text/html": [
       "1.95996398454005"
      ],
      "text/latex": [
       "1.95996398454005"
      ],
      "text/markdown": [
       "1.95996398454005"
      ],
      "text/plain": [
       "[1] 1.959964"
      ]
     },
     "metadata": {},
     "output_type": "display_data"
    }
   ],
   "source": [
    "z_alpha_2 <- qnorm(0.5 + (confidence / 2))\n",
    "z_alpha_2"
   ]
  },
  {
   "cell_type": "markdown",
   "id": "9fae64dc-abb3-40ae-8a43-af422890bcb1",
   "metadata": {},
   "source": [
    "### **Passo 4** - calculation of test statistics and verification of this value with the test acceptance and rejection areas\n",
    "\n",
    "## $$Z = \\frac{T - \\mu_T}{\\sigma_T}$$\n",
    "\n",
    "Where\n",
    "\n",
    "### $T$ = smallest of the sums of stations of the same sign\n",
    "\n",
    "## $$\\mu_T = \\frac{n(n+1)}{4}$$\n",
    "## $$\\sigma_T = \\sqrt{\\frac{n(n + 1)(2n + 1)}{24}}$$"
   ]
  },
  {
   "cell_type": "markdown",
   "id": "bb81a4e2-1de7-435b-8696-c2e35341ed41",
   "metadata": {},
   "source": [
    "### Building the table with ranks"
   ]
  },
  {
   "cell_type": "code",
   "execution_count": 138,
   "id": "02bc7337-c12e-4a76-8a58-78d397f6d8fe",
   "metadata": {},
   "outputs": [
    {
     "data": {
      "text/html": [
       "<table class=\"dataframe\">\n",
       "<caption>A data.frame: 6 × 4</caption>\n",
       "<thead>\n",
       "\t<tr><th></th><th scope=col>Before</th><th scope=col>After</th><th scope=col>Difference</th><th scope=col>|Difference|</th></tr>\n",
       "\t<tr><th></th><th scope=col>&lt;dbl&gt;</th><th scope=col>&lt;dbl&gt;</th><th scope=col>&lt;dbl&gt;</th><th scope=col>&lt;dbl&gt;</th></tr>\n",
       "</thead>\n",
       "<tbody>\n",
       "\t<tr><th scope=row>5</th><td>13</td><td>14</td><td>-1</td><td>1</td></tr>\n",
       "\t<tr><th scope=row>21</th><td>17</td><td>16</td><td> 1</td><td>1</td></tr>\n",
       "\t<tr><th scope=row>32</th><td>17</td><td>19</td><td>-2</td><td>2</td></tr>\n",
       "\t<tr><th scope=row>22</th><td>12</td><td>16</td><td>-4</td><td>4</td></tr>\n",
       "\t<tr><th scope=row>25</th><td>14</td><td>18</td><td>-4</td><td>4</td></tr>\n",
       "\t<tr><th scope=row>10</th><td>22</td><td>17</td><td> 5</td><td>5</td></tr>\n",
       "</tbody>\n",
       "</table>\n"
      ],
      "text/latex": [
       "A data.frame: 6 × 4\n",
       "\\begin{tabular}{r|llll}\n",
       "  & Before & After & Difference & \\textbar{}Difference\\textbar{}\\\\\n",
       "  & <dbl> & <dbl> & <dbl> & <dbl>\\\\\n",
       "\\hline\n",
       "\t5 & 13 & 14 & -1 & 1\\\\\n",
       "\t21 & 17 & 16 &  1 & 1\\\\\n",
       "\t32 & 17 & 19 & -2 & 2\\\\\n",
       "\t22 & 12 & 16 & -4 & 4\\\\\n",
       "\t25 & 14 & 18 & -4 & 4\\\\\n",
       "\t10 & 22 & 17 &  5 & 5\\\\\n",
       "\\end{tabular}\n"
      ],
      "text/markdown": [
       "\n",
       "A data.frame: 6 × 4\n",
       "\n",
       "| <!--/--> | Before &lt;dbl&gt; | After &lt;dbl&gt; | Difference &lt;dbl&gt; | |Difference| &lt;dbl&gt; |\n",
       "|---|---|---|---|---|\n",
       "| 5 | 13 | 14 | -1 | 1 |\n",
       "| 21 | 17 | 16 |  1 | 1 |\n",
       "| 32 | 17 | 19 | -2 | 2 |\n",
       "| 22 | 12 | 16 | -4 | 4 |\n",
       "| 25 | 14 | 18 | -4 | 4 |\n",
       "| 10 | 22 | 17 |  5 | 5 |\n",
       "\n"
      ],
      "text/plain": [
       "   Before After Difference |Difference|\n",
       "5  13     14    -1         1           \n",
       "21 17     16     1         1           \n",
       "32 17     19    -2         2           \n",
       "22 12     16    -4         4           \n",
       "25 14     18    -4         4           \n",
       "10 22     17     5         5           "
      ]
     },
     "metadata": {},
     "output_type": "display_data"
    }
   ],
   "source": [
    "head(smoke)"
   ]
  },
  {
   "cell_type": "code",
   "execution_count": 139,
   "id": "aa55f1aa-2d5c-4631-b0a0-44189e8fcec0",
   "metadata": {
    "scrolled": true
   },
   "outputs": [
    {
     "data": {
      "text/html": [
       "<table class=\"dataframe\">\n",
       "<caption>A data.frame: 6 × 4</caption>\n",
       "<thead>\n",
       "\t<tr><th></th><th scope=col>Before</th><th scope=col>After</th><th scope=col>Difference</th><th scope=col>|Difference|</th></tr>\n",
       "\t<tr><th></th><th scope=col>&lt;dbl&gt;</th><th scope=col>&lt;dbl&gt;</th><th scope=col>&lt;dbl&gt;</th><th scope=col>&lt;dbl&gt;</th></tr>\n",
       "</thead>\n",
       "<tbody>\n",
       "\t<tr><th scope=row>5</th><td>13</td><td>14</td><td>-1</td><td>1</td></tr>\n",
       "\t<tr><th scope=row>21</th><td>17</td><td>16</td><td> 1</td><td>1</td></tr>\n",
       "\t<tr><th scope=row>32</th><td>17</td><td>19</td><td>-2</td><td>2</td></tr>\n",
       "\t<tr><th scope=row>22</th><td>12</td><td>16</td><td>-4</td><td>4</td></tr>\n",
       "\t<tr><th scope=row>25</th><td>14</td><td>18</td><td>-4</td><td>4</td></tr>\n",
       "\t<tr><th scope=row>10</th><td>22</td><td>17</td><td> 5</td><td>5</td></tr>\n",
       "</tbody>\n",
       "</table>\n"
      ],
      "text/latex": [
       "A data.frame: 6 × 4\n",
       "\\begin{tabular}{r|llll}\n",
       "  & Before & After & Difference & \\textbar{}Difference\\textbar{}\\\\\n",
       "  & <dbl> & <dbl> & <dbl> & <dbl>\\\\\n",
       "\\hline\n",
       "\t5 & 13 & 14 & -1 & 1\\\\\n",
       "\t21 & 17 & 16 &  1 & 1\\\\\n",
       "\t32 & 17 & 19 & -2 & 2\\\\\n",
       "\t22 & 12 & 16 & -4 & 4\\\\\n",
       "\t25 & 14 & 18 & -4 & 4\\\\\n",
       "\t10 & 22 & 17 &  5 & 5\\\\\n",
       "\\end{tabular}\n"
      ],
      "text/markdown": [
       "\n",
       "A data.frame: 6 × 4\n",
       "\n",
       "| <!--/--> | Before &lt;dbl&gt; | After &lt;dbl&gt; | Difference &lt;dbl&gt; | |Difference| &lt;dbl&gt; |\n",
       "|---|---|---|---|---|\n",
       "| 5 | 13 | 14 | -1 | 1 |\n",
       "| 21 | 17 | 16 |  1 | 1 |\n",
       "| 32 | 17 | 19 | -2 | 2 |\n",
       "| 22 | 12 | 16 | -4 | 4 |\n",
       "| 25 | 14 | 18 | -4 | 4 |\n",
       "| 10 | 22 | 17 |  5 | 5 |\n",
       "\n"
      ],
      "text/plain": [
       "   Before After Difference |Difference|\n",
       "5  13     14    -1         1           \n",
       "21 17     16     1         1           \n",
       "32 17     19    -2         2           \n",
       "22 12     16    -4         4           \n",
       "25 14     18    -4         4           \n",
       "10 22     17     5         5           "
      ]
     },
     "metadata": {},
     "output_type": "display_data"
    }
   ],
   "source": [
    "smoke['Difference'] <- smoke$Before - smoke$After\n",
    "head(smoke)"
   ]
  },
  {
   "cell_type": "code",
   "execution_count": 140,
   "id": "2500d33b-711a-442f-a069-86701d99cce2",
   "metadata": {},
   "outputs": [
    {
     "data": {
      "text/html": [
       "<table class=\"dataframe\">\n",
       "<caption>A data.frame: 6 × 4</caption>\n",
       "<thead>\n",
       "\t<tr><th></th><th scope=col>Before</th><th scope=col>After</th><th scope=col>Difference</th><th scope=col>|Difference|</th></tr>\n",
       "\t<tr><th></th><th scope=col>&lt;dbl&gt;</th><th scope=col>&lt;dbl&gt;</th><th scope=col>&lt;dbl&gt;</th><th scope=col>&lt;dbl&gt;</th></tr>\n",
       "</thead>\n",
       "<tbody>\n",
       "\t<tr><th scope=row>5</th><td>13</td><td>14</td><td>-1</td><td>1</td></tr>\n",
       "\t<tr><th scope=row>21</th><td>17</td><td>16</td><td> 1</td><td>1</td></tr>\n",
       "\t<tr><th scope=row>32</th><td>17</td><td>19</td><td>-2</td><td>2</td></tr>\n",
       "\t<tr><th scope=row>22</th><td>12</td><td>16</td><td>-4</td><td>4</td></tr>\n",
       "\t<tr><th scope=row>25</th><td>14</td><td>18</td><td>-4</td><td>4</td></tr>\n",
       "\t<tr><th scope=row>10</th><td>22</td><td>17</td><td> 5</td><td>5</td></tr>\n",
       "</tbody>\n",
       "</table>\n"
      ],
      "text/latex": [
       "A data.frame: 6 × 4\n",
       "\\begin{tabular}{r|llll}\n",
       "  & Before & After & Difference & \\textbar{}Difference\\textbar{}\\\\\n",
       "  & <dbl> & <dbl> & <dbl> & <dbl>\\\\\n",
       "\\hline\n",
       "\t5 & 13 & 14 & -1 & 1\\\\\n",
       "\t21 & 17 & 16 &  1 & 1\\\\\n",
       "\t32 & 17 & 19 & -2 & 2\\\\\n",
       "\t22 & 12 & 16 & -4 & 4\\\\\n",
       "\t25 & 14 & 18 & -4 & 4\\\\\n",
       "\t10 & 22 & 17 &  5 & 5\\\\\n",
       "\\end{tabular}\n"
      ],
      "text/markdown": [
       "\n",
       "A data.frame: 6 × 4\n",
       "\n",
       "| <!--/--> | Before &lt;dbl&gt; | After &lt;dbl&gt; | Difference &lt;dbl&gt; | |Difference| &lt;dbl&gt; |\n",
       "|---|---|---|---|---|\n",
       "| 5 | 13 | 14 | -1 | 1 |\n",
       "| 21 | 17 | 16 |  1 | 1 |\n",
       "| 32 | 17 | 19 | -2 | 2 |\n",
       "| 22 | 12 | 16 | -4 | 4 |\n",
       "| 25 | 14 | 18 | -4 | 4 |\n",
       "| 10 | 22 | 17 |  5 | 5 |\n",
       "\n"
      ],
      "text/plain": [
       "   Before After Difference |Difference|\n",
       "5  13     14    -1         1           \n",
       "21 17     16     1         1           \n",
       "32 17     19    -2         2           \n",
       "22 12     16    -4         4           \n",
       "25 14     18    -4         4           \n",
       "10 22     17     5         5           "
      ]
     },
     "metadata": {},
     "output_type": "display_data"
    }
   ],
   "source": [
    "smoke['|Difference|'] <- abs(smoke$Before - smoke$After)\n",
    "head(smoke)"
   ]
  },
  {
   "cell_type": "code",
   "execution_count": 141,
   "id": "0d0d22a5-9223-42af-be14-a36b9da0fd67",
   "metadata": {},
   "outputs": [
    {
     "data": {
      "text/html": [
       "<table class=\"dataframe\">\n",
       "<caption>A data.frame: 6 × 4</caption>\n",
       "<thead>\n",
       "\t<tr><th></th><th scope=col>Before</th><th scope=col>After</th><th scope=col>Difference</th><th scope=col>|Difference|</th></tr>\n",
       "\t<tr><th></th><th scope=col>&lt;dbl&gt;</th><th scope=col>&lt;dbl&gt;</th><th scope=col>&lt;dbl&gt;</th><th scope=col>&lt;dbl&gt;</th></tr>\n",
       "</thead>\n",
       "<tbody>\n",
       "\t<tr><th scope=row>5</th><td>13</td><td>14</td><td>-1</td><td>1</td></tr>\n",
       "\t<tr><th scope=row>21</th><td>17</td><td>16</td><td> 1</td><td>1</td></tr>\n",
       "\t<tr><th scope=row>32</th><td>17</td><td>19</td><td>-2</td><td>2</td></tr>\n",
       "\t<tr><th scope=row>22</th><td>12</td><td>16</td><td>-4</td><td>4</td></tr>\n",
       "\t<tr><th scope=row>25</th><td>14</td><td>18</td><td>-4</td><td>4</td></tr>\n",
       "\t<tr><th scope=row>10</th><td>22</td><td>17</td><td> 5</td><td>5</td></tr>\n",
       "</tbody>\n",
       "</table>\n"
      ],
      "text/latex": [
       "A data.frame: 6 × 4\n",
       "\\begin{tabular}{r|llll}\n",
       "  & Before & After & Difference & \\textbar{}Difference\\textbar{}\\\\\n",
       "  & <dbl> & <dbl> & <dbl> & <dbl>\\\\\n",
       "\\hline\n",
       "\t5 & 13 & 14 & -1 & 1\\\\\n",
       "\t21 & 17 & 16 &  1 & 1\\\\\n",
       "\t32 & 17 & 19 & -2 & 2\\\\\n",
       "\t22 & 12 & 16 & -4 & 4\\\\\n",
       "\t25 & 14 & 18 & -4 & 4\\\\\n",
       "\t10 & 22 & 17 &  5 & 5\\\\\n",
       "\\end{tabular}\n"
      ],
      "text/markdown": [
       "\n",
       "A data.frame: 6 × 4\n",
       "\n",
       "| <!--/--> | Before &lt;dbl&gt; | After &lt;dbl&gt; | Difference &lt;dbl&gt; | |Difference| &lt;dbl&gt; |\n",
       "|---|---|---|---|---|\n",
       "| 5 | 13 | 14 | -1 | 1 |\n",
       "| 21 | 17 | 16 |  1 | 1 |\n",
       "| 32 | 17 | 19 | -2 | 2 |\n",
       "| 22 | 12 | 16 | -4 | 4 |\n",
       "| 25 | 14 | 18 | -4 | 4 |\n",
       "| 10 | 22 | 17 |  5 | 5 |\n",
       "\n"
      ],
      "text/plain": [
       "   Before After Difference |Difference|\n",
       "5  13     14    -1         1           \n",
       "21 17     16     1         1           \n",
       "32 17     19    -2         2           \n",
       "22 12     16    -4         4           \n",
       "25 14     18    -4         4           \n",
       "10 22     17     5         5           "
      ]
     },
     "metadata": {},
     "output_type": "display_data"
    }
   ],
   "source": [
    "smoke <- smoke[order(smoke$'|Difference|'), ]\n",
    "head(smoke)"
   ]
  },
  {
   "cell_type": "code",
   "execution_count": 142,
   "id": "32df6dfc-4ec8-4703-a918-65f1f545ab30",
   "metadata": {},
   "outputs": [
    {
     "data": {
      "text/html": [
       "<table class=\"dataframe\">\n",
       "<caption>A data.frame: 6 × 5</caption>\n",
       "<thead>\n",
       "\t<tr><th></th><th scope=col>Before</th><th scope=col>After</th><th scope=col>Difference</th><th scope=col>|Difference|</th><th scope=col>Header</th></tr>\n",
       "\t<tr><th></th><th scope=col>&lt;dbl&gt;</th><th scope=col>&lt;dbl&gt;</th><th scope=col>&lt;dbl&gt;</th><th scope=col>&lt;dbl&gt;</th><th scope=col>&lt;int&gt;</th></tr>\n",
       "</thead>\n",
       "<tbody>\n",
       "\t<tr><th scope=row>5</th><td>13</td><td>14</td><td>-1</td><td>1</td><td>1</td></tr>\n",
       "\t<tr><th scope=row>21</th><td>17</td><td>16</td><td> 1</td><td>1</td><td>2</td></tr>\n",
       "\t<tr><th scope=row>32</th><td>17</td><td>19</td><td>-2</td><td>2</td><td>3</td></tr>\n",
       "\t<tr><th scope=row>22</th><td>12</td><td>16</td><td>-4</td><td>4</td><td>4</td></tr>\n",
       "\t<tr><th scope=row>25</th><td>14</td><td>18</td><td>-4</td><td>4</td><td>5</td></tr>\n",
       "\t<tr><th scope=row>10</th><td>22</td><td>17</td><td> 5</td><td>5</td><td>6</td></tr>\n",
       "</tbody>\n",
       "</table>\n"
      ],
      "text/latex": [
       "A data.frame: 6 × 5\n",
       "\\begin{tabular}{r|lllll}\n",
       "  & Before & After & Difference & \\textbar{}Difference\\textbar{} & Header\\\\\n",
       "  & <dbl> & <dbl> & <dbl> & <dbl> & <int>\\\\\n",
       "\\hline\n",
       "\t5 & 13 & 14 & -1 & 1 & 1\\\\\n",
       "\t21 & 17 & 16 &  1 & 1 & 2\\\\\n",
       "\t32 & 17 & 19 & -2 & 2 & 3\\\\\n",
       "\t22 & 12 & 16 & -4 & 4 & 4\\\\\n",
       "\t25 & 14 & 18 & -4 & 4 & 5\\\\\n",
       "\t10 & 22 & 17 &  5 & 5 & 6\\\\\n",
       "\\end{tabular}\n"
      ],
      "text/markdown": [
       "\n",
       "A data.frame: 6 × 5\n",
       "\n",
       "| <!--/--> | Before &lt;dbl&gt; | After &lt;dbl&gt; | Difference &lt;dbl&gt; | |Difference| &lt;dbl&gt; | Header &lt;int&gt; |\n",
       "|---|---|---|---|---|---|\n",
       "| 5 | 13 | 14 | -1 | 1 | 1 |\n",
       "| 21 | 17 | 16 |  1 | 1 | 2 |\n",
       "| 32 | 17 | 19 | -2 | 2 | 3 |\n",
       "| 22 | 12 | 16 | -4 | 4 | 4 |\n",
       "| 25 | 14 | 18 | -4 | 4 | 5 |\n",
       "| 10 | 22 | 17 |  5 | 5 | 6 |\n",
       "\n"
      ],
      "text/plain": [
       "   Before After Difference |Difference| Header\n",
       "5  13     14    -1         1            1     \n",
       "21 17     16     1         1            2     \n",
       "32 17     19    -2         2            3     \n",
       "22 12     16    -4         4            4     \n",
       "25 14     18    -4         4            5     \n",
       "10 22     17     5         5            6     "
      ]
     },
     "metadata": {},
     "output_type": "display_data"
    }
   ],
   "source": [
    "smoke['Header'] <- seq(1, nrow(smoke))\n",
    "head(smoke)"
   ]
  },
  {
   "cell_type": "code",
   "execution_count": 143,
   "id": "249d40a3-d43c-49e3-a254-98c1ffb4ef52",
   "metadata": {},
   "outputs": [
    {
     "data": {
      "text/html": [
       "<table class=\"dataframe\">\n",
       "<caption>A data.frame: 6 × 2</caption>\n",
       "<thead>\n",
       "\t<tr><th></th><th scope=col>|Difference|</th><th scope=col>Header</th></tr>\n",
       "\t<tr><th></th><th scope=col>&lt;dbl&gt;</th><th scope=col>&lt;dbl&gt;</th></tr>\n",
       "</thead>\n",
       "<tbody>\n",
       "\t<tr><th scope=row>1</th><td>1</td><td>1.5</td></tr>\n",
       "\t<tr><th scope=row>2</th><td>2</td><td>3.0</td></tr>\n",
       "\t<tr><th scope=row>3</th><td>4</td><td>4.5</td></tr>\n",
       "\t<tr><th scope=row>4</th><td>5</td><td>6.0</td></tr>\n",
       "\t<tr><th scope=row>5</th><td>8</td><td>7.0</td></tr>\n",
       "\t<tr><th scope=row>6</th><td>9</td><td>8.5</td></tr>\n",
       "</tbody>\n",
       "</table>\n"
      ],
      "text/latex": [
       "A data.frame: 6 × 2\n",
       "\\begin{tabular}{r|ll}\n",
       "  & \\textbar{}Difference\\textbar{} & Header\\\\\n",
       "  & <dbl> & <dbl>\\\\\n",
       "\\hline\n",
       "\t1 & 1 & 1.5\\\\\n",
       "\t2 & 2 & 3.0\\\\\n",
       "\t3 & 4 & 4.5\\\\\n",
       "\t4 & 5 & 6.0\\\\\n",
       "\t5 & 8 & 7.0\\\\\n",
       "\t6 & 9 & 8.5\\\\\n",
       "\\end{tabular}\n"
      ],
      "text/markdown": [
       "\n",
       "A data.frame: 6 × 2\n",
       "\n",
       "| <!--/--> | |Difference| &lt;dbl&gt; | Header &lt;dbl&gt; |\n",
       "|---|---|---|\n",
       "| 1 | 1 | 1.5 |\n",
       "| 2 | 2 | 3.0 |\n",
       "| 3 | 4 | 4.5 |\n",
       "| 4 | 5 | 6.0 |\n",
       "| 5 | 8 | 7.0 |\n",
       "| 6 | 9 | 8.5 |\n",
       "\n"
      ],
      "text/plain": [
       "  |Difference| Header\n",
       "1 1            1.5   \n",
       "2 2            3.0   \n",
       "3 4            4.5   \n",
       "4 5            6.0   \n",
       "5 8            7.0   \n",
       "6 9            8.5   "
      ]
     },
     "metadata": {},
     "output_type": "display_data"
    }
   ],
   "source": [
    "header <- aggregate(x = smoke$'Header', by = list(smoke$'|Difference|'), FUN = mean)\n",
    "colnames(header) <- c('|Difference|', 'Header')\n",
    "head(header)"
   ]
  },
  {
   "cell_type": "code",
   "execution_count": 144,
   "id": "6853bf39-64f4-4292-8092-d832a3b2b469",
   "metadata": {},
   "outputs": [
    {
     "data": {
      "text/html": [
       "<table class=\"dataframe\">\n",
       "<caption>A data.frame: 6 × 4</caption>\n",
       "<thead>\n",
       "\t<tr><th></th><th scope=col>Before</th><th scope=col>After</th><th scope=col>Difference</th><th scope=col>|Difference|</th></tr>\n",
       "\t<tr><th></th><th scope=col>&lt;dbl&gt;</th><th scope=col>&lt;dbl&gt;</th><th scope=col>&lt;dbl&gt;</th><th scope=col>&lt;dbl&gt;</th></tr>\n",
       "</thead>\n",
       "<tbody>\n",
       "\t<tr><th scope=row>5</th><td>13</td><td>14</td><td>-1</td><td>1</td></tr>\n",
       "\t<tr><th scope=row>21</th><td>17</td><td>16</td><td> 1</td><td>1</td></tr>\n",
       "\t<tr><th scope=row>32</th><td>17</td><td>19</td><td>-2</td><td>2</td></tr>\n",
       "\t<tr><th scope=row>22</th><td>12</td><td>16</td><td>-4</td><td>4</td></tr>\n",
       "\t<tr><th scope=row>25</th><td>14</td><td>18</td><td>-4</td><td>4</td></tr>\n",
       "\t<tr><th scope=row>10</th><td>22</td><td>17</td><td> 5</td><td>5</td></tr>\n",
       "</tbody>\n",
       "</table>\n"
      ],
      "text/latex": [
       "A data.frame: 6 × 4\n",
       "\\begin{tabular}{r|llll}\n",
       "  & Before & After & Difference & \\textbar{}Difference\\textbar{}\\\\\n",
       "  & <dbl> & <dbl> & <dbl> & <dbl>\\\\\n",
       "\\hline\n",
       "\t5 & 13 & 14 & -1 & 1\\\\\n",
       "\t21 & 17 & 16 &  1 & 1\\\\\n",
       "\t32 & 17 & 19 & -2 & 2\\\\\n",
       "\t22 & 12 & 16 & -4 & 4\\\\\n",
       "\t25 & 14 & 18 & -4 & 4\\\\\n",
       "\t10 & 22 & 17 &  5 & 5\\\\\n",
       "\\end{tabular}\n"
      ],
      "text/markdown": [
       "\n",
       "A data.frame: 6 × 4\n",
       "\n",
       "| <!--/--> | Before &lt;dbl&gt; | After &lt;dbl&gt; | Difference &lt;dbl&gt; | |Difference| &lt;dbl&gt; |\n",
       "|---|---|---|---|---|\n",
       "| 5 | 13 | 14 | -1 | 1 |\n",
       "| 21 | 17 | 16 |  1 | 1 |\n",
       "| 32 | 17 | 19 | -2 | 2 |\n",
       "| 22 | 12 | 16 | -4 | 4 |\n",
       "| 25 | 14 | 18 | -4 | 4 |\n",
       "| 10 | 22 | 17 |  5 | 5 |\n",
       "\n"
      ],
      "text/plain": [
       "   Before After Difference |Difference|\n",
       "5  13     14    -1         1           \n",
       "21 17     16     1         1           \n",
       "32 17     19    -2         2           \n",
       "22 12     16    -4         4           \n",
       "25 14     18    -4         4           \n",
       "10 22     17     5         5           "
      ]
     },
     "metadata": {},
     "output_type": "display_data"
    }
   ],
   "source": [
    "smoke$Header <- NULL\n",
    "head(smoke)"
   ]
  },
  {
   "cell_type": "code",
   "execution_count": 145,
   "id": "72860a76-e5d2-4f4d-9942-006a2f2f52b2",
   "metadata": {},
   "outputs": [
    {
     "data": {
      "text/html": [
       "<table class=\"dataframe\">\n",
       "<caption>A data.frame: 6 × 5</caption>\n",
       "<thead>\n",
       "\t<tr><th></th><th scope=col>|Difference|</th><th scope=col>Before</th><th scope=col>After</th><th scope=col>Difference</th><th scope=col>Header</th></tr>\n",
       "\t<tr><th></th><th scope=col>&lt;dbl&gt;</th><th scope=col>&lt;dbl&gt;</th><th scope=col>&lt;dbl&gt;</th><th scope=col>&lt;dbl&gt;</th><th scope=col>&lt;dbl&gt;</th></tr>\n",
       "</thead>\n",
       "<tbody>\n",
       "\t<tr><th scope=row>1</th><td>1</td><td>13</td><td>14</td><td>-1</td><td>1.5</td></tr>\n",
       "\t<tr><th scope=row>2</th><td>1</td><td>17</td><td>16</td><td> 1</td><td>1.5</td></tr>\n",
       "\t<tr><th scope=row>3</th><td>2</td><td>17</td><td>19</td><td>-2</td><td>3.0</td></tr>\n",
       "\t<tr><th scope=row>4</th><td>4</td><td>12</td><td>16</td><td>-4</td><td>4.5</td></tr>\n",
       "\t<tr><th scope=row>5</th><td>4</td><td>14</td><td>18</td><td>-4</td><td>4.5</td></tr>\n",
       "\t<tr><th scope=row>6</th><td>5</td><td>22</td><td>17</td><td> 5</td><td>6.0</td></tr>\n",
       "</tbody>\n",
       "</table>\n"
      ],
      "text/latex": [
       "A data.frame: 6 × 5\n",
       "\\begin{tabular}{r|lllll}\n",
       "  & \\textbar{}Difference\\textbar{} & Before & After & Difference & Header\\\\\n",
       "  & <dbl> & <dbl> & <dbl> & <dbl> & <dbl>\\\\\n",
       "\\hline\n",
       "\t1 & 1 & 13 & 14 & -1 & 1.5\\\\\n",
       "\t2 & 1 & 17 & 16 &  1 & 1.5\\\\\n",
       "\t3 & 2 & 17 & 19 & -2 & 3.0\\\\\n",
       "\t4 & 4 & 12 & 16 & -4 & 4.5\\\\\n",
       "\t5 & 4 & 14 & 18 & -4 & 4.5\\\\\n",
       "\t6 & 5 & 22 & 17 &  5 & 6.0\\\\\n",
       "\\end{tabular}\n"
      ],
      "text/markdown": [
       "\n",
       "A data.frame: 6 × 5\n",
       "\n",
       "| <!--/--> | |Difference| &lt;dbl&gt; | Before &lt;dbl&gt; | After &lt;dbl&gt; | Difference &lt;dbl&gt; | Header &lt;dbl&gt; |\n",
       "|---|---|---|---|---|---|\n",
       "| 1 | 1 | 13 | 14 | -1 | 1.5 |\n",
       "| 2 | 1 | 17 | 16 |  1 | 1.5 |\n",
       "| 3 | 2 | 17 | 19 | -2 | 3.0 |\n",
       "| 4 | 4 | 12 | 16 | -4 | 4.5 |\n",
       "| 5 | 4 | 14 | 18 | -4 | 4.5 |\n",
       "| 6 | 5 | 22 | 17 |  5 | 6.0 |\n",
       "\n"
      ],
      "text/plain": [
       "  |Difference| Before After Difference Header\n",
       "1 1            13     14    -1         1.5   \n",
       "2 1            17     16     1         1.5   \n",
       "3 2            17     19    -2         3.0   \n",
       "4 4            12     16    -4         4.5   \n",
       "5 4            14     18    -4         4.5   \n",
       "6 5            22     17     5         6.0   "
      ]
     },
     "metadata": {},
     "output_type": "display_data"
    }
   ],
   "source": [
    "smoke <- merge(x = smoke, y = header, by = '|Difference|', all.x = TRUE)\n",
    "head(smoke)"
   ]
  },
  {
   "cell_type": "code",
   "execution_count": 147,
   "id": "47109fd7-b62a-4fce-9871-08a5d2cf619a",
   "metadata": {},
   "outputs": [
    {
     "data": {
      "text/html": [
       "<table class=\"dataframe\">\n",
       "<caption>A data.frame: 6 × 6</caption>\n",
       "<thead>\n",
       "\t<tr><th></th><th scope=col>|Difference|</th><th scope=col>Before</th><th scope=col>After</th><th scope=col>Difference</th><th scope=col>Header</th><th scope=col>Header (+)</th></tr>\n",
       "\t<tr><th></th><th scope=col>&lt;dbl&gt;</th><th scope=col>&lt;dbl&gt;</th><th scope=col>&lt;dbl&gt;</th><th scope=col>&lt;dbl&gt;</th><th scope=col>&lt;dbl&gt;</th><th scope=col>&lt;dbl&gt;</th></tr>\n",
       "</thead>\n",
       "<tbody>\n",
       "\t<tr><th scope=row>1</th><td>1</td><td>13</td><td>14</td><td>-1</td><td>1.5</td><td>0.0</td></tr>\n",
       "\t<tr><th scope=row>2</th><td>1</td><td>17</td><td>16</td><td> 1</td><td>1.5</td><td>1.5</td></tr>\n",
       "\t<tr><th scope=row>3</th><td>2</td><td>17</td><td>19</td><td>-2</td><td>3.0</td><td>0.0</td></tr>\n",
       "\t<tr><th scope=row>4</th><td>4</td><td>12</td><td>16</td><td>-4</td><td>4.5</td><td>0.0</td></tr>\n",
       "\t<tr><th scope=row>5</th><td>4</td><td>14</td><td>18</td><td>-4</td><td>4.5</td><td>0.0</td></tr>\n",
       "\t<tr><th scope=row>6</th><td>5</td><td>22</td><td>17</td><td> 5</td><td>6.0</td><td>6.0</td></tr>\n",
       "</tbody>\n",
       "</table>\n"
      ],
      "text/latex": [
       "A data.frame: 6 × 6\n",
       "\\begin{tabular}{r|llllll}\n",
       "  & \\textbar{}Difference\\textbar{} & Before & After & Difference & Header & Header (+)\\\\\n",
       "  & <dbl> & <dbl> & <dbl> & <dbl> & <dbl> & <dbl>\\\\\n",
       "\\hline\n",
       "\t1 & 1 & 13 & 14 & -1 & 1.5 & 0.0\\\\\n",
       "\t2 & 1 & 17 & 16 &  1 & 1.5 & 1.5\\\\\n",
       "\t3 & 2 & 17 & 19 & -2 & 3.0 & 0.0\\\\\n",
       "\t4 & 4 & 12 & 16 & -4 & 4.5 & 0.0\\\\\n",
       "\t5 & 4 & 14 & 18 & -4 & 4.5 & 0.0\\\\\n",
       "\t6 & 5 & 22 & 17 &  5 & 6.0 & 6.0\\\\\n",
       "\\end{tabular}\n"
      ],
      "text/markdown": [
       "\n",
       "A data.frame: 6 × 6\n",
       "\n",
       "| <!--/--> | |Difference| &lt;dbl&gt; | Before &lt;dbl&gt; | After &lt;dbl&gt; | Difference &lt;dbl&gt; | Header &lt;dbl&gt; | Header (+) &lt;dbl&gt; |\n",
       "|---|---|---|---|---|---|---|\n",
       "| 1 | 1 | 13 | 14 | -1 | 1.5 | 0.0 |\n",
       "| 2 | 1 | 17 | 16 |  1 | 1.5 | 1.5 |\n",
       "| 3 | 2 | 17 | 19 | -2 | 3.0 | 0.0 |\n",
       "| 4 | 4 | 12 | 16 | -4 | 4.5 | 0.0 |\n",
       "| 5 | 4 | 14 | 18 | -4 | 4.5 | 0.0 |\n",
       "| 6 | 5 | 22 | 17 |  5 | 6.0 | 6.0 |\n",
       "\n"
      ],
      "text/plain": [
       "  |Difference| Before After Difference Header Header (+)\n",
       "1 1            13     14    -1         1.5    0.0       \n",
       "2 1            17     16     1         1.5    1.5       \n",
       "3 2            17     19    -2         3.0    0.0       \n",
       "4 4            12     16    -4         4.5    0.0       \n",
       "5 4            14     18    -4         4.5    0.0       \n",
       "6 5            22     17     5         6.0    6.0       "
      ]
     },
     "metadata": {},
     "output_type": "display_data"
    }
   ],
   "source": [
    "smoke['Header (+)'] <- apply(smoke[, c('Difference', 'Header')], 1, function(x) if(x[1] > 0) x[2] else 0)\n",
    "head(smoke)"
   ]
  },
  {
   "cell_type": "code",
   "execution_count": 148,
   "id": "56773512-aab4-4e52-90e9-dc9e6486d233",
   "metadata": {},
   "outputs": [
    {
     "data": {
      "text/html": [
       "<table class=\"dataframe\">\n",
       "<caption>A data.frame: 6 × 7</caption>\n",
       "<thead>\n",
       "\t<tr><th></th><th scope=col>|Difference|</th><th scope=col>Before</th><th scope=col>After</th><th scope=col>Difference</th><th scope=col>Header</th><th scope=col>Header (+)</th><th scope=col>Header (-)</th></tr>\n",
       "\t<tr><th></th><th scope=col>&lt;dbl&gt;</th><th scope=col>&lt;dbl&gt;</th><th scope=col>&lt;dbl&gt;</th><th scope=col>&lt;dbl&gt;</th><th scope=col>&lt;dbl&gt;</th><th scope=col>&lt;dbl&gt;</th><th scope=col>&lt;dbl&gt;</th></tr>\n",
       "</thead>\n",
       "<tbody>\n",
       "\t<tr><th scope=row>1</th><td>1</td><td>13</td><td>14</td><td>-1</td><td>1.5</td><td>0.0</td><td>1.5</td></tr>\n",
       "\t<tr><th scope=row>2</th><td>1</td><td>17</td><td>16</td><td> 1</td><td>1.5</td><td>1.5</td><td>0.0</td></tr>\n",
       "\t<tr><th scope=row>3</th><td>2</td><td>17</td><td>19</td><td>-2</td><td>3.0</td><td>0.0</td><td>3.0</td></tr>\n",
       "\t<tr><th scope=row>4</th><td>4</td><td>12</td><td>16</td><td>-4</td><td>4.5</td><td>0.0</td><td>4.5</td></tr>\n",
       "\t<tr><th scope=row>5</th><td>4</td><td>14</td><td>18</td><td>-4</td><td>4.5</td><td>0.0</td><td>4.5</td></tr>\n",
       "\t<tr><th scope=row>6</th><td>5</td><td>22</td><td>17</td><td> 5</td><td>6.0</td><td>6.0</td><td>0.0</td></tr>\n",
       "</tbody>\n",
       "</table>\n"
      ],
      "text/latex": [
       "A data.frame: 6 × 7\n",
       "\\begin{tabular}{r|lllllll}\n",
       "  & \\textbar{}Difference\\textbar{} & Before & After & Difference & Header & Header (+) & Header (-)\\\\\n",
       "  & <dbl> & <dbl> & <dbl> & <dbl> & <dbl> & <dbl> & <dbl>\\\\\n",
       "\\hline\n",
       "\t1 & 1 & 13 & 14 & -1 & 1.5 & 0.0 & 1.5\\\\\n",
       "\t2 & 1 & 17 & 16 &  1 & 1.5 & 1.5 & 0.0\\\\\n",
       "\t3 & 2 & 17 & 19 & -2 & 3.0 & 0.0 & 3.0\\\\\n",
       "\t4 & 4 & 12 & 16 & -4 & 4.5 & 0.0 & 4.5\\\\\n",
       "\t5 & 4 & 14 & 18 & -4 & 4.5 & 0.0 & 4.5\\\\\n",
       "\t6 & 5 & 22 & 17 &  5 & 6.0 & 6.0 & 0.0\\\\\n",
       "\\end{tabular}\n"
      ],
      "text/markdown": [
       "\n",
       "A data.frame: 6 × 7\n",
       "\n",
       "| <!--/--> | |Difference| &lt;dbl&gt; | Before &lt;dbl&gt; | After &lt;dbl&gt; | Difference &lt;dbl&gt; | Header &lt;dbl&gt; | Header (+) &lt;dbl&gt; | Header (-) &lt;dbl&gt; |\n",
       "|---|---|---|---|---|---|---|---|\n",
       "| 1 | 1 | 13 | 14 | -1 | 1.5 | 0.0 | 1.5 |\n",
       "| 2 | 1 | 17 | 16 |  1 | 1.5 | 1.5 | 0.0 |\n",
       "| 3 | 2 | 17 | 19 | -2 | 3.0 | 0.0 | 3.0 |\n",
       "| 4 | 4 | 12 | 16 | -4 | 4.5 | 0.0 | 4.5 |\n",
       "| 5 | 4 | 14 | 18 | -4 | 4.5 | 0.0 | 4.5 |\n",
       "| 6 | 5 | 22 | 17 |  5 | 6.0 | 6.0 | 0.0 |\n",
       "\n"
      ],
      "text/plain": [
       "  |Difference| Before After Difference Header Header (+) Header (-)\n",
       "1 1            13     14    -1         1.5    0.0        1.5       \n",
       "2 1            17     16     1         1.5    1.5        0.0       \n",
       "3 2            17     19    -2         3.0    0.0        3.0       \n",
       "4 4            12     16    -4         4.5    0.0        4.5       \n",
       "5 4            14     18    -4         4.5    0.0        4.5       \n",
       "6 5            22     17     5         6.0    6.0        0.0       "
      ]
     },
     "metadata": {},
     "output_type": "display_data"
    }
   ],
   "source": [
    "smoke['Header (-)'] <- apply(smoke[, c('Difference', 'Header')], 1, function(x) if(x[1] < 0) x[2] else 0)\n",
    "head(smoke)"
   ]
  },
  {
   "cell_type": "code",
   "execution_count": 149,
   "id": "461208dc-525d-4859-9146-53060e97f443",
   "metadata": {},
   "outputs": [
    {
     "data": {
      "text/html": [
       "<table class=\"dataframe\">\n",
       "<caption>A data.frame: 6 × 6</caption>\n",
       "<thead>\n",
       "\t<tr><th></th><th scope=col>|Difference|</th><th scope=col>Before</th><th scope=col>After</th><th scope=col>Difference</th><th scope=col>Header (+)</th><th scope=col>Header (-)</th></tr>\n",
       "\t<tr><th></th><th scope=col>&lt;dbl&gt;</th><th scope=col>&lt;dbl&gt;</th><th scope=col>&lt;dbl&gt;</th><th scope=col>&lt;dbl&gt;</th><th scope=col>&lt;dbl&gt;</th><th scope=col>&lt;dbl&gt;</th></tr>\n",
       "</thead>\n",
       "<tbody>\n",
       "\t<tr><th scope=row>1</th><td>1</td><td>13</td><td>14</td><td>-1</td><td>0.0</td><td>1.5</td></tr>\n",
       "\t<tr><th scope=row>2</th><td>1</td><td>17</td><td>16</td><td> 1</td><td>1.5</td><td>0.0</td></tr>\n",
       "\t<tr><th scope=row>3</th><td>2</td><td>17</td><td>19</td><td>-2</td><td>0.0</td><td>3.0</td></tr>\n",
       "\t<tr><th scope=row>4</th><td>4</td><td>12</td><td>16</td><td>-4</td><td>0.0</td><td>4.5</td></tr>\n",
       "\t<tr><th scope=row>5</th><td>4</td><td>14</td><td>18</td><td>-4</td><td>0.0</td><td>4.5</td></tr>\n",
       "\t<tr><th scope=row>6</th><td>5</td><td>22</td><td>17</td><td> 5</td><td>6.0</td><td>0.0</td></tr>\n",
       "</tbody>\n",
       "</table>\n"
      ],
      "text/latex": [
       "A data.frame: 6 × 6\n",
       "\\begin{tabular}{r|llllll}\n",
       "  & \\textbar{}Difference\\textbar{} & Before & After & Difference & Header (+) & Header (-)\\\\\n",
       "  & <dbl> & <dbl> & <dbl> & <dbl> & <dbl> & <dbl>\\\\\n",
       "\\hline\n",
       "\t1 & 1 & 13 & 14 & -1 & 0.0 & 1.5\\\\\n",
       "\t2 & 1 & 17 & 16 &  1 & 1.5 & 0.0\\\\\n",
       "\t3 & 2 & 17 & 19 & -2 & 0.0 & 3.0\\\\\n",
       "\t4 & 4 & 12 & 16 & -4 & 0.0 & 4.5\\\\\n",
       "\t5 & 4 & 14 & 18 & -4 & 0.0 & 4.5\\\\\n",
       "\t6 & 5 & 22 & 17 &  5 & 6.0 & 0.0\\\\\n",
       "\\end{tabular}\n"
      ],
      "text/markdown": [
       "\n",
       "A data.frame: 6 × 6\n",
       "\n",
       "| <!--/--> | |Difference| &lt;dbl&gt; | Before &lt;dbl&gt; | After &lt;dbl&gt; | Difference &lt;dbl&gt; | Header (+) &lt;dbl&gt; | Header (-) &lt;dbl&gt; |\n",
       "|---|---|---|---|---|---|---|\n",
       "| 1 | 1 | 13 | 14 | -1 | 0.0 | 1.5 |\n",
       "| 2 | 1 | 17 | 16 |  1 | 1.5 | 0.0 |\n",
       "| 3 | 2 | 17 | 19 | -2 | 0.0 | 3.0 |\n",
       "| 4 | 4 | 12 | 16 | -4 | 0.0 | 4.5 |\n",
       "| 5 | 4 | 14 | 18 | -4 | 0.0 | 4.5 |\n",
       "| 6 | 5 | 22 | 17 |  5 | 6.0 | 0.0 |\n",
       "\n"
      ],
      "text/plain": [
       "  |Difference| Before After Difference Header (+) Header (-)\n",
       "1 1            13     14    -1         0.0        1.5       \n",
       "2 1            17     16     1         1.5        0.0       \n",
       "3 2            17     19    -2         0.0        3.0       \n",
       "4 4            12     16    -4         0.0        4.5       \n",
       "5 4            14     18    -4         0.0        4.5       \n",
       "6 5            22     17     5         6.0        0.0       "
      ]
     },
     "metadata": {},
     "output_type": "display_data"
    }
   ],
   "source": [
    "smoke$Header <- NULL\n",
    "head(smoke)"
   ]
  },
  {
   "cell_type": "markdown",
   "id": "e1108767-feec-4ddf-a509-af95333054d9",
   "metadata": {},
   "source": [
    "### Getting $T$\n",
    "\n",
    "## $T$ = smallest of the sums of stations of the same sign"
   ]
  },
  {
   "cell_type": "code",
   "execution_count": 150,
   "id": "46c700b5-5bb6-4591-befa-11a382697ba0",
   "metadata": {},
   "outputs": [
    {
     "data": {
      "text/html": [
       "22"
      ],
      "text/latex": [
       "22"
      ],
      "text/markdown": [
       "22"
      ],
      "text/plain": [
       "[1] 22"
      ]
     },
     "metadata": {},
     "output_type": "display_data"
    }
   ],
   "source": [
    "T <- min( sum( smoke['Header (+)'] ), sum( smoke['Header (-)'] ) )\n",
    "T"
   ]
  },
  {
   "cell_type": "markdown",
   "id": "2f253c87-8989-44d6-8afa-5adea31e5749",
   "metadata": {},
   "source": [
    "### Getting $\\mu_T$\n",
    "\n",
    "# $$\\mu_T = \\frac{n(n+1)}{4}$$\n"
   ]
  },
  {
   "cell_type": "code",
   "execution_count": 151,
   "id": "40dacc02-b3e9-456b-8bbe-b5e55eb4fb5a",
   "metadata": {},
   "outputs": [
    {
     "data": {
      "text/html": [
       "315"
      ],
      "text/latex": [
       "315"
      ],
      "text/markdown": [
       "315"
      ],
      "text/plain": [
       "[1] 315"
      ]
     },
     "metadata": {},
     "output_type": "display_data"
    }
   ],
   "source": [
    "mu_T <- ( n * ( n + 1 ) ) / 4\n",
    "mu_T"
   ]
  },
  {
   "cell_type": "markdown",
   "id": "f3bb7256-d84b-4996-9566-cfcd4d9a1139",
   "metadata": {},
   "source": [
    "### Getting $\\sigma_T$\n",
    "\n",
    "## $$\\sigma_T = \\sqrt{\\frac{n(n + 1)(2n + 1)}{24}}$$"
   ]
  },
  {
   "cell_type": "code",
   "execution_count": 152,
   "id": "aaa84de0-be99-4505-8497-7965249b1a8a",
   "metadata": {},
   "outputs": [
    {
     "data": {
      "text/html": [
       "61.0532554414586"
      ],
      "text/latex": [
       "61.0532554414586"
      ],
      "text/markdown": [
       "61.0532554414586"
      ],
      "text/plain": [
       "[1] 61.05326"
      ]
     },
     "metadata": {},
     "output_type": "display_data"
    }
   ],
   "source": [
    "sigma_T <- sqrt( ( n * ( n + 1 ) * ( ( 2 * n ) + 1 ) ) / 24 )\n",
    "sigma_T"
   ]
  },
  {
   "cell_type": "markdown",
   "id": "8fd8aed3-5eee-485a-b510-050ae972b222",
   "metadata": {},
   "source": [
    "### Getting $Z_{test}$\n",
    "\n",
    "# $$Z = \\frac{T - \\mu_T}{\\sigma_T}$$"
   ]
  },
  {
   "cell_type": "code",
   "execution_count": 153,
   "id": "f7d6f7f2-0282-4376-8c44-b12f1981ee8d",
   "metadata": {},
   "outputs": [
    {
     "data": {
      "text/html": [
       "-4.7990888918437"
      ],
      "text/latex": [
       "-4.7990888918437"
      ],
      "text/markdown": [
       "-4.7990888918437"
      ],
      "text/plain": [
       "[1] -4.799089"
      ]
     },
     "metadata": {},
     "output_type": "display_data"
    }
   ],
   "source": [
    "Z <- ( T - mu_T ) / sigma_T\n",
    "Z"
   ]
  },
  {
   "cell_type": "markdown",
   "id": "4df67f53-e96e-434b-b3b4-7e926c3ab5ec",
   "metadata": {},
   "source": [
    "### **Step 5** - Acceptance or rejection of the null hypothesis"
   ]
  },
  {
   "cell_type": "markdown",
   "id": "edde7ecd-eb56-4baf-a87a-950ad13f5b47",
   "metadata": {},
   "source": [
    "### <font color='red'>Critical Value Criterion</font>\n",
    "\n",
    "> ### Reject $H_0$ if $Z \\leq -z_{\\alpha / 2}$ or if $Z \\geq z_{\\alpha / 2}$"
   ]
  },
  {
   "cell_type": "code",
   "execution_count": 154,
   "id": "80ca2978-cec8-4616-b47f-9aa28c89ae72",
   "metadata": {},
   "outputs": [
    {
     "data": {
      "text/html": [
       "TRUE"
      ],
      "text/latex": [
       "TRUE"
      ],
      "text/markdown": [
       "TRUE"
      ],
      "text/plain": [
       "[1] TRUE"
      ]
     },
     "metadata": {},
     "output_type": "display_data"
    }
   ],
   "source": [
    "Z <= -z_alpha_2"
   ]
  },
  {
   "cell_type": "code",
   "execution_count": 155,
   "id": "cede5595-76a0-49e0-ad8d-01b03d9a80f4",
   "metadata": {},
   "outputs": [
    {
     "data": {
      "text/html": [
       "FALSE"
      ],
      "text/latex": [
       "FALSE"
      ],
      "text/markdown": [
       "FALSE"
      ],
      "text/plain": [
       "[1] FALSE"
      ]
     },
     "metadata": {},
     "output_type": "display_data"
    }
   ],
   "source": [
    "Z >= z_alpha_2"
   ]
  },
  {
   "cell_type": "markdown",
   "id": "96ff3559-620e-4286-ad37-b51ea2d7679a",
   "metadata": {},
   "source": [
    "### <font color='red'>$p$ Value Criterion</font>\n",
    "\n",
    "> ### Reject $H_0$ if the value $p\\leq\\alpha$"
   ]
  },
  {
   "cell_type": "code",
   "execution_count": 161,
   "id": "393c5904-5103-4fa7-a70f-09f629678b4e",
   "metadata": {},
   "outputs": [
    {
     "name": "stderr",
     "output_type": "stream",
     "text": [
      "Warning message in wilcox.test.default(smoke$After, smoke$Before, paired = TRUE, :\n",
      "“não é possível computar o valor de p exato com o de desempate”\n"
     ]
    },
    {
     "data": {
      "text/plain": [
       "\n",
       "\tWilcoxon signed rank test\n",
       "\n",
       "data:  smoke$After and smoke$Before\n",
       "V = 22, p-value = 1.584e-06\n",
       "alternative hypothesis: true location shift is not equal to 0\n"
      ]
     },
     "metadata": {},
     "output_type": "display_data"
    }
   ],
   "source": [
    "result <- wilcox.test(smoke$After, smoke$Before, paired = TRUE, correct = FALSE)\n",
    "result"
   ]
  },
  {
   "cell_type": "code",
   "execution_count": null,
   "id": "c1778609-32d6-4353-b086-1c5f0dd8c413",
   "metadata": {},
   "outputs": [],
   "source": [
    "p_value <- result$p.value\n",
    "p_value"
   ]
  },
  {
   "cell_type": "code",
   "execution_count": 158,
   "id": "5a595e5e-4b4e-43c4-b8ed-b887464c31dc",
   "metadata": {},
   "outputs": [
    {
     "data": {
      "text/html": [
       "TRUE"
      ],
      "text/latex": [
       "TRUE"
      ],
      "text/markdown": [
       "TRUE"
      ],
      "text/plain": [
       "[1] TRUE"
      ]
     },
     "metadata": {},
     "output_type": "display_data"
    }
   ],
   "source": [
    "p_value <= meaningfulness"
   ]
  },
  {
   "cell_type": "markdown",
   "id": "54885190-b318-4aa6-a867-78d17b97c693",
   "metadata": {},
   "source": [
    "### <font color='purple'>Conclusion: We reject the hypothesis that there is no difference between the groups, that is, there is a difference between the average number of cigarettes smoked by patients before and after treatment. And as it is possible to verify through the average number of cigarettes smoked per day before (31.86) and after (11.2) the treatment, we can conclude that the treatment presented a satisfactory result.</font>"
   ]
  }
 ],
 "metadata": {
  "kernelspec": {
   "display_name": "R",
   "language": "R",
   "name": "ir"
  },
  "language_info": {
   "codemirror_mode": "r",
   "file_extension": ".r",
   "mimetype": "text/x-r-source",
   "name": "R",
   "pygments_lexer": "r",
   "version": "4.3.1"
  }
 },
 "nbformat": 4,
 "nbformat_minor": 5
}
